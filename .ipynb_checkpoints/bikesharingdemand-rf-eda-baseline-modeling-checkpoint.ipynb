{
 "cells": [
  {
   "cell_type": "code",
   "execution_count": 1,
   "metadata": {
    "_cell_guid": "b1076dfc-b9ad-4769-8c92-a6c4dae69d19",
    "_uuid": "8f2839f25d086af736a60e9eeb907d3b93b6e0e5",
    "execution": {
     "iopub.execute_input": "2022-11-18T13:46:09.478100Z",
     "iopub.status.busy": "2022-11-18T13:46:09.477650Z",
     "iopub.status.idle": "2022-11-18T13:46:09.488603Z",
     "shell.execute_reply": "2022-11-18T13:46:09.487302Z",
     "shell.execute_reply.started": "2022-11-18T13:46:09.478063Z"
    }
   },
   "outputs": [],
   "source": [
    "# This Python 3 environment comes with many helpful analytics libraries installed\n",
    "# It is defined by the kaggle/python Docker image: https://github.com/kaggle/docker-python\n",
    "# For example, here's several helpful packages to load\n",
    "\n",
    "import numpy as np # linear algebra\n",
    "import pandas as pd # data processing, CSV file I/O (e.g. pd.read_csv)\n",
    "\n",
    "# Input data files are available in the read-only \"../input/\" directory\n",
    "# For example, running this (by clicking run or pressing Shift+Enter) will list all files under the input directory\n",
    "\n",
    "import os\n",
    "for dirname, _, filenames in os.walk('/kaggle/input'):\n",
    "    for filename in filenames:\n",
    "        print(os.path.join(dirname, filename))\n",
    "\n",
    "# You can write up to 20GB to the current directory (/kaggle/working/) that gets preserved as output when you create a version using \"Save & Run All\" \n",
    "# You can also write temporary files to /kaggle/temp/, but they won't be saved outside of the current session"
   ]
  },
  {
   "cell_type": "markdown",
   "metadata": {},
   "source": [
    "# EDA"
   ]
  },
  {
   "cell_type": "markdown",
   "metadata": {},
   "source": [
    "## 데이터 둘러보기"
   ]
  },
  {
   "cell_type": "code",
   "execution_count": 2,
   "metadata": {
    "execution": {
     "iopub.execute_input": "2022-11-18T13:46:09.491984Z",
     "iopub.status.busy": "2022-11-18T13:46:09.491492Z",
     "iopub.status.idle": "2022-11-18T13:46:09.551080Z",
     "shell.execute_reply": "2022-11-18T13:46:09.549327Z",
     "shell.execute_reply.started": "2022-11-18T13:46:09.491928Z"
    }
   },
   "outputs": [
    {
     "ename": "FileNotFoundError",
     "evalue": "[Errno 2] No such file or directory: '/kaggle/input/bike-sharing-demand/train.csv'",
     "output_type": "error",
     "traceback": [
      "\u001b[0;31m---------------------------------------------------------------------------\u001b[0m",
      "\u001b[0;31mFileNotFoundError\u001b[0m                         Traceback (most recent call last)",
      "Input \u001b[0;32mIn [2]\u001b[0m, in \u001b[0;36m<cell line: 7>\u001b[0;34m()\u001b[0m\n\u001b[1;32m      4\u001b[0m \u001b[38;5;66;03m# 데이터 경로\u001b[39;00m\n\u001b[1;32m      5\u001b[0m data_path \u001b[38;5;241m=\u001b[39m \u001b[38;5;124m'\u001b[39m\u001b[38;5;124m/kaggle/input/bike-sharing-demand/\u001b[39m\u001b[38;5;124m'\u001b[39m\n\u001b[0;32m----> 7\u001b[0m train \u001b[38;5;241m=\u001b[39m \u001b[43mpd\u001b[49m\u001b[38;5;241;43m.\u001b[39;49m\u001b[43mread_csv\u001b[49m\u001b[43m(\u001b[49m\u001b[43mdata_path\u001b[49m\u001b[43m \u001b[49m\u001b[38;5;241;43m+\u001b[39;49m\u001b[43m \u001b[49m\u001b[38;5;124;43m'\u001b[39;49m\u001b[38;5;124;43mtrain.csv\u001b[39;49m\u001b[38;5;124;43m'\u001b[39;49m\u001b[43m)\u001b[49m \u001b[38;5;66;03m# 훈련 데이터\u001b[39;00m\n\u001b[1;32m      8\u001b[0m test \u001b[38;5;241m=\u001b[39m pd\u001b[38;5;241m.\u001b[39mread_csv(data_path \u001b[38;5;241m+\u001b[39m \u001b[38;5;124m'\u001b[39m\u001b[38;5;124mtest.csv\u001b[39m\u001b[38;5;124m'\u001b[39m)   \u001b[38;5;66;03m# 테스트 데이터\u001b[39;00m\n\u001b[1;32m      9\u001b[0m submission \u001b[38;5;241m=\u001b[39m pd\u001b[38;5;241m.\u001b[39mread_csv(data_path \u001b[38;5;241m+\u001b[39m \u001b[38;5;124m'\u001b[39m\u001b[38;5;124msampleSubmission.csv\u001b[39m\u001b[38;5;124m'\u001b[39m)\n",
      "File \u001b[0;32m/opt/homebrew/lib/python3.9/site-packages/pandas/util/_decorators.py:311\u001b[0m, in \u001b[0;36mdeprecate_nonkeyword_arguments.<locals>.decorate.<locals>.wrapper\u001b[0;34m(*args, **kwargs)\u001b[0m\n\u001b[1;32m    305\u001b[0m \u001b[38;5;28;01mif\u001b[39;00m \u001b[38;5;28mlen\u001b[39m(args) \u001b[38;5;241m>\u001b[39m num_allow_args:\n\u001b[1;32m    306\u001b[0m     warnings\u001b[38;5;241m.\u001b[39mwarn(\n\u001b[1;32m    307\u001b[0m         msg\u001b[38;5;241m.\u001b[39mformat(arguments\u001b[38;5;241m=\u001b[39marguments),\n\u001b[1;32m    308\u001b[0m         \u001b[38;5;167;01mFutureWarning\u001b[39;00m,\n\u001b[1;32m    309\u001b[0m         stacklevel\u001b[38;5;241m=\u001b[39mstacklevel,\n\u001b[1;32m    310\u001b[0m     )\n\u001b[0;32m--> 311\u001b[0m \u001b[38;5;28;01mreturn\u001b[39;00m \u001b[43mfunc\u001b[49m\u001b[43m(\u001b[49m\u001b[38;5;241;43m*\u001b[39;49m\u001b[43margs\u001b[49m\u001b[43m,\u001b[49m\u001b[43m \u001b[49m\u001b[38;5;241;43m*\u001b[39;49m\u001b[38;5;241;43m*\u001b[39;49m\u001b[43mkwargs\u001b[49m\u001b[43m)\u001b[49m\n",
      "File \u001b[0;32m/opt/homebrew/lib/python3.9/site-packages/pandas/io/parsers/readers.py:678\u001b[0m, in \u001b[0;36mread_csv\u001b[0;34m(filepath_or_buffer, sep, delimiter, header, names, index_col, usecols, squeeze, prefix, mangle_dupe_cols, dtype, engine, converters, true_values, false_values, skipinitialspace, skiprows, skipfooter, nrows, na_values, keep_default_na, na_filter, verbose, skip_blank_lines, parse_dates, infer_datetime_format, keep_date_col, date_parser, dayfirst, cache_dates, iterator, chunksize, compression, thousands, decimal, lineterminator, quotechar, quoting, doublequote, escapechar, comment, encoding, encoding_errors, dialect, error_bad_lines, warn_bad_lines, on_bad_lines, delim_whitespace, low_memory, memory_map, float_precision, storage_options)\u001b[0m\n\u001b[1;32m    663\u001b[0m kwds_defaults \u001b[38;5;241m=\u001b[39m _refine_defaults_read(\n\u001b[1;32m    664\u001b[0m     dialect,\n\u001b[1;32m    665\u001b[0m     delimiter,\n\u001b[0;32m   (...)\u001b[0m\n\u001b[1;32m    674\u001b[0m     defaults\u001b[38;5;241m=\u001b[39m{\u001b[38;5;124m\"\u001b[39m\u001b[38;5;124mdelimiter\u001b[39m\u001b[38;5;124m\"\u001b[39m: \u001b[38;5;124m\"\u001b[39m\u001b[38;5;124m,\u001b[39m\u001b[38;5;124m\"\u001b[39m},\n\u001b[1;32m    675\u001b[0m )\n\u001b[1;32m    676\u001b[0m kwds\u001b[38;5;241m.\u001b[39mupdate(kwds_defaults)\n\u001b[0;32m--> 678\u001b[0m \u001b[38;5;28;01mreturn\u001b[39;00m \u001b[43m_read\u001b[49m\u001b[43m(\u001b[49m\u001b[43mfilepath_or_buffer\u001b[49m\u001b[43m,\u001b[49m\u001b[43m \u001b[49m\u001b[43mkwds\u001b[49m\u001b[43m)\u001b[49m\n",
      "File \u001b[0;32m/opt/homebrew/lib/python3.9/site-packages/pandas/io/parsers/readers.py:575\u001b[0m, in \u001b[0;36m_read\u001b[0;34m(filepath_or_buffer, kwds)\u001b[0m\n\u001b[1;32m    572\u001b[0m _validate_names(kwds\u001b[38;5;241m.\u001b[39mget(\u001b[38;5;124m\"\u001b[39m\u001b[38;5;124mnames\u001b[39m\u001b[38;5;124m\"\u001b[39m, \u001b[38;5;28;01mNone\u001b[39;00m))\n\u001b[1;32m    574\u001b[0m \u001b[38;5;66;03m# Create the parser.\u001b[39;00m\n\u001b[0;32m--> 575\u001b[0m parser \u001b[38;5;241m=\u001b[39m \u001b[43mTextFileReader\u001b[49m\u001b[43m(\u001b[49m\u001b[43mfilepath_or_buffer\u001b[49m\u001b[43m,\u001b[49m\u001b[43m \u001b[49m\u001b[38;5;241;43m*\u001b[39;49m\u001b[38;5;241;43m*\u001b[39;49m\u001b[43mkwds\u001b[49m\u001b[43m)\u001b[49m\n\u001b[1;32m    577\u001b[0m \u001b[38;5;28;01mif\u001b[39;00m chunksize \u001b[38;5;129;01mor\u001b[39;00m iterator:\n\u001b[1;32m    578\u001b[0m     \u001b[38;5;28;01mreturn\u001b[39;00m parser\n",
      "File \u001b[0;32m/opt/homebrew/lib/python3.9/site-packages/pandas/io/parsers/readers.py:932\u001b[0m, in \u001b[0;36mTextFileReader.__init__\u001b[0;34m(self, f, engine, **kwds)\u001b[0m\n\u001b[1;32m    929\u001b[0m     \u001b[38;5;28mself\u001b[39m\u001b[38;5;241m.\u001b[39moptions[\u001b[38;5;124m\"\u001b[39m\u001b[38;5;124mhas_index_names\u001b[39m\u001b[38;5;124m\"\u001b[39m] \u001b[38;5;241m=\u001b[39m kwds[\u001b[38;5;124m\"\u001b[39m\u001b[38;5;124mhas_index_names\u001b[39m\u001b[38;5;124m\"\u001b[39m]\n\u001b[1;32m    931\u001b[0m \u001b[38;5;28mself\u001b[39m\u001b[38;5;241m.\u001b[39mhandles: IOHandles \u001b[38;5;241m|\u001b[39m \u001b[38;5;28;01mNone\u001b[39;00m \u001b[38;5;241m=\u001b[39m \u001b[38;5;28;01mNone\u001b[39;00m\n\u001b[0;32m--> 932\u001b[0m \u001b[38;5;28mself\u001b[39m\u001b[38;5;241m.\u001b[39m_engine \u001b[38;5;241m=\u001b[39m \u001b[38;5;28;43mself\u001b[39;49m\u001b[38;5;241;43m.\u001b[39;49m\u001b[43m_make_engine\u001b[49m\u001b[43m(\u001b[49m\u001b[43mf\u001b[49m\u001b[43m,\u001b[49m\u001b[43m \u001b[49m\u001b[38;5;28;43mself\u001b[39;49m\u001b[38;5;241;43m.\u001b[39;49m\u001b[43mengine\u001b[49m\u001b[43m)\u001b[49m\n",
      "File \u001b[0;32m/opt/homebrew/lib/python3.9/site-packages/pandas/io/parsers/readers.py:1216\u001b[0m, in \u001b[0;36mTextFileReader._make_engine\u001b[0;34m(self, f, engine)\u001b[0m\n\u001b[1;32m   1212\u001b[0m     mode \u001b[38;5;241m=\u001b[39m \u001b[38;5;124m\"\u001b[39m\u001b[38;5;124mrb\u001b[39m\u001b[38;5;124m\"\u001b[39m\n\u001b[1;32m   1213\u001b[0m \u001b[38;5;66;03m# error: No overload variant of \"get_handle\" matches argument types\u001b[39;00m\n\u001b[1;32m   1214\u001b[0m \u001b[38;5;66;03m# \"Union[str, PathLike[str], ReadCsvBuffer[bytes], ReadCsvBuffer[str]]\"\u001b[39;00m\n\u001b[1;32m   1215\u001b[0m \u001b[38;5;66;03m# , \"str\", \"bool\", \"Any\", \"Any\", \"Any\", \"Any\", \"Any\"\u001b[39;00m\n\u001b[0;32m-> 1216\u001b[0m \u001b[38;5;28mself\u001b[39m\u001b[38;5;241m.\u001b[39mhandles \u001b[38;5;241m=\u001b[39m \u001b[43mget_handle\u001b[49m\u001b[43m(\u001b[49m\u001b[43m  \u001b[49m\u001b[38;5;66;43;03m# type: ignore[call-overload]\u001b[39;49;00m\n\u001b[1;32m   1217\u001b[0m \u001b[43m    \u001b[49m\u001b[43mf\u001b[49m\u001b[43m,\u001b[49m\n\u001b[1;32m   1218\u001b[0m \u001b[43m    \u001b[49m\u001b[43mmode\u001b[49m\u001b[43m,\u001b[49m\n\u001b[1;32m   1219\u001b[0m \u001b[43m    \u001b[49m\u001b[43mencoding\u001b[49m\u001b[38;5;241;43m=\u001b[39;49m\u001b[38;5;28;43mself\u001b[39;49m\u001b[38;5;241;43m.\u001b[39;49m\u001b[43moptions\u001b[49m\u001b[38;5;241;43m.\u001b[39;49m\u001b[43mget\u001b[49m\u001b[43m(\u001b[49m\u001b[38;5;124;43m\"\u001b[39;49m\u001b[38;5;124;43mencoding\u001b[39;49m\u001b[38;5;124;43m\"\u001b[39;49m\u001b[43m,\u001b[49m\u001b[43m \u001b[49m\u001b[38;5;28;43;01mNone\u001b[39;49;00m\u001b[43m)\u001b[49m\u001b[43m,\u001b[49m\n\u001b[1;32m   1220\u001b[0m \u001b[43m    \u001b[49m\u001b[43mcompression\u001b[49m\u001b[38;5;241;43m=\u001b[39;49m\u001b[38;5;28;43mself\u001b[39;49m\u001b[38;5;241;43m.\u001b[39;49m\u001b[43moptions\u001b[49m\u001b[38;5;241;43m.\u001b[39;49m\u001b[43mget\u001b[49m\u001b[43m(\u001b[49m\u001b[38;5;124;43m\"\u001b[39;49m\u001b[38;5;124;43mcompression\u001b[39;49m\u001b[38;5;124;43m\"\u001b[39;49m\u001b[43m,\u001b[49m\u001b[43m \u001b[49m\u001b[38;5;28;43;01mNone\u001b[39;49;00m\u001b[43m)\u001b[49m\u001b[43m,\u001b[49m\n\u001b[1;32m   1221\u001b[0m \u001b[43m    \u001b[49m\u001b[43mmemory_map\u001b[49m\u001b[38;5;241;43m=\u001b[39;49m\u001b[38;5;28;43mself\u001b[39;49m\u001b[38;5;241;43m.\u001b[39;49m\u001b[43moptions\u001b[49m\u001b[38;5;241;43m.\u001b[39;49m\u001b[43mget\u001b[49m\u001b[43m(\u001b[49m\u001b[38;5;124;43m\"\u001b[39;49m\u001b[38;5;124;43mmemory_map\u001b[39;49m\u001b[38;5;124;43m\"\u001b[39;49m\u001b[43m,\u001b[49m\u001b[43m \u001b[49m\u001b[38;5;28;43;01mFalse\u001b[39;49;00m\u001b[43m)\u001b[49m\u001b[43m,\u001b[49m\n\u001b[1;32m   1222\u001b[0m \u001b[43m    \u001b[49m\u001b[43mis_text\u001b[49m\u001b[38;5;241;43m=\u001b[39;49m\u001b[43mis_text\u001b[49m\u001b[43m,\u001b[49m\n\u001b[1;32m   1223\u001b[0m \u001b[43m    \u001b[49m\u001b[43merrors\u001b[49m\u001b[38;5;241;43m=\u001b[39;49m\u001b[38;5;28;43mself\u001b[39;49m\u001b[38;5;241;43m.\u001b[39;49m\u001b[43moptions\u001b[49m\u001b[38;5;241;43m.\u001b[39;49m\u001b[43mget\u001b[49m\u001b[43m(\u001b[49m\u001b[38;5;124;43m\"\u001b[39;49m\u001b[38;5;124;43mencoding_errors\u001b[39;49m\u001b[38;5;124;43m\"\u001b[39;49m\u001b[43m,\u001b[49m\u001b[43m \u001b[49m\u001b[38;5;124;43m\"\u001b[39;49m\u001b[38;5;124;43mstrict\u001b[39;49m\u001b[38;5;124;43m\"\u001b[39;49m\u001b[43m)\u001b[49m\u001b[43m,\u001b[49m\n\u001b[1;32m   1224\u001b[0m \u001b[43m    \u001b[49m\u001b[43mstorage_options\u001b[49m\u001b[38;5;241;43m=\u001b[39;49m\u001b[38;5;28;43mself\u001b[39;49m\u001b[38;5;241;43m.\u001b[39;49m\u001b[43moptions\u001b[49m\u001b[38;5;241;43m.\u001b[39;49m\u001b[43mget\u001b[49m\u001b[43m(\u001b[49m\u001b[38;5;124;43m\"\u001b[39;49m\u001b[38;5;124;43mstorage_options\u001b[39;49m\u001b[38;5;124;43m\"\u001b[39;49m\u001b[43m,\u001b[49m\u001b[43m \u001b[49m\u001b[38;5;28;43;01mNone\u001b[39;49;00m\u001b[43m)\u001b[49m\u001b[43m,\u001b[49m\n\u001b[1;32m   1225\u001b[0m \u001b[43m\u001b[49m\u001b[43m)\u001b[49m\n\u001b[1;32m   1226\u001b[0m \u001b[38;5;28;01massert\u001b[39;00m \u001b[38;5;28mself\u001b[39m\u001b[38;5;241m.\u001b[39mhandles \u001b[38;5;129;01mis\u001b[39;00m \u001b[38;5;129;01mnot\u001b[39;00m \u001b[38;5;28;01mNone\u001b[39;00m\n\u001b[1;32m   1227\u001b[0m f \u001b[38;5;241m=\u001b[39m \u001b[38;5;28mself\u001b[39m\u001b[38;5;241m.\u001b[39mhandles\u001b[38;5;241m.\u001b[39mhandle\n",
      "File \u001b[0;32m/opt/homebrew/lib/python3.9/site-packages/pandas/io/common.py:786\u001b[0m, in \u001b[0;36mget_handle\u001b[0;34m(path_or_buf, mode, encoding, compression, memory_map, is_text, errors, storage_options)\u001b[0m\n\u001b[1;32m    781\u001b[0m \u001b[38;5;28;01melif\u001b[39;00m \u001b[38;5;28misinstance\u001b[39m(handle, \u001b[38;5;28mstr\u001b[39m):\n\u001b[1;32m    782\u001b[0m     \u001b[38;5;66;03m# Check whether the filename is to be opened in binary mode.\u001b[39;00m\n\u001b[1;32m    783\u001b[0m     \u001b[38;5;66;03m# Binary mode does not support 'encoding' and 'newline'.\u001b[39;00m\n\u001b[1;32m    784\u001b[0m     \u001b[38;5;28;01mif\u001b[39;00m ioargs\u001b[38;5;241m.\u001b[39mencoding \u001b[38;5;129;01mand\u001b[39;00m \u001b[38;5;124m\"\u001b[39m\u001b[38;5;124mb\u001b[39m\u001b[38;5;124m\"\u001b[39m \u001b[38;5;129;01mnot\u001b[39;00m \u001b[38;5;129;01min\u001b[39;00m ioargs\u001b[38;5;241m.\u001b[39mmode:\n\u001b[1;32m    785\u001b[0m         \u001b[38;5;66;03m# Encoding\u001b[39;00m\n\u001b[0;32m--> 786\u001b[0m         handle \u001b[38;5;241m=\u001b[39m \u001b[38;5;28;43mopen\u001b[39;49m\u001b[43m(\u001b[49m\n\u001b[1;32m    787\u001b[0m \u001b[43m            \u001b[49m\u001b[43mhandle\u001b[49m\u001b[43m,\u001b[49m\n\u001b[1;32m    788\u001b[0m \u001b[43m            \u001b[49m\u001b[43mioargs\u001b[49m\u001b[38;5;241;43m.\u001b[39;49m\u001b[43mmode\u001b[49m\u001b[43m,\u001b[49m\n\u001b[1;32m    789\u001b[0m \u001b[43m            \u001b[49m\u001b[43mencoding\u001b[49m\u001b[38;5;241;43m=\u001b[39;49m\u001b[43mioargs\u001b[49m\u001b[38;5;241;43m.\u001b[39;49m\u001b[43mencoding\u001b[49m\u001b[43m,\u001b[49m\n\u001b[1;32m    790\u001b[0m \u001b[43m            \u001b[49m\u001b[43merrors\u001b[49m\u001b[38;5;241;43m=\u001b[39;49m\u001b[43merrors\u001b[49m\u001b[43m,\u001b[49m\n\u001b[1;32m    791\u001b[0m \u001b[43m            \u001b[49m\u001b[43mnewline\u001b[49m\u001b[38;5;241;43m=\u001b[39;49m\u001b[38;5;124;43m\"\u001b[39;49m\u001b[38;5;124;43m\"\u001b[39;49m\u001b[43m,\u001b[49m\n\u001b[1;32m    792\u001b[0m \u001b[43m        \u001b[49m\u001b[43m)\u001b[49m\n\u001b[1;32m    793\u001b[0m     \u001b[38;5;28;01melse\u001b[39;00m:\n\u001b[1;32m    794\u001b[0m         \u001b[38;5;66;03m# Binary mode\u001b[39;00m\n\u001b[1;32m    795\u001b[0m         handle \u001b[38;5;241m=\u001b[39m \u001b[38;5;28mopen\u001b[39m(handle, ioargs\u001b[38;5;241m.\u001b[39mmode)\n",
      "\u001b[0;31mFileNotFoundError\u001b[0m: [Errno 2] No such file or directory: '/kaggle/input/bike-sharing-demand/train.csv'"
     ]
    }
   ],
   "source": [
    "import numpy as np\n",
    "import pandas as pd # 판다스 임포트\n",
    "\n",
    "# 데이터 경로\n",
    "data_path = '/kaggle/input/bike-sharing-demand/'\n",
    "\n",
    "train = pd.read_csv(data_path + 'train.csv') # 훈련 데이터\n",
    "test = pd.read_csv(data_path + 'test.csv')   # 테스트 데이터\n",
    "submission = pd.read_csv(data_path + 'sampleSubmission.csv') # 제출 샘플 데이터"
   ]
  },
  {
   "cell_type": "code",
   "execution_count": null,
   "metadata": {
    "execution": {
     "iopub.execute_input": "2022-11-18T13:46:09.553868Z",
     "iopub.status.busy": "2022-11-18T13:46:09.552818Z",
     "iopub.status.idle": "2022-11-18T13:46:09.561400Z",
     "shell.execute_reply": "2022-11-18T13:46:09.560369Z",
     "shell.execute_reply.started": "2022-11-18T13:46:09.553818Z"
    }
   },
   "outputs": [],
   "source": [
    "train.shape, test.shape"
   ]
  },
  {
   "cell_type": "code",
   "execution_count": null,
   "metadata": {
    "execution": {
     "iopub.execute_input": "2022-11-18T13:46:09.564760Z",
     "iopub.status.busy": "2022-11-18T13:46:09.563944Z",
     "iopub.status.idle": "2022-11-18T13:46:09.586211Z",
     "shell.execute_reply": "2022-11-18T13:46:09.584952Z",
     "shell.execute_reply.started": "2022-11-18T13:46:09.564674Z"
    }
   },
   "outputs": [],
   "source": [
    "train.head()"
   ]
  },
  {
   "cell_type": "code",
   "execution_count": null,
   "metadata": {
    "execution": {
     "iopub.execute_input": "2022-11-18T13:46:09.588541Z",
     "iopub.status.busy": "2022-11-18T13:46:09.588101Z",
     "iopub.status.idle": "2022-11-18T13:46:09.611093Z",
     "shell.execute_reply": "2022-11-18T13:46:09.609273Z",
     "shell.execute_reply.started": "2022-11-18T13:46:09.588504Z"
    }
   },
   "outputs": [],
   "source": [
    "test.head()"
   ]
  },
  {
   "cell_type": "code",
   "execution_count": null,
   "metadata": {
    "execution": {
     "iopub.execute_input": "2022-11-18T13:46:09.612706Z",
     "iopub.status.busy": "2022-11-18T13:46:09.612326Z",
     "iopub.status.idle": "2022-11-18T13:46:09.627211Z",
     "shell.execute_reply": "2022-11-18T13:46:09.625780Z",
     "shell.execute_reply.started": "2022-11-18T13:46:09.612673Z"
    }
   },
   "outputs": [],
   "source": [
    "submission.head()"
   ]
  },
  {
   "cell_type": "code",
   "execution_count": null,
   "metadata": {
    "execution": {
     "iopub.execute_input": "2022-11-18T13:46:09.629927Z",
     "iopub.status.busy": "2022-11-18T13:46:09.629375Z",
     "iopub.status.idle": "2022-11-18T13:46:09.653321Z",
     "shell.execute_reply": "2022-11-18T13:46:09.651959Z",
     "shell.execute_reply.started": "2022-11-18T13:46:09.629876Z"
    }
   },
   "outputs": [],
   "source": [
    "train.info()"
   ]
  },
  {
   "cell_type": "code",
   "execution_count": null,
   "metadata": {
    "execution": {
     "iopub.execute_input": "2022-11-18T13:46:09.654981Z",
     "iopub.status.busy": "2022-11-18T13:46:09.654477Z",
     "iopub.status.idle": "2022-11-18T13:46:09.672430Z",
     "shell.execute_reply": "2022-11-18T13:46:09.670941Z",
     "shell.execute_reply.started": "2022-11-18T13:46:09.654934Z"
    }
   },
   "outputs": [],
   "source": [
    "test.info()"
   ]
  },
  {
   "cell_type": "markdown",
   "metadata": {},
   "source": [
    "## 더 효과적인 분석을 위한 피처 엔지니어링"
   ]
  },
  {
   "cell_type": "code",
   "execution_count": null,
   "metadata": {
    "execution": {
     "iopub.execute_input": "2022-11-18T13:46:09.674380Z",
     "iopub.status.busy": "2022-11-18T13:46:09.673787Z",
     "iopub.status.idle": "2022-11-18T13:46:09.685837Z",
     "shell.execute_reply": "2022-11-18T13:46:09.684451Z",
     "shell.execute_reply.started": "2022-11-18T13:46:09.674340Z"
    }
   },
   "outputs": [],
   "source": [
    "print(train['datetime'][100]) # datetime 100번째 요소\n",
    "print(train['datetime'][100].split()) # 공백 기준으로 문자열 나누기\n",
    "print(train['datetime'][100].split()[0]) # 날짜\n",
    "print(train['datetime'][100].split()[1]) # 시간"
   ]
  },
  {
   "cell_type": "code",
   "execution_count": null,
   "metadata": {
    "execution": {
     "iopub.execute_input": "2022-11-18T13:46:09.690410Z",
     "iopub.status.busy": "2022-11-18T13:46:09.690033Z",
     "iopub.status.idle": "2022-11-18T13:46:09.700041Z",
     "shell.execute_reply": "2022-11-18T13:46:09.698802Z",
     "shell.execute_reply.started": "2022-11-18T13:46:09.690376Z"
    }
   },
   "outputs": [],
   "source": [
    "print(train['datetime'][100].split()[0]) # 날짜\n",
    "print(train['datetime'][100].split()[0].split('-')) # \"_\" 기준으로 문자열 나누기\n",
    "print(train['datetime'][100].split()[0].split('-')[0]) # 연도\n",
    "print(train['datetime'][100].split()[0].split('-')[1]) # 월\n",
    "print(train['datetime'][100].split()[0].split('-')[2]) # 일"
   ]
  },
  {
   "cell_type": "code",
   "execution_count": null,
   "metadata": {
    "execution": {
     "iopub.execute_input": "2022-11-18T13:46:09.701775Z",
     "iopub.status.busy": "2022-11-18T13:46:09.701372Z",
     "iopub.status.idle": "2022-11-18T13:46:09.715582Z",
     "shell.execute_reply": "2022-11-18T13:46:09.714090Z",
     "shell.execute_reply.started": "2022-11-18T13:46:09.701711Z"
    }
   },
   "outputs": [],
   "source": [
    "print(train['datetime'][100].split()[1]) # 시간\n",
    "print(train['datetime'][100].split()[1].split(':')) # \":\" 기준으로 문자열 나누기\n",
    "print(train['datetime'][100].split()[1].split(':')[0]) # 시간\n",
    "print(train['datetime'][100].split()[1].split(':')[1]) # 분\n",
    "print(train['datetime'][100].split()[1].split(':')[2]) # 초"
   ]
  },
  {
   "cell_type": "code",
   "execution_count": null,
   "metadata": {
    "execution": {
     "iopub.execute_input": "2022-11-18T13:46:09.717705Z",
     "iopub.status.busy": "2022-11-18T13:46:09.717251Z",
     "iopub.status.idle": "2022-11-18T13:46:09.789765Z",
     "shell.execute_reply": "2022-11-18T13:46:09.788533Z",
     "shell.execute_reply.started": "2022-11-18T13:46:09.717668Z"
    }
   },
   "outputs": [],
   "source": [
    "train['date'] = train['datetime'].apply(lambda x: x.split()[0]) # 날짜 피처 생성\n",
    "\n",
    "# 연도, 월, 일, 시, 분, 초 피처를 차례로 생성\n",
    "train['year'] = train['datetime'].apply(lambda x: x.split()[0].split('-')[0]) \n",
    "train['month'] = train['datetime'].apply(lambda x: x.split()[0].split('-')[1])\n",
    "train['day'] = train['datetime'].apply(lambda x: x.split()[0].split('-')[2]) \n",
    "train['hour'] = train['datetime'].apply(lambda x: x.split()[1].split(':')[0])\n",
    "train['minute'] = train['datetime'].apply(lambda x: x.split()[1].split(':')[1])\n",
    "train['second'] = train['datetime'].apply(lambda x: x.split()[1].split(':')[2])"
   ]
  },
  {
   "cell_type": "code",
   "execution_count": null,
   "metadata": {
    "execution": {
     "iopub.execute_input": "2022-11-18T13:46:09.794498Z",
     "iopub.status.busy": "2022-11-18T13:46:09.794097Z",
     "iopub.status.idle": "2022-11-18T13:46:09.803539Z",
     "shell.execute_reply": "2022-11-18T13:46:09.802015Z",
     "shell.execute_reply.started": "2022-11-18T13:46:09.794462Z"
    }
   },
   "outputs": [],
   "source": [
    "from datetime import datetime # datatime 라이브러리 임포트\n",
    "import calendar\n",
    "\n",
    "print(train['date'][100]) # 날짜\n",
    "print(datetime.strptime(train['date'][100], '%Y-%m-%d')) # datetime 타입으로 변경\n",
    "print(datetime.strptime(train['date'][100], '%Y-%m-%d').weekday()) # 정수로 요일 반환\n",
    "print(calendar.day_name[datetime.strptime(train['date'][100], '%Y-%m-%d').weekday()]) # 문자열로 요일 반환"
   ]
  },
  {
   "cell_type": "code",
   "execution_count": null,
   "metadata": {
    "execution": {
     "iopub.execute_input": "2022-11-18T13:46:09.806024Z",
     "iopub.status.busy": "2022-11-18T13:46:09.805467Z",
     "iopub.status.idle": "2022-11-18T13:46:09.973089Z",
     "shell.execute_reply": "2022-11-18T13:46:09.971763Z",
     "shell.execute_reply.started": "2022-11-18T13:46:09.805956Z"
    }
   },
   "outputs": [],
   "source": [
    "train['weekday'] = train['date'].apply(\n",
    "    lambda dateString: \n",
    "    calendar.day_name[datetime.strptime(dateString,\"%Y-%m-%d\").weekday()])"
   ]
  },
  {
   "cell_type": "code",
   "execution_count": null,
   "metadata": {
    "execution": {
     "iopub.execute_input": "2022-11-18T13:46:09.975555Z",
     "iopub.status.busy": "2022-11-18T13:46:09.974702Z",
     "iopub.status.idle": "2022-11-18T13:46:09.987162Z",
     "shell.execute_reply": "2022-11-18T13:46:09.985798Z",
     "shell.execute_reply.started": "2022-11-18T13:46:09.975504Z"
    }
   },
   "outputs": [],
   "source": [
    "train['season'] = train['season'].map({1: 'Spring', \n",
    "                                       2: 'Summer', \n",
    "                                       3: 'Fall', \n",
    "                                       4: 'Winter' })\n",
    "train['weather'] = train['weather'].map({1: 'Clear', \n",
    "                                         2: 'Mist, Few clouds', \n",
    "                                         3: 'Light Snow, Rain, Thunder', \n",
    "                                         4: 'Heavy Snow, Rain, Thunder'})"
   ]
  },
  {
   "cell_type": "code",
   "execution_count": null,
   "metadata": {
    "execution": {
     "iopub.execute_input": "2022-11-18T13:46:09.990149Z",
     "iopub.status.busy": "2022-11-18T13:46:09.989637Z",
     "iopub.status.idle": "2022-11-18T13:46:10.020178Z",
     "shell.execute_reply": "2022-11-18T13:46:10.018952Z",
     "shell.execute_reply.started": "2022-11-18T13:46:09.990112Z"
    }
   },
   "outputs": [],
   "source": [
    "train.head()"
   ]
  },
  {
   "cell_type": "markdown",
   "metadata": {},
   "source": [
    "## 데이터 시각화"
   ]
  },
  {
   "cell_type": "code",
   "execution_count": null,
   "metadata": {
    "execution": {
     "iopub.execute_input": "2022-11-18T13:46:10.021909Z",
     "iopub.status.busy": "2022-11-18T13:46:10.021516Z",
     "iopub.status.idle": "2022-11-18T13:46:10.038519Z",
     "shell.execute_reply": "2022-11-18T13:46:10.037269Z",
     "shell.execute_reply.started": "2022-11-18T13:46:10.021872Z"
    }
   },
   "outputs": [],
   "source": [
    "import seaborn as sns\n",
    "import matplotlib as mpl\n",
    "import matplotlib.pyplot as plt\n",
    "%matplotlib inline"
   ]
  },
  {
   "cell_type": "markdown",
   "metadata": {},
   "source": [
    "### 분포도"
   ]
  },
  {
   "cell_type": "code",
   "execution_count": null,
   "metadata": {
    "execution": {
     "iopub.execute_input": "2022-11-18T13:46:10.040315Z",
     "iopub.status.busy": "2022-11-18T13:46:10.039956Z",
     "iopub.status.idle": "2022-11-18T13:46:10.426992Z",
     "shell.execute_reply": "2022-11-18T13:46:10.425755Z",
     "shell.execute_reply.started": "2022-11-18T13:46:10.040283Z"
    }
   },
   "outputs": [],
   "source": [
    "mpl.rc('font', size=15)      # 폰트 크기를 15로 설정 \n",
    "sns.displot(train['count']); # 분포도 출력"
   ]
  },
  {
   "cell_type": "code",
   "execution_count": null,
   "metadata": {
    "execution": {
     "iopub.execute_input": "2022-11-18T13:46:10.429027Z",
     "iopub.status.busy": "2022-11-18T13:46:10.428548Z",
     "iopub.status.idle": "2022-11-18T13:46:10.784546Z",
     "shell.execute_reply": "2022-11-18T13:46:10.783315Z",
     "shell.execute_reply.started": "2022-11-18T13:46:10.428991Z"
    }
   },
   "outputs": [],
   "source": [
    "sns.displot(np.log(train['count']));"
   ]
  },
  {
   "cell_type": "markdown",
   "metadata": {},
   "source": [
    "### 막대 그래프"
   ]
  },
  {
   "cell_type": "code",
   "execution_count": null,
   "metadata": {
    "execution": {
     "iopub.execute_input": "2022-11-18T13:46:10.787043Z",
     "iopub.status.busy": "2022-11-18T13:46:10.786174Z",
     "iopub.status.idle": "2022-11-18T13:46:14.299385Z",
     "shell.execute_reply": "2022-11-18T13:46:14.298366Z",
     "shell.execute_reply.started": "2022-11-18T13:46:10.786992Z"
    }
   },
   "outputs": [],
   "source": [
    "# 스텝 1 : m행 n열 Figure 준비\n",
    "mpl.rc('font', size=14)       # 폰트 크기 설정\n",
    "mpl.rc('axes', titlesize=15)  # 각 축의 제목 크기 설정\n",
    "figure, axes = plt.subplots(nrows=3, ncols=2) # 3행 2열 Figure 생성 \n",
    "plt.tight_layout()            # 그래프 사이에 여백 확보 \n",
    "figure.set_size_inches(10, 9) # 전체 Figure 크기를 10x9인치로 설정 \n",
    "\n",
    "# 스텝 2 : 각 축에 서브플롯 할당\n",
    "# 각 축에 연도, 월, 일, 시간, 분, 초별 평균 대여 수량 막대 그래프 할당\n",
    "sns.barplot(x='year', y='count', data=train, ax=axes[0, 0])\n",
    "sns.barplot(x='month', y='count', data=train, ax=axes[0, 1])\n",
    "sns.barplot(x='day', y='count', data=train, ax=axes[1, 0])\n",
    "sns.barplot(x='hour', y='count', data=train, ax=axes[1, 1])\n",
    "sns.barplot(x='minute', y='count', data=train, ax=axes[2, 0])\n",
    "sns.barplot(x='second', y='count', data=train, ax=axes[2, 1])\n",
    "\n",
    "# 스텝 3 : 세부 설정\n",
    "# 3-1 : 서브플롯에 제목 달기\n",
    "axes[0, 0].set(title='Rental amounts by year')\n",
    "axes[0, 1].set(title='Rental amounts by month')\n",
    "axes[1, 0].set(title='Rental amounts by day')\n",
    "axes[1, 1].set(title='Rental amounts by hour')\n",
    "axes[2, 0].set(title='Rental amounts by minute')\n",
    "axes[2, 1].set(title='Rental amounts by second')\n",
    "\n",
    "# 3-2 : 1행에 위치한 서브플롯들의 x축 라벨 90도 회전\n",
    "axes[1, 0].tick_params(axis='x', labelrotation=90)\n",
    "axes[1, 1].tick_params(axis='x', labelrotation=90)"
   ]
  },
  {
   "cell_type": "markdown",
   "metadata": {},
   "source": [
    "### 박스플롯"
   ]
  },
  {
   "cell_type": "code",
   "execution_count": null,
   "metadata": {
    "execution": {
     "iopub.execute_input": "2022-11-18T13:46:14.301603Z",
     "iopub.status.busy": "2022-11-18T13:46:14.300672Z",
     "iopub.status.idle": "2022-11-18T13:46:15.047134Z",
     "shell.execute_reply": "2022-11-18T13:46:15.045543Z",
     "shell.execute_reply.started": "2022-11-18T13:46:14.301565Z"
    }
   },
   "outputs": [],
   "source": [
    "# 스텝 1 : m행 n열 Figure 준비\n",
    "figure, axes = plt.subplots(nrows=2, ncols=2) # 2행 2열\n",
    "plt.tight_layout()\n",
    "figure.set_size_inches(10, 10)\n",
    "\n",
    "# 스텝 2 : 서브플롯 할당\n",
    "# 계절, 날씨, 공휴일, 근무일별 대여 수량 박스플롯\n",
    "sns.boxplot(x='season', y='count', data=train, ax=axes[0, 0])\n",
    "sns.boxplot(x='weather', y='count', data=train, ax=axes[0, 1])\n",
    "sns.boxplot(x='holiday', y='count', data=train, ax=axes[1, 0])\n",
    "sns.boxplot(x='workingday', y='count', data=train, ax=axes[1, 1])\n",
    "\n",
    "# 스텝 3 : 세부 설정\n",
    "# 3-1 : 서브플롯에 제목 달기\n",
    "axes[0, 0].set(title='Box Plot On Count Across Season')\n",
    "axes[0, 1].set(title='Box Plot On Count Across Weather')\n",
    "axes[1, 0].set(title='Box Plot On Count Across Holiday')\n",
    "axes[1, 1].set(title='Box Plot On Count Across Working Day')\n",
    "\n",
    "# 3-2 : x축 라벨 겹침 해결\n",
    "axes[0, 1].tick_params('x', labelrotation=10) # 10도 회전"
   ]
  },
  {
   "cell_type": "markdown",
   "metadata": {},
   "source": [
    "### 포인트플롯"
   ]
  },
  {
   "cell_type": "code",
   "execution_count": null,
   "metadata": {
    "execution": {
     "iopub.execute_input": "2022-11-18T13:46:15.049859Z",
     "iopub.status.busy": "2022-11-18T13:46:15.049074Z",
     "iopub.status.idle": "2022-11-18T13:46:29.427013Z",
     "shell.execute_reply": "2022-11-18T13:46:29.425603Z",
     "shell.execute_reply.started": "2022-11-18T13:46:15.049805Z"
    }
   },
   "outputs": [],
   "source": [
    "# 스텝 1 : m행 n열 Figure 준비\n",
    "mpl.rc('font', size=11)\n",
    "figure, axes = plt.subplots(nrows=5) # 5행 1열\n",
    "figure.set_size_inches(12, 18)\n",
    "\n",
    "# 스텝 2 : 서브플롯 할당\n",
    "# 근무일, 공휴일, 요일, 계절, 날씨에 따른 시간대별 평균 대여 수량 포인트플롯\n",
    "sns.pointplot(x='hour', y='count', data=train, hue='workingday', ax=axes[0])\n",
    "sns.pointplot(x='hour', y='count', data=train, hue='holiday', ax=axes[1])\n",
    "sns.pointplot(x='hour', y='count', data=train, hue='weekday', ax=axes[2])\n",
    "sns.pointplot(x='hour', y='count', data=train, hue='season', ax=axes[3])\n",
    "sns.pointplot(x='hour', y='count', data=train, hue='weather', ax=axes[4]);"
   ]
  },
  {
   "cell_type": "markdown",
   "metadata": {},
   "source": [
    "### 회귀선을 포함한 산점도 그래프"
   ]
  },
  {
   "cell_type": "code",
   "execution_count": null,
   "metadata": {
    "execution": {
     "iopub.execute_input": "2022-11-18T13:46:29.429078Z",
     "iopub.status.busy": "2022-11-18T13:46:29.428604Z",
     "iopub.status.idle": "2022-11-18T13:46:33.096611Z",
     "shell.execute_reply": "2022-11-18T13:46:33.095388Z",
     "shell.execute_reply.started": "2022-11-18T13:46:29.429022Z"
    }
   },
   "outputs": [],
   "source": [
    "# 스텝 1 : m행 n열 Figure 준비\n",
    "mpl.rc('font', size=15)\n",
    "figure, axes = plt.subplots(nrows=2, ncols=2) # 2행 2열\n",
    "plt.tight_layout()\n",
    "figure.set_size_inches(7, 6)\n",
    "\n",
    "# 스텝 2 : 서브플롯 할당\n",
    "# 온도, 체감 온도, 풍속, 습도 별 대여 수량 산점도 그래프\n",
    "sns.regplot(x='temp', y='count', data=train, ax=axes[0, 0], \n",
    "            scatter_kws={'alpha': 0.2}, line_kws={'color': 'blue'})\n",
    "sns.regplot(x='atemp', y='count', data=train, ax=axes[0, 1], \n",
    "            scatter_kws={'alpha': 0.2}, line_kws={'color': 'blue'})\n",
    "sns.regplot(x='windspeed', y='count', data=train, ax=axes[1, 0], \n",
    "            scatter_kws={'alpha': 0.2}, line_kws={'color': 'blue'})\n",
    "sns.regplot(x='humidity', y='count', data=train, ax=axes[1, 1], \n",
    "            scatter_kws={'alpha': 0.2}, line_kws={'color': 'blue'});"
   ]
  },
  {
   "cell_type": "markdown",
   "metadata": {},
   "source": [
    "### 히트맵"
   ]
  },
  {
   "cell_type": "code",
   "execution_count": null,
   "metadata": {
    "execution": {
     "iopub.execute_input": "2022-11-18T13:46:33.099131Z",
     "iopub.status.busy": "2022-11-18T13:46:33.098629Z",
     "iopub.status.idle": "2022-11-18T13:46:33.124037Z",
     "shell.execute_reply": "2022-11-18T13:46:33.122809Z",
     "shell.execute_reply.started": "2022-11-18T13:46:33.099084Z"
    }
   },
   "outputs": [],
   "source": [
    "train[['temp', 'atemp', 'humidity', 'windspeed', 'count']].corr()"
   ]
  },
  {
   "cell_type": "code",
   "execution_count": null,
   "metadata": {
    "execution": {
     "iopub.execute_input": "2022-11-18T13:46:33.126944Z",
     "iopub.status.busy": "2022-11-18T13:46:33.126092Z",
     "iopub.status.idle": "2022-11-18T13:46:33.527894Z",
     "shell.execute_reply": "2022-11-18T13:46:33.526593Z",
     "shell.execute_reply.started": "2022-11-18T13:46:33.126897Z"
    }
   },
   "outputs": [],
   "source": [
    "# 피처 간 상관관계 매트릭스\n",
    "corrMat = train[['temp', 'atemp', 'humidity', 'windspeed', 'count']].corr() \n",
    "fig, ax= plt.subplots() \n",
    "fig.set_size_inches(10, 10)\n",
    "sns.heatmap(corrMat, annot=True) # 상관관계 히트맵 그리기\n",
    "ax.set(title='Heatmap of Numerical Data');"
   ]
  },
  {
   "cell_type": "markdown",
   "metadata": {},
   "source": [
    "# Baseline Model"
   ]
  },
  {
   "cell_type": "code",
   "execution_count": null,
   "metadata": {
    "execution": {
     "iopub.execute_input": "2022-11-18T13:50:03.755934Z",
     "iopub.status.busy": "2022-11-18T13:50:03.755457Z",
     "iopub.status.idle": "2022-11-18T13:50:03.802353Z",
     "shell.execute_reply": "2022-11-18T13:50:03.801162Z",
     "shell.execute_reply.started": "2022-11-18T13:50:03.755894Z"
    }
   },
   "outputs": [],
   "source": [
    "import pandas as pd\n",
    "# 데이터 경로\n",
    "data_path = '/kaggle/input/bike-sharing-demand/'\n",
    "\n",
    "train = pd.read_csv(data_path + 'train.csv')\n",
    "test = pd.read_csv(data_path + 'test.csv')\n",
    "submission = pd.read_csv(data_path + 'sampleSubmission.csv')"
   ]
  },
  {
   "cell_type": "markdown",
   "metadata": {},
   "source": [
    "## 피처 엔지니어링"
   ]
  },
  {
   "cell_type": "markdown",
   "metadata": {
    "execution": {
     "iopub.execute_input": "2022-11-18T13:40:47.252537Z",
     "iopub.status.busy": "2022-11-18T13:40:47.251993Z",
     "iopub.status.idle": "2022-11-18T13:40:47.260048Z",
     "shell.execute_reply": "2022-11-18T13:40:47.258577Z",
     "shell.execute_reply.started": "2022-11-18T13:40:47.252490Z"
    }
   },
   "source": [
    "### 이상치 제거"
   ]
  },
  {
   "cell_type": "code",
   "execution_count": null,
   "metadata": {
    "execution": {
     "iopub.execute_input": "2022-11-18T13:50:15.523234Z",
     "iopub.status.busy": "2022-11-18T13:50:15.522811Z",
     "iopub.status.idle": "2022-11-18T13:50:15.532554Z",
     "shell.execute_reply": "2022-11-18T13:50:15.531197Z",
     "shell.execute_reply.started": "2022-11-18T13:50:15.523196Z"
    }
   },
   "outputs": [],
   "source": [
    "# 훈련 데이터에서 weather가 4가 아닌 데이터만 추출\n",
    "train = train[train['weather'] != 4]"
   ]
  },
  {
   "cell_type": "markdown",
   "metadata": {},
   "source": [
    "### 데이터 합치기"
   ]
  },
  {
   "cell_type": "code",
   "execution_count": null,
   "metadata": {
    "execution": {
     "iopub.execute_input": "2022-11-18T13:50:15.775741Z",
     "iopub.status.busy": "2022-11-18T13:50:15.775246Z",
     "iopub.status.idle": "2022-11-18T13:50:15.806997Z",
     "shell.execute_reply": "2022-11-18T13:50:15.806014Z",
     "shell.execute_reply.started": "2022-11-18T13:50:15.775687Z"
    }
   },
   "outputs": [],
   "source": [
    "all_data_temp = pd.concat([train, test])\n",
    "all_data_temp"
   ]
  },
  {
   "cell_type": "code",
   "execution_count": null,
   "metadata": {
    "execution": {
     "iopub.execute_input": "2022-11-18T13:50:15.982846Z",
     "iopub.status.busy": "2022-11-18T13:50:15.982005Z",
     "iopub.status.idle": "2022-11-18T13:50:16.013158Z",
     "shell.execute_reply": "2022-11-18T13:50:16.011819Z",
     "shell.execute_reply.started": "2022-11-18T13:50:15.982798Z"
    }
   },
   "outputs": [],
   "source": [
    "all_data = pd.concat([train, test], ignore_index=True)\n",
    "all_data"
   ]
  },
  {
   "cell_type": "markdown",
   "metadata": {},
   "source": [
    "### 파생 변수(피처) 추가"
   ]
  },
  {
   "cell_type": "code",
   "execution_count": null,
   "metadata": {
    "execution": {
     "iopub.execute_input": "2022-11-18T13:50:16.233124Z",
     "iopub.status.busy": "2022-11-18T13:50:16.232696Z",
     "iopub.status.idle": "2022-11-18T13:50:16.471188Z",
     "shell.execute_reply": "2022-11-18T13:50:16.469828Z",
     "shell.execute_reply.started": "2022-11-18T13:50:16.233087Z"
    }
   },
   "outputs": [],
   "source": [
    "from datetime import datetime\n",
    "\n",
    "# 날짜 피처 생성\n",
    "all_data['date'] = all_data['datetime'].apply(lambda x: x.split()[0])\n",
    "# 연도 피처 생성\n",
    "all_data['year'] = all_data['datetime'].apply(lambda x: x.split()[0].split('-')[0])\n",
    "# 월 피처 생성\n",
    "all_data['month'] = all_data['datetime'].apply(lambda x: x.split()[0].split('-')[1])\n",
    "# 시 피처 생성\n",
    "all_data['hour'] = all_data['datetime'].apply(lambda x: x.split()[1].split(':')[0])\n",
    "# 요일 피처 생성\n",
    "all_data[\"weekday\"] = all_data['date'].apply(lambda dateString : datetime.strptime(dateString,\"%Y-%m-%d\").weekday())"
   ]
  },
  {
   "cell_type": "markdown",
   "metadata": {},
   "source": [
    "### 필요 없는 피처 제거"
   ]
  },
  {
   "cell_type": "code",
   "execution_count": null,
   "metadata": {
    "execution": {
     "iopub.execute_input": "2022-11-18T13:50:16.484136Z",
     "iopub.status.busy": "2022-11-18T13:50:16.483673Z",
     "iopub.status.idle": "2022-11-18T13:50:16.497475Z",
     "shell.execute_reply": "2022-11-18T13:50:16.496063Z",
     "shell.execute_reply.started": "2022-11-18T13:50:16.484098Z"
    }
   },
   "outputs": [],
   "source": [
    "drop_features = ['casual', 'registered', 'datetime', 'date', 'month', 'windspeed']\n",
    "\n",
    "all_data = all_data.drop(drop_features, axis=1)"
   ]
  },
  {
   "cell_type": "markdown",
   "metadata": {},
   "source": [
    "### 데이터 나누기"
   ]
  },
  {
   "cell_type": "code",
   "execution_count": null,
   "metadata": {
    "execution": {
     "iopub.execute_input": "2022-11-18T13:50:16.724511Z",
     "iopub.status.busy": "2022-11-18T13:50:16.724091Z",
     "iopub.status.idle": "2022-11-18T13:50:16.738590Z",
     "shell.execute_reply": "2022-11-18T13:50:16.737428Z",
     "shell.execute_reply.started": "2022-11-18T13:50:16.724467Z"
    }
   },
   "outputs": [],
   "source": [
    "# 훈련 데이터와 테스트 데이터 나누기\n",
    "X_train = all_data[~pd.isnull(all_data['count'])]\n",
    "X_test = all_data[pd.isnull(all_data['count'])]\n",
    "\n",
    "# 타깃값 count 제거\n",
    "X_train = X_train.drop(['count'], axis=1)\n",
    "X_test = X_test.drop(['count'], axis=1)\n",
    "\n",
    "y = train['count'] # 타깃값"
   ]
  },
  {
   "cell_type": "code",
   "execution_count": null,
   "metadata": {
    "execution": {
     "iopub.execute_input": "2022-11-18T13:50:16.861306Z",
     "iopub.status.busy": "2022-11-18T13:50:16.860894Z",
     "iopub.status.idle": "2022-11-18T13:50:16.878568Z",
     "shell.execute_reply": "2022-11-18T13:50:16.877323Z",
     "shell.execute_reply.started": "2022-11-18T13:50:16.861270Z"
    }
   },
   "outputs": [],
   "source": [
    "X_train.head()"
   ]
  },
  {
   "cell_type": "markdown",
   "metadata": {},
   "source": [
    "## 평가지표 계산 함수 작성"
   ]
  },
  {
   "cell_type": "code",
   "execution_count": null,
   "metadata": {
    "execution": {
     "iopub.execute_input": "2022-11-18T13:50:17.099624Z",
     "iopub.status.busy": "2022-11-18T13:50:17.099215Z",
     "iopub.status.idle": "2022-11-18T13:50:17.107389Z",
     "shell.execute_reply": "2022-11-18T13:50:17.106107Z",
     "shell.execute_reply.started": "2022-11-18T13:50:17.099587Z"
    }
   },
   "outputs": [],
   "source": [
    "import numpy as np\n",
    "\n",
    "def rmsle(y_true, y_pred, convertExp=True):\n",
    "    # 지수변환\n",
    "    if convertExp:\n",
    "        y_true = np.exp(y_true)\n",
    "        y_pred = np.exp(y_pred)\n",
    "        \n",
    "    # 로그변환 후 결측값을 0으로 변환\n",
    "    log_true = np.nan_to_num(np.log(y_true+1))\n",
    "    log_pred = np.nan_to_num(np.log(y_pred+1))\n",
    "    \n",
    "    # RMSLE 계산\n",
    "    output = np.sqrt(np.mean((log_true - log_pred)**2))\n",
    "    return output"
   ]
  },
  {
   "cell_type": "markdown",
   "metadata": {},
   "source": [
    "## 모델 훈련"
   ]
  },
  {
   "cell_type": "code",
   "execution_count": null,
   "metadata": {
    "execution": {
     "iopub.execute_input": "2022-11-18T13:50:17.352074Z",
     "iopub.status.busy": "2022-11-18T13:50:17.351603Z",
     "iopub.status.idle": "2022-11-18T13:50:17.356907Z",
     "shell.execute_reply": "2022-11-18T13:50:17.355833Z",
     "shell.execute_reply.started": "2022-11-18T13:50:17.352037Z"
    }
   },
   "outputs": [],
   "source": [
    "from sklearn.linear_model import LinearRegression\n",
    "\n",
    "linear_reg_model = LinearRegression()"
   ]
  },
  {
   "cell_type": "code",
   "execution_count": null,
   "metadata": {
    "execution": {
     "iopub.execute_input": "2022-11-18T13:50:17.493362Z",
     "iopub.status.busy": "2022-11-18T13:50:17.492945Z",
     "iopub.status.idle": "2022-11-18T13:50:17.532560Z",
     "shell.execute_reply": "2022-11-18T13:50:17.531209Z",
     "shell.execute_reply.started": "2022-11-18T13:50:17.493326Z"
    }
   },
   "outputs": [],
   "source": [
    "log_y = np.log(y)  # 타깃값 로그변환\n",
    "linear_reg_model.fit(X_train, log_y) # 모델 훈련"
   ]
  },
  {
   "cell_type": "markdown",
   "metadata": {},
   "source": [
    "### 모델 성능 검증"
   ]
  },
  {
   "cell_type": "code",
   "execution_count": null,
   "metadata": {
    "execution": {
     "iopub.execute_input": "2022-11-18T13:50:17.739059Z",
     "iopub.status.busy": "2022-11-18T13:50:17.738375Z",
     "iopub.status.idle": "2022-11-18T13:50:17.755358Z",
     "shell.execute_reply": "2022-11-18T13:50:17.753950Z",
     "shell.execute_reply.started": "2022-11-18T13:50:17.739019Z"
    }
   },
   "outputs": [],
   "source": [
    "preds = linear_reg_model.predict(X_train)"
   ]
  },
  {
   "cell_type": "code",
   "execution_count": null,
   "metadata": {
    "execution": {
     "iopub.execute_input": "2022-11-18T13:50:17.872884Z",
     "iopub.status.busy": "2022-11-18T13:50:17.871397Z",
     "iopub.status.idle": "2022-11-18T13:50:17.882157Z",
     "shell.execute_reply": "2022-11-18T13:50:17.880900Z",
     "shell.execute_reply.started": "2022-11-18T13:50:17.872819Z"
    }
   },
   "outputs": [],
   "source": [
    "print (f'선형회귀의 RMSLE 값 : {rmsle(log_y, preds, True):.4f}')"
   ]
  },
  {
   "cell_type": "markdown",
   "metadata": {},
   "source": [
    "### 예측 및 결과 제출"
   ]
  },
  {
   "cell_type": "code",
   "execution_count": null,
   "metadata": {},
   "outputs": [],
   "source": [
    "#\n",
    "linearreg_preds = linear_reg_model.predict(X_test) # 테스트 데이터로 예측\n",
    "\n",
    "submission['count'] = np.exp(linearreg_preds)    # 지수변환\n",
    "submission.to_csv('submission.csv', index=False) # 파일로 저장"
   ]
  },
  {
   "cell_type": "markdown",
   "metadata": {},
   "source": [
    " # Modeling"
   ]
  },
  {
   "cell_type": "code",
   "execution_count": null,
   "metadata": {
    "execution": {
     "iopub.execute_input": "2022-11-18T13:51:48.504412Z",
     "iopub.status.busy": "2022-11-18T13:51:48.503999Z",
     "iopub.status.idle": "2022-11-18T13:51:48.549336Z",
     "shell.execute_reply": "2022-11-18T13:51:48.548016Z",
     "shell.execute_reply.started": "2022-11-18T13:51:48.504377Z"
    }
   },
   "outputs": [],
   "source": [
    "import pandas as pd\n",
    "# 데이터 경로\n",
    "data_path = '/kaggle/input/bike-sharing-demand/'\n",
    "\n",
    "train = pd.read_csv(data_path + 'train.csv')\n",
    "test = pd.read_csv(data_path + 'test.csv')\n",
    "submission = pd.read_csv(data_path + 'sampleSubmission.csv')"
   ]
  },
  {
   "cell_type": "markdown",
   "metadata": {},
   "source": [
    "## 피처 엔지니어링"
   ]
  },
  {
   "cell_type": "markdown",
   "metadata": {},
   "source": [
    "### 이상치 제거"
   ]
  },
  {
   "cell_type": "code",
   "execution_count": null,
   "metadata": {
    "execution": {
     "iopub.execute_input": "2022-11-18T13:52:09.095782Z",
     "iopub.status.busy": "2022-11-18T13:52:09.095346Z",
     "iopub.status.idle": "2022-11-18T13:52:09.104456Z",
     "shell.execute_reply": "2022-11-18T13:52:09.103088Z",
     "shell.execute_reply.started": "2022-11-18T13:52:09.095738Z"
    }
   },
   "outputs": [],
   "source": [
    "# 훈련 데이터에서 weather가 4가 아닌 데이터만 추출\n",
    "train = train[train['weather'] != 4]"
   ]
  },
  {
   "cell_type": "markdown",
   "metadata": {},
   "source": [
    "### 데이터 합치기"
   ]
  },
  {
   "cell_type": "code",
   "execution_count": null,
   "metadata": {
    "execution": {
     "iopub.execute_input": "2022-11-18T13:52:57.560021Z",
     "iopub.status.busy": "2022-11-18T13:52:57.559587Z",
     "iopub.status.idle": "2022-11-18T13:52:57.594431Z",
     "shell.execute_reply": "2022-11-18T13:52:57.592513Z",
     "shell.execute_reply.started": "2022-11-18T13:52:57.559980Z"
    }
   },
   "outputs": [],
   "source": [
    "all_data = pd.concat([train, test], ignore_index=True)\n",
    "all_data"
   ]
  },
  {
   "cell_type": "markdown",
   "metadata": {},
   "source": [
    "### 파생 변수(피처) 추가"
   ]
  },
  {
   "cell_type": "code",
   "execution_count": null,
   "metadata": {
    "execution": {
     "iopub.execute_input": "2022-11-18T13:53:05.819128Z",
     "iopub.status.busy": "2022-11-18T13:53:05.818691Z",
     "iopub.status.idle": "2022-11-18T13:53:06.056486Z",
     "shell.execute_reply": "2022-11-18T13:53:06.055458Z",
     "shell.execute_reply.started": "2022-11-18T13:53:05.819092Z"
    }
   },
   "outputs": [],
   "source": [
    "from datetime import datetime\n",
    "\n",
    "# 날짜 피처 생성\n",
    "all_data['date'] = all_data['datetime'].apply(lambda x: x.split()[0])\n",
    "# 연도 피처 생성\n",
    "all_data['year'] = all_data['datetime'].apply(lambda x: x.split()[0].split('-')[0])\n",
    "# 월 피처 생성\n",
    "all_data['month'] = all_data['datetime'].apply(lambda x: x.split()[0].split('-')[1])\n",
    "# 시 피처 생성\n",
    "all_data['hour'] = all_data['datetime'].apply(lambda x: x.split()[1].split(':')[0])\n",
    "# 요일 피처 생성\n",
    "all_data[\"weekday\"] = all_data['date'].apply(lambda dateString : datetime.strptime(dateString,\"%Y-%m-%d\").weekday())"
   ]
  },
  {
   "cell_type": "markdown",
   "metadata": {},
   "source": [
    "### 필요 없는 피처 제거"
   ]
  },
  {
   "cell_type": "code",
   "execution_count": null,
   "metadata": {
    "execution": {
     "iopub.execute_input": "2022-11-18T13:53:21.034204Z",
     "iopub.status.busy": "2022-11-18T13:53:21.033700Z",
     "iopub.status.idle": "2022-11-18T13:53:21.048050Z",
     "shell.execute_reply": "2022-11-18T13:53:21.046714Z",
     "shell.execute_reply.started": "2022-11-18T13:53:21.034161Z"
    }
   },
   "outputs": [],
   "source": [
    "drop_features = ['casual', 'registered', 'datetime', 'date', 'month', 'windspeed']\n",
    "\n",
    "all_data = all_data.drop(drop_features, axis=1)"
   ]
  },
  {
   "cell_type": "markdown",
   "metadata": {},
   "source": [
    "### 데이터 나누기"
   ]
  },
  {
   "cell_type": "code",
   "execution_count": null,
   "metadata": {
    "execution": {
     "iopub.execute_input": "2022-11-18T13:53:47.089194Z",
     "iopub.status.busy": "2022-11-18T13:53:47.088609Z",
     "iopub.status.idle": "2022-11-18T13:53:47.105732Z",
     "shell.execute_reply": "2022-11-18T13:53:47.104496Z",
     "shell.execute_reply.started": "2022-11-18T13:53:47.089142Z"
    }
   },
   "outputs": [],
   "source": [
    "# 훈련 데이터와 테스트 데이터 나누기\n",
    "X_train = all_data[~pd.isnull(all_data['count'])]\n",
    "X_test = all_data[pd.isnull(all_data['count'])]\n",
    "\n",
    "# 타깃값 count 제거\n",
    "X_train = X_train.drop(['count'], axis=1)\n",
    "X_test = X_test.drop(['count'], axis=1)\n",
    "\n",
    "y = train['count'] # 타깃값"
   ]
  },
  {
   "cell_type": "markdown",
   "metadata": {},
   "source": [
    "### 평가지표 계산 함수 작성"
   ]
  },
  {
   "cell_type": "code",
   "execution_count": null,
   "metadata": {
    "execution": {
     "iopub.execute_input": "2022-11-18T13:54:00.718438Z",
     "iopub.status.busy": "2022-11-18T13:54:00.717213Z",
     "iopub.status.idle": "2022-11-18T13:54:00.725466Z",
     "shell.execute_reply": "2022-11-18T13:54:00.724109Z",
     "shell.execute_reply.started": "2022-11-18T13:54:00.718385Z"
    }
   },
   "outputs": [],
   "source": [
    "import numpy as np\n",
    "\n",
    "def rmsle(y_true, y_pred, convertExp=True):\n",
    "    # 지수변환\n",
    "    if convertExp:\n",
    "        y_true = np.exp(y_true)\n",
    "        y_pred = np.exp(y_pred)\n",
    "        \n",
    "    # 로그변환 후 결측값을 0으로 변환\n",
    "    log_true = np.nan_to_num(np.log(y_true+1))\n",
    "    log_pred = np.nan_to_num(np.log(y_pred+1))\n",
    "    \n",
    "    # RMSLE 계산\n",
    "    output = np.sqrt(np.mean((log_true - log_pred)**2))\n",
    "    return output"
   ]
  },
  {
   "cell_type": "markdown",
   "metadata": {},
   "source": [
    "## 성능 개선 I : 릿지 회귀 모델"
   ]
  },
  {
   "cell_type": "markdown",
   "metadata": {},
   "source": [
    "### 하이퍼 파라미터 최적화(모델 훈련)"
   ]
  },
  {
   "cell_type": "markdown",
   "metadata": {},
   "source": [
    "### 모델 생성"
   ]
  },
  {
   "cell_type": "code",
   "execution_count": null,
   "metadata": {
    "execution": {
     "iopub.execute_input": "2022-11-18T13:58:03.144931Z",
     "iopub.status.busy": "2022-11-18T13:58:03.143881Z",
     "iopub.status.idle": "2022-11-18T13:58:03.150273Z",
     "shell.execute_reply": "2022-11-18T13:58:03.149315Z",
     "shell.execute_reply.started": "2022-11-18T13:58:03.144885Z"
    }
   },
   "outputs": [],
   "source": [
    "from sklearn.linear_model import Ridge\n",
    "from sklearn.model_selection import GridSearchCV\n",
    "from sklearn import metrics\n",
    "\n",
    "ridge_model = Ridge()"
   ]
  },
  {
   "cell_type": "markdown",
   "metadata": {},
   "source": [
    "### 그리드서치 객체 생성"
   ]
  },
  {
   "cell_type": "code",
   "execution_count": null,
   "metadata": {
    "execution": {
     "iopub.execute_input": "2022-11-18T13:58:15.861047Z",
     "iopub.status.busy": "2022-11-18T13:58:15.860099Z",
     "iopub.status.idle": "2022-11-18T13:58:15.868614Z",
     "shell.execute_reply": "2022-11-18T13:58:15.867509Z",
     "shell.execute_reply.started": "2022-11-18T13:58:15.861008Z"
    }
   },
   "outputs": [],
   "source": [
    "# 하이퍼 파라미터 값 목록\n",
    "ridge_params = {'max_iter':[3000], 'alpha':[0.1, 1, 2, 3, 4, 10, 30, 100, 200, 300, 400, 800, 900, 1000]}\n",
    "\n",
    "# 교차 검증용 평가 함수(RMSLE 점수 계산)\n",
    "rmsle_scorer = metrics.make_scorer(rmsle, greater_is_better=False)\n",
    "# 그리드서치(with 릿지) 객체 생성\n",
    "gridsearch_ridge_model = GridSearchCV(estimator=ridge_model,   # 릿지 모델\n",
    "                                      param_grid=ridge_params, # 값 목록\n",
    "                                      scoring=rmsle_scorer,    # 평가지표\n",
    "                                      cv=5)                    # 교차검증 분할 수"
   ]
  },
  {
   "cell_type": "markdown",
   "metadata": {},
   "source": [
    "### 그리드서치 수행"
   ]
  },
  {
   "cell_type": "code",
   "execution_count": null,
   "metadata": {
    "execution": {
     "iopub.execute_input": "2022-11-18T13:58:30.817700Z",
     "iopub.status.busy": "2022-11-18T13:58:30.817292Z",
     "iopub.status.idle": "2022-11-18T13:58:32.850126Z",
     "shell.execute_reply": "2022-11-18T13:58:32.848815Z",
     "shell.execute_reply.started": "2022-11-18T13:58:30.817666Z"
    }
   },
   "outputs": [],
   "source": [
    "log_y = np.log(y) # 타깃값 로그변환\n",
    "gridsearch_ridge_model.fit(X_train, log_y) # 훈련(그리드서치)"
   ]
  },
  {
   "cell_type": "code",
   "execution_count": null,
   "metadata": {
    "execution": {
     "iopub.execute_input": "2022-11-18T13:58:34.514236Z",
     "iopub.status.busy": "2022-11-18T13:58:34.513844Z",
     "iopub.status.idle": "2022-11-18T13:58:34.519783Z",
     "shell.execute_reply": "2022-11-18T13:58:34.518805Z",
     "shell.execute_reply.started": "2022-11-18T13:58:34.514204Z"
    }
   },
   "outputs": [],
   "source": [
    "print('최적 하이퍼파라미터 :', gridsearch_ridge_model.best_params_)"
   ]
  },
  {
   "cell_type": "markdown",
   "metadata": {},
   "source": [
    "### 성능 검증"
   ]
  },
  {
   "cell_type": "code",
   "execution_count": null,
   "metadata": {
    "execution": {
     "iopub.execute_input": "2022-11-18T13:58:52.241596Z",
     "iopub.status.busy": "2022-11-18T13:58:52.241161Z",
     "iopub.status.idle": "2022-11-18T13:58:52.266022Z",
     "shell.execute_reply": "2022-11-18T13:58:52.264290Z",
     "shell.execute_reply.started": "2022-11-18T13:58:52.241559Z"
    }
   },
   "outputs": [],
   "source": [
    "# 예측\n",
    "preds = gridsearch_ridge_model.best_estimator_.predict(X_train) \n",
    "\n",
    "# 평가\n",
    "print(f'릿지 회귀 RMSLE 값 : {rmsle(log_y, preds, True):.4f}') "
   ]
  },
  {
   "cell_type": "markdown",
   "metadata": {},
   "source": [
    "### 성능 개선 II : 라쏘 회귀 모델"
   ]
  },
  {
   "cell_type": "markdown",
   "metadata": {},
   "source": [
    "### 하이퍼 파라미터 최적화(모델 훈련)"
   ]
  },
  {
   "cell_type": "code",
   "execution_count": null,
   "metadata": {
    "execution": {
     "iopub.execute_input": "2022-11-18T13:59:20.636523Z",
     "iopub.status.busy": "2022-11-18T13:59:20.636099Z",
     "iopub.status.idle": "2022-11-18T13:59:26.821758Z",
     "shell.execute_reply": "2022-11-18T13:59:26.819807Z",
     "shell.execute_reply.started": "2022-11-18T13:59:20.636486Z"
    }
   },
   "outputs": [],
   "source": [
    "from sklearn.linear_model import Lasso\n",
    "\n",
    "# 모델 생성\n",
    "lasso_model = Lasso()\n",
    "# 하이퍼파라미터 값 목록\n",
    "lasso_alpha = 1/np.array([0.1, 1, 2, 3, 4, 10, 30, 100, 200, 300, 400, 800, 900, 1000])\n",
    "lasso_params = {'max_iter':[3000], 'alpha':lasso_alpha}\n",
    "# 그리드서치(with 라쏘) 객체 생성\n",
    "gridsearch_lasso_model = GridSearchCV(estimator=lasso_model,\n",
    "                                      param_grid=lasso_params,\n",
    "                                      scoring=rmsle_scorer,\n",
    "                                      cv=5)\n",
    "# 그리드서치 수행\n",
    "log_y = np.log(y)\n",
    "gridsearch_lasso_model.fit(X_train, log_y)\n",
    "\n",
    "print('최적 하이퍼파라미터 :', gridsearch_lasso_model.best_params_)"
   ]
  },
  {
   "cell_type": "markdown",
   "metadata": {},
   "source": [
    "### 성능 검증"
   ]
  },
  {
   "cell_type": "code",
   "execution_count": null,
   "metadata": {
    "execution": {
     "iopub.execute_input": "2022-11-18T13:59:35.955866Z",
     "iopub.status.busy": "2022-11-18T13:59:35.955415Z",
     "iopub.status.idle": "2022-11-18T13:59:35.978418Z",
     "shell.execute_reply": "2022-11-18T13:59:35.976582Z",
     "shell.execute_reply.started": "2022-11-18T13:59:35.955826Z"
    }
   },
   "outputs": [],
   "source": [
    "# 예측\n",
    "preds = gridsearch_lasso_model.best_estimator_.predict(X_train)\n",
    "\n",
    "# 평가\n",
    "print(f'라쏘 회귀 RMSLE 값 : {rmsle(log_y, preds, True):.4f}')"
   ]
  },
  {
   "cell_type": "markdown",
   "metadata": {},
   "source": [
    "## 성능 개선 III : 랜덤 포레스트 회귀 모델"
   ]
  },
  {
   "cell_type": "markdown",
   "metadata": {},
   "source": [
    "### 하이퍼 파라미터 최적화(모델 훈련)"
   ]
  },
  {
   "cell_type": "code",
   "execution_count": null,
   "metadata": {
    "execution": {
     "iopub.execute_input": "2022-11-18T14:00:11.947101Z",
     "iopub.status.busy": "2022-11-18T14:00:11.946628Z",
     "iopub.status.idle": "2022-11-18T14:01:02.651153Z",
     "shell.execute_reply": "2022-11-18T14:01:02.649802Z",
     "shell.execute_reply.started": "2022-11-18T14:00:11.947061Z"
    }
   },
   "outputs": [],
   "source": [
    "from sklearn.ensemble import RandomForestRegressor\n",
    "\n",
    "# 모델 생성\n",
    "randomforest_model = RandomForestRegressor()\n",
    "# 그리드서치 객체 생성\n",
    "rf_params = {'random_state':[42], 'n_estimators':[100, 120, 140]}\n",
    "gridsearch_random_forest_model = GridSearchCV(estimator=randomforest_model,\n",
    "                                              param_grid=rf_params,\n",
    "                                              scoring=rmsle_scorer,\n",
    "                                              cv=5)\n",
    "# 그리드서치 수행\n",
    "log_y = np.log(y)\n",
    "gridsearch_random_forest_model.fit(X_train, log_y)\n",
    "\n",
    "print('최적 하이퍼파라미터 :', gridsearch_random_forest_model.best_params_)"
   ]
  },
  {
   "cell_type": "markdown",
   "metadata": {},
   "source": [
    "### 모델 성능 검증"
   ]
  },
  {
   "cell_type": "code",
   "execution_count": null,
   "metadata": {
    "execution": {
     "iopub.execute_input": "2022-11-18T14:01:02.653577Z",
     "iopub.status.busy": "2022-11-18T14:01:02.653195Z",
     "iopub.status.idle": "2022-11-18T14:01:02.995131Z",
     "shell.execute_reply": "2022-11-18T14:01:02.993855Z",
     "shell.execute_reply.started": "2022-11-18T14:01:02.653542Z"
    }
   },
   "outputs": [],
   "source": [
    "# 예측\n",
    "preds = gridsearch_random_forest_model.best_estimator_.predict(X_train)\n",
    "\n",
    "# 평가\n",
    "print(f'랜덤 포레스트 회귀 RMSLE 값 : {rmsle(log_y, preds, True):.4f}')"
   ]
  },
  {
   "cell_type": "markdown",
   "metadata": {},
   "source": [
    "###  예측 및 결과 제출"
   ]
  },
  {
   "cell_type": "code",
   "execution_count": null,
   "metadata": {
    "execution": {
     "iopub.execute_input": "2022-11-18T14:01:02.997097Z",
     "iopub.status.busy": "2022-11-18T14:01:02.996705Z",
     "iopub.status.idle": "2022-11-18T14:01:03.901458Z",
     "shell.execute_reply": "2022-11-18T14:01:03.900144Z",
     "shell.execute_reply.started": "2022-11-18T14:01:02.997062Z"
    }
   },
   "outputs": [],
   "source": [
    "import seaborn as sns\n",
    "import matplotlib.pyplot as plt\n",
    "\n",
    "randomforest_preds = gridsearch_random_forest_model.best_estimator_.predict(X_test)\n",
    "\n",
    "figure, axes = plt.subplots(ncols=2)\n",
    "figure.set_size_inches(10, 4)\n",
    "\n",
    "sns.histplot(y, bins=50, ax=axes[0])\n",
    "axes[0].set_title('Train Data Distribution')\n",
    "sns.histplot(np.exp(randomforest_preds), bins=50, ax=axes[1])\n",
    "axes[1].set_title('Predicted Test Data Distribution');"
   ]
  },
  {
   "cell_type": "code",
   "execution_count": null,
   "metadata": {
    "execution": {
     "iopub.execute_input": "2022-11-18T14:01:03.904161Z",
     "iopub.status.busy": "2022-11-18T14:01:03.903789Z",
     "iopub.status.idle": "2022-11-18T14:01:03.931568Z",
     "shell.execute_reply": "2022-11-18T14:01:03.930312Z",
     "shell.execute_reply.started": "2022-11-18T14:01:03.904127Z"
    }
   },
   "outputs": [],
   "source": [
    "submission['count'] = np.exp(randomforest_preds) # 지수변환\n",
    "submission.to_csv('submission.csv', index=False)"
   ]
  }
 ],
 "metadata": {
  "kernelspec": {
   "display_name": "Python 3 (ipykernel)",
   "language": "python",
   "name": "python3"
  },
  "language_info": {
   "codemirror_mode": {
    "name": "ipython",
    "version": 3
   },
   "file_extension": ".py",
   "mimetype": "text/x-python",
   "name": "python",
   "nbconvert_exporter": "python",
   "pygments_lexer": "ipython3",
   "version": "3.9.12"
  }
 },
 "nbformat": 4,
 "nbformat_minor": 4
}
