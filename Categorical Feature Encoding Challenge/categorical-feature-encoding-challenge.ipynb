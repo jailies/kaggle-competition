{
 "cells": [
  {
   "cell_type": "code",
   "execution_count": 2,
   "metadata": {
    "_cell_guid": "b1076dfc-b9ad-4769-8c92-a6c4dae69d19",
    "_uuid": "8f2839f25d086af736a60e9eeb907d3b93b6e0e5",
    "execution": {
     "iopub.execute_input": "2022-11-19T11:40:06.361106Z",
     "iopub.status.busy": "2022-11-19T11:40:06.360740Z",
     "iopub.status.idle": "2022-11-19T11:40:06.369164Z",
     "shell.execute_reply": "2022-11-19T11:40:06.367954Z",
     "shell.execute_reply.started": "2022-11-19T11:40:06.361076Z"
    }
   },
   "outputs": [],
   "source": [
    "# This Python 3 environment comes with many helpful analytics libraries installed\n",
    "# It is defined by the kaggle/python Docker image: https://github.com/kaggle/docker-python\n",
    "# For example, here's several helpful packages to load\n",
    "\n",
    "import numpy as np # linear algebra\n",
    "import pandas as pd # data processing, CSV file I/O (e.g. pd.read_csv)\n",
    "\n",
    "# Input data files are available in the read-only \"../input/\" directory\n",
    "# For example, running this (by clicking run or pressing Shift+Enter) will list all files under the input directory\n",
    "\n",
    "import os\n",
    "for dirname, _, filenames in os.walk('/kaggle/input'):\n",
    "    for filename in filenames:\n",
    "        print(os.path.join(dirname, filename))\n",
    "\n",
    "# You can write up to 20GB to the current directory (/kaggle/working/) that gets preserved as output when you create a version using \"Save & Run All\" \n",
    "# You can also write temporary files to /kaggle/temp/, but they won't be saved outside of the current session"
   ]
  },
  {
   "cell_type": "markdown",
   "metadata": {},
   "source": [
    "# EDA"
   ]
  },
  {
   "cell_type": "code",
   "execution_count": 3,
   "metadata": {
    "execution": {
     "iopub.execute_input": "2022-11-19T11:40:06.394641Z",
     "iopub.status.busy": "2022-11-19T11:40:06.394204Z",
     "iopub.status.idle": "2022-11-19T11:40:08.344427Z",
     "shell.execute_reply": "2022-11-19T11:40:08.343148Z",
     "shell.execute_reply.started": "2022-11-19T11:40:06.394588Z"
    }
   },
   "outputs": [],
   "source": [
    "import pandas as pd\n",
    "# 데이터 경로\n",
    "\n",
    "train = pd.read_csv('train.csv', index_col='id')\n",
    "test = pd.read_csv('test.csv', index_col='id')\n",
    "submission = pd.read_csv('sample_submission.csv', index_col='id')"
   ]
  },
  {
   "cell_type": "code",
   "execution_count": 4,
   "metadata": {
    "execution": {
     "iopub.execute_input": "2022-11-19T11:40:08.347924Z",
     "iopub.status.busy": "2022-11-19T11:40:08.347067Z",
     "iopub.status.idle": "2022-11-19T11:40:08.355819Z",
     "shell.execute_reply": "2022-11-19T11:40:08.354350Z",
     "shell.execute_reply.started": "2022-11-19T11:40:08.347875Z"
    }
   },
   "outputs": [
    {
     "data": {
      "text/plain": [
       "((300000, 24), (200000, 23))"
      ]
     },
     "execution_count": 4,
     "metadata": {},
     "output_type": "execute_result"
    }
   ],
   "source": [
    "train.shape, test.shape"
   ]
  },
  {
   "cell_type": "code",
   "execution_count": 5,
   "metadata": {
    "execution": {
     "iopub.execute_input": "2022-11-19T11:40:08.357562Z",
     "iopub.status.busy": "2022-11-19T11:40:08.357172Z",
     "iopub.status.idle": "2022-11-19T11:40:08.390519Z",
     "shell.execute_reply": "2022-11-19T11:40:08.389681Z",
     "shell.execute_reply.started": "2022-11-19T11:40:08.357530Z"
    }
   },
   "outputs": [
    {
     "data": {
      "text/html": [
       "<div>\n",
       "<style scoped>\n",
       "    .dataframe tbody tr th:only-of-type {\n",
       "        vertical-align: middle;\n",
       "    }\n",
       "\n",
       "    .dataframe tbody tr th {\n",
       "        vertical-align: top;\n",
       "    }\n",
       "\n",
       "    .dataframe thead th {\n",
       "        text-align: right;\n",
       "    }\n",
       "</style>\n",
       "<table border=\"1\" class=\"dataframe\">\n",
       "  <thead>\n",
       "    <tr style=\"text-align: right;\">\n",
       "      <th></th>\n",
       "      <th>bin_0</th>\n",
       "      <th>bin_1</th>\n",
       "      <th>bin_2</th>\n",
       "      <th>bin_3</th>\n",
       "      <th>bin_4</th>\n",
       "      <th>nom_0</th>\n",
       "      <th>nom_1</th>\n",
       "      <th>nom_2</th>\n",
       "      <th>nom_3</th>\n",
       "      <th>nom_4</th>\n",
       "      <th>...</th>\n",
       "      <th>nom_9</th>\n",
       "      <th>ord_0</th>\n",
       "      <th>ord_1</th>\n",
       "      <th>ord_2</th>\n",
       "      <th>ord_3</th>\n",
       "      <th>ord_4</th>\n",
       "      <th>ord_5</th>\n",
       "      <th>day</th>\n",
       "      <th>month</th>\n",
       "      <th>target</th>\n",
       "    </tr>\n",
       "    <tr>\n",
       "      <th>id</th>\n",
       "      <th></th>\n",
       "      <th></th>\n",
       "      <th></th>\n",
       "      <th></th>\n",
       "      <th></th>\n",
       "      <th></th>\n",
       "      <th></th>\n",
       "      <th></th>\n",
       "      <th></th>\n",
       "      <th></th>\n",
       "      <th></th>\n",
       "      <th></th>\n",
       "      <th></th>\n",
       "      <th></th>\n",
       "      <th></th>\n",
       "      <th></th>\n",
       "      <th></th>\n",
       "      <th></th>\n",
       "      <th></th>\n",
       "      <th></th>\n",
       "      <th></th>\n",
       "    </tr>\n",
       "  </thead>\n",
       "  <tbody>\n",
       "    <tr>\n",
       "      <th>0</th>\n",
       "      <td>0</td>\n",
       "      <td>0</td>\n",
       "      <td>0</td>\n",
       "      <td>T</td>\n",
       "      <td>Y</td>\n",
       "      <td>Green</td>\n",
       "      <td>Triangle</td>\n",
       "      <td>Snake</td>\n",
       "      <td>Finland</td>\n",
       "      <td>Bassoon</td>\n",
       "      <td>...</td>\n",
       "      <td>2f4cb3d51</td>\n",
       "      <td>2</td>\n",
       "      <td>Grandmaster</td>\n",
       "      <td>Cold</td>\n",
       "      <td>h</td>\n",
       "      <td>D</td>\n",
       "      <td>kr</td>\n",
       "      <td>2</td>\n",
       "      <td>2</td>\n",
       "      <td>0</td>\n",
       "    </tr>\n",
       "    <tr>\n",
       "      <th>1</th>\n",
       "      <td>0</td>\n",
       "      <td>1</td>\n",
       "      <td>0</td>\n",
       "      <td>T</td>\n",
       "      <td>Y</td>\n",
       "      <td>Green</td>\n",
       "      <td>Trapezoid</td>\n",
       "      <td>Hamster</td>\n",
       "      <td>Russia</td>\n",
       "      <td>Piano</td>\n",
       "      <td>...</td>\n",
       "      <td>f83c56c21</td>\n",
       "      <td>1</td>\n",
       "      <td>Grandmaster</td>\n",
       "      <td>Hot</td>\n",
       "      <td>a</td>\n",
       "      <td>A</td>\n",
       "      <td>bF</td>\n",
       "      <td>7</td>\n",
       "      <td>8</td>\n",
       "      <td>0</td>\n",
       "    </tr>\n",
       "    <tr>\n",
       "      <th>2</th>\n",
       "      <td>0</td>\n",
       "      <td>0</td>\n",
       "      <td>0</td>\n",
       "      <td>F</td>\n",
       "      <td>Y</td>\n",
       "      <td>Blue</td>\n",
       "      <td>Trapezoid</td>\n",
       "      <td>Lion</td>\n",
       "      <td>Russia</td>\n",
       "      <td>Theremin</td>\n",
       "      <td>...</td>\n",
       "      <td>ae6800dd0</td>\n",
       "      <td>1</td>\n",
       "      <td>Expert</td>\n",
       "      <td>Lava Hot</td>\n",
       "      <td>h</td>\n",
       "      <td>R</td>\n",
       "      <td>Jc</td>\n",
       "      <td>7</td>\n",
       "      <td>2</td>\n",
       "      <td>0</td>\n",
       "    </tr>\n",
       "    <tr>\n",
       "      <th>3</th>\n",
       "      <td>0</td>\n",
       "      <td>1</td>\n",
       "      <td>0</td>\n",
       "      <td>F</td>\n",
       "      <td>Y</td>\n",
       "      <td>Red</td>\n",
       "      <td>Trapezoid</td>\n",
       "      <td>Snake</td>\n",
       "      <td>Canada</td>\n",
       "      <td>Oboe</td>\n",
       "      <td>...</td>\n",
       "      <td>8270f0d71</td>\n",
       "      <td>1</td>\n",
       "      <td>Grandmaster</td>\n",
       "      <td>Boiling Hot</td>\n",
       "      <td>i</td>\n",
       "      <td>D</td>\n",
       "      <td>kW</td>\n",
       "      <td>2</td>\n",
       "      <td>1</td>\n",
       "      <td>1</td>\n",
       "    </tr>\n",
       "    <tr>\n",
       "      <th>4</th>\n",
       "      <td>0</td>\n",
       "      <td>0</td>\n",
       "      <td>0</td>\n",
       "      <td>F</td>\n",
       "      <td>N</td>\n",
       "      <td>Red</td>\n",
       "      <td>Trapezoid</td>\n",
       "      <td>Lion</td>\n",
       "      <td>Canada</td>\n",
       "      <td>Oboe</td>\n",
       "      <td>...</td>\n",
       "      <td>b164b72a7</td>\n",
       "      <td>1</td>\n",
       "      <td>Grandmaster</td>\n",
       "      <td>Freezing</td>\n",
       "      <td>a</td>\n",
       "      <td>R</td>\n",
       "      <td>qP</td>\n",
       "      <td>7</td>\n",
       "      <td>8</td>\n",
       "      <td>0</td>\n",
       "    </tr>\n",
       "  </tbody>\n",
       "</table>\n",
       "<p>5 rows × 24 columns</p>\n",
       "</div>"
      ],
      "text/plain": [
       "    bin_0  bin_1  bin_2 bin_3 bin_4  nom_0      nom_1    nom_2    nom_3  \\\n",
       "id                                                                        \n",
       "0       0      0      0     T     Y  Green   Triangle    Snake  Finland   \n",
       "1       0      1      0     T     Y  Green  Trapezoid  Hamster   Russia   \n",
       "2       0      0      0     F     Y   Blue  Trapezoid     Lion   Russia   \n",
       "3       0      1      0     F     Y    Red  Trapezoid    Snake   Canada   \n",
       "4       0      0      0     F     N    Red  Trapezoid     Lion   Canada   \n",
       "\n",
       "       nom_4  ...      nom_9 ord_0        ord_1        ord_2 ord_3  ord_4  \\\n",
       "id            ...                                                           \n",
       "0    Bassoon  ...  2f4cb3d51     2  Grandmaster         Cold     h      D   \n",
       "1      Piano  ...  f83c56c21     1  Grandmaster          Hot     a      A   \n",
       "2   Theremin  ...  ae6800dd0     1       Expert     Lava Hot     h      R   \n",
       "3       Oboe  ...  8270f0d71     1  Grandmaster  Boiling Hot     i      D   \n",
       "4       Oboe  ...  b164b72a7     1  Grandmaster     Freezing     a      R   \n",
       "\n",
       "   ord_5 day month target  \n",
       "id                         \n",
       "0     kr   2     2      0  \n",
       "1     bF   7     8      0  \n",
       "2     Jc   7     2      0  \n",
       "3     kW   2     1      1  \n",
       "4     qP   7     8      0  \n",
       "\n",
       "[5 rows x 24 columns]"
      ]
     },
     "execution_count": 5,
     "metadata": {},
     "output_type": "execute_result"
    }
   ],
   "source": [
    "train.head()"
   ]
  },
  {
   "cell_type": "code",
   "execution_count": 6,
   "metadata": {
    "execution": {
     "iopub.execute_input": "2022-11-19T11:40:08.392817Z",
     "iopub.status.busy": "2022-11-19T11:40:08.391781Z",
     "iopub.status.idle": "2022-11-19T11:40:08.415798Z",
     "shell.execute_reply": "2022-11-19T11:40:08.414689Z",
     "shell.execute_reply.started": "2022-11-19T11:40:08.392780Z"
    }
   },
   "outputs": [
    {
     "data": {
      "text/html": [
       "<div>\n",
       "<style scoped>\n",
       "    .dataframe tbody tr th:only-of-type {\n",
       "        vertical-align: middle;\n",
       "    }\n",
       "\n",
       "    .dataframe tbody tr th {\n",
       "        vertical-align: top;\n",
       "    }\n",
       "\n",
       "    .dataframe thead th {\n",
       "        text-align: right;\n",
       "    }\n",
       "</style>\n",
       "<table border=\"1\" class=\"dataframe\">\n",
       "  <thead>\n",
       "    <tr style=\"text-align: right;\">\n",
       "      <th>id</th>\n",
       "      <th>0</th>\n",
       "      <th>1</th>\n",
       "      <th>2</th>\n",
       "      <th>3</th>\n",
       "      <th>4</th>\n",
       "    </tr>\n",
       "  </thead>\n",
       "  <tbody>\n",
       "    <tr>\n",
       "      <th>bin_0</th>\n",
       "      <td>0</td>\n",
       "      <td>0</td>\n",
       "      <td>0</td>\n",
       "      <td>0</td>\n",
       "      <td>0</td>\n",
       "    </tr>\n",
       "    <tr>\n",
       "      <th>bin_1</th>\n",
       "      <td>0</td>\n",
       "      <td>1</td>\n",
       "      <td>0</td>\n",
       "      <td>1</td>\n",
       "      <td>0</td>\n",
       "    </tr>\n",
       "    <tr>\n",
       "      <th>bin_2</th>\n",
       "      <td>0</td>\n",
       "      <td>0</td>\n",
       "      <td>0</td>\n",
       "      <td>0</td>\n",
       "      <td>0</td>\n",
       "    </tr>\n",
       "    <tr>\n",
       "      <th>bin_3</th>\n",
       "      <td>T</td>\n",
       "      <td>T</td>\n",
       "      <td>F</td>\n",
       "      <td>F</td>\n",
       "      <td>F</td>\n",
       "    </tr>\n",
       "    <tr>\n",
       "      <th>bin_4</th>\n",
       "      <td>Y</td>\n",
       "      <td>Y</td>\n",
       "      <td>Y</td>\n",
       "      <td>Y</td>\n",
       "      <td>N</td>\n",
       "    </tr>\n",
       "    <tr>\n",
       "      <th>nom_0</th>\n",
       "      <td>Green</td>\n",
       "      <td>Green</td>\n",
       "      <td>Blue</td>\n",
       "      <td>Red</td>\n",
       "      <td>Red</td>\n",
       "    </tr>\n",
       "    <tr>\n",
       "      <th>nom_1</th>\n",
       "      <td>Triangle</td>\n",
       "      <td>Trapezoid</td>\n",
       "      <td>Trapezoid</td>\n",
       "      <td>Trapezoid</td>\n",
       "      <td>Trapezoid</td>\n",
       "    </tr>\n",
       "    <tr>\n",
       "      <th>nom_2</th>\n",
       "      <td>Snake</td>\n",
       "      <td>Hamster</td>\n",
       "      <td>Lion</td>\n",
       "      <td>Snake</td>\n",
       "      <td>Lion</td>\n",
       "    </tr>\n",
       "    <tr>\n",
       "      <th>nom_3</th>\n",
       "      <td>Finland</td>\n",
       "      <td>Russia</td>\n",
       "      <td>Russia</td>\n",
       "      <td>Canada</td>\n",
       "      <td>Canada</td>\n",
       "    </tr>\n",
       "    <tr>\n",
       "      <th>nom_4</th>\n",
       "      <td>Bassoon</td>\n",
       "      <td>Piano</td>\n",
       "      <td>Theremin</td>\n",
       "      <td>Oboe</td>\n",
       "      <td>Oboe</td>\n",
       "    </tr>\n",
       "    <tr>\n",
       "      <th>nom_5</th>\n",
       "      <td>50f116bcf</td>\n",
       "      <td>b3b4d25d0</td>\n",
       "      <td>3263bdce5</td>\n",
       "      <td>f12246592</td>\n",
       "      <td>5b0f5acd5</td>\n",
       "    </tr>\n",
       "    <tr>\n",
       "      <th>nom_6</th>\n",
       "      <td>3ac1b8814</td>\n",
       "      <td>fbcb50fc1</td>\n",
       "      <td>0922e3cb8</td>\n",
       "      <td>50d7ad46a</td>\n",
       "      <td>1fe17a1fd</td>\n",
       "    </tr>\n",
       "    <tr>\n",
       "      <th>nom_7</th>\n",
       "      <td>68f6ad3e9</td>\n",
       "      <td>3b6dd5612</td>\n",
       "      <td>a6a36f527</td>\n",
       "      <td>ec69236eb</td>\n",
       "      <td>04ddac2be</td>\n",
       "    </tr>\n",
       "    <tr>\n",
       "      <th>nom_8</th>\n",
       "      <td>c389000ab</td>\n",
       "      <td>4cd920251</td>\n",
       "      <td>de9c9f684</td>\n",
       "      <td>4ade6ab69</td>\n",
       "      <td>cb43ab175</td>\n",
       "    </tr>\n",
       "    <tr>\n",
       "      <th>nom_9</th>\n",
       "      <td>2f4cb3d51</td>\n",
       "      <td>f83c56c21</td>\n",
       "      <td>ae6800dd0</td>\n",
       "      <td>8270f0d71</td>\n",
       "      <td>b164b72a7</td>\n",
       "    </tr>\n",
       "    <tr>\n",
       "      <th>ord_0</th>\n",
       "      <td>2</td>\n",
       "      <td>1</td>\n",
       "      <td>1</td>\n",
       "      <td>1</td>\n",
       "      <td>1</td>\n",
       "    </tr>\n",
       "    <tr>\n",
       "      <th>ord_1</th>\n",
       "      <td>Grandmaster</td>\n",
       "      <td>Grandmaster</td>\n",
       "      <td>Expert</td>\n",
       "      <td>Grandmaster</td>\n",
       "      <td>Grandmaster</td>\n",
       "    </tr>\n",
       "    <tr>\n",
       "      <th>ord_2</th>\n",
       "      <td>Cold</td>\n",
       "      <td>Hot</td>\n",
       "      <td>Lava Hot</td>\n",
       "      <td>Boiling Hot</td>\n",
       "      <td>Freezing</td>\n",
       "    </tr>\n",
       "    <tr>\n",
       "      <th>ord_3</th>\n",
       "      <td>h</td>\n",
       "      <td>a</td>\n",
       "      <td>h</td>\n",
       "      <td>i</td>\n",
       "      <td>a</td>\n",
       "    </tr>\n",
       "    <tr>\n",
       "      <th>ord_4</th>\n",
       "      <td>D</td>\n",
       "      <td>A</td>\n",
       "      <td>R</td>\n",
       "      <td>D</td>\n",
       "      <td>R</td>\n",
       "    </tr>\n",
       "    <tr>\n",
       "      <th>ord_5</th>\n",
       "      <td>kr</td>\n",
       "      <td>bF</td>\n",
       "      <td>Jc</td>\n",
       "      <td>kW</td>\n",
       "      <td>qP</td>\n",
       "    </tr>\n",
       "    <tr>\n",
       "      <th>day</th>\n",
       "      <td>2</td>\n",
       "      <td>7</td>\n",
       "      <td>7</td>\n",
       "      <td>2</td>\n",
       "      <td>7</td>\n",
       "    </tr>\n",
       "    <tr>\n",
       "      <th>month</th>\n",
       "      <td>2</td>\n",
       "      <td>8</td>\n",
       "      <td>2</td>\n",
       "      <td>1</td>\n",
       "      <td>8</td>\n",
       "    </tr>\n",
       "    <tr>\n",
       "      <th>target</th>\n",
       "      <td>0</td>\n",
       "      <td>0</td>\n",
       "      <td>0</td>\n",
       "      <td>1</td>\n",
       "      <td>0</td>\n",
       "    </tr>\n",
       "  </tbody>\n",
       "</table>\n",
       "</div>"
      ],
      "text/plain": [
       "id                0            1          2            3            4\n",
       "bin_0             0            0          0            0            0\n",
       "bin_1             0            1          0            1            0\n",
       "bin_2             0            0          0            0            0\n",
       "bin_3             T            T          F            F            F\n",
       "bin_4             Y            Y          Y            Y            N\n",
       "nom_0         Green        Green       Blue          Red          Red\n",
       "nom_1      Triangle    Trapezoid  Trapezoid    Trapezoid    Trapezoid\n",
       "nom_2         Snake      Hamster       Lion        Snake         Lion\n",
       "nom_3       Finland       Russia     Russia       Canada       Canada\n",
       "nom_4       Bassoon        Piano   Theremin         Oboe         Oboe\n",
       "nom_5     50f116bcf    b3b4d25d0  3263bdce5    f12246592    5b0f5acd5\n",
       "nom_6     3ac1b8814    fbcb50fc1  0922e3cb8    50d7ad46a    1fe17a1fd\n",
       "nom_7     68f6ad3e9    3b6dd5612  a6a36f527    ec69236eb    04ddac2be\n",
       "nom_8     c389000ab    4cd920251  de9c9f684    4ade6ab69    cb43ab175\n",
       "nom_9     2f4cb3d51    f83c56c21  ae6800dd0    8270f0d71    b164b72a7\n",
       "ord_0             2            1          1            1            1\n",
       "ord_1   Grandmaster  Grandmaster     Expert  Grandmaster  Grandmaster\n",
       "ord_2          Cold          Hot   Lava Hot  Boiling Hot     Freezing\n",
       "ord_3             h            a          h            i            a\n",
       "ord_4             D            A          R            D            R\n",
       "ord_5            kr           bF         Jc           kW           qP\n",
       "day               2            7          7            2            7\n",
       "month             2            8          2            1            8\n",
       "target            0            0          0            1            0"
      ]
     },
     "execution_count": 6,
     "metadata": {},
     "output_type": "execute_result"
    }
   ],
   "source": [
    "train.head().T"
   ]
  },
  {
   "cell_type": "code",
   "execution_count": 7,
   "metadata": {
    "execution": {
     "iopub.execute_input": "2022-11-19T11:40:08.421678Z",
     "iopub.status.busy": "2022-11-19T11:40:08.420788Z",
     "iopub.status.idle": "2022-11-19T11:40:08.432762Z",
     "shell.execute_reply": "2022-11-19T11:40:08.431497Z",
     "shell.execute_reply.started": "2022-11-19T11:40:08.421610Z"
    }
   },
   "outputs": [
    {
     "data": {
      "text/html": [
       "<div>\n",
       "<style scoped>\n",
       "    .dataframe tbody tr th:only-of-type {\n",
       "        vertical-align: middle;\n",
       "    }\n",
       "\n",
       "    .dataframe tbody tr th {\n",
       "        vertical-align: top;\n",
       "    }\n",
       "\n",
       "    .dataframe thead th {\n",
       "        text-align: right;\n",
       "    }\n",
       "</style>\n",
       "<table border=\"1\" class=\"dataframe\">\n",
       "  <thead>\n",
       "    <tr style=\"text-align: right;\">\n",
       "      <th></th>\n",
       "      <th>target</th>\n",
       "    </tr>\n",
       "    <tr>\n",
       "      <th>id</th>\n",
       "      <th></th>\n",
       "    </tr>\n",
       "  </thead>\n",
       "  <tbody>\n",
       "    <tr>\n",
       "      <th>300000</th>\n",
       "      <td>0.5</td>\n",
       "    </tr>\n",
       "    <tr>\n",
       "      <th>300001</th>\n",
       "      <td>0.5</td>\n",
       "    </tr>\n",
       "    <tr>\n",
       "      <th>300002</th>\n",
       "      <td>0.5</td>\n",
       "    </tr>\n",
       "    <tr>\n",
       "      <th>300003</th>\n",
       "      <td>0.5</td>\n",
       "    </tr>\n",
       "    <tr>\n",
       "      <th>300004</th>\n",
       "      <td>0.5</td>\n",
       "    </tr>\n",
       "  </tbody>\n",
       "</table>\n",
       "</div>"
      ],
      "text/plain": [
       "        target\n",
       "id            \n",
       "300000     0.5\n",
       "300001     0.5\n",
       "300002     0.5\n",
       "300003     0.5\n",
       "300004     0.5"
      ]
     },
     "execution_count": 7,
     "metadata": {},
     "output_type": "execute_result"
    }
   ],
   "source": [
    "submission.head()"
   ]
  },
  {
   "cell_type": "code",
   "execution_count": 8,
   "metadata": {
    "execution": {
     "iopub.execute_input": "2022-11-19T11:40:08.434379Z",
     "iopub.status.busy": "2022-11-19T11:40:08.434045Z",
     "iopub.status.idle": "2022-11-19T11:40:09.073504Z",
     "shell.execute_reply": "2022-11-19T11:40:09.072369Z",
     "shell.execute_reply.started": "2022-11-19T11:40:08.434321Z"
    }
   },
   "outputs": [
    {
     "name": "stdout",
     "output_type": "stream",
     "text": [
      "데이터 세트 형상: (300000, 24)\n"
     ]
    },
    {
     "data": {
      "text/html": [
       "<div>\n",
       "<style scoped>\n",
       "    .dataframe tbody tr th:only-of-type {\n",
       "        vertical-align: middle;\n",
       "    }\n",
       "\n",
       "    .dataframe tbody tr th {\n",
       "        vertical-align: top;\n",
       "    }\n",
       "\n",
       "    .dataframe thead th {\n",
       "        text-align: right;\n",
       "    }\n",
       "</style>\n",
       "<table border=\"1\" class=\"dataframe\">\n",
       "  <thead>\n",
       "    <tr style=\"text-align: right;\">\n",
       "      <th></th>\n",
       "      <th>피처</th>\n",
       "      <th>데이터 타입</th>\n",
       "      <th>결측값 개수</th>\n",
       "      <th>고윳값 개수</th>\n",
       "      <th>첫 번째 값</th>\n",
       "      <th>두 번째 값</th>\n",
       "      <th>세 번째 값</th>\n",
       "    </tr>\n",
       "  </thead>\n",
       "  <tbody>\n",
       "    <tr>\n",
       "      <th>0</th>\n",
       "      <td>bin_0</td>\n",
       "      <td>int64</td>\n",
       "      <td>0</td>\n",
       "      <td>2</td>\n",
       "      <td>0</td>\n",
       "      <td>0</td>\n",
       "      <td>0</td>\n",
       "    </tr>\n",
       "    <tr>\n",
       "      <th>1</th>\n",
       "      <td>bin_1</td>\n",
       "      <td>int64</td>\n",
       "      <td>0</td>\n",
       "      <td>2</td>\n",
       "      <td>0</td>\n",
       "      <td>1</td>\n",
       "      <td>0</td>\n",
       "    </tr>\n",
       "    <tr>\n",
       "      <th>2</th>\n",
       "      <td>bin_2</td>\n",
       "      <td>int64</td>\n",
       "      <td>0</td>\n",
       "      <td>2</td>\n",
       "      <td>0</td>\n",
       "      <td>0</td>\n",
       "      <td>0</td>\n",
       "    </tr>\n",
       "    <tr>\n",
       "      <th>3</th>\n",
       "      <td>bin_3</td>\n",
       "      <td>object</td>\n",
       "      <td>0</td>\n",
       "      <td>2</td>\n",
       "      <td>T</td>\n",
       "      <td>T</td>\n",
       "      <td>F</td>\n",
       "    </tr>\n",
       "    <tr>\n",
       "      <th>4</th>\n",
       "      <td>bin_4</td>\n",
       "      <td>object</td>\n",
       "      <td>0</td>\n",
       "      <td>2</td>\n",
       "      <td>Y</td>\n",
       "      <td>Y</td>\n",
       "      <td>Y</td>\n",
       "    </tr>\n",
       "    <tr>\n",
       "      <th>5</th>\n",
       "      <td>nom_0</td>\n",
       "      <td>object</td>\n",
       "      <td>0</td>\n",
       "      <td>3</td>\n",
       "      <td>Green</td>\n",
       "      <td>Green</td>\n",
       "      <td>Blue</td>\n",
       "    </tr>\n",
       "    <tr>\n",
       "      <th>6</th>\n",
       "      <td>nom_1</td>\n",
       "      <td>object</td>\n",
       "      <td>0</td>\n",
       "      <td>6</td>\n",
       "      <td>Triangle</td>\n",
       "      <td>Trapezoid</td>\n",
       "      <td>Trapezoid</td>\n",
       "    </tr>\n",
       "    <tr>\n",
       "      <th>7</th>\n",
       "      <td>nom_2</td>\n",
       "      <td>object</td>\n",
       "      <td>0</td>\n",
       "      <td>6</td>\n",
       "      <td>Snake</td>\n",
       "      <td>Hamster</td>\n",
       "      <td>Lion</td>\n",
       "    </tr>\n",
       "    <tr>\n",
       "      <th>8</th>\n",
       "      <td>nom_3</td>\n",
       "      <td>object</td>\n",
       "      <td>0</td>\n",
       "      <td>6</td>\n",
       "      <td>Finland</td>\n",
       "      <td>Russia</td>\n",
       "      <td>Russia</td>\n",
       "    </tr>\n",
       "    <tr>\n",
       "      <th>9</th>\n",
       "      <td>nom_4</td>\n",
       "      <td>object</td>\n",
       "      <td>0</td>\n",
       "      <td>4</td>\n",
       "      <td>Bassoon</td>\n",
       "      <td>Piano</td>\n",
       "      <td>Theremin</td>\n",
       "    </tr>\n",
       "    <tr>\n",
       "      <th>10</th>\n",
       "      <td>nom_5</td>\n",
       "      <td>object</td>\n",
       "      <td>0</td>\n",
       "      <td>222</td>\n",
       "      <td>50f116bcf</td>\n",
       "      <td>b3b4d25d0</td>\n",
       "      <td>3263bdce5</td>\n",
       "    </tr>\n",
       "    <tr>\n",
       "      <th>11</th>\n",
       "      <td>nom_6</td>\n",
       "      <td>object</td>\n",
       "      <td>0</td>\n",
       "      <td>522</td>\n",
       "      <td>3ac1b8814</td>\n",
       "      <td>fbcb50fc1</td>\n",
       "      <td>0922e3cb8</td>\n",
       "    </tr>\n",
       "    <tr>\n",
       "      <th>12</th>\n",
       "      <td>nom_7</td>\n",
       "      <td>object</td>\n",
       "      <td>0</td>\n",
       "      <td>1220</td>\n",
       "      <td>68f6ad3e9</td>\n",
       "      <td>3b6dd5612</td>\n",
       "      <td>a6a36f527</td>\n",
       "    </tr>\n",
       "    <tr>\n",
       "      <th>13</th>\n",
       "      <td>nom_8</td>\n",
       "      <td>object</td>\n",
       "      <td>0</td>\n",
       "      <td>2215</td>\n",
       "      <td>c389000ab</td>\n",
       "      <td>4cd920251</td>\n",
       "      <td>de9c9f684</td>\n",
       "    </tr>\n",
       "    <tr>\n",
       "      <th>14</th>\n",
       "      <td>nom_9</td>\n",
       "      <td>object</td>\n",
       "      <td>0</td>\n",
       "      <td>11981</td>\n",
       "      <td>2f4cb3d51</td>\n",
       "      <td>f83c56c21</td>\n",
       "      <td>ae6800dd0</td>\n",
       "    </tr>\n",
       "    <tr>\n",
       "      <th>15</th>\n",
       "      <td>ord_0</td>\n",
       "      <td>int64</td>\n",
       "      <td>0</td>\n",
       "      <td>3</td>\n",
       "      <td>2</td>\n",
       "      <td>1</td>\n",
       "      <td>1</td>\n",
       "    </tr>\n",
       "    <tr>\n",
       "      <th>16</th>\n",
       "      <td>ord_1</td>\n",
       "      <td>object</td>\n",
       "      <td>0</td>\n",
       "      <td>5</td>\n",
       "      <td>Grandmaster</td>\n",
       "      <td>Grandmaster</td>\n",
       "      <td>Expert</td>\n",
       "    </tr>\n",
       "    <tr>\n",
       "      <th>17</th>\n",
       "      <td>ord_2</td>\n",
       "      <td>object</td>\n",
       "      <td>0</td>\n",
       "      <td>6</td>\n",
       "      <td>Cold</td>\n",
       "      <td>Hot</td>\n",
       "      <td>Lava Hot</td>\n",
       "    </tr>\n",
       "    <tr>\n",
       "      <th>18</th>\n",
       "      <td>ord_3</td>\n",
       "      <td>object</td>\n",
       "      <td>0</td>\n",
       "      <td>15</td>\n",
       "      <td>h</td>\n",
       "      <td>a</td>\n",
       "      <td>h</td>\n",
       "    </tr>\n",
       "    <tr>\n",
       "      <th>19</th>\n",
       "      <td>ord_4</td>\n",
       "      <td>object</td>\n",
       "      <td>0</td>\n",
       "      <td>26</td>\n",
       "      <td>D</td>\n",
       "      <td>A</td>\n",
       "      <td>R</td>\n",
       "    </tr>\n",
       "    <tr>\n",
       "      <th>20</th>\n",
       "      <td>ord_5</td>\n",
       "      <td>object</td>\n",
       "      <td>0</td>\n",
       "      <td>192</td>\n",
       "      <td>kr</td>\n",
       "      <td>bF</td>\n",
       "      <td>Jc</td>\n",
       "    </tr>\n",
       "    <tr>\n",
       "      <th>21</th>\n",
       "      <td>day</td>\n",
       "      <td>int64</td>\n",
       "      <td>0</td>\n",
       "      <td>7</td>\n",
       "      <td>2</td>\n",
       "      <td>7</td>\n",
       "      <td>7</td>\n",
       "    </tr>\n",
       "    <tr>\n",
       "      <th>22</th>\n",
       "      <td>month</td>\n",
       "      <td>int64</td>\n",
       "      <td>0</td>\n",
       "      <td>12</td>\n",
       "      <td>2</td>\n",
       "      <td>8</td>\n",
       "      <td>2</td>\n",
       "    </tr>\n",
       "    <tr>\n",
       "      <th>23</th>\n",
       "      <td>target</td>\n",
       "      <td>int64</td>\n",
       "      <td>0</td>\n",
       "      <td>2</td>\n",
       "      <td>0</td>\n",
       "      <td>0</td>\n",
       "      <td>0</td>\n",
       "    </tr>\n",
       "  </tbody>\n",
       "</table>\n",
       "</div>"
      ],
      "text/plain": [
       "        피처  데이터 타입  결측값 개수  고윳값 개수       첫 번째 값       두 번째 값     세 번째 값\n",
       "0    bin_0   int64       0       2            0            0          0\n",
       "1    bin_1   int64       0       2            0            1          0\n",
       "2    bin_2   int64       0       2            0            0          0\n",
       "3    bin_3  object       0       2            T            T          F\n",
       "4    bin_4  object       0       2            Y            Y          Y\n",
       "5    nom_0  object       0       3        Green        Green       Blue\n",
       "6    nom_1  object       0       6     Triangle    Trapezoid  Trapezoid\n",
       "7    nom_2  object       0       6        Snake      Hamster       Lion\n",
       "8    nom_3  object       0       6      Finland       Russia     Russia\n",
       "9    nom_4  object       0       4      Bassoon        Piano   Theremin\n",
       "10   nom_5  object       0     222    50f116bcf    b3b4d25d0  3263bdce5\n",
       "11   nom_6  object       0     522    3ac1b8814    fbcb50fc1  0922e3cb8\n",
       "12   nom_7  object       0    1220    68f6ad3e9    3b6dd5612  a6a36f527\n",
       "13   nom_8  object       0    2215    c389000ab    4cd920251  de9c9f684\n",
       "14   nom_9  object       0   11981    2f4cb3d51    f83c56c21  ae6800dd0\n",
       "15   ord_0   int64       0       3            2            1          1\n",
       "16   ord_1  object       0       5  Grandmaster  Grandmaster     Expert\n",
       "17   ord_2  object       0       6         Cold          Hot   Lava Hot\n",
       "18   ord_3  object       0      15            h            a          h\n",
       "19   ord_4  object       0      26            D            A          R\n",
       "20   ord_5  object       0     192           kr           bF         Jc\n",
       "21     day   int64       0       7            2            7          7\n",
       "22   month   int64       0      12            2            8          2\n",
       "23  target   int64       0       2            0            0          0"
      ]
     },
     "execution_count": 8,
     "metadata": {},
     "output_type": "execute_result"
    }
   ],
   "source": [
    "def resumetable(df):\n",
    "    print(f'데이터 세트 형상: {df.shape}')\n",
    "    summary = pd.DataFrame(df.dtypes, columns=['데이터 타입'])\n",
    "    summary = summary.reset_index()\n",
    "    summary = summary.rename(columns={'index': '피처'})\n",
    "    summary['결측값 개수'] = df.isnull().sum().values\n",
    "    summary['고윳값 개수'] = df.nunique().values\n",
    "    summary['첫 번째 값'] = df.loc[0].values\n",
    "    summary['두 번째 값'] = df.loc[1].values\n",
    "    summary['세 번째 값'] = df.loc[2].values\n",
    "    \n",
    "    return summary\n",
    "\n",
    "resumetable(train)"
   ]
  },
  {
   "cell_type": "code",
   "execution_count": 9,
   "metadata": {
    "execution": {
     "iopub.execute_input": "2022-11-19T11:40:09.075926Z",
     "iopub.status.busy": "2022-11-19T11:40:09.075225Z",
     "iopub.status.idle": "2022-11-19T11:40:09.192840Z",
     "shell.execute_reply": "2022-11-19T11:40:09.191533Z",
     "shell.execute_reply.started": "2022-11-19T11:40:09.075882Z"
    }
   },
   "outputs": [
    {
     "name": "stdout",
     "output_type": "stream",
     "text": [
      "ord_0 고윳값: [2 1 3]\n",
      "ord_1 고윳값: ['Grandmaster' 'Expert' 'Novice' 'Contributor' 'Master']\n",
      "ord_2 고윳값: ['Cold' 'Hot' 'Lava Hot' 'Boiling Hot' 'Freezing' 'Warm']\n",
      "ord_3 고윳값: ['h' 'a' 'i' 'j' 'g' 'e' 'd' 'b' 'k' 'f' 'l' 'n' 'o' 'c' 'm']\n",
      "ord_4 고윳값: ['D' 'A' 'R' 'E' 'P' 'K' 'V' 'Q' 'Z' 'L' 'F' 'T' 'U' 'S' 'Y' 'B' 'H' 'J'\n",
      " 'N' 'G' 'W' 'I' 'O' 'C' 'X' 'M']\n",
      "ord_5 고윳값: ['kr' 'bF' 'Jc' 'kW' 'qP' 'PZ' 'wy' 'Ed' 'qo' 'CZ' 'qX' 'su' 'dP' 'aP'\n",
      " 'MV' 'oC' 'RL' 'fh' 'gJ' 'Hj' 'TR' 'CL' 'Sc' 'eQ' 'kC' 'qK' 'dh' 'gM'\n",
      " 'Jf' 'fO' 'Eg' 'KZ' 'Vx' 'Fo' 'sV' 'eb' 'YC' 'RG' 'Ye' 'qA' 'lL' 'Qh'\n",
      " 'Bd' 'be' 'hT' 'lF' 'nX' 'kK' 'av' 'uS' 'Jt' 'PA' 'Er' 'Qb' 'od' 'ut'\n",
      " 'Dx' 'Xi' 'on' 'Dc' 'sD' 'rZ' 'Uu' 'sn' 'yc' 'Gb' 'Kq' 'dQ' 'hp' 'kL'\n",
      " 'je' 'CU' 'Fd' 'PQ' 'Bn' 'ex' 'hh' 'ac' 'rp' 'dE' 'oG' 'oK' 'cp' 'mm'\n",
      " 'vK' 'ek' 'dO' 'XI' 'CM' 'Vf' 'aO' 'qv' 'jp' 'Zq' 'Qo' 'DN' 'TZ' 'ke'\n",
      " 'cG' 'tP' 'ud' 'tv' 'aM' 'xy' 'lx' 'To' 'uy' 'ZS' 'vy' 'ZR' 'AP' 'GJ'\n",
      " 'Wv' 'ri' 'qw' 'Xh' 'FI' 'nh' 'KR' 'dB' 'BE' 'Bb' 'mc' 'MC' 'tM' 'NV'\n",
      " 'ih' 'IK' 'Ob' 'RP' 'dN' 'us' 'dZ' 'yN' 'Nf' 'QM' 'jV' 'sY' 'wu' 'SB'\n",
      " 'UO' 'Mx' 'JX' 'Ry' 'Uk' 'uJ' 'LE' 'ps' 'kE' 'MO' 'kw' 'yY' 'zU' 'bJ'\n",
      " 'Kf' 'ck' 'mb' 'Os' 'Ps' 'Ml' 'Ai' 'Wc' 'GD' 'll' 'aF' 'iT' 'cA' 'WE'\n",
      " 'Gx' 'Nk' 'OR' 'Rm' 'BA' 'eG' 'cW' 'jS' 'DH' 'hL' 'Mf' 'Yb' 'Aj' 'oH'\n",
      " 'Zc' 'qJ' 'eg' 'xP' 'vq' 'Id' 'pa' 'ux' 'kU' 'Cl']\n"
     ]
    }
   ],
   "source": [
    "for i in range(6):\n",
    "    feature = 'ord_' + str(i)\n",
    "    print(f'{feature} 고윳값: {train[feature].unique()}')"
   ]
  },
  {
   "cell_type": "code",
   "execution_count": 10,
   "metadata": {
    "execution": {
     "iopub.execute_input": "2022-11-19T11:40:09.195375Z",
     "iopub.status.busy": "2022-11-19T11:40:09.194660Z",
     "iopub.status.idle": "2022-11-19T11:40:09.208191Z",
     "shell.execute_reply": "2022-11-19T11:40:09.207084Z",
     "shell.execute_reply.started": "2022-11-19T11:40:09.195329Z"
    }
   },
   "outputs": [
    {
     "name": "stdout",
     "output_type": "stream",
     "text": [
      "day 고윳값: [2 7 5 4 3 1 6]\n",
      "month 고윳값: [ 2  8  1  4 10  3  7  9 12 11  5  6]\n",
      "target 고윳값: [0 1]\n"
     ]
    }
   ],
   "source": [
    "print('day 고윳값:', train['day'].unique())\n",
    "print('month 고윳값:', train['month'].unique())\n",
    "print('target 고윳값:', train['target'].unique())"
   ]
  },
  {
   "cell_type": "code",
   "execution_count": 11,
   "metadata": {
    "execution": {
     "iopub.execute_input": "2022-11-19T11:40:09.210077Z",
     "iopub.status.busy": "2022-11-19T11:40:09.209645Z",
     "iopub.status.idle": "2022-11-19T11:40:09.218633Z",
     "shell.execute_reply": "2022-11-19T11:40:09.217141Z",
     "shell.execute_reply.started": "2022-11-19T11:40:09.210035Z"
    }
   },
   "outputs": [],
   "source": [
    "import seaborn as sns\n",
    "import matplotlib as mpl\n",
    "import matplotlib.pyplot as plt\n",
    "%matplotlib inline"
   ]
  },
  {
   "cell_type": "code",
   "execution_count": 12,
   "metadata": {
    "execution": {
     "iopub.execute_input": "2022-11-19T11:40:09.220850Z",
     "iopub.status.busy": "2022-11-19T11:40:09.220510Z",
     "iopub.status.idle": "2022-11-19T11:40:09.392734Z",
     "shell.execute_reply": "2022-11-19T11:40:09.391456Z",
     "shell.execute_reply.started": "2022-11-19T11:40:09.220821Z"
    }
   },
   "outputs": [
    {
     "data": {
      "image/png": "[encoded data removed]",
      "text/plain": [
       "<Figure size 700x600 with 1 Axes>"
      ]
     },
     "metadata": {},
     "output_type": "display_data"
    }
   ],
   "source": [
    "mpl.rc('font', size=15) # 폰트 크기 설정\n",
    "plt.figure(figsize=(7, 6)) # Figure 크기 설정\n",
    "\n",
    "# 타깃값 분포 카운트플롯\n",
    "ax = sns.countplot(x='target', data=train)\n",
    "ax.set(title='Target Distribution');"
   ]
  },
  {
   "cell_type": "code",
   "execution_count": 13,
   "metadata": {
    "execution": {
     "iopub.execute_input": "2022-11-19T11:40:09.395574Z",
     "iopub.status.busy": "2022-11-19T11:40:09.394348Z",
     "iopub.status.idle": "2022-11-19T11:40:09.402901Z",
     "shell.execute_reply": "2022-11-19T11:40:09.401693Z",
     "shell.execute_reply.started": "2022-11-19T11:40:09.395525Z"
    }
   },
   "outputs": [
    {
     "name": "stdout",
     "output_type": "stream",
     "text": [
      "사각형 높이: 208236.0\n",
      "사각형 너비: 0.8\n",
      "사각형 왼쪽 테두리의 x축 위치: -0.4\n"
     ]
    }
   ],
   "source": [
    "rectangle = ax.patches[0] # 첫 번째 Rectangle 객체\n",
    "print('사각형 높이:', rectangle.get_height())\n",
    "print('사각형 너비:', rectangle.get_width())\n",
    "print('사각형 왼쪽 테두리의 x축 위치:', rectangle.get_x())"
   ]
  },
  {
   "cell_type": "code",
   "execution_count": 14,
   "metadata": {
    "execution": {
     "iopub.execute_input": "2022-11-19T11:40:09.404865Z",
     "iopub.status.busy": "2022-11-19T11:40:09.404481Z",
     "iopub.status.idle": "2022-11-19T11:40:09.414552Z",
     "shell.execute_reply": "2022-11-19T11:40:09.413646Z",
     "shell.execute_reply.started": "2022-11-19T11:40:09.404825Z"
    }
   },
   "outputs": [
    {
     "name": "stdout",
     "output_type": "stream",
     "text": [
      "텍스트 위치의 x좌표: 0.0\n",
      "텍스트 위치의 y좌표: 208536.0\n"
     ]
    }
   ],
   "source": [
    "print('텍스트 위치의 x좌표:', rectangle.get_x() + rectangle.get_width()/2.0)\n",
    "print('텍스트 위치의 y좌표:', rectangle.get_height() + len(train)*0.001)"
   ]
  },
  {
   "cell_type": "code",
   "execution_count": 15,
   "metadata": {
    "execution": {
     "iopub.execute_input": "2022-11-19T11:40:09.416697Z",
     "iopub.status.busy": "2022-11-19T11:40:09.415769Z",
     "iopub.status.idle": "2022-11-19T11:40:09.635915Z",
     "shell.execute_reply": "2022-11-19T11:40:09.634610Z",
     "shell.execute_reply.started": "2022-11-19T11:40:09.416664Z"
    }
   },
   "outputs": [
    {
     "data": {
      "image/png": "[encoded data removed]",
      "text/plain": [
       "<Figure size 700x600 with 1 Axes>"
      ]
     },
     "metadata": {},
     "output_type": "display_data"
    }
   ],
   "source": [
    "def write_percent(ax, total_size):\n",
    "    '''도형 객체를 순회하며 막대 상단에 타깃값 비율 표시'''\n",
    "    for patch in ax.patches:\n",
    "        height = patch.get_height()     # 도형 높이(데이터 개수)\n",
    "        width = patch.get_width()       # 도형 너비\n",
    "        left_coord = patch.get_x()      # 도형 왼쪽 테두리의 x축 위치\n",
    "        percent = height/total_size*100 # 타깃값 비율\n",
    "        \n",
    "        # (x, y) 좌표에 텍스트 입력 \n",
    "        ax.text(x=left_coord + width/2.0,    # x축 위치\n",
    "                y=height + total_size*0.001, # y축 위치\n",
    "                s=f'{percent:1.1f}%',        # 입력 텍스트\n",
    "                ha='center')                 # 가운데 정렬\n",
    "\n",
    "plt.figure(figsize=(7, 6))\n",
    "\n",
    "ax = sns.countplot(x='target', data=train)\n",
    "write_percent(ax, len(train)) # 비율 표시\n",
    "ax.set_title('Target Distribution');"
   ]
  },
  {
   "cell_type": "code",
   "execution_count": 16,
   "metadata": {
    "execution": {
     "iopub.execute_input": "2022-11-19T11:40:09.641249Z",
     "iopub.status.busy": "2022-11-19T11:40:09.640901Z",
     "iopub.status.idle": "2022-11-19T11:40:11.157337Z",
     "shell.execute_reply": "2022-11-19T11:40:11.156161Z",
     "shell.execute_reply.started": "2022-11-19T11:40:09.641219Z"
    }
   },
   "outputs": [
    {
     "data": {
      "image/png": "[encoded data removed]",
      "text/plain": [
       "<Figure size 1000x1600 with 5 Axes>"
      ]
     },
     "metadata": {},
     "output_type": "display_data"
    }
   ],
   "source": [
    "import matplotlib.gridspec as gridspec # 여러 그래프를 격자 형태로 배치\n",
    "\n",
    "# 3행 2열 틀(Figure) 준비\n",
    "mpl.rc('font', size=12)\n",
    "grid = gridspec.GridSpec(3, 2) # 그래프(서브플롯)를 3행 2열로 배치\n",
    "plt.figure(figsize=(10, 16))   # 전체 Figure 크기 설정\n",
    "plt.subplots_adjust(wspace=0.4, hspace=0.3) # 서브플롯 간 좌우/상하 여백 설정\n",
    "\n",
    "# 서브플롯 그리기\n",
    "bin_features = ['bin_0', 'bin_1', 'bin_2', 'bin_3', 'bin_4'] # 피처 목록\n",
    "\n",
    "for idx, feature in enumerate(bin_features): \n",
    "    ax = plt.subplot(grid[idx]) \n",
    "    \n",
    "    # ax축에 타깃값 분포 카운트플롯 그리기\n",
    "    sns.countplot(x=feature,\n",
    "                  data=train,\n",
    "                  hue='target',\n",
    "                  palette='pastel', # 그래프 색상 설정\n",
    "                  ax=ax)\n",
    "    \n",
    "    ax.set_title(f'{feature} Distribution by Target') # 그래프 제목 설정\n",
    "    write_percent(ax, len(train))                     # 비율 표시"
   ]
  },
  {
   "cell_type": "code",
   "execution_count": 17,
   "metadata": {
    "execution": {
     "iopub.execute_input": "2022-11-19T11:40:11.159348Z",
     "iopub.status.busy": "2022-11-19T11:40:11.158902Z",
     "iopub.status.idle": "2022-11-19T11:40:11.232741Z",
     "shell.execute_reply": "2022-11-19T11:40:11.231480Z",
     "shell.execute_reply.started": "2022-11-19T11:40:11.159304Z"
    }
   },
   "outputs": [
    {
     "data": {
      "text/html": [
       "<div>\n",
       "<style scoped>\n",
       "    .dataframe tbody tr th:only-of-type {\n",
       "        vertical-align: middle;\n",
       "    }\n",
       "\n",
       "    .dataframe tbody tr th {\n",
       "        vertical-align: top;\n",
       "    }\n",
       "\n",
       "    .dataframe thead th {\n",
       "        text-align: right;\n",
       "    }\n",
       "</style>\n",
       "<table border=\"1\" class=\"dataframe\">\n",
       "  <thead>\n",
       "    <tr style=\"text-align: right;\">\n",
       "      <th>target</th>\n",
       "      <th>0</th>\n",
       "      <th>1</th>\n",
       "    </tr>\n",
       "    <tr>\n",
       "      <th>nom_0</th>\n",
       "      <th></th>\n",
       "      <th></th>\n",
       "    </tr>\n",
       "  </thead>\n",
       "  <tbody>\n",
       "    <tr>\n",
       "      <th>Blue</th>\n",
       "      <td>72914</td>\n",
       "      <td>23252</td>\n",
       "    </tr>\n",
       "    <tr>\n",
       "      <th>Green</th>\n",
       "      <td>85682</td>\n",
       "      <td>41659</td>\n",
       "    </tr>\n",
       "    <tr>\n",
       "      <th>Red</th>\n",
       "      <td>49640</td>\n",
       "      <td>26853</td>\n",
       "    </tr>\n",
       "  </tbody>\n",
       "</table>\n",
       "</div>"
      ],
      "text/plain": [
       "target      0      1\n",
       "nom_0               \n",
       "Blue    72914  23252\n",
       "Green   85682  41659\n",
       "Red     49640  26853"
      ]
     },
     "execution_count": 17,
     "metadata": {},
     "output_type": "execute_result"
    }
   ],
   "source": [
    "pd.crosstab(train['nom_0'], train['target'])"
   ]
  },
  {
   "cell_type": "code",
   "execution_count": 18,
   "metadata": {
    "execution": {
     "iopub.execute_input": "2022-11-19T11:40:11.234952Z",
     "iopub.status.busy": "2022-11-19T11:40:11.234253Z",
     "iopub.status.idle": "2022-11-19T11:40:11.306686Z",
     "shell.execute_reply": "2022-11-19T11:40:11.305387Z",
     "shell.execute_reply.started": "2022-11-19T11:40:11.234914Z"
    }
   },
   "outputs": [
    {
     "data": {
      "text/html": [
       "<div>\n",
       "<style scoped>\n",
       "    .dataframe tbody tr th:only-of-type {\n",
       "        vertical-align: middle;\n",
       "    }\n",
       "\n",
       "    .dataframe tbody tr th {\n",
       "        vertical-align: top;\n",
       "    }\n",
       "\n",
       "    .dataframe thead th {\n",
       "        text-align: right;\n",
       "    }\n",
       "</style>\n",
       "<table border=\"1\" class=\"dataframe\">\n",
       "  <thead>\n",
       "    <tr style=\"text-align: right;\">\n",
       "      <th>target</th>\n",
       "      <th>0</th>\n",
       "      <th>1</th>\n",
       "    </tr>\n",
       "    <tr>\n",
       "      <th>nom_0</th>\n",
       "      <th></th>\n",
       "      <th></th>\n",
       "    </tr>\n",
       "  </thead>\n",
       "  <tbody>\n",
       "    <tr>\n",
       "      <th>Blue</th>\n",
       "      <td>75.820976</td>\n",
       "      <td>24.179024</td>\n",
       "    </tr>\n",
       "    <tr>\n",
       "      <th>Green</th>\n",
       "      <td>67.285478</td>\n",
       "      <td>32.714522</td>\n",
       "    </tr>\n",
       "    <tr>\n",
       "      <th>Red</th>\n",
       "      <td>64.894827</td>\n",
       "      <td>35.105173</td>\n",
       "    </tr>\n",
       "  </tbody>\n",
       "</table>\n",
       "</div>"
      ],
      "text/plain": [
       "target          0          1\n",
       "nom_0                       \n",
       "Blue    75.820976  24.179024\n",
       "Green   67.285478  32.714522\n",
       "Red     64.894827  35.105173"
      ]
     },
     "execution_count": 18,
     "metadata": {},
     "output_type": "execute_result"
    }
   ],
   "source": [
    "# 정규화 후 비율을 백분율로 표현\n",
    "crosstab = pd.crosstab(train['nom_0'], train['target'], normalize='index')*100\n",
    "crosstab"
   ]
  },
  {
   "cell_type": "code",
   "execution_count": 19,
   "metadata": {
    "execution": {
     "iopub.execute_input": "2022-11-19T11:40:11.308457Z",
     "iopub.status.busy": "2022-11-19T11:40:11.308089Z",
     "iopub.status.idle": "2022-11-19T11:40:11.314675Z",
     "shell.execute_reply": "2022-11-19T11:40:11.313413Z",
     "shell.execute_reply.started": "2022-11-19T11:40:11.308424Z"
    }
   },
   "outputs": [],
   "source": [
    "def get_crosstab(df, feature):\n",
    "    crosstab = pd.crosstab(df[feature], df['target'], normalize='index')*100\n",
    "    crosstab = crosstab.reset_index()\n",
    "    return crosstab"
   ]
  },
  {
   "cell_type": "code",
   "execution_count": 20,
   "metadata": {
    "execution": {
     "iopub.execute_input": "2022-11-19T11:40:11.316253Z",
     "iopub.status.busy": "2022-11-19T11:40:11.315941Z",
     "iopub.status.idle": "2022-11-19T11:40:11.397018Z",
     "shell.execute_reply": "2022-11-19T11:40:11.395847Z",
     "shell.execute_reply.started": "2022-11-19T11:40:11.316224Z"
    }
   },
   "outputs": [
    {
     "data": {
      "text/html": [
       "<div>\n",
       "<style scoped>\n",
       "    .dataframe tbody tr th:only-of-type {\n",
       "        vertical-align: middle;\n",
       "    }\n",
       "\n",
       "    .dataframe tbody tr th {\n",
       "        vertical-align: top;\n",
       "    }\n",
       "\n",
       "    .dataframe thead th {\n",
       "        text-align: right;\n",
       "    }\n",
       "</style>\n",
       "<table border=\"1\" class=\"dataframe\">\n",
       "  <thead>\n",
       "    <tr style=\"text-align: right;\">\n",
       "      <th>target</th>\n",
       "      <th>nom_0</th>\n",
       "      <th>0</th>\n",
       "      <th>1</th>\n",
       "    </tr>\n",
       "  </thead>\n",
       "  <tbody>\n",
       "    <tr>\n",
       "      <th>0</th>\n",
       "      <td>Blue</td>\n",
       "      <td>75.820976</td>\n",
       "      <td>24.179024</td>\n",
       "    </tr>\n",
       "    <tr>\n",
       "      <th>1</th>\n",
       "      <td>Green</td>\n",
       "      <td>67.285478</td>\n",
       "      <td>32.714522</td>\n",
       "    </tr>\n",
       "    <tr>\n",
       "      <th>2</th>\n",
       "      <td>Red</td>\n",
       "      <td>64.894827</td>\n",
       "      <td>35.105173</td>\n",
       "    </tr>\n",
       "  </tbody>\n",
       "</table>\n",
       "</div>"
      ],
      "text/plain": [
       "target  nom_0          0          1\n",
       "0        Blue  75.820976  24.179024\n",
       "1       Green  67.285478  32.714522\n",
       "2         Red  64.894827  35.105173"
      ]
     },
     "execution_count": 20,
     "metadata": {},
     "output_type": "execute_result"
    }
   ],
   "source": [
    "crosstab = get_crosstab(train, 'nom_0')\n",
    "crosstab"
   ]
  },
  {
   "cell_type": "code",
   "execution_count": 21,
   "metadata": {
    "execution": {
     "iopub.execute_input": "2022-11-19T11:40:11.398797Z",
     "iopub.status.busy": "2022-11-19T11:40:11.398417Z",
     "iopub.status.idle": "2022-11-19T11:40:11.406802Z",
     "shell.execute_reply": "2022-11-19T11:40:11.405769Z",
     "shell.execute_reply.started": "2022-11-19T11:40:11.398765Z"
    }
   },
   "outputs": [
    {
     "data": {
      "text/plain": [
       "0    24.179024\n",
       "1    32.714522\n",
       "2    35.105173\n",
       "Name: 1, dtype: float64"
      ]
     },
     "execution_count": 21,
     "metadata": {},
     "output_type": "execute_result"
    }
   ],
   "source": [
    "crosstab[1]"
   ]
  },
  {
   "cell_type": "code",
   "execution_count": 22,
   "metadata": {
    "execution": {
     "iopub.execute_input": "2022-11-19T11:40:11.408688Z",
     "iopub.status.busy": "2022-11-19T11:40:11.408338Z",
     "iopub.status.idle": "2022-11-19T11:40:11.418130Z",
     "shell.execute_reply": "2022-11-19T11:40:11.417183Z",
     "shell.execute_reply.started": "2022-11-19T11:40:11.408655Z"
    }
   },
   "outputs": [],
   "source": [
    "def plot_pointplot(ax, feature, crosstab):\n",
    "    ax2 = ax.twinx() # x축은 공유하고 y축은 공유하지 않는 새로운 축 생성\n",
    "    # 새로운 축에 포인트플롯 그리기\n",
    "    ax2 = sns.pointplot(x=feature, y=1, data=crosstab,\n",
    "                        order=crosstab[feature].values, # 포인트플롯 순서\n",
    "                        color='black',                  # 포인트플롯 색상\n",
    "                        legend=False)                   # 범례 미표시\n",
    "    ax2.set_ylim(crosstab[1].min()-5, crosstab[1].max()*1.1) # y축 범위 설정\n",
    "    ax2.set_ylabel('Target 1 Ratio(%)')"
   ]
  },
  {
   "cell_type": "code",
   "execution_count": 23,
   "metadata": {
    "execution": {
     "iopub.execute_input": "2022-11-19T11:40:11.419447Z",
     "iopub.status.busy": "2022-11-19T11:40:11.419119Z",
     "iopub.status.idle": "2022-11-19T11:40:11.432288Z",
     "shell.execute_reply": "2022-11-19T11:40:11.431088Z",
     "shell.execute_reply.started": "2022-11-19T11:40:11.419416Z"
    }
   },
   "outputs": [],
   "source": [
    "def plot_cat_dist_with_true_ratio(df, features, num_rows, num_cols, \n",
    "                                  size=(15, 20)):\n",
    "    plt.figure(figsize=size)  # 전체 Figure 크기 설정\n",
    "    grid = gridspec.GridSpec(num_rows, num_cols) # 서브플롯 배치\n",
    "    plt.subplots_adjust(wspace=0.45, hspace=0.3) # 서브플롯 좌우/상하 여백 설정\n",
    "    \n",
    "    for idx, feature in enumerate(features): \n",
    "        ax = plt.subplot(grid[idx])\n",
    "        crosstab = get_crosstab(df, feature) # 교차분석표 생성\n",
    "\n",
    "        # ax축에 타깃값 분포 카운트플롯 그리기\n",
    "        sns.countplot(x=feature, data=df,\n",
    "                      order=crosstab[feature].values,\n",
    "                      color='skyblue',\n",
    "                      ax=ax)\n",
    "\n",
    "        write_percent(ax, len(df)) # 비율 표시\n",
    "       \n",
    "        plot_pointplot(ax, feature, crosstab) # 포인트플롯 그리기\n",
    "        \n",
    "        ax.set_title(f'{feature} Distribution') # 그래프 제목 설정"
   ]
  },
  {
   "cell_type": "code",
   "execution_count": 24,
   "metadata": {
    "execution": {
     "iopub.execute_input": "2022-11-19T11:40:11.435310Z",
     "iopub.status.busy": "2022-11-19T11:40:11.434874Z",
     "iopub.status.idle": "2022-11-19T11:40:14.139634Z",
     "shell.execute_reply": "2022-11-19T11:40:14.138610Z",
     "shell.execute_reply.started": "2022-11-19T11:40:11.435269Z"
    }
   },
   "outputs": [
    {
     "ename": "TypeError",
     "evalue": "pointplot() got an unexpected keyword argument 'legend'",
     "output_type": "error",
     "traceback": [
      "\u001b[0;31m---------------------------------------------------------------------------\u001b[0m",
      "\u001b[0;31mTypeError\u001b[0m                                 Traceback (most recent call last)",
      "Input \u001b[0;32mIn [24]\u001b[0m, in \u001b[0;36m<cell line: 2>\u001b[0;34m()\u001b[0m\n\u001b[1;32m      1\u001b[0m nom_features \u001b[38;5;241m=\u001b[39m [\u001b[38;5;124m'\u001b[39m\u001b[38;5;124mnom_0\u001b[39m\u001b[38;5;124m'\u001b[39m, \u001b[38;5;124m'\u001b[39m\u001b[38;5;124mnom_1\u001b[39m\u001b[38;5;124m'\u001b[39m, \u001b[38;5;124m'\u001b[39m\u001b[38;5;124mnom_2\u001b[39m\u001b[38;5;124m'\u001b[39m, \u001b[38;5;124m'\u001b[39m\u001b[38;5;124mnom_3\u001b[39m\u001b[38;5;124m'\u001b[39m, \u001b[38;5;124m'\u001b[39m\u001b[38;5;124mnom_4\u001b[39m\u001b[38;5;124m'\u001b[39m] \u001b[38;5;66;03m# 명목형 피처\u001b[39;00m\n\u001b[0;32m----> 2\u001b[0m \u001b[43mplot_cat_dist_with_true_ratio\u001b[49m\u001b[43m(\u001b[49m\u001b[43mtrain\u001b[49m\u001b[43m,\u001b[49m\u001b[43m \u001b[49m\u001b[43mnom_features\u001b[49m\u001b[43m,\u001b[49m\u001b[43m \u001b[49m\u001b[43mnum_rows\u001b[49m\u001b[38;5;241;43m=\u001b[39;49m\u001b[38;5;241;43m3\u001b[39;49m\u001b[43m,\u001b[49m\u001b[43m \u001b[49m\u001b[43mnum_cols\u001b[49m\u001b[38;5;241;43m=\u001b[39;49m\u001b[38;5;241;43m2\u001b[39;49m\u001b[43m)\u001b[49m\n",
      "Input \u001b[0;32mIn [23]\u001b[0m, in \u001b[0;36mplot_cat_dist_with_true_ratio\u001b[0;34m(df, features, num_rows, num_cols, size)\u001b[0m\n\u001b[1;32m     12\u001b[0m sns\u001b[38;5;241m.\u001b[39mcountplot(x\u001b[38;5;241m=\u001b[39mfeature, data\u001b[38;5;241m=\u001b[39mdf,\n\u001b[1;32m     13\u001b[0m               order\u001b[38;5;241m=\u001b[39mcrosstab[feature]\u001b[38;5;241m.\u001b[39mvalues,\n\u001b[1;32m     14\u001b[0m               color\u001b[38;5;241m=\u001b[39m\u001b[38;5;124m'\u001b[39m\u001b[38;5;124mskyblue\u001b[39m\u001b[38;5;124m'\u001b[39m,\n\u001b[1;32m     15\u001b[0m               ax\u001b[38;5;241m=\u001b[39max)\n\u001b[1;32m     17\u001b[0m write_percent(ax, \u001b[38;5;28mlen\u001b[39m(df)) \u001b[38;5;66;03m# 비율 표시\u001b[39;00m\n\u001b[0;32m---> 19\u001b[0m \u001b[43mplot_pointplot\u001b[49m\u001b[43m(\u001b[49m\u001b[43max\u001b[49m\u001b[43m,\u001b[49m\u001b[43m \u001b[49m\u001b[43mfeature\u001b[49m\u001b[43m,\u001b[49m\u001b[43m \u001b[49m\u001b[43mcrosstab\u001b[49m\u001b[43m)\u001b[49m \u001b[38;5;66;03m# 포인트플롯 그리기\u001b[39;00m\n\u001b[1;32m     21\u001b[0m ax\u001b[38;5;241m.\u001b[39mset_title(\u001b[38;5;124mf\u001b[39m\u001b[38;5;124m'\u001b[39m\u001b[38;5;132;01m{\u001b[39;00mfeature\u001b[38;5;132;01m}\u001b[39;00m\u001b[38;5;124m Distribution\u001b[39m\u001b[38;5;124m'\u001b[39m)\n",
      "Input \u001b[0;32mIn [22]\u001b[0m, in \u001b[0;36mplot_pointplot\u001b[0;34m(ax, feature, crosstab)\u001b[0m\n\u001b[1;32m      2\u001b[0m ax2 \u001b[38;5;241m=\u001b[39m ax\u001b[38;5;241m.\u001b[39mtwinx() \u001b[38;5;66;03m# x축은 공유하고 y축은 공유하지 않는 새로운 축 생성\u001b[39;00m\n\u001b[1;32m      3\u001b[0m \u001b[38;5;66;03m# 새로운 축에 포인트플롯 그리기\u001b[39;00m\n\u001b[0;32m----> 4\u001b[0m ax2 \u001b[38;5;241m=\u001b[39m \u001b[43msns\u001b[49m\u001b[38;5;241;43m.\u001b[39;49m\u001b[43mpointplot\u001b[49m\u001b[43m(\u001b[49m\u001b[43mx\u001b[49m\u001b[38;5;241;43m=\u001b[39;49m\u001b[43mfeature\u001b[49m\u001b[43m,\u001b[49m\u001b[43m \u001b[49m\u001b[43my\u001b[49m\u001b[38;5;241;43m=\u001b[39;49m\u001b[38;5;241;43m1\u001b[39;49m\u001b[43m,\u001b[49m\u001b[43m \u001b[49m\u001b[43mdata\u001b[49m\u001b[38;5;241;43m=\u001b[39;49m\u001b[43mcrosstab\u001b[49m\u001b[43m,\u001b[49m\n\u001b[1;32m      5\u001b[0m \u001b[43m                    \u001b[49m\u001b[43morder\u001b[49m\u001b[38;5;241;43m=\u001b[39;49m\u001b[43mcrosstab\u001b[49m\u001b[43m[\u001b[49m\u001b[43mfeature\u001b[49m\u001b[43m]\u001b[49m\u001b[38;5;241;43m.\u001b[39;49m\u001b[43mvalues\u001b[49m\u001b[43m,\u001b[49m\u001b[43m \u001b[49m\u001b[38;5;66;43;03m# 포인트플롯 순서\u001b[39;49;00m\n\u001b[1;32m      6\u001b[0m \u001b[43m                    \u001b[49m\u001b[43mcolor\u001b[49m\u001b[38;5;241;43m=\u001b[39;49m\u001b[38;5;124;43m'\u001b[39;49m\u001b[38;5;124;43mblack\u001b[39;49m\u001b[38;5;124;43m'\u001b[39;49m\u001b[43m,\u001b[49m\u001b[43m                  \u001b[49m\u001b[38;5;66;43;03m# 포인트플롯 색상\u001b[39;49;00m\n\u001b[1;32m      7\u001b[0m \u001b[43m                    \u001b[49m\u001b[43mlegend\u001b[49m\u001b[38;5;241;43m=\u001b[39;49m\u001b[38;5;28;43;01mFalse\u001b[39;49;00m\u001b[43m)\u001b[49m                   \u001b[38;5;66;03m# 범례 미표시\u001b[39;00m\n\u001b[1;32m      8\u001b[0m ax2\u001b[38;5;241m.\u001b[39mset_ylim(crosstab[\u001b[38;5;241m1\u001b[39m]\u001b[38;5;241m.\u001b[39mmin()\u001b[38;5;241m-\u001b[39m\u001b[38;5;241m5\u001b[39m, crosstab[\u001b[38;5;241m1\u001b[39m]\u001b[38;5;241m.\u001b[39mmax()\u001b[38;5;241m*\u001b[39m\u001b[38;5;241m1.1\u001b[39m) \u001b[38;5;66;03m# y축 범위 설정\u001b[39;00m\n\u001b[1;32m      9\u001b[0m ax2\u001b[38;5;241m.\u001b[39mset_ylabel(\u001b[38;5;124m'\u001b[39m\u001b[38;5;124mTarget 1 Ratio(\u001b[39m\u001b[38;5;124m%\u001b[39m\u001b[38;5;124m)\u001b[39m\u001b[38;5;124m'\u001b[39m)\n",
      "\u001b[0;31mTypeError\u001b[0m: pointplot() got an unexpected keyword argument 'legend'"
     ]
    },
    {
     "data": {
      "image/png": "[encoded data removed]",
      "text/plain": [
       "<Figure size 1500x2000 with 2 Axes>"
      ]
     },
     "metadata": {},
     "output_type": "display_data"
    }
   ],
   "source": [
    "nom_features = ['nom_0', 'nom_1', 'nom_2', 'nom_3', 'nom_4'] # 명목형 피처\n",
    "plot_cat_dist_with_true_ratio(train, nom_features, num_rows=3, num_cols=2)"
   ]
  },
  {
   "cell_type": "code",
   "execution_count": 25,
   "metadata": {
    "execution": {
     "iopub.execute_input": "2022-11-19T11:40:14.141666Z",
     "iopub.status.busy": "2022-11-19T11:40:14.141137Z",
     "iopub.status.idle": "2022-11-19T11:40:16.136534Z",
     "shell.execute_reply": "2022-11-19T11:40:16.135361Z",
     "shell.execute_reply.started": "2022-11-19T11:40:14.141607Z"
    }
   },
   "outputs": [
    {
     "ename": "TypeError",
     "evalue": "pointplot() got an unexpected keyword argument 'legend'",
     "output_type": "error",
     "traceback": [
      "\u001b[0;31m---------------------------------------------------------------------------\u001b[0m",
      "\u001b[0;31mTypeError\u001b[0m                                 Traceback (most recent call last)",
      "Input \u001b[0;32mIn [25]\u001b[0m, in \u001b[0;36m<cell line: 2>\u001b[0;34m()\u001b[0m\n\u001b[1;32m      1\u001b[0m ord_features \u001b[38;5;241m=\u001b[39m [\u001b[38;5;124m'\u001b[39m\u001b[38;5;124mord_0\u001b[39m\u001b[38;5;124m'\u001b[39m, \u001b[38;5;124m'\u001b[39m\u001b[38;5;124mord_1\u001b[39m\u001b[38;5;124m'\u001b[39m, \u001b[38;5;124m'\u001b[39m\u001b[38;5;124mord_2\u001b[39m\u001b[38;5;124m'\u001b[39m, \u001b[38;5;124m'\u001b[39m\u001b[38;5;124mord_3\u001b[39m\u001b[38;5;124m'\u001b[39m] \u001b[38;5;66;03m# 순서형 피처\u001b[39;00m\n\u001b[0;32m----> 2\u001b[0m \u001b[43mplot_cat_dist_with_true_ratio\u001b[49m\u001b[43m(\u001b[49m\u001b[43mtrain\u001b[49m\u001b[43m,\u001b[49m\u001b[43m \u001b[49m\u001b[43mord_features\u001b[49m\u001b[43m,\u001b[49m\u001b[43m \u001b[49m\n\u001b[1;32m      3\u001b[0m \u001b[43m                              \u001b[49m\u001b[43mnum_rows\u001b[49m\u001b[38;5;241;43m=\u001b[39;49m\u001b[38;5;241;43m2\u001b[39;49m\u001b[43m,\u001b[49m\u001b[43m \u001b[49m\u001b[43mnum_cols\u001b[49m\u001b[38;5;241;43m=\u001b[39;49m\u001b[38;5;241;43m2\u001b[39;49m\u001b[43m,\u001b[49m\u001b[43m \u001b[49m\u001b[43msize\u001b[49m\u001b[38;5;241;43m=\u001b[39;49m\u001b[43m(\u001b[49m\u001b[38;5;241;43m15\u001b[39;49m\u001b[43m,\u001b[49m\u001b[43m \u001b[49m\u001b[38;5;241;43m12\u001b[39;49m\u001b[43m)\u001b[49m\u001b[43m)\u001b[49m\n",
      "Input \u001b[0;32mIn [23]\u001b[0m, in \u001b[0;36mplot_cat_dist_with_true_ratio\u001b[0;34m(df, features, num_rows, num_cols, size)\u001b[0m\n\u001b[1;32m     12\u001b[0m sns\u001b[38;5;241m.\u001b[39mcountplot(x\u001b[38;5;241m=\u001b[39mfeature, data\u001b[38;5;241m=\u001b[39mdf,\n\u001b[1;32m     13\u001b[0m               order\u001b[38;5;241m=\u001b[39mcrosstab[feature]\u001b[38;5;241m.\u001b[39mvalues,\n\u001b[1;32m     14\u001b[0m               color\u001b[38;5;241m=\u001b[39m\u001b[38;5;124m'\u001b[39m\u001b[38;5;124mskyblue\u001b[39m\u001b[38;5;124m'\u001b[39m,\n\u001b[1;32m     15\u001b[0m               ax\u001b[38;5;241m=\u001b[39max)\n\u001b[1;32m     17\u001b[0m write_percent(ax, \u001b[38;5;28mlen\u001b[39m(df)) \u001b[38;5;66;03m# 비율 표시\u001b[39;00m\n\u001b[0;32m---> 19\u001b[0m \u001b[43mplot_pointplot\u001b[49m\u001b[43m(\u001b[49m\u001b[43max\u001b[49m\u001b[43m,\u001b[49m\u001b[43m \u001b[49m\u001b[43mfeature\u001b[49m\u001b[43m,\u001b[49m\u001b[43m \u001b[49m\u001b[43mcrosstab\u001b[49m\u001b[43m)\u001b[49m \u001b[38;5;66;03m# 포인트플롯 그리기\u001b[39;00m\n\u001b[1;32m     21\u001b[0m ax\u001b[38;5;241m.\u001b[39mset_title(\u001b[38;5;124mf\u001b[39m\u001b[38;5;124m'\u001b[39m\u001b[38;5;132;01m{\u001b[39;00mfeature\u001b[38;5;132;01m}\u001b[39;00m\u001b[38;5;124m Distribution\u001b[39m\u001b[38;5;124m'\u001b[39m)\n",
      "Input \u001b[0;32mIn [22]\u001b[0m, in \u001b[0;36mplot_pointplot\u001b[0;34m(ax, feature, crosstab)\u001b[0m\n\u001b[1;32m      2\u001b[0m ax2 \u001b[38;5;241m=\u001b[39m ax\u001b[38;5;241m.\u001b[39mtwinx() \u001b[38;5;66;03m# x축은 공유하고 y축은 공유하지 않는 새로운 축 생성\u001b[39;00m\n\u001b[1;32m      3\u001b[0m \u001b[38;5;66;03m# 새로운 축에 포인트플롯 그리기\u001b[39;00m\n\u001b[0;32m----> 4\u001b[0m ax2 \u001b[38;5;241m=\u001b[39m \u001b[43msns\u001b[49m\u001b[38;5;241;43m.\u001b[39;49m\u001b[43mpointplot\u001b[49m\u001b[43m(\u001b[49m\u001b[43mx\u001b[49m\u001b[38;5;241;43m=\u001b[39;49m\u001b[43mfeature\u001b[49m\u001b[43m,\u001b[49m\u001b[43m \u001b[49m\u001b[43my\u001b[49m\u001b[38;5;241;43m=\u001b[39;49m\u001b[38;5;241;43m1\u001b[39;49m\u001b[43m,\u001b[49m\u001b[43m \u001b[49m\u001b[43mdata\u001b[49m\u001b[38;5;241;43m=\u001b[39;49m\u001b[43mcrosstab\u001b[49m\u001b[43m,\u001b[49m\n\u001b[1;32m      5\u001b[0m \u001b[43m                    \u001b[49m\u001b[43morder\u001b[49m\u001b[38;5;241;43m=\u001b[39;49m\u001b[43mcrosstab\u001b[49m\u001b[43m[\u001b[49m\u001b[43mfeature\u001b[49m\u001b[43m]\u001b[49m\u001b[38;5;241;43m.\u001b[39;49m\u001b[43mvalues\u001b[49m\u001b[43m,\u001b[49m\u001b[43m \u001b[49m\u001b[38;5;66;43;03m# 포인트플롯 순서\u001b[39;49;00m\n\u001b[1;32m      6\u001b[0m \u001b[43m                    \u001b[49m\u001b[43mcolor\u001b[49m\u001b[38;5;241;43m=\u001b[39;49m\u001b[38;5;124;43m'\u001b[39;49m\u001b[38;5;124;43mblack\u001b[39;49m\u001b[38;5;124;43m'\u001b[39;49m\u001b[43m,\u001b[49m\u001b[43m                  \u001b[49m\u001b[38;5;66;43;03m# 포인트플롯 색상\u001b[39;49;00m\n\u001b[1;32m      7\u001b[0m \u001b[43m                    \u001b[49m\u001b[43mlegend\u001b[49m\u001b[38;5;241;43m=\u001b[39;49m\u001b[38;5;28;43;01mFalse\u001b[39;49;00m\u001b[43m)\u001b[49m                   \u001b[38;5;66;03m# 범례 미표시\u001b[39;00m\n\u001b[1;32m      8\u001b[0m ax2\u001b[38;5;241m.\u001b[39mset_ylim(crosstab[\u001b[38;5;241m1\u001b[39m]\u001b[38;5;241m.\u001b[39mmin()\u001b[38;5;241m-\u001b[39m\u001b[38;5;241m5\u001b[39m, crosstab[\u001b[38;5;241m1\u001b[39m]\u001b[38;5;241m.\u001b[39mmax()\u001b[38;5;241m*\u001b[39m\u001b[38;5;241m1.1\u001b[39m) \u001b[38;5;66;03m# y축 범위 설정\u001b[39;00m\n\u001b[1;32m      9\u001b[0m ax2\u001b[38;5;241m.\u001b[39mset_ylabel(\u001b[38;5;124m'\u001b[39m\u001b[38;5;124mTarget 1 Ratio(\u001b[39m\u001b[38;5;124m%\u001b[39m\u001b[38;5;124m)\u001b[39m\u001b[38;5;124m'\u001b[39m)\n",
      "\u001b[0;31mTypeError\u001b[0m: pointplot() got an unexpected keyword argument 'legend'"
     ]
    },
    {
     "data": {
      "image/png": "[encoded data removed]",
      "text/plain": [
       "<Figure size 1500x1200 with 2 Axes>"
      ]
     },
     "metadata": {},
     "output_type": "display_data"
    }
   ],
   "source": [
    "ord_features = ['ord_0', 'ord_1', 'ord_2', 'ord_3'] # 순서형 피처\n",
    "plot_cat_dist_with_true_ratio(train, ord_features, \n",
    "                              num_rows=2, num_cols=2, size=(15, 12))"
   ]
  },
  {
   "cell_type": "code",
   "execution_count": 26,
   "metadata": {
    "execution": {
     "iopub.execute_input": "2022-11-19T11:40:16.139081Z",
     "iopub.status.busy": "2022-11-19T11:40:16.138070Z",
     "iopub.status.idle": "2022-11-19T11:40:16.296894Z",
     "shell.execute_reply": "2022-11-19T11:40:16.295802Z",
     "shell.execute_reply.started": "2022-11-19T11:40:16.139038Z"
    }
   },
   "outputs": [],
   "source": [
    "from pandas.api.types import CategoricalDtype \n",
    "\n",
    "ord_1_value = ['Novice', 'Contributor', 'Expert', 'Master', 'Grandmaster']\n",
    "ord_2_value = ['Freezing', 'Cold', 'Warm', 'Hot', 'Boiling Hot', 'Lava Hot']\n",
    "\n",
    "# 순서를 지정한 범주형 데이터 타입\n",
    "ord_1_dtype = CategoricalDtype(categories=ord_1_value, ordered=True)\n",
    "ord_2_dtype = CategoricalDtype(categories=ord_2_value, ordered=True)\n",
    "\n",
    "# 데이터 타입 변경\n",
    "train['ord_1'] = train['ord_1'].astype(ord_1_dtype)\n",
    "train['ord_2'] = train['ord_2'].astype(ord_2_dtype)"
   ]
  },
  {
   "cell_type": "code",
   "execution_count": 27,
   "metadata": {
    "execution": {
     "iopub.execute_input": "2022-11-19T11:40:16.299074Z",
     "iopub.status.busy": "2022-11-19T11:40:16.298430Z",
     "iopub.status.idle": "2022-11-19T11:40:17.994584Z",
     "shell.execute_reply": "2022-11-19T11:40:17.993405Z",
     "shell.execute_reply.started": "2022-11-19T11:40:16.299030Z"
    }
   },
   "outputs": [
    {
     "ename": "TypeError",
     "evalue": "pointplot() got an unexpected keyword argument 'legend'",
     "output_type": "error",
     "traceback": [
      "\u001b[0;31m---------------------------------------------------------------------------\u001b[0m",
      "\u001b[0;31mTypeError\u001b[0m                                 Traceback (most recent call last)",
      "Input \u001b[0;32mIn [27]\u001b[0m, in \u001b[0;36m<cell line: 1>\u001b[0;34m()\u001b[0m\n\u001b[0;32m----> 1\u001b[0m \u001b[43mplot_cat_dist_with_true_ratio\u001b[49m\u001b[43m(\u001b[49m\u001b[43mtrain\u001b[49m\u001b[43m,\u001b[49m\u001b[43m \u001b[49m\u001b[43mord_features\u001b[49m\u001b[43m,\u001b[49m\u001b[43m \u001b[49m\n\u001b[1;32m      2\u001b[0m \u001b[43m                              \u001b[49m\u001b[43mnum_rows\u001b[49m\u001b[38;5;241;43m=\u001b[39;49m\u001b[38;5;241;43m2\u001b[39;49m\u001b[43m,\u001b[49m\u001b[43m \u001b[49m\u001b[43mnum_cols\u001b[49m\u001b[38;5;241;43m=\u001b[39;49m\u001b[38;5;241;43m2\u001b[39;49m\u001b[43m,\u001b[49m\u001b[43m \u001b[49m\u001b[43msize\u001b[49m\u001b[38;5;241;43m=\u001b[39;49m\u001b[43m(\u001b[49m\u001b[38;5;241;43m15\u001b[39;49m\u001b[43m,\u001b[49m\u001b[43m \u001b[49m\u001b[38;5;241;43m12\u001b[39;49m\u001b[43m)\u001b[49m\u001b[43m)\u001b[49m\n",
      "Input \u001b[0;32mIn [23]\u001b[0m, in \u001b[0;36mplot_cat_dist_with_true_ratio\u001b[0;34m(df, features, num_rows, num_cols, size)\u001b[0m\n\u001b[1;32m     12\u001b[0m sns\u001b[38;5;241m.\u001b[39mcountplot(x\u001b[38;5;241m=\u001b[39mfeature, data\u001b[38;5;241m=\u001b[39mdf,\n\u001b[1;32m     13\u001b[0m               order\u001b[38;5;241m=\u001b[39mcrosstab[feature]\u001b[38;5;241m.\u001b[39mvalues,\n\u001b[1;32m     14\u001b[0m               color\u001b[38;5;241m=\u001b[39m\u001b[38;5;124m'\u001b[39m\u001b[38;5;124mskyblue\u001b[39m\u001b[38;5;124m'\u001b[39m,\n\u001b[1;32m     15\u001b[0m               ax\u001b[38;5;241m=\u001b[39max)\n\u001b[1;32m     17\u001b[0m write_percent(ax, \u001b[38;5;28mlen\u001b[39m(df)) \u001b[38;5;66;03m# 비율 표시\u001b[39;00m\n\u001b[0;32m---> 19\u001b[0m \u001b[43mplot_pointplot\u001b[49m\u001b[43m(\u001b[49m\u001b[43max\u001b[49m\u001b[43m,\u001b[49m\u001b[43m \u001b[49m\u001b[43mfeature\u001b[49m\u001b[43m,\u001b[49m\u001b[43m \u001b[49m\u001b[43mcrosstab\u001b[49m\u001b[43m)\u001b[49m \u001b[38;5;66;03m# 포인트플롯 그리기\u001b[39;00m\n\u001b[1;32m     21\u001b[0m ax\u001b[38;5;241m.\u001b[39mset_title(\u001b[38;5;124mf\u001b[39m\u001b[38;5;124m'\u001b[39m\u001b[38;5;132;01m{\u001b[39;00mfeature\u001b[38;5;132;01m}\u001b[39;00m\u001b[38;5;124m Distribution\u001b[39m\u001b[38;5;124m'\u001b[39m)\n",
      "Input \u001b[0;32mIn [22]\u001b[0m, in \u001b[0;36mplot_pointplot\u001b[0;34m(ax, feature, crosstab)\u001b[0m\n\u001b[1;32m      2\u001b[0m ax2 \u001b[38;5;241m=\u001b[39m ax\u001b[38;5;241m.\u001b[39mtwinx() \u001b[38;5;66;03m# x축은 공유하고 y축은 공유하지 않는 새로운 축 생성\u001b[39;00m\n\u001b[1;32m      3\u001b[0m \u001b[38;5;66;03m# 새로운 축에 포인트플롯 그리기\u001b[39;00m\n\u001b[0;32m----> 4\u001b[0m ax2 \u001b[38;5;241m=\u001b[39m \u001b[43msns\u001b[49m\u001b[38;5;241;43m.\u001b[39;49m\u001b[43mpointplot\u001b[49m\u001b[43m(\u001b[49m\u001b[43mx\u001b[49m\u001b[38;5;241;43m=\u001b[39;49m\u001b[43mfeature\u001b[49m\u001b[43m,\u001b[49m\u001b[43m \u001b[49m\u001b[43my\u001b[49m\u001b[38;5;241;43m=\u001b[39;49m\u001b[38;5;241;43m1\u001b[39;49m\u001b[43m,\u001b[49m\u001b[43m \u001b[49m\u001b[43mdata\u001b[49m\u001b[38;5;241;43m=\u001b[39;49m\u001b[43mcrosstab\u001b[49m\u001b[43m,\u001b[49m\n\u001b[1;32m      5\u001b[0m \u001b[43m                    \u001b[49m\u001b[43morder\u001b[49m\u001b[38;5;241;43m=\u001b[39;49m\u001b[43mcrosstab\u001b[49m\u001b[43m[\u001b[49m\u001b[43mfeature\u001b[49m\u001b[43m]\u001b[49m\u001b[38;5;241;43m.\u001b[39;49m\u001b[43mvalues\u001b[49m\u001b[43m,\u001b[49m\u001b[43m \u001b[49m\u001b[38;5;66;43;03m# 포인트플롯 순서\u001b[39;49;00m\n\u001b[1;32m      6\u001b[0m \u001b[43m                    \u001b[49m\u001b[43mcolor\u001b[49m\u001b[38;5;241;43m=\u001b[39;49m\u001b[38;5;124;43m'\u001b[39;49m\u001b[38;5;124;43mblack\u001b[39;49m\u001b[38;5;124;43m'\u001b[39;49m\u001b[43m,\u001b[49m\u001b[43m                  \u001b[49m\u001b[38;5;66;43;03m# 포인트플롯 색상\u001b[39;49;00m\n\u001b[1;32m      7\u001b[0m \u001b[43m                    \u001b[49m\u001b[43mlegend\u001b[49m\u001b[38;5;241;43m=\u001b[39;49m\u001b[38;5;28;43;01mFalse\u001b[39;49;00m\u001b[43m)\u001b[49m                   \u001b[38;5;66;03m# 범례 미표시\u001b[39;00m\n\u001b[1;32m      8\u001b[0m ax2\u001b[38;5;241m.\u001b[39mset_ylim(crosstab[\u001b[38;5;241m1\u001b[39m]\u001b[38;5;241m.\u001b[39mmin()\u001b[38;5;241m-\u001b[39m\u001b[38;5;241m5\u001b[39m, crosstab[\u001b[38;5;241m1\u001b[39m]\u001b[38;5;241m.\u001b[39mmax()\u001b[38;5;241m*\u001b[39m\u001b[38;5;241m1.1\u001b[39m) \u001b[38;5;66;03m# y축 범위 설정\u001b[39;00m\n\u001b[1;32m      9\u001b[0m ax2\u001b[38;5;241m.\u001b[39mset_ylabel(\u001b[38;5;124m'\u001b[39m\u001b[38;5;124mTarget 1 Ratio(\u001b[39m\u001b[38;5;124m%\u001b[39m\u001b[38;5;124m)\u001b[39m\u001b[38;5;124m'\u001b[39m)\n",
      "\u001b[0;31mTypeError\u001b[0m: pointplot() got an unexpected keyword argument 'legend'"
     ]
    },
    {
     "data": {
      "image/png": "[encoded data removed]",
      "text/plain": [
       "<Figure size 1500x1200 with 2 Axes>"
      ]
     },
     "metadata": {},
     "output_type": "display_data"
    }
   ],
   "source": [
    "plot_cat_dist_with_true_ratio(train, ord_features, \n",
    "                              num_rows=2, num_cols=2, size=(15, 12))"
   ]
  },
  {
   "cell_type": "code",
   "execution_count": 28,
   "metadata": {
    "execution": {
     "iopub.execute_input": "2022-11-19T11:40:17.996516Z",
     "iopub.status.busy": "2022-11-19T11:40:17.996130Z",
     "iopub.status.idle": "2022-11-19T11:40:22.919161Z",
     "shell.execute_reply": "2022-11-19T11:40:22.917992Z",
     "shell.execute_reply.started": "2022-11-19T11:40:17.996480Z"
    }
   },
   "outputs": [
    {
     "ename": "TypeError",
     "evalue": "pointplot() got an unexpected keyword argument 'legend'",
     "output_type": "error",
     "traceback": [
      "\u001b[0;31m---------------------------------------------------------------------------\u001b[0m",
      "\u001b[0;31mTypeError\u001b[0m                                 Traceback (most recent call last)",
      "Input \u001b[0;32mIn [28]\u001b[0m, in \u001b[0;36m<cell line: 1>\u001b[0;34m()\u001b[0m\n\u001b[0;32m----> 1\u001b[0m \u001b[43mplot_cat_dist_with_true_ratio\u001b[49m\u001b[43m(\u001b[49m\u001b[43mtrain\u001b[49m\u001b[43m,\u001b[49m\u001b[43m \u001b[49m\u001b[43m[\u001b[49m\u001b[38;5;124;43m'\u001b[39;49m\u001b[38;5;124;43mord_4\u001b[39;49m\u001b[38;5;124;43m'\u001b[39;49m\u001b[43m,\u001b[49m\u001b[43m \u001b[49m\u001b[38;5;124;43m'\u001b[39;49m\u001b[38;5;124;43mord_5\u001b[39;49m\u001b[38;5;124;43m'\u001b[39;49m\u001b[43m]\u001b[49m\u001b[43m,\u001b[49m\u001b[43m \u001b[49m\n\u001b[1;32m      2\u001b[0m \u001b[43m                              \u001b[49m\u001b[43mnum_rows\u001b[49m\u001b[38;5;241;43m=\u001b[39;49m\u001b[38;5;241;43m2\u001b[39;49m\u001b[43m,\u001b[49m\u001b[43m \u001b[49m\u001b[43mnum_cols\u001b[49m\u001b[38;5;241;43m=\u001b[39;49m\u001b[38;5;241;43m1\u001b[39;49m\u001b[43m,\u001b[49m\u001b[43m \u001b[49m\u001b[43msize\u001b[49m\u001b[38;5;241;43m=\u001b[39;49m\u001b[43m(\u001b[49m\u001b[38;5;241;43m15\u001b[39;49m\u001b[43m,\u001b[49m\u001b[43m \u001b[49m\u001b[38;5;241;43m12\u001b[39;49m\u001b[43m)\u001b[49m\u001b[43m)\u001b[49m\n",
      "Input \u001b[0;32mIn [23]\u001b[0m, in \u001b[0;36mplot_cat_dist_with_true_ratio\u001b[0;34m(df, features, num_rows, num_cols, size)\u001b[0m\n\u001b[1;32m     12\u001b[0m sns\u001b[38;5;241m.\u001b[39mcountplot(x\u001b[38;5;241m=\u001b[39mfeature, data\u001b[38;5;241m=\u001b[39mdf,\n\u001b[1;32m     13\u001b[0m               order\u001b[38;5;241m=\u001b[39mcrosstab[feature]\u001b[38;5;241m.\u001b[39mvalues,\n\u001b[1;32m     14\u001b[0m               color\u001b[38;5;241m=\u001b[39m\u001b[38;5;124m'\u001b[39m\u001b[38;5;124mskyblue\u001b[39m\u001b[38;5;124m'\u001b[39m,\n\u001b[1;32m     15\u001b[0m               ax\u001b[38;5;241m=\u001b[39max)\n\u001b[1;32m     17\u001b[0m write_percent(ax, \u001b[38;5;28mlen\u001b[39m(df)) \u001b[38;5;66;03m# 비율 표시\u001b[39;00m\n\u001b[0;32m---> 19\u001b[0m \u001b[43mplot_pointplot\u001b[49m\u001b[43m(\u001b[49m\u001b[43max\u001b[49m\u001b[43m,\u001b[49m\u001b[43m \u001b[49m\u001b[43mfeature\u001b[49m\u001b[43m,\u001b[49m\u001b[43m \u001b[49m\u001b[43mcrosstab\u001b[49m\u001b[43m)\u001b[49m \u001b[38;5;66;03m# 포인트플롯 그리기\u001b[39;00m\n\u001b[1;32m     21\u001b[0m ax\u001b[38;5;241m.\u001b[39mset_title(\u001b[38;5;124mf\u001b[39m\u001b[38;5;124m'\u001b[39m\u001b[38;5;132;01m{\u001b[39;00mfeature\u001b[38;5;132;01m}\u001b[39;00m\u001b[38;5;124m Distribution\u001b[39m\u001b[38;5;124m'\u001b[39m)\n",
      "Input \u001b[0;32mIn [22]\u001b[0m, in \u001b[0;36mplot_pointplot\u001b[0;34m(ax, feature, crosstab)\u001b[0m\n\u001b[1;32m      2\u001b[0m ax2 \u001b[38;5;241m=\u001b[39m ax\u001b[38;5;241m.\u001b[39mtwinx() \u001b[38;5;66;03m# x축은 공유하고 y축은 공유하지 않는 새로운 축 생성\u001b[39;00m\n\u001b[1;32m      3\u001b[0m \u001b[38;5;66;03m# 새로운 축에 포인트플롯 그리기\u001b[39;00m\n\u001b[0;32m----> 4\u001b[0m ax2 \u001b[38;5;241m=\u001b[39m \u001b[43msns\u001b[49m\u001b[38;5;241;43m.\u001b[39;49m\u001b[43mpointplot\u001b[49m\u001b[43m(\u001b[49m\u001b[43mx\u001b[49m\u001b[38;5;241;43m=\u001b[39;49m\u001b[43mfeature\u001b[49m\u001b[43m,\u001b[49m\u001b[43m \u001b[49m\u001b[43my\u001b[49m\u001b[38;5;241;43m=\u001b[39;49m\u001b[38;5;241;43m1\u001b[39;49m\u001b[43m,\u001b[49m\u001b[43m \u001b[49m\u001b[43mdata\u001b[49m\u001b[38;5;241;43m=\u001b[39;49m\u001b[43mcrosstab\u001b[49m\u001b[43m,\u001b[49m\n\u001b[1;32m      5\u001b[0m \u001b[43m                    \u001b[49m\u001b[43morder\u001b[49m\u001b[38;5;241;43m=\u001b[39;49m\u001b[43mcrosstab\u001b[49m\u001b[43m[\u001b[49m\u001b[43mfeature\u001b[49m\u001b[43m]\u001b[49m\u001b[38;5;241;43m.\u001b[39;49m\u001b[43mvalues\u001b[49m\u001b[43m,\u001b[49m\u001b[43m \u001b[49m\u001b[38;5;66;43;03m# 포인트플롯 순서\u001b[39;49;00m\n\u001b[1;32m      6\u001b[0m \u001b[43m                    \u001b[49m\u001b[43mcolor\u001b[49m\u001b[38;5;241;43m=\u001b[39;49m\u001b[38;5;124;43m'\u001b[39;49m\u001b[38;5;124;43mblack\u001b[39;49m\u001b[38;5;124;43m'\u001b[39;49m\u001b[43m,\u001b[49m\u001b[43m                  \u001b[49m\u001b[38;5;66;43;03m# 포인트플롯 색상\u001b[39;49;00m\n\u001b[1;32m      7\u001b[0m \u001b[43m                    \u001b[49m\u001b[43mlegend\u001b[49m\u001b[38;5;241;43m=\u001b[39;49m\u001b[38;5;28;43;01mFalse\u001b[39;49;00m\u001b[43m)\u001b[49m                   \u001b[38;5;66;03m# 범례 미표시\u001b[39;00m\n\u001b[1;32m      8\u001b[0m ax2\u001b[38;5;241m.\u001b[39mset_ylim(crosstab[\u001b[38;5;241m1\u001b[39m]\u001b[38;5;241m.\u001b[39mmin()\u001b[38;5;241m-\u001b[39m\u001b[38;5;241m5\u001b[39m, crosstab[\u001b[38;5;241m1\u001b[39m]\u001b[38;5;241m.\u001b[39mmax()\u001b[38;5;241m*\u001b[39m\u001b[38;5;241m1.1\u001b[39m) \u001b[38;5;66;03m# y축 범위 설정\u001b[39;00m\n\u001b[1;32m      9\u001b[0m ax2\u001b[38;5;241m.\u001b[39mset_ylabel(\u001b[38;5;124m'\u001b[39m\u001b[38;5;124mTarget 1 Ratio(\u001b[39m\u001b[38;5;124m%\u001b[39m\u001b[38;5;124m)\u001b[39m\u001b[38;5;124m'\u001b[39m)\n",
      "\u001b[0;31mTypeError\u001b[0m: pointplot() got an unexpected keyword argument 'legend'"
     ]
    },
    {
     "data": {
      "image/png": "[encoded data removed]",
      "text/plain": [
       "<Figure size 1500x1200 with 2 Axes>"
      ]
     },
     "metadata": {},
     "output_type": "display_data"
    }
   ],
   "source": [
    "plot_cat_dist_with_true_ratio(train, ['ord_4', 'ord_5'], \n",
    "                              num_rows=2, num_cols=1, size=(15, 12))"
   ]
  },
  {
   "cell_type": "code",
   "execution_count": 29,
   "metadata": {
    "execution": {
     "iopub.execute_input": "2022-11-19T11:40:22.921032Z",
     "iopub.status.busy": "2022-11-19T11:40:22.920597Z"
    }
   },
   "outputs": [
    {
     "ename": "TypeError",
     "evalue": "pointplot() got an unexpected keyword argument 'legend'",
     "output_type": "error",
     "traceback": [
      "\u001b[0;31m---------------------------------------------------------------------------\u001b[0m",
      "\u001b[0;31mTypeError\u001b[0m                                 Traceback (most recent call last)",
      "Input \u001b[0;32mIn [29]\u001b[0m, in \u001b[0;36m<cell line: 2>\u001b[0;34m()\u001b[0m\n\u001b[1;32m      1\u001b[0m date_features \u001b[38;5;241m=\u001b[39m [\u001b[38;5;124m'\u001b[39m\u001b[38;5;124mday\u001b[39m\u001b[38;5;124m'\u001b[39m, \u001b[38;5;124m'\u001b[39m\u001b[38;5;124mmonth\u001b[39m\u001b[38;5;124m'\u001b[39m]\n\u001b[0;32m----> 2\u001b[0m \u001b[43mplot_cat_dist_with_true_ratio\u001b[49m\u001b[43m(\u001b[49m\u001b[43mtrain\u001b[49m\u001b[43m,\u001b[49m\u001b[43m \u001b[49m\u001b[43mdate_features\u001b[49m\u001b[43m,\u001b[49m\u001b[43m \u001b[49m\n\u001b[1;32m      3\u001b[0m \u001b[43m                              \u001b[49m\u001b[43mnum_rows\u001b[49m\u001b[38;5;241;43m=\u001b[39;49m\u001b[38;5;241;43m2\u001b[39;49m\u001b[43m,\u001b[49m\u001b[43m \u001b[49m\u001b[43mnum_cols\u001b[49m\u001b[38;5;241;43m=\u001b[39;49m\u001b[38;5;241;43m1\u001b[39;49m\u001b[43m,\u001b[49m\u001b[43m \u001b[49m\u001b[43msize\u001b[49m\u001b[38;5;241;43m=\u001b[39;49m\u001b[43m(\u001b[49m\u001b[38;5;241;43m10\u001b[39;49m\u001b[43m,\u001b[49m\u001b[43m \u001b[49m\u001b[38;5;241;43m10\u001b[39;49m\u001b[43m)\u001b[49m\u001b[43m)\u001b[49m\n",
      "Input \u001b[0;32mIn [23]\u001b[0m, in \u001b[0;36mplot_cat_dist_with_true_ratio\u001b[0;34m(df, features, num_rows, num_cols, size)\u001b[0m\n\u001b[1;32m     12\u001b[0m sns\u001b[38;5;241m.\u001b[39mcountplot(x\u001b[38;5;241m=\u001b[39mfeature, data\u001b[38;5;241m=\u001b[39mdf,\n\u001b[1;32m     13\u001b[0m               order\u001b[38;5;241m=\u001b[39mcrosstab[feature]\u001b[38;5;241m.\u001b[39mvalues,\n\u001b[1;32m     14\u001b[0m               color\u001b[38;5;241m=\u001b[39m\u001b[38;5;124m'\u001b[39m\u001b[38;5;124mskyblue\u001b[39m\u001b[38;5;124m'\u001b[39m,\n\u001b[1;32m     15\u001b[0m               ax\u001b[38;5;241m=\u001b[39max)\n\u001b[1;32m     17\u001b[0m write_percent(ax, \u001b[38;5;28mlen\u001b[39m(df)) \u001b[38;5;66;03m# 비율 표시\u001b[39;00m\n\u001b[0;32m---> 19\u001b[0m \u001b[43mplot_pointplot\u001b[49m\u001b[43m(\u001b[49m\u001b[43max\u001b[49m\u001b[43m,\u001b[49m\u001b[43m \u001b[49m\u001b[43mfeature\u001b[49m\u001b[43m,\u001b[49m\u001b[43m \u001b[49m\u001b[43mcrosstab\u001b[49m\u001b[43m)\u001b[49m \u001b[38;5;66;03m# 포인트플롯 그리기\u001b[39;00m\n\u001b[1;32m     21\u001b[0m ax\u001b[38;5;241m.\u001b[39mset_title(\u001b[38;5;124mf\u001b[39m\u001b[38;5;124m'\u001b[39m\u001b[38;5;132;01m{\u001b[39;00mfeature\u001b[38;5;132;01m}\u001b[39;00m\u001b[38;5;124m Distribution\u001b[39m\u001b[38;5;124m'\u001b[39m)\n",
      "Input \u001b[0;32mIn [22]\u001b[0m, in \u001b[0;36mplot_pointplot\u001b[0;34m(ax, feature, crosstab)\u001b[0m\n\u001b[1;32m      2\u001b[0m ax2 \u001b[38;5;241m=\u001b[39m ax\u001b[38;5;241m.\u001b[39mtwinx() \u001b[38;5;66;03m# x축은 공유하고 y축은 공유하지 않는 새로운 축 생성\u001b[39;00m\n\u001b[1;32m      3\u001b[0m \u001b[38;5;66;03m# 새로운 축에 포인트플롯 그리기\u001b[39;00m\n\u001b[0;32m----> 4\u001b[0m ax2 \u001b[38;5;241m=\u001b[39m \u001b[43msns\u001b[49m\u001b[38;5;241;43m.\u001b[39;49m\u001b[43mpointplot\u001b[49m\u001b[43m(\u001b[49m\u001b[43mx\u001b[49m\u001b[38;5;241;43m=\u001b[39;49m\u001b[43mfeature\u001b[49m\u001b[43m,\u001b[49m\u001b[43m \u001b[49m\u001b[43my\u001b[49m\u001b[38;5;241;43m=\u001b[39;49m\u001b[38;5;241;43m1\u001b[39;49m\u001b[43m,\u001b[49m\u001b[43m \u001b[49m\u001b[43mdata\u001b[49m\u001b[38;5;241;43m=\u001b[39;49m\u001b[43mcrosstab\u001b[49m\u001b[43m,\u001b[49m\n\u001b[1;32m      5\u001b[0m \u001b[43m                    \u001b[49m\u001b[43morder\u001b[49m\u001b[38;5;241;43m=\u001b[39;49m\u001b[43mcrosstab\u001b[49m\u001b[43m[\u001b[49m\u001b[43mfeature\u001b[49m\u001b[43m]\u001b[49m\u001b[38;5;241;43m.\u001b[39;49m\u001b[43mvalues\u001b[49m\u001b[43m,\u001b[49m\u001b[43m \u001b[49m\u001b[38;5;66;43;03m# 포인트플롯 순서\u001b[39;49;00m\n\u001b[1;32m      6\u001b[0m \u001b[43m                    \u001b[49m\u001b[43mcolor\u001b[49m\u001b[38;5;241;43m=\u001b[39;49m\u001b[38;5;124;43m'\u001b[39;49m\u001b[38;5;124;43mblack\u001b[39;49m\u001b[38;5;124;43m'\u001b[39;49m\u001b[43m,\u001b[49m\u001b[43m                  \u001b[49m\u001b[38;5;66;43;03m# 포인트플롯 색상\u001b[39;49;00m\n\u001b[1;32m      7\u001b[0m \u001b[43m                    \u001b[49m\u001b[43mlegend\u001b[49m\u001b[38;5;241;43m=\u001b[39;49m\u001b[38;5;28;43;01mFalse\u001b[39;49;00m\u001b[43m)\u001b[49m                   \u001b[38;5;66;03m# 범례 미표시\u001b[39;00m\n\u001b[1;32m      8\u001b[0m ax2\u001b[38;5;241m.\u001b[39mset_ylim(crosstab[\u001b[38;5;241m1\u001b[39m]\u001b[38;5;241m.\u001b[39mmin()\u001b[38;5;241m-\u001b[39m\u001b[38;5;241m5\u001b[39m, crosstab[\u001b[38;5;241m1\u001b[39m]\u001b[38;5;241m.\u001b[39mmax()\u001b[38;5;241m*\u001b[39m\u001b[38;5;241m1.1\u001b[39m) \u001b[38;5;66;03m# y축 범위 설정\u001b[39;00m\n\u001b[1;32m      9\u001b[0m ax2\u001b[38;5;241m.\u001b[39mset_ylabel(\u001b[38;5;124m'\u001b[39m\u001b[38;5;124mTarget 1 Ratio(\u001b[39m\u001b[38;5;124m%\u001b[39m\u001b[38;5;124m)\u001b[39m\u001b[38;5;124m'\u001b[39m)\n",
      "\u001b[0;31mTypeError\u001b[0m: pointplot() got an unexpected keyword argument 'legend'"
     ]
    },
    {
     "data": {
      "image/png": "[encoded data removed]",
      "text/plain": [
       "<Figure size 1000x1000 with 2 Axes>"
      ]
     },
     "metadata": {},
     "output_type": "display_data"
    }
   ],
   "source": [
    "date_features = ['day', 'month']\n",
    "plot_cat_dist_with_true_ratio(train, date_features, \n",
    "                              num_rows=2, num_cols=1, size=(10, 10))"
   ]
  },
  {
   "cell_type": "markdown",
   "metadata": {},
   "source": [
    "# Baesline Model"
   ]
  },
  {
   "cell_type": "code",
   "execution_count": 30,
   "metadata": {},
   "outputs": [],
   "source": [
    "import pandas as pd\n",
    "# 데이터 경로\n",
    "\n",
    "train = pd.read_csv('train.csv', index_col='id')\n",
    "test = pd.read_csv('test.csv', index_col='id')\n",
    "submission = pd.read_csv('sample_submission.csv', index_col='id')"
   ]
  },
  {
   "cell_type": "code",
   "execution_count": 31,
   "metadata": {},
   "outputs": [
    {
     "data": {
      "text/html": [
       "<div>\n",
       "<style scoped>\n",
       "    .dataframe tbody tr th:only-of-type {\n",
       "        vertical-align: middle;\n",
       "    }\n",
       "\n",
       "    .dataframe tbody tr th {\n",
       "        vertical-align: top;\n",
       "    }\n",
       "\n",
       "    .dataframe thead th {\n",
       "        text-align: right;\n",
       "    }\n",
       "</style>\n",
       "<table border=\"1\" class=\"dataframe\">\n",
       "  <thead>\n",
       "    <tr style=\"text-align: right;\">\n",
       "      <th></th>\n",
       "      <th>bin_0</th>\n",
       "      <th>bin_1</th>\n",
       "      <th>bin_2</th>\n",
       "      <th>bin_3</th>\n",
       "      <th>bin_4</th>\n",
       "      <th>nom_0</th>\n",
       "      <th>nom_1</th>\n",
       "      <th>nom_2</th>\n",
       "      <th>nom_3</th>\n",
       "      <th>nom_4</th>\n",
       "      <th>...</th>\n",
       "      <th>nom_8</th>\n",
       "      <th>nom_9</th>\n",
       "      <th>ord_0</th>\n",
       "      <th>ord_1</th>\n",
       "      <th>ord_2</th>\n",
       "      <th>ord_3</th>\n",
       "      <th>ord_4</th>\n",
       "      <th>ord_5</th>\n",
       "      <th>day</th>\n",
       "      <th>month</th>\n",
       "    </tr>\n",
       "    <tr>\n",
       "      <th>id</th>\n",
       "      <th></th>\n",
       "      <th></th>\n",
       "      <th></th>\n",
       "      <th></th>\n",
       "      <th></th>\n",
       "      <th></th>\n",
       "      <th></th>\n",
       "      <th></th>\n",
       "      <th></th>\n",
       "      <th></th>\n",
       "      <th></th>\n",
       "      <th></th>\n",
       "      <th></th>\n",
       "      <th></th>\n",
       "      <th></th>\n",
       "      <th></th>\n",
       "      <th></th>\n",
       "      <th></th>\n",
       "      <th></th>\n",
       "      <th></th>\n",
       "      <th></th>\n",
       "    </tr>\n",
       "  </thead>\n",
       "  <tbody>\n",
       "    <tr>\n",
       "      <th>0</th>\n",
       "      <td>0</td>\n",
       "      <td>0</td>\n",
       "      <td>0</td>\n",
       "      <td>T</td>\n",
       "      <td>Y</td>\n",
       "      <td>Green</td>\n",
       "      <td>Triangle</td>\n",
       "      <td>Snake</td>\n",
       "      <td>Finland</td>\n",
       "      <td>Bassoon</td>\n",
       "      <td>...</td>\n",
       "      <td>c389000ab</td>\n",
       "      <td>2f4cb3d51</td>\n",
       "      <td>2</td>\n",
       "      <td>Grandmaster</td>\n",
       "      <td>Cold</td>\n",
       "      <td>h</td>\n",
       "      <td>D</td>\n",
       "      <td>kr</td>\n",
       "      <td>2</td>\n",
       "      <td>2</td>\n",
       "    </tr>\n",
       "    <tr>\n",
       "      <th>1</th>\n",
       "      <td>0</td>\n",
       "      <td>1</td>\n",
       "      <td>0</td>\n",
       "      <td>T</td>\n",
       "      <td>Y</td>\n",
       "      <td>Green</td>\n",
       "      <td>Trapezoid</td>\n",
       "      <td>Hamster</td>\n",
       "      <td>Russia</td>\n",
       "      <td>Piano</td>\n",
       "      <td>...</td>\n",
       "      <td>4cd920251</td>\n",
       "      <td>f83c56c21</td>\n",
       "      <td>1</td>\n",
       "      <td>Grandmaster</td>\n",
       "      <td>Hot</td>\n",
       "      <td>a</td>\n",
       "      <td>A</td>\n",
       "      <td>bF</td>\n",
       "      <td>7</td>\n",
       "      <td>8</td>\n",
       "    </tr>\n",
       "    <tr>\n",
       "      <th>2</th>\n",
       "      <td>0</td>\n",
       "      <td>0</td>\n",
       "      <td>0</td>\n",
       "      <td>F</td>\n",
       "      <td>Y</td>\n",
       "      <td>Blue</td>\n",
       "      <td>Trapezoid</td>\n",
       "      <td>Lion</td>\n",
       "      <td>Russia</td>\n",
       "      <td>Theremin</td>\n",
       "      <td>...</td>\n",
       "      <td>de9c9f684</td>\n",
       "      <td>ae6800dd0</td>\n",
       "      <td>1</td>\n",
       "      <td>Expert</td>\n",
       "      <td>Lava Hot</td>\n",
       "      <td>h</td>\n",
       "      <td>R</td>\n",
       "      <td>Jc</td>\n",
       "      <td>7</td>\n",
       "      <td>2</td>\n",
       "    </tr>\n",
       "    <tr>\n",
       "      <th>3</th>\n",
       "      <td>0</td>\n",
       "      <td>1</td>\n",
       "      <td>0</td>\n",
       "      <td>F</td>\n",
       "      <td>Y</td>\n",
       "      <td>Red</td>\n",
       "      <td>Trapezoid</td>\n",
       "      <td>Snake</td>\n",
       "      <td>Canada</td>\n",
       "      <td>Oboe</td>\n",
       "      <td>...</td>\n",
       "      <td>4ade6ab69</td>\n",
       "      <td>8270f0d71</td>\n",
       "      <td>1</td>\n",
       "      <td>Grandmaster</td>\n",
       "      <td>Boiling Hot</td>\n",
       "      <td>i</td>\n",
       "      <td>D</td>\n",
       "      <td>kW</td>\n",
       "      <td>2</td>\n",
       "      <td>1</td>\n",
       "    </tr>\n",
       "    <tr>\n",
       "      <th>4</th>\n",
       "      <td>0</td>\n",
       "      <td>0</td>\n",
       "      <td>0</td>\n",
       "      <td>F</td>\n",
       "      <td>N</td>\n",
       "      <td>Red</td>\n",
       "      <td>Trapezoid</td>\n",
       "      <td>Lion</td>\n",
       "      <td>Canada</td>\n",
       "      <td>Oboe</td>\n",
       "      <td>...</td>\n",
       "      <td>cb43ab175</td>\n",
       "      <td>b164b72a7</td>\n",
       "      <td>1</td>\n",
       "      <td>Grandmaster</td>\n",
       "      <td>Freezing</td>\n",
       "      <td>a</td>\n",
       "      <td>R</td>\n",
       "      <td>qP</td>\n",
       "      <td>7</td>\n",
       "      <td>8</td>\n",
       "    </tr>\n",
       "    <tr>\n",
       "      <th>...</th>\n",
       "      <td>...</td>\n",
       "      <td>...</td>\n",
       "      <td>...</td>\n",
       "      <td>...</td>\n",
       "      <td>...</td>\n",
       "      <td>...</td>\n",
       "      <td>...</td>\n",
       "      <td>...</td>\n",
       "      <td>...</td>\n",
       "      <td>...</td>\n",
       "      <td>...</td>\n",
       "      <td>...</td>\n",
       "      <td>...</td>\n",
       "      <td>...</td>\n",
       "      <td>...</td>\n",
       "      <td>...</td>\n",
       "      <td>...</td>\n",
       "      <td>...</td>\n",
       "      <td>...</td>\n",
       "      <td>...</td>\n",
       "      <td>...</td>\n",
       "    </tr>\n",
       "    <tr>\n",
       "      <th>499995</th>\n",
       "      <td>0</td>\n",
       "      <td>0</td>\n",
       "      <td>0</td>\n",
       "      <td>F</td>\n",
       "      <td>N</td>\n",
       "      <td>Green</td>\n",
       "      <td>Square</td>\n",
       "      <td>Lion</td>\n",
       "      <td>Canada</td>\n",
       "      <td>Theremin</td>\n",
       "      <td>...</td>\n",
       "      <td>9e4b23160</td>\n",
       "      <td>acc31291f</td>\n",
       "      <td>1</td>\n",
       "      <td>Novice</td>\n",
       "      <td>Lava Hot</td>\n",
       "      <td>j</td>\n",
       "      <td>A</td>\n",
       "      <td>Gb</td>\n",
       "      <td>1</td>\n",
       "      <td>3</td>\n",
       "    </tr>\n",
       "    <tr>\n",
       "      <th>499996</th>\n",
       "      <td>1</td>\n",
       "      <td>0</td>\n",
       "      <td>0</td>\n",
       "      <td>F</td>\n",
       "      <td>Y</td>\n",
       "      <td>Green</td>\n",
       "      <td>Trapezoid</td>\n",
       "      <td>Lion</td>\n",
       "      <td>China</td>\n",
       "      <td>Piano</td>\n",
       "      <td>...</td>\n",
       "      <td>cfbd87ed0</td>\n",
       "      <td>eae3446d0</td>\n",
       "      <td>1</td>\n",
       "      <td>Contributor</td>\n",
       "      <td>Lava Hot</td>\n",
       "      <td>f</td>\n",
       "      <td>S</td>\n",
       "      <td>Ed</td>\n",
       "      <td>2</td>\n",
       "      <td>2</td>\n",
       "    </tr>\n",
       "    <tr>\n",
       "      <th>499997</th>\n",
       "      <td>0</td>\n",
       "      <td>1</td>\n",
       "      <td>1</td>\n",
       "      <td>T</td>\n",
       "      <td>Y</td>\n",
       "      <td>Green</td>\n",
       "      <td>Trapezoid</td>\n",
       "      <td>Lion</td>\n",
       "      <td>Canada</td>\n",
       "      <td>Oboe</td>\n",
       "      <td>...</td>\n",
       "      <td>1108bcd6c</td>\n",
       "      <td>33dd3cf4b</td>\n",
       "      <td>1</td>\n",
       "      <td>Novice</td>\n",
       "      <td>Boiling Hot</td>\n",
       "      <td>g</td>\n",
       "      <td>V</td>\n",
       "      <td>TR</td>\n",
       "      <td>3</td>\n",
       "      <td>1</td>\n",
       "    </tr>\n",
       "    <tr>\n",
       "      <th>499998</th>\n",
       "      <td>1</td>\n",
       "      <td>0</td>\n",
       "      <td>0</td>\n",
       "      <td>T</td>\n",
       "      <td>Y</td>\n",
       "      <td>Blue</td>\n",
       "      <td>Star</td>\n",
       "      <td>Hamster</td>\n",
       "      <td>Costa Rica</td>\n",
       "      <td>Bassoon</td>\n",
       "      <td>...</td>\n",
       "      <td>606ac930b</td>\n",
       "      <td>d4cf587dd</td>\n",
       "      <td>2</td>\n",
       "      <td>Grandmaster</td>\n",
       "      <td>Boiling Hot</td>\n",
       "      <td>g</td>\n",
       "      <td>X</td>\n",
       "      <td>Ye</td>\n",
       "      <td>2</td>\n",
       "      <td>1</td>\n",
       "    </tr>\n",
       "    <tr>\n",
       "      <th>499999</th>\n",
       "      <td>0</td>\n",
       "      <td>0</td>\n",
       "      <td>0</td>\n",
       "      <td>T</td>\n",
       "      <td>Y</td>\n",
       "      <td>Green</td>\n",
       "      <td>Star</td>\n",
       "      <td>Lion</td>\n",
       "      <td>India</td>\n",
       "      <td>Piano</td>\n",
       "      <td>...</td>\n",
       "      <td>4ea576eb6</td>\n",
       "      <td>2d610f52c</td>\n",
       "      <td>2</td>\n",
       "      <td>Novice</td>\n",
       "      <td>Freezing</td>\n",
       "      <td>l</td>\n",
       "      <td>J</td>\n",
       "      <td>ex</td>\n",
       "      <td>2</td>\n",
       "      <td>2</td>\n",
       "    </tr>\n",
       "  </tbody>\n",
       "</table>\n",
       "<p>500000 rows × 23 columns</p>\n",
       "</div>"
      ],
      "text/plain": [
       "        bin_0  bin_1  bin_2 bin_3 bin_4  nom_0      nom_1    nom_2  \\\n",
       "id                                                                   \n",
       "0           0      0      0     T     Y  Green   Triangle    Snake   \n",
       "1           0      1      0     T     Y  Green  Trapezoid  Hamster   \n",
       "2           0      0      0     F     Y   Blue  Trapezoid     Lion   \n",
       "3           0      1      0     F     Y    Red  Trapezoid    Snake   \n",
       "4           0      0      0     F     N    Red  Trapezoid     Lion   \n",
       "...       ...    ...    ...   ...   ...    ...        ...      ...   \n",
       "499995      0      0      0     F     N  Green     Square     Lion   \n",
       "499996      1      0      0     F     Y  Green  Trapezoid     Lion   \n",
       "499997      0      1      1     T     Y  Green  Trapezoid     Lion   \n",
       "499998      1      0      0     T     Y   Blue       Star  Hamster   \n",
       "499999      0      0      0     T     Y  Green       Star     Lion   \n",
       "\n",
       "             nom_3     nom_4  ...      nom_8      nom_9 ord_0        ord_1  \\\n",
       "id                            ...                                            \n",
       "0          Finland   Bassoon  ...  c389000ab  2f4cb3d51     2  Grandmaster   \n",
       "1           Russia     Piano  ...  4cd920251  f83c56c21     1  Grandmaster   \n",
       "2           Russia  Theremin  ...  de9c9f684  ae6800dd0     1       Expert   \n",
       "3           Canada      Oboe  ...  4ade6ab69  8270f0d71     1  Grandmaster   \n",
       "4           Canada      Oboe  ...  cb43ab175  b164b72a7     1  Grandmaster   \n",
       "...            ...       ...  ...        ...        ...   ...          ...   \n",
       "499995      Canada  Theremin  ...  9e4b23160  acc31291f     1       Novice   \n",
       "499996       China     Piano  ...  cfbd87ed0  eae3446d0     1  Contributor   \n",
       "499997      Canada      Oboe  ...  1108bcd6c  33dd3cf4b     1       Novice   \n",
       "499998  Costa Rica   Bassoon  ...  606ac930b  d4cf587dd     2  Grandmaster   \n",
       "499999       India     Piano  ...  4ea576eb6  2d610f52c     2       Novice   \n",
       "\n",
       "              ord_2  ord_3 ord_4 ord_5 day month  \n",
       "id                                                \n",
       "0              Cold      h     D    kr   2     2  \n",
       "1               Hot      a     A    bF   7     8  \n",
       "2          Lava Hot      h     R    Jc   7     2  \n",
       "3       Boiling Hot      i     D    kW   2     1  \n",
       "4          Freezing      a     R    qP   7     8  \n",
       "...             ...    ...   ...   ...  ..   ...  \n",
       "499995     Lava Hot      j     A    Gb   1     3  \n",
       "499996     Lava Hot      f     S    Ed   2     2  \n",
       "499997  Boiling Hot      g     V    TR   3     1  \n",
       "499998  Boiling Hot      g     X    Ye   2     1  \n",
       "499999     Freezing      l     J    ex   2     2  \n",
       "\n",
       "[500000 rows x 23 columns]"
      ]
     },
     "execution_count": 31,
     "metadata": {},
     "output_type": "execute_result"
    }
   ],
   "source": [
    "all_data = pd.concat([train, test]) # 훈련 데이터와 테스트 데이터 합치기 \n",
    "all_data = all_data.drop('target', axis=1) # 타깃값 제거\n",
    "all_data"
   ]
  },
  {
   "cell_type": "code",
   "execution_count": 32,
   "metadata": {},
   "outputs": [],
   "source": [
    "from sklearn.preprocessing import OneHotEncoder\n",
    "\n",
    "encoder = OneHotEncoder() # 원-핫 인코더 생성\n",
    "all_data_encoded = encoder.fit_transform(all_data) # 원-핫 인코딩 적용"
   ]
  },
  {
   "cell_type": "code",
   "execution_count": 34,
   "metadata": {},
   "outputs": [],
   "source": [
    "num_train = len(train) # 훈련 데이터 개수\n",
    "\n",
    "# 훈련 데이터와 테스트 데이터 나누기\n",
    "X_train = all_data_encoded[:num_train] # 0 ~ num_train - 1행\n",
    "X_test = all_data_encoded[num_train:] # num_train ~ 마지막 행\n",
    "\n",
    "y = train['target']"
   ]
  },
  {
   "cell_type": "code",
   "execution_count": 35,
   "metadata": {},
   "outputs": [],
   "source": [
    "from sklearn.model_selection import train_test_split\n",
    "\n",
    "# 훈련 데이터, 검증 데이터 분리\n",
    "X_train, X_valid, y_train, y_valid = train_test_split(X_train, y,\n",
    "                                                      test_size=0.1,\n",
    "                                                      stratify=y,\n",
    "                                                      random_state=10)"
   ]
  },
  {
   "cell_type": "code",
   "execution_count": 36,
   "metadata": {},
   "outputs": [
    {
     "data": {
      "text/html": [
       "<style>#sk-container-id-1 {color: black;background-color: white;}#sk-container-id-1 pre{padding: 0;}#sk-container-id-1 div.sk-toggleable {background-color: white;}#sk-container-id-1 label.sk-toggleable__label {cursor: pointer;display: block;width: 100%;margin-bottom: 0;padding: 0.3em;box-sizing: border-box;text-align: center;}#sk-container-id-1 label.sk-toggleable__label-arrow:before {content: \"▸\";float: left;margin-right: 0.25em;color: #696969;}#sk-container-id-1 label.sk-toggleable__label-arrow:hover:before {color: black;}#sk-container-id-1 div.sk-estimator:hover label.sk-toggleable__label-arrow:before {color: black;}#sk-container-id-1 div.sk-toggleable__content {max-height: 0;max-width: 0;overflow: hidden;text-align: left;background-color: #f0f8ff;}#sk-container-id-1 div.sk-toggleable__content pre {margin: 0.2em;color: black;border-radius: 0.25em;background-color: #f0f8ff;}#sk-container-id-1 input.sk-toggleable__control:checked~div.sk-toggleable__content {max-height: 200px;max-width: 100%;overflow: auto;}#sk-container-id-1 input.sk-toggleable__control:checked~label.sk-toggleable__label-arrow:before {content: \"▾\";}#sk-container-id-1 div.sk-estimator input.sk-toggleable__control:checked~label.sk-toggleable__label {background-color: #d4ebff;}#sk-container-id-1 div.sk-label input.sk-toggleable__control:checked~label.sk-toggleable__label {background-color: #d4ebff;}#sk-container-id-1 input.sk-hidden--visually {border: 0;clip: rect(1px 1px 1px 1px);clip: rect(1px, 1px, 1px, 1px);height: 1px;margin: -1px;overflow: hidden;padding: 0;position: absolute;width: 1px;}#sk-container-id-1 div.sk-estimator {font-family: monospace;background-color: #f0f8ff;border: 1px dotted black;border-radius: 0.25em;box-sizing: border-box;margin-bottom: 0.5em;}#sk-container-id-1 div.sk-estimator:hover {background-color: #d4ebff;}#sk-container-id-1 div.sk-parallel-item::after {content: \"\";width: 100%;border-bottom: 1px solid gray;flex-grow: 1;}#sk-container-id-1 div.sk-label:hover label.sk-toggleable__label {background-color: #d4ebff;}#sk-container-id-1 div.sk-serial::before {content: \"\";position: absolute;border-left: 1px solid gray;box-sizing: border-box;top: 0;bottom: 0;left: 50%;z-index: 0;}#sk-container-id-1 div.sk-serial {display: flex;flex-direction: column;align-items: center;background-color: white;padding-right: 0.2em;padding-left: 0.2em;position: relative;}#sk-container-id-1 div.sk-item {position: relative;z-index: 1;}#sk-container-id-1 div.sk-parallel {display: flex;align-items: stretch;justify-content: center;background-color: white;position: relative;}#sk-container-id-1 div.sk-item::before, #sk-container-id-1 div.sk-parallel-item::before {content: \"\";position: absolute;border-left: 1px solid gray;box-sizing: border-box;top: 0;bottom: 0;left: 50%;z-index: -1;}#sk-container-id-1 div.sk-parallel-item {display: flex;flex-direction: column;z-index: 1;position: relative;background-color: white;}#sk-container-id-1 div.sk-parallel-item:first-child::after {align-self: flex-end;width: 50%;}#sk-container-id-1 div.sk-parallel-item:last-child::after {align-self: flex-start;width: 50%;}#sk-container-id-1 div.sk-parallel-item:only-child::after {width: 0;}#sk-container-id-1 div.sk-dashed-wrapped {border: 1px dashed gray;margin: 0 0.4em 0.5em 0.4em;box-sizing: border-box;padding-bottom: 0.4em;background-color: white;}#sk-container-id-1 div.sk-label label {font-family: monospace;font-weight: bold;display: inline-block;line-height: 1.2em;}#sk-container-id-1 div.sk-label-container {text-align: center;}#sk-container-id-1 div.sk-container {/* jupyter's `normalize.less` sets `[hidden] { display: none; }` but bootstrap.min.css set `[hidden] { display: none !important; }` so we also need the `!important` here to be able to override the default hidden behavior on the sphinx rendered scikit-learn.org. See: https://github.com/scikit-learn/scikit-learn/issues/21755 */display: inline-block !important;position: relative;}#sk-container-id-1 div.sk-text-repr-fallback {display: none;}</style><div id=\"sk-container-id-1\" class=\"sk-top-container\"><div class=\"sk-text-repr-fallback\"><pre>LogisticRegression(max_iter=1000, random_state=42)</pre><b>In a Jupyter environment, please rerun this cell to show the HTML representation or trust the notebook. <br />On GitHub, the HTML representation is unable to render, please try loading this page with nbviewer.org.</b></div><div class=\"sk-container\" hidden><div class=\"sk-item\"><div class=\"sk-estimator sk-toggleable\"><input class=\"sk-toggleable__control sk-hidden--visually\" id=\"sk-estimator-id-1\" type=\"checkbox\" checked><label for=\"sk-estimator-id-1\" class=\"sk-toggleable__label sk-toggleable__label-arrow\">LogisticRegression</label><div class=\"sk-toggleable__content\"><pre>LogisticRegression(max_iter=1000, random_state=42)</pre></div></div></div></div></div>"
      ],
      "text/plain": [
       "LogisticRegression(max_iter=1000, random_state=42)"
      ]
     },
     "execution_count": 36,
     "metadata": {},
     "output_type": "execute_result"
    }
   ],
   "source": [
    "from sklearn.linear_model import LogisticRegression\n",
    "\n",
    "logistic_model = LogisticRegression(max_iter=1000, random_state=42) # 모델 생성\n",
    "logistic_model.fit(X_train, y_train) # 모델 훈련"
   ]
  },
  {
   "cell_type": "code",
   "execution_count": 37,
   "metadata": {},
   "outputs": [
    {
     "data": {
      "text/plain": [
       "array([[0.23272112, 0.76727888],\n",
       "       [0.91405995, 0.08594005],\n",
       "       [0.83036991, 0.16963009],\n",
       "       ...,\n",
       "       [0.24883025, 0.75116975],\n",
       "       [0.49484828, 0.50515172],\n",
       "       [0.95653185, 0.04346815]])"
      ]
     },
     "execution_count": 37,
     "metadata": {},
     "output_type": "execute_result"
    }
   ],
   "source": [
    "logistic_model.predict_proba(X_valid)"
   ]
  },
  {
   "cell_type": "code",
   "execution_count": 38,
   "metadata": {},
   "outputs": [],
   "source": [
    "# 검증 데이터를 활용한 타깃 예측 \n",
    "y_valid_preds = logistic_model.predict_proba(X_valid)[:, 1]"
   ]
  },
  {
   "cell_type": "code",
   "execution_count": 39,
   "metadata": {},
   "outputs": [
    {
     "name": "stdout",
     "output_type": "stream",
     "text": [
      "검증 데이터 ROC AUC : 0.7965\n"
     ]
    }
   ],
   "source": [
    "from sklearn.metrics import roc_auc_score # ROC AUC 점수 계산 함수\n",
    "\n",
    "# 검증 데이터 ROC AUC\n",
    "roc_auc = roc_auc_score(y_valid, y_valid_preds)\n",
    "\n",
    "print(f'검증 데이터 ROC AUC : {roc_auc:.4f}')"
   ]
  },
  {
   "cell_type": "markdown",
   "metadata": {},
   "source": [
    "# Modeling"
   ]
  },
  {
   "cell_type": "code",
   "execution_count": 40,
   "metadata": {},
   "outputs": [],
   "source": [
    "import pandas as pd\n",
    "# 데이터 경로\n",
    "\n",
    "train = pd.read_csv('train.csv', index_col='id')\n",
    "test = pd.read_csv('test.csv', index_col='id')\n",
    "submission = pd.read_csv('sample_submission.csv', index_col='id')"
   ]
  },
  {
   "cell_type": "code",
   "execution_count": 41,
   "metadata": {},
   "outputs": [],
   "source": [
    "# 훈련 데이터와 테스트 데이터 합치기\n",
    "all_data = pd.concat([train, test])\n",
    "all_data = all_data.drop('target', axis=1) # 타깃값 제거"
   ]
  },
  {
   "cell_type": "code",
   "execution_count": 42,
   "metadata": {},
   "outputs": [],
   "source": [
    "all_data['bin_3'] = all_data['bin_3'].map({'F':0, 'T':1})\n",
    "all_data['bin_4'] = all_data['bin_4'].map({'N':0, 'Y':1})"
   ]
  },
  {
   "cell_type": "code",
   "execution_count": 43,
   "metadata": {},
   "outputs": [],
   "source": [
    "ord1dict = {'Novice':0, 'Contributor':1, \n",
    "            'Expert':2, 'Master':3, 'Grandmaster':4}\n",
    "ord2dict = {'Freezing':0, 'Cold':1, 'Warm':2, \n",
    "            'Hot':3, 'Boiling Hot':4, 'Lava Hot':5}\n",
    "\n",
    "all_data['ord_1'] = all_data['ord_1'].map(ord1dict)\n",
    "all_data['ord_2'] = all_data['ord_2'].map(ord2dict)"
   ]
  },
  {
   "cell_type": "code",
   "execution_count": 44,
   "metadata": {},
   "outputs": [
    {
     "name": "stdout",
     "output_type": "stream",
     "text": [
      "ord_3\n",
      "['a' 'b' 'c' 'd' 'e' 'f' 'g' 'h' 'i' 'j' 'k' 'l' 'm' 'n' 'o']\n",
      "ord_4\n",
      "['A' 'B' 'C' 'D' 'E' 'F' 'G' 'H' 'I' 'J' 'K' 'L' 'M' 'N' 'O' 'P' 'Q' 'R'\n",
      " 'S' 'T' 'U' 'V' 'W' 'X' 'Y' 'Z']\n",
      "ord_5\n",
      "['AP' 'Ai' 'Aj' 'BA' 'BE' 'Bb' 'Bd' 'Bn' 'CL' 'CM' 'CU' 'CZ' 'Cl' 'DH'\n",
      " 'DN' 'Dc' 'Dx' 'Ed' 'Eg' 'Er' 'FI' 'Fd' 'Fo' 'GD' 'GJ' 'Gb' 'Gx' 'Hj'\n",
      " 'IK' 'Id' 'JX' 'Jc' 'Jf' 'Jt' 'KR' 'KZ' 'Kf' 'Kq' 'LE' 'MC' 'MO' 'MV'\n",
      " 'Mf' 'Ml' 'Mx' 'NV' 'Nf' 'Nk' 'OR' 'Ob' 'Os' 'PA' 'PQ' 'PZ' 'Ps' 'QM'\n",
      " 'Qb' 'Qh' 'Qo' 'RG' 'RL' 'RP' 'Rm' 'Ry' 'SB' 'Sc' 'TR' 'TZ' 'To' 'UO'\n",
      " 'Uk' 'Uu' 'Vf' 'Vx' 'WE' 'Wc' 'Wv' 'XI' 'Xh' 'Xi' 'YC' 'Yb' 'Ye' 'ZR'\n",
      " 'ZS' 'Zc' 'Zq' 'aF' 'aM' 'aO' 'aP' 'ac' 'av' 'bF' 'bJ' 'be' 'cA' 'cG'\n",
      " 'cW' 'ck' 'cp' 'dB' 'dE' 'dN' 'dO' 'dP' 'dQ' 'dZ' 'dh' 'eG' 'eQ' 'eb'\n",
      " 'eg' 'ek' 'ex' 'fO' 'fh' 'gJ' 'gM' 'hL' 'hT' 'hh' 'hp' 'iT' 'ih' 'jS'\n",
      " 'jV' 'je' 'jp' 'kC' 'kE' 'kK' 'kL' 'kU' 'kW' 'ke' 'kr' 'kw' 'lF' 'lL'\n",
      " 'll' 'lx' 'mb' 'mc' 'mm' 'nX' 'nh' 'oC' 'oG' 'oH' 'oK' 'od' 'on' 'pa'\n",
      " 'ps' 'qA' 'qJ' 'qK' 'qP' 'qX' 'qo' 'qv' 'qw' 'rZ' 'ri' 'rp' 'sD' 'sV'\n",
      " 'sY' 'sn' 'su' 'tM' 'tP' 'tv' 'uJ' 'uS' 'ud' 'us' 'ut' 'ux' 'uy' 'vK'\n",
      " 'vq' 'vy' 'wu' 'wy' 'xP' 'xy' 'yN' 'yY' 'yc' 'zU']\n"
     ]
    }
   ],
   "source": [
    "from sklearn.preprocessing import OrdinalEncoder\n",
    "\n",
    "ord_345 = ['ord_3', 'ord_4', 'ord_5']\n",
    "\n",
    "ord_encoder = OrdinalEncoder() # OrdinalEncoder 객체 생성\n",
    "# ordinal 인코딩 적용\n",
    "all_data[ord_345] = ord_encoder.fit_transform(all_data[ord_345])\n",
    "\n",
    "# 피처별 인코딩 순서 출력\n",
    "for feature, categories in zip(ord_345, ord_encoder.categories_):\n",
    "    print(feature)\n",
    "    print(categories)"
   ]
  },
  {
   "cell_type": "code",
   "execution_count": 45,
   "metadata": {},
   "outputs": [],
   "source": [
    "nom_features = ['nom_' + str(i) for i in range(10)] # 명목형 피처"
   ]
  },
  {
   "cell_type": "code",
   "execution_count": 46,
   "metadata": {},
   "outputs": [
    {
     "data": {
      "text/plain": [
       "<500000x16276 sparse matrix of type '<class 'numpy.float64'>'\n",
       "\twith 5000000 stored elements in Compressed Sparse Row format>"
      ]
     },
     "execution_count": 46,
     "metadata": {},
     "output_type": "execute_result"
    }
   ],
   "source": [
    "from sklearn.preprocessing import OneHotEncoder\n",
    "\n",
    "onehot_encoder = OneHotEncoder() # OneHotEncoder 객체 생성\n",
    "# 원-핫 인코딩 적용\n",
    "encoded_nom_matrix = onehot_encoder.fit_transform(all_data[nom_features])\n",
    "\n",
    "encoded_nom_matrix"
   ]
  },
  {
   "cell_type": "code",
   "execution_count": 47,
   "metadata": {},
   "outputs": [],
   "source": [
    "all_data = all_data.drop(nom_features, axis=1) # 기존 명목형 피처 삭제"
   ]
  },
  {
   "cell_type": "code",
   "execution_count": 48,
   "metadata": {},
   "outputs": [
    {
     "data": {
      "text/plain": [
       "<500000x19 sparse matrix of type '<class 'numpy.float64'>'\n",
       "\twith 1000000 stored elements in Compressed Sparse Row format>"
      ]
     },
     "execution_count": 48,
     "metadata": {},
     "output_type": "execute_result"
    }
   ],
   "source": [
    "date_features  = ['day', 'month'] # 날짜 피처\n",
    "\n",
    "# 원-핫 인코딩 적용\n",
    "encoded_date_matrix = onehot_encoder.fit_transform(all_data[date_features])\n",
    "\n",
    "all_data = all_data.drop(date_features, axis=1) # 기존 날짜 피처 삭제\n",
    "\n",
    "encoded_date_matrix"
   ]
  },
  {
   "cell_type": "code",
   "execution_count": 49,
   "metadata": {},
   "outputs": [],
   "source": [
    "from sklearn.preprocessing import MinMaxScaler\n",
    "\n",
    "ord_features = ['ord_' + str(i) for i in range(6)] # 순서형 피처\n",
    "# min-max 정규화\n",
    "all_data[ord_features] = MinMaxScaler().fit_transform(all_data[ord_features])"
   ]
  },
  {
   "cell_type": "code",
   "execution_count": 50,
   "metadata": {},
   "outputs": [],
   "source": [
    "from scipy import sparse\n",
    "\n",
    "# 인코딩 및 스케일링된 피처 합치기\n",
    "all_data_sprs = sparse.hstack([sparse.csr_matrix(all_data),\n",
    "                               encoded_nom_matrix,\n",
    "                               encoded_date_matrix],\n",
    "                              format='csr')"
   ]
  },
  {
   "cell_type": "code",
   "execution_count": 51,
   "metadata": {},
   "outputs": [
    {
     "data": {
      "text/plain": [
       "<500000x16306 sparse matrix of type '<class 'numpy.float64'>'\n",
       "\twith 9163718 stored elements in Compressed Sparse Row format>"
      ]
     },
     "execution_count": 51,
     "metadata": {},
     "output_type": "execute_result"
    }
   ],
   "source": [
    "all_data_sprs"
   ]
  },
  {
   "cell_type": "code",
   "execution_count": 52,
   "metadata": {},
   "outputs": [],
   "source": [
    "num_train = len(train) # 훈련 데이터 개수\n",
    "\n",
    "# 훈련 데이터와 테스트 데이터 나누기\n",
    "X_train = all_data_sprs[:num_train] # 0 ~ num_train - 1행\n",
    "X_test = all_data_sprs[num_train:] # num_train ~ 마지막 행\n",
    "\n",
    "y = train['target']"
   ]
  },
  {
   "cell_type": "code",
   "execution_count": 53,
   "metadata": {},
   "outputs": [
    {
     "name": "stdout",
     "output_type": "stream",
     "text": [
      "최적 하이퍼파라미터: {'C': 0.125, 'max_iter': 800, 'random_state': 42, 'solver': 'liblinear'}\n",
      "CPU times: user 1min 33s, sys: 2.67 s, total: 1min 36s\n",
      "Wall time: 1min 35s\n"
     ]
    }
   ],
   "source": [
    "%%time\n",
    "\n",
    "from sklearn.model_selection import GridSearchCV\n",
    "from sklearn.linear_model import LogisticRegression\n",
    "\n",
    "# 로지스틱 회귀 모델 생성\n",
    "logistic_model = LogisticRegression()\n",
    "\n",
    "# 하이퍼파라미터 값 목록\n",
    "lr_params = {'C':[0.1, 0.125, 0.2], 'max_iter':[800, 900, 1000], \n",
    "             'solver':['liblinear'], 'random_state':[42]}\n",
    "\n",
    "# 그리드서치 객체 생성\n",
    "gridsearch_logistic_model = GridSearchCV(estimator=logistic_model,\n",
    "                                         param_grid=lr_params,\n",
    "                                         scoring='roc_auc', # 평가지표\n",
    "                                         cv=5)\n",
    "# 그리드서치 수행\n",
    "gridsearch_logistic_model.fit(X_train, y)\n",
    "\n",
    "print('최적 하이퍼파라미터:', gridsearch_logistic_model.best_params_)"
   ]
  },
  {
   "cell_type": "code",
   "execution_count": 55,
   "metadata": {},
   "outputs": [],
   "source": [
    "# 타깃값 1일 확률 예측\n",
    "y_preds = gridsearch_logistic_model.best_estimator_.predict_proba(X_test)[:,1]\n",
    "\n",
    "# 제출 파일 생성\n",
    "submission['target'] = y_preds\n",
    "submission.to_csv('submission.csv')"
   ]
  }
 ],
 "metadata": {
  "kernelspec": {
   "display_name": "Python 3 (ipykernel)",
   "language": "python",
   "name": "python3"
  },
  "language_info": {
   "codemirror_mode": {
    "name": "ipython",
    "version": 3
   },
   "file_extension": ".py",
   "mimetype": "text/x-python",
   "name": "python",
   "nbconvert_exporter": "python",
   "pygments_lexer": "ipython3",
   "version": "3.9.12"
  }
 },
 "nbformat": 4,
 "nbformat_minor": 4
}
