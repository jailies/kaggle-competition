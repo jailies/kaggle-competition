{
 "cells": [
  {
   "cell_type": "code",
   "execution_count": 1,
   "metadata": {
    "_cell_guid": "b1076dfc-b9ad-4769-8c92-a6c4dae69d19",
    "_uuid": "8f2839f25d086af736a60e9eeb907d3b93b6e0e5",
    "execution": {
     "iopub.execute_input": "2022-11-28T07:25:49.326691Z",
     "iopub.status.busy": "2022-11-28T07:25:49.326270Z",
     "iopub.status.idle": "2022-11-28T07:25:49.351469Z",
     "shell.execute_reply": "2022-11-28T07:25:49.350279Z",
     "shell.execute_reply.started": "2022-11-28T07:25:49.326663Z"
    }
   },
   "outputs": [],
   "source": [
    "# This Python 3 environment comes with many helpful analytics libraries installed\n",
    "# It is defined by the kaggle/python Docker image: https://github.com/kaggle/docker-python\n",
    "# For example, here's several helpful packages to load\n",
    "\n",
    "import numpy as np # linear algebra\n",
    "import pandas as pd # data processing, CSV file I/O (e.g. pd.read_csv)\n",
    "\n",
    "# Input data files are available in the read-only \"../input/\" directory\n",
    "# For example, running this (by clicking run or pressing Shift+Enter) will list all files under the input directory\n",
    "\n",
    "import os\n",
    "for dirname, _, filenames in os.walk('/kaggle/input'):\n",
    "    for filename in filenames:\n",
    "        print(os.path.join(dirname, filename))\n",
    "\n",
    "# You can write up to 20GB to the current directory (/kaggle/working/) that gets preserved as output when you create a version using \"Save & Run All\" \n",
    "# You can also write temporary files to /kaggle/temp/, but they won't be saved outside of the current session"
   ]
  },
  {
   "cell_type": "code",
   "execution_count": 2,
   "metadata": {
    "execution": {
     "iopub.execute_input": "2022-11-28T07:25:49.353537Z",
     "iopub.status.busy": "2022-11-28T07:25:49.353106Z",
     "iopub.status.idle": "2022-11-28T07:25:50.504529Z",
     "shell.execute_reply": "2022-11-28T07:25:50.503404Z",
     "shell.execute_reply.started": "2022-11-28T07:25:49.353502Z"
    }
   },
   "outputs": [],
   "source": [
    "import pandas as pd\n",
    "\n",
    "# 데이터 경로\n",
    "sales_train = pd.read_csv('sales_train.csv')\n",
    "shops = pd.read_csv('shops.csv')\n",
    "items = pd.read_csv('items.csv')\n",
    "item_categories = pd.read_csv('item_categories.csv')\n",
    "test = pd.read_csv('test.csv')\n",
    "submission = pd.read_csv('sample_submission.csv')"
   ]
  },
  {
   "cell_type": "code",
   "execution_count": 31,
   "metadata": {
    "execution": {
     "iopub.execute_input": "2022-11-28T07:25:50.506045Z",
     "iopub.status.busy": "2022-11-28T07:25:50.505598Z",
     "iopub.status.idle": "2022-11-28T07:25:50.520638Z",
     "shell.execute_reply": "2022-11-28T07:25:50.518567Z",
     "shell.execute_reply.started": "2022-11-28T07:25:50.506020Z"
    }
   },
   "outputs": [
    {
     "data": {
      "text/html": [
       "<div>\n",
       "<style scoped>\n",
       "    .dataframe tbody tr th:only-of-type {\n",
       "        vertical-align: middle;\n",
       "    }\n",
       "\n",
       "    .dataframe tbody tr th {\n",
       "        vertical-align: top;\n",
       "    }\n",
       "\n",
       "    .dataframe thead th {\n",
       "        text-align: right;\n",
       "    }\n",
       "</style>\n",
       "<table border=\"1\" class=\"dataframe\">\n",
       "  <thead>\n",
       "    <tr style=\"text-align: right;\">\n",
       "      <th></th>\n",
       "      <th>date</th>\n",
       "      <th>date_block_num</th>\n",
       "      <th>shop_id</th>\n",
       "      <th>item_id</th>\n",
       "      <th>item_price</th>\n",
       "      <th>item_cnt_day</th>\n",
       "    </tr>\n",
       "  </thead>\n",
       "  <tbody>\n",
       "    <tr>\n",
       "      <th>0</th>\n",
       "      <td>02.01.2013</td>\n",
       "      <td>0</td>\n",
       "      <td>59</td>\n",
       "      <td>22154</td>\n",
       "      <td>999.00</td>\n",
       "      <td>1.0</td>\n",
       "    </tr>\n",
       "    <tr>\n",
       "      <th>1</th>\n",
       "      <td>03.01.2013</td>\n",
       "      <td>0</td>\n",
       "      <td>25</td>\n",
       "      <td>2552</td>\n",
       "      <td>899.00</td>\n",
       "      <td>1.0</td>\n",
       "    </tr>\n",
       "    <tr>\n",
       "      <th>2</th>\n",
       "      <td>05.01.2013</td>\n",
       "      <td>0</td>\n",
       "      <td>25</td>\n",
       "      <td>2552</td>\n",
       "      <td>899.00</td>\n",
       "      <td>-1.0</td>\n",
       "    </tr>\n",
       "    <tr>\n",
       "      <th>3</th>\n",
       "      <td>06.01.2013</td>\n",
       "      <td>0</td>\n",
       "      <td>25</td>\n",
       "      <td>2554</td>\n",
       "      <td>1709.05</td>\n",
       "      <td>1.0</td>\n",
       "    </tr>\n",
       "    <tr>\n",
       "      <th>4</th>\n",
       "      <td>15.01.2013</td>\n",
       "      <td>0</td>\n",
       "      <td>25</td>\n",
       "      <td>2555</td>\n",
       "      <td>1099.00</td>\n",
       "      <td>1.0</td>\n",
       "    </tr>\n",
       "  </tbody>\n",
       "</table>\n",
       "</div>"
      ],
      "text/plain": [
       "         date  date_block_num  shop_id  item_id  item_price  item_cnt_day\n",
       "0  02.01.2013               0       59    22154      999.00           1.0\n",
       "1  03.01.2013               0       25     2552      899.00           1.0\n",
       "2  05.01.2013               0       25     2552      899.00          -1.0\n",
       "3  06.01.2013               0       25     2554     1709.05           1.0\n",
       "4  15.01.2013               0       25     2555     1099.00           1.0"
      ]
     },
     "execution_count": 31,
     "metadata": {},
     "output_type": "execute_result"
    }
   ],
   "source": [
    "sales_train.head()"
   ]
  },
  {
   "cell_type": "code",
   "execution_count": 32,
   "metadata": {
    "execution": {
     "iopub.execute_input": "2022-11-28T07:25:50.523595Z",
     "iopub.status.busy": "2022-11-28T07:25:50.523293Z",
     "iopub.status.idle": "2022-11-28T07:25:50.668459Z",
     "shell.execute_reply": "2022-11-28T07:25:50.666737Z",
     "shell.execute_reply.started": "2022-11-28T07:25:50.523570Z"
    }
   },
   "outputs": [
    {
     "name": "stdout",
     "output_type": "stream",
     "text": [
      "<class 'pandas.core.frame.DataFrame'>\n",
      "RangeIndex: 2935849 entries, 0 to 2935848\n",
      "Data columns (total 6 columns):\n",
      " #   Column          Non-Null Count    Dtype  \n",
      "---  ------          --------------    -----  \n",
      " 0   date            2935849 non-null  object \n",
      " 1   date_block_num  2935849 non-null  int64  \n",
      " 2   shop_id         2935849 non-null  int64  \n",
      " 3   item_id         2935849 non-null  int64  \n",
      " 4   item_price      2935849 non-null  float64\n",
      " 5   item_cnt_day    2935849 non-null  float64\n",
      "dtypes: float64(2), int64(3), object(1)\n",
      "memory usage: 134.4+ MB\n"
     ]
    }
   ],
   "source": [
    "sales_train.info(show_counts=True)"
   ]
  },
  {
   "cell_type": "code",
   "execution_count": 33,
   "metadata": {
    "execution": {
     "iopub.execute_input": "2022-11-28T07:25:50.671392Z",
     "iopub.status.busy": "2022-11-28T07:25:50.670396Z",
     "iopub.status.idle": "2022-11-28T07:25:50.686618Z",
     "shell.execute_reply": "2022-11-28T07:25:50.683433Z",
     "shell.execute_reply.started": "2022-11-28T07:25:50.671330Z"
    }
   },
   "outputs": [
    {
     "data": {
      "text/html": [
       "<div>\n",
       "<style scoped>\n",
       "    .dataframe tbody tr th:only-of-type {\n",
       "        vertical-align: middle;\n",
       "    }\n",
       "\n",
       "    .dataframe tbody tr th {\n",
       "        vertical-align: top;\n",
       "    }\n",
       "\n",
       "    .dataframe thead th {\n",
       "        text-align: right;\n",
       "    }\n",
       "</style>\n",
       "<table border=\"1\" class=\"dataframe\">\n",
       "  <thead>\n",
       "    <tr style=\"text-align: right;\">\n",
       "      <th></th>\n",
       "      <th>shop_name</th>\n",
       "      <th>shop_id</th>\n",
       "    </tr>\n",
       "  </thead>\n",
       "  <tbody>\n",
       "    <tr>\n",
       "      <th>0</th>\n",
       "      <td>!Якутск Орджоникидзе, 56 фран</td>\n",
       "      <td>0</td>\n",
       "    </tr>\n",
       "    <tr>\n",
       "      <th>1</th>\n",
       "      <td>!Якутск ТЦ \"Центральный\" фран</td>\n",
       "      <td>1</td>\n",
       "    </tr>\n",
       "    <tr>\n",
       "      <th>2</th>\n",
       "      <td>Адыгея ТЦ \"Мега\"</td>\n",
       "      <td>2</td>\n",
       "    </tr>\n",
       "    <tr>\n",
       "      <th>3</th>\n",
       "      <td>Балашиха ТРК \"Октябрь-Киномир\"</td>\n",
       "      <td>3</td>\n",
       "    </tr>\n",
       "    <tr>\n",
       "      <th>4</th>\n",
       "      <td>Волжский ТЦ \"Волга Молл\"</td>\n",
       "      <td>4</td>\n",
       "    </tr>\n",
       "  </tbody>\n",
       "</table>\n",
       "</div>"
      ],
      "text/plain": [
       "                        shop_name  shop_id\n",
       "0   !Якутск Орджоникидзе, 56 фран        0\n",
       "1   !Якутск ТЦ \"Центральный\" фран        1\n",
       "2                Адыгея ТЦ \"Мега\"        2\n",
       "3  Балашиха ТРК \"Октябрь-Киномир\"        3\n",
       "4        Волжский ТЦ \"Волга Молл\"        4"
      ]
     },
     "execution_count": 33,
     "metadata": {},
     "output_type": "execute_result"
    }
   ],
   "source": [
    "shops.head()"
   ]
  },
  {
   "cell_type": "code",
   "execution_count": 34,
   "metadata": {
    "execution": {
     "iopub.execute_input": "2022-11-28T07:25:50.690727Z",
     "iopub.status.busy": "2022-11-28T07:25:50.690239Z",
     "iopub.status.idle": "2022-11-28T07:25:50.716549Z",
     "shell.execute_reply": "2022-11-28T07:25:50.715531Z",
     "shell.execute_reply.started": "2022-11-28T07:25:50.690681Z"
    }
   },
   "outputs": [
    {
     "name": "stdout",
     "output_type": "stream",
     "text": [
      "<class 'pandas.core.frame.DataFrame'>\n",
      "RangeIndex: 60 entries, 0 to 59\n",
      "Data columns (total 2 columns):\n",
      " #   Column     Non-Null Count  Dtype \n",
      "---  ------     --------------  ----- \n",
      " 0   shop_name  60 non-null     object\n",
      " 1   shop_id    60 non-null     int64 \n",
      "dtypes: int64(1), object(1)\n",
      "memory usage: 1.1+ KB\n"
     ]
    }
   ],
   "source": [
    "shops.info()"
   ]
  },
  {
   "cell_type": "code",
   "execution_count": 35,
   "metadata": {
    "execution": {
     "iopub.execute_input": "2022-11-28T07:25:50.718120Z",
     "iopub.status.busy": "2022-11-28T07:25:50.717657Z",
     "iopub.status.idle": "2022-11-28T07:25:50.750834Z",
     "shell.execute_reply": "2022-11-28T07:25:50.749332Z",
     "shell.execute_reply.started": "2022-11-28T07:25:50.718079Z"
    }
   },
   "outputs": [
    {
     "data": {
      "text/html": [
       "<div>\n",
       "<style scoped>\n",
       "    .dataframe tbody tr th:only-of-type {\n",
       "        vertical-align: middle;\n",
       "    }\n",
       "\n",
       "    .dataframe tbody tr th {\n",
       "        vertical-align: top;\n",
       "    }\n",
       "\n",
       "    .dataframe thead th {\n",
       "        text-align: right;\n",
       "    }\n",
       "</style>\n",
       "<table border=\"1\" class=\"dataframe\">\n",
       "  <thead>\n",
       "    <tr style=\"text-align: right;\">\n",
       "      <th></th>\n",
       "      <th>item_name</th>\n",
       "      <th>item_id</th>\n",
       "      <th>item_category_id</th>\n",
       "    </tr>\n",
       "  </thead>\n",
       "  <tbody>\n",
       "    <tr>\n",
       "      <th>0</th>\n",
       "      <td>! ВО ВЛАСТИ НАВАЖДЕНИЯ (ПЛАСТ.)         D</td>\n",
       "      <td>0</td>\n",
       "      <td>40</td>\n",
       "    </tr>\n",
       "    <tr>\n",
       "      <th>1</th>\n",
       "      <td>!ABBYY FineReader 12 Professional Edition Full...</td>\n",
       "      <td>1</td>\n",
       "      <td>76</td>\n",
       "    </tr>\n",
       "    <tr>\n",
       "      <th>2</th>\n",
       "      <td>***В ЛУЧАХ СЛАВЫ   (UNV)                    D</td>\n",
       "      <td>2</td>\n",
       "      <td>40</td>\n",
       "    </tr>\n",
       "    <tr>\n",
       "      <th>3</th>\n",
       "      <td>***ГОЛУБАЯ ВОЛНА  (Univ)                      D</td>\n",
       "      <td>3</td>\n",
       "      <td>40</td>\n",
       "    </tr>\n",
       "    <tr>\n",
       "      <th>4</th>\n",
       "      <td>***КОРОБКА (СТЕКЛО)                       D</td>\n",
       "      <td>4</td>\n",
       "      <td>40</td>\n",
       "    </tr>\n",
       "  </tbody>\n",
       "</table>\n",
       "</div>"
      ],
      "text/plain": [
       "                                           item_name  item_id  \\\n",
       "0          ! ВО ВЛАСТИ НАВАЖДЕНИЯ (ПЛАСТ.)         D        0   \n",
       "1  !ABBYY FineReader 12 Professional Edition Full...        1   \n",
       "2      ***В ЛУЧАХ СЛАВЫ   (UNV)                    D        2   \n",
       "3    ***ГОЛУБАЯ ВОЛНА  (Univ)                      D        3   \n",
       "4        ***КОРОБКА (СТЕКЛО)                       D        4   \n",
       "\n",
       "   item_category_id  \n",
       "0                40  \n",
       "1                76  \n",
       "2                40  \n",
       "3                40  \n",
       "4                40  "
      ]
     },
     "execution_count": 35,
     "metadata": {},
     "output_type": "execute_result"
    }
   ],
   "source": [
    "items.head()"
   ]
  },
  {
   "cell_type": "code",
   "execution_count": 36,
   "metadata": {
    "execution": {
     "iopub.execute_input": "2022-11-28T07:25:50.754253Z",
     "iopub.status.busy": "2022-11-28T07:25:50.753784Z",
     "iopub.status.idle": "2022-11-28T07:25:50.787808Z",
     "shell.execute_reply": "2022-11-28T07:25:50.786896Z",
     "shell.execute_reply.started": "2022-11-28T07:25:50.754218Z"
    }
   },
   "outputs": [
    {
     "name": "stdout",
     "output_type": "stream",
     "text": [
      "<class 'pandas.core.frame.DataFrame'>\n",
      "RangeIndex: 22170 entries, 0 to 22169\n",
      "Data columns (total 3 columns):\n",
      " #   Column            Non-Null Count  Dtype \n",
      "---  ------            --------------  ----- \n",
      " 0   item_name         22170 non-null  object\n",
      " 1   item_id           22170 non-null  int64 \n",
      " 2   item_category_id  22170 non-null  int64 \n",
      "dtypes: int64(2), object(1)\n",
      "memory usage: 519.7+ KB\n"
     ]
    }
   ],
   "source": [
    "items.info()"
   ]
  },
  {
   "cell_type": "code",
   "execution_count": 37,
   "metadata": {
    "execution": {
     "iopub.execute_input": "2022-11-28T07:25:50.789232Z",
     "iopub.status.busy": "2022-11-28T07:25:50.788810Z",
     "iopub.status.idle": "2022-11-28T07:25:50.815877Z",
     "shell.execute_reply": "2022-11-28T07:25:50.814380Z",
     "shell.execute_reply.started": "2022-11-28T07:25:50.789207Z"
    }
   },
   "outputs": [
    {
     "data": {
      "text/html": [
       "<div>\n",
       "<style scoped>\n",
       "    .dataframe tbody tr th:only-of-type {\n",
       "        vertical-align: middle;\n",
       "    }\n",
       "\n",
       "    .dataframe tbody tr th {\n",
       "        vertical-align: top;\n",
       "    }\n",
       "\n",
       "    .dataframe thead th {\n",
       "        text-align: right;\n",
       "    }\n",
       "</style>\n",
       "<table border=\"1\" class=\"dataframe\">\n",
       "  <thead>\n",
       "    <tr style=\"text-align: right;\">\n",
       "      <th></th>\n",
       "      <th>item_category_name</th>\n",
       "      <th>item_category_id</th>\n",
       "    </tr>\n",
       "  </thead>\n",
       "  <tbody>\n",
       "    <tr>\n",
       "      <th>0</th>\n",
       "      <td>PC - Гарнитуры/Наушники</td>\n",
       "      <td>0</td>\n",
       "    </tr>\n",
       "    <tr>\n",
       "      <th>1</th>\n",
       "      <td>Аксессуары - PS2</td>\n",
       "      <td>1</td>\n",
       "    </tr>\n",
       "    <tr>\n",
       "      <th>2</th>\n",
       "      <td>Аксессуары - PS3</td>\n",
       "      <td>2</td>\n",
       "    </tr>\n",
       "    <tr>\n",
       "      <th>3</th>\n",
       "      <td>Аксессуары - PS4</td>\n",
       "      <td>3</td>\n",
       "    </tr>\n",
       "    <tr>\n",
       "      <th>4</th>\n",
       "      <td>Аксессуары - PSP</td>\n",
       "      <td>4</td>\n",
       "    </tr>\n",
       "  </tbody>\n",
       "</table>\n",
       "</div>"
      ],
      "text/plain": [
       "        item_category_name  item_category_id\n",
       "0  PC - Гарнитуры/Наушники                 0\n",
       "1         Аксессуары - PS2                 1\n",
       "2         Аксессуары - PS3                 2\n",
       "3         Аксессуары - PS4                 3\n",
       "4         Аксессуары - PSP                 4"
      ]
     },
     "execution_count": 37,
     "metadata": {},
     "output_type": "execute_result"
    }
   ],
   "source": [
    "item_categories.head()"
   ]
  },
  {
   "cell_type": "code",
   "execution_count": 38,
   "metadata": {
    "execution": {
     "iopub.execute_input": "2022-11-28T07:25:50.821652Z",
     "iopub.status.busy": "2022-11-28T07:25:50.821263Z",
     "iopub.status.idle": "2022-11-28T07:25:50.850832Z",
     "shell.execute_reply": "2022-11-28T07:25:50.849254Z",
     "shell.execute_reply.started": "2022-11-28T07:25:50.821623Z"
    }
   },
   "outputs": [
    {
     "name": "stdout",
     "output_type": "stream",
     "text": [
      "<class 'pandas.core.frame.DataFrame'>\n",
      "RangeIndex: 84 entries, 0 to 83\n",
      "Data columns (total 2 columns):\n",
      " #   Column              Non-Null Count  Dtype \n",
      "---  ------              --------------  ----- \n",
      " 0   item_category_name  84 non-null     object\n",
      " 1   item_category_id    84 non-null     int64 \n",
      "dtypes: int64(1), object(1)\n",
      "memory usage: 1.4+ KB\n"
     ]
    }
   ],
   "source": [
    "item_categories.info()"
   ]
  },
  {
   "cell_type": "code",
   "execution_count": 39,
   "metadata": {
    "execution": {
     "iopub.execute_input": "2022-11-28T07:25:50.854098Z",
     "iopub.status.busy": "2022-11-28T07:25:50.853234Z",
     "iopub.status.idle": "2022-11-28T07:25:50.882303Z",
     "shell.execute_reply": "2022-11-28T07:25:50.879975Z",
     "shell.execute_reply.started": "2022-11-28T07:25:50.854048Z"
    }
   },
   "outputs": [
    {
     "data": {
      "text/html": [
       "<div>\n",
       "<style scoped>\n",
       "    .dataframe tbody tr th:only-of-type {\n",
       "        vertical-align: middle;\n",
       "    }\n",
       "\n",
       "    .dataframe tbody tr th {\n",
       "        vertical-align: top;\n",
       "    }\n",
       "\n",
       "    .dataframe thead th {\n",
       "        text-align: right;\n",
       "    }\n",
       "</style>\n",
       "<table border=\"1\" class=\"dataframe\">\n",
       "  <thead>\n",
       "    <tr style=\"text-align: right;\">\n",
       "      <th></th>\n",
       "      <th>ID</th>\n",
       "      <th>shop_id</th>\n",
       "      <th>item_id</th>\n",
       "    </tr>\n",
       "  </thead>\n",
       "  <tbody>\n",
       "    <tr>\n",
       "      <th>0</th>\n",
       "      <td>0</td>\n",
       "      <td>5</td>\n",
       "      <td>5037</td>\n",
       "    </tr>\n",
       "    <tr>\n",
       "      <th>1</th>\n",
       "      <td>1</td>\n",
       "      <td>5</td>\n",
       "      <td>5320</td>\n",
       "    </tr>\n",
       "    <tr>\n",
       "      <th>2</th>\n",
       "      <td>2</td>\n",
       "      <td>5</td>\n",
       "      <td>5233</td>\n",
       "    </tr>\n",
       "    <tr>\n",
       "      <th>3</th>\n",
       "      <td>3</td>\n",
       "      <td>5</td>\n",
       "      <td>5232</td>\n",
       "    </tr>\n",
       "    <tr>\n",
       "      <th>4</th>\n",
       "      <td>4</td>\n",
       "      <td>5</td>\n",
       "      <td>5268</td>\n",
       "    </tr>\n",
       "  </tbody>\n",
       "</table>\n",
       "</div>"
      ],
      "text/plain": [
       "   ID  shop_id  item_id\n",
       "0   0        5     5037\n",
       "1   1        5     5320\n",
       "2   2        5     5233\n",
       "3   3        5     5232\n",
       "4   4        5     5268"
      ]
     },
     "execution_count": 39,
     "metadata": {},
     "output_type": "execute_result"
    }
   ],
   "source": [
    "test.head()"
   ]
  },
  {
   "cell_type": "code",
   "execution_count": 40,
   "metadata": {
    "execution": {
     "iopub.execute_input": "2022-11-28T07:25:50.885632Z",
     "iopub.status.busy": "2022-11-28T07:25:50.883635Z",
     "iopub.status.idle": "2022-11-28T07:25:52.310400Z",
     "shell.execute_reply": "2022-11-28T07:25:52.308634Z",
     "shell.execute_reply.started": "2022-11-28T07:25:50.885572Z"
    }
   },
   "outputs": [
    {
     "data": {
      "text/html": [
       "<div>\n",
       "<style scoped>\n",
       "    .dataframe tbody tr th:only-of-type {\n",
       "        vertical-align: middle;\n",
       "    }\n",
       "\n",
       "    .dataframe tbody tr th {\n",
       "        vertical-align: top;\n",
       "    }\n",
       "\n",
       "    .dataframe thead th {\n",
       "        text-align: right;\n",
       "    }\n",
       "</style>\n",
       "<table border=\"1\" class=\"dataframe\">\n",
       "  <thead>\n",
       "    <tr style=\"text-align: right;\">\n",
       "      <th></th>\n",
       "      <th>date</th>\n",
       "      <th>date_block_num</th>\n",
       "      <th>shop_id</th>\n",
       "      <th>item_id</th>\n",
       "      <th>item_price</th>\n",
       "      <th>item_cnt_day</th>\n",
       "      <th>shop_name</th>\n",
       "      <th>item_name</th>\n",
       "      <th>item_category_id</th>\n",
       "      <th>item_category_name</th>\n",
       "    </tr>\n",
       "  </thead>\n",
       "  <tbody>\n",
       "    <tr>\n",
       "      <th>0</th>\n",
       "      <td>02.01.2013</td>\n",
       "      <td>0</td>\n",
       "      <td>59</td>\n",
       "      <td>22154</td>\n",
       "      <td>999.00</td>\n",
       "      <td>1.0</td>\n",
       "      <td>Ярославль ТЦ \"Альтаир\"</td>\n",
       "      <td>ЯВЛЕНИЕ 2012 (BD)</td>\n",
       "      <td>37</td>\n",
       "      <td>Кино - Blu-Ray</td>\n",
       "    </tr>\n",
       "    <tr>\n",
       "      <th>1</th>\n",
       "      <td>03.01.2013</td>\n",
       "      <td>0</td>\n",
       "      <td>25</td>\n",
       "      <td>2552</td>\n",
       "      <td>899.00</td>\n",
       "      <td>1.0</td>\n",
       "      <td>Москва ТРК \"Атриум\"</td>\n",
       "      <td>DEEP PURPLE  The House Of Blue Light  LP</td>\n",
       "      <td>58</td>\n",
       "      <td>Музыка - Винил</td>\n",
       "    </tr>\n",
       "    <tr>\n",
       "      <th>2</th>\n",
       "      <td>05.01.2013</td>\n",
       "      <td>0</td>\n",
       "      <td>25</td>\n",
       "      <td>2552</td>\n",
       "      <td>899.00</td>\n",
       "      <td>-1.0</td>\n",
       "      <td>Москва ТРК \"Атриум\"</td>\n",
       "      <td>DEEP PURPLE  The House Of Blue Light  LP</td>\n",
       "      <td>58</td>\n",
       "      <td>Музыка - Винил</td>\n",
       "    </tr>\n",
       "    <tr>\n",
       "      <th>3</th>\n",
       "      <td>06.01.2013</td>\n",
       "      <td>0</td>\n",
       "      <td>25</td>\n",
       "      <td>2554</td>\n",
       "      <td>1709.05</td>\n",
       "      <td>1.0</td>\n",
       "      <td>Москва ТРК \"Атриум\"</td>\n",
       "      <td>DEEP PURPLE  Who Do You Think We Are  LP</td>\n",
       "      <td>58</td>\n",
       "      <td>Музыка - Винил</td>\n",
       "    </tr>\n",
       "    <tr>\n",
       "      <th>4</th>\n",
       "      <td>15.01.2013</td>\n",
       "      <td>0</td>\n",
       "      <td>25</td>\n",
       "      <td>2555</td>\n",
       "      <td>1099.00</td>\n",
       "      <td>1.0</td>\n",
       "      <td>Москва ТРК \"Атриум\"</td>\n",
       "      <td>DEEP PURPLE 30 Very Best Of 2CD (Фирм.)</td>\n",
       "      <td>56</td>\n",
       "      <td>Музыка - CD фирменного производства</td>\n",
       "    </tr>\n",
       "  </tbody>\n",
       "</table>\n",
       "</div>"
      ],
      "text/plain": [
       "         date  date_block_num  shop_id  item_id  item_price  item_cnt_day  \\\n",
       "0  02.01.2013               0       59    22154      999.00           1.0   \n",
       "1  03.01.2013               0       25     2552      899.00           1.0   \n",
       "2  05.01.2013               0       25     2552      899.00          -1.0   \n",
       "3  06.01.2013               0       25     2554     1709.05           1.0   \n",
       "4  15.01.2013               0       25     2555     1099.00           1.0   \n",
       "\n",
       "                shop_name                                 item_name  \\\n",
       "0  Ярославль ТЦ \"Альтаир\"                         ЯВЛЕНИЕ 2012 (BD)   \n",
       "1     Москва ТРК \"Атриум\"  DEEP PURPLE  The House Of Blue Light  LP   \n",
       "2     Москва ТРК \"Атриум\"  DEEP PURPLE  The House Of Blue Light  LP   \n",
       "3     Москва ТРК \"Атриум\"  DEEP PURPLE  Who Do You Think We Are  LP   \n",
       "4     Москва ТРК \"Атриум\"   DEEP PURPLE 30 Very Best Of 2CD (Фирм.)   \n",
       "\n",
       "   item_category_id                   item_category_name  \n",
       "0                37                       Кино - Blu-Ray  \n",
       "1                58                       Музыка - Винил  \n",
       "2                58                       Музыка - Винил  \n",
       "3                58                       Музыка - Винил  \n",
       "4                56  Музыка - CD фирменного производства  "
      ]
     },
     "execution_count": 40,
     "metadata": {},
     "output_type": "execute_result"
    }
   ],
   "source": [
    "train = sales_train.merge(shops, on='shop_id', how='left')\n",
    "train = train.merge(items, on='item_id', how='left')\n",
    "train = train.merge(item_categories, on='item_category_id', how='left')\n",
    "\n",
    "train.head()"
   ]
  },
  {
   "cell_type": "code",
   "execution_count": 41,
   "metadata": {
    "execution": {
     "iopub.execute_input": "2022-11-28T07:25:52.312969Z",
     "iopub.status.busy": "2022-11-28T07:25:52.312573Z",
     "iopub.status.idle": "2022-11-28T07:25:52.320808Z",
     "shell.execute_reply": "2022-11-28T07:25:52.319141Z",
     "shell.execute_reply.started": "2022-11-28T07:25:52.312942Z"
    }
   },
   "outputs": [],
   "source": [
    "def resumetable(df):\n",
    "    print(f'데이터 세트 형상: {df.shape}')\n",
    "    summary = pd.DataFrame(df.dtypes, columns=['데이터 타입'])\n",
    "    summary = summary.reset_index()\n",
    "    summary = summary.rename(columns={'index': '피처'})\n",
    "    summary['결측값 개수'] = df.isnull().sum().values\n",
    "    summary['고윳값 개수'] = df.nunique().values\n",
    "    summary['첫 번째 값'] = df.loc[0].values\n",
    "    summary['두 번째 값'] = df.loc[1].values\n",
    "    \n",
    "    return summary"
   ]
  },
  {
   "cell_type": "code",
   "execution_count": 42,
   "metadata": {
    "execution": {
     "iopub.execute_input": "2022-11-28T07:25:52.322340Z",
     "iopub.status.busy": "2022-11-28T07:25:52.322002Z",
     "iopub.status.idle": "2022-11-28T07:25:54.230345Z",
     "shell.execute_reply": "2022-11-28T07:25:54.229536Z",
     "shell.execute_reply.started": "2022-11-28T07:25:52.322285Z"
    }
   },
   "outputs": [
    {
     "name": "stdout",
     "output_type": "stream",
     "text": [
      "데이터 세트 형상: (2935849, 10)\n"
     ]
    },
    {
     "data": {
      "text/html": [
       "<div>\n",
       "<style scoped>\n",
       "    .dataframe tbody tr th:only-of-type {\n",
       "        vertical-align: middle;\n",
       "    }\n",
       "\n",
       "    .dataframe tbody tr th {\n",
       "        vertical-align: top;\n",
       "    }\n",
       "\n",
       "    .dataframe thead th {\n",
       "        text-align: right;\n",
       "    }\n",
       "</style>\n",
       "<table border=\"1\" class=\"dataframe\">\n",
       "  <thead>\n",
       "    <tr style=\"text-align: right;\">\n",
       "      <th></th>\n",
       "      <th>피처</th>\n",
       "      <th>데이터 타입</th>\n",
       "      <th>결측값 개수</th>\n",
       "      <th>고윳값 개수</th>\n",
       "      <th>첫 번째 값</th>\n",
       "      <th>두 번째 값</th>\n",
       "    </tr>\n",
       "  </thead>\n",
       "  <tbody>\n",
       "    <tr>\n",
       "      <th>0</th>\n",
       "      <td>date</td>\n",
       "      <td>object</td>\n",
       "      <td>0</td>\n",
       "      <td>1034</td>\n",
       "      <td>02.01.2013</td>\n",
       "      <td>03.01.2013</td>\n",
       "    </tr>\n",
       "    <tr>\n",
       "      <th>1</th>\n",
       "      <td>date_block_num</td>\n",
       "      <td>int64</td>\n",
       "      <td>0</td>\n",
       "      <td>34</td>\n",
       "      <td>0</td>\n",
       "      <td>0</td>\n",
       "    </tr>\n",
       "    <tr>\n",
       "      <th>2</th>\n",
       "      <td>shop_id</td>\n",
       "      <td>int64</td>\n",
       "      <td>0</td>\n",
       "      <td>60</td>\n",
       "      <td>59</td>\n",
       "      <td>25</td>\n",
       "    </tr>\n",
       "    <tr>\n",
       "      <th>3</th>\n",
       "      <td>item_id</td>\n",
       "      <td>int64</td>\n",
       "      <td>0</td>\n",
       "      <td>21807</td>\n",
       "      <td>22154</td>\n",
       "      <td>2552</td>\n",
       "    </tr>\n",
       "    <tr>\n",
       "      <th>4</th>\n",
       "      <td>item_price</td>\n",
       "      <td>float64</td>\n",
       "      <td>0</td>\n",
       "      <td>19993</td>\n",
       "      <td>999.0</td>\n",
       "      <td>899.0</td>\n",
       "    </tr>\n",
       "    <tr>\n",
       "      <th>5</th>\n",
       "      <td>item_cnt_day</td>\n",
       "      <td>float64</td>\n",
       "      <td>0</td>\n",
       "      <td>198</td>\n",
       "      <td>1.0</td>\n",
       "      <td>1.0</td>\n",
       "    </tr>\n",
       "    <tr>\n",
       "      <th>6</th>\n",
       "      <td>shop_name</td>\n",
       "      <td>object</td>\n",
       "      <td>0</td>\n",
       "      <td>60</td>\n",
       "      <td>Ярославль ТЦ \"Альтаир\"</td>\n",
       "      <td>Москва ТРК \"Атриум\"</td>\n",
       "    </tr>\n",
       "    <tr>\n",
       "      <th>7</th>\n",
       "      <td>item_name</td>\n",
       "      <td>object</td>\n",
       "      <td>0</td>\n",
       "      <td>21807</td>\n",
       "      <td>ЯВЛЕНИЕ 2012 (BD)</td>\n",
       "      <td>DEEP PURPLE  The House Of Blue Light  LP</td>\n",
       "    </tr>\n",
       "    <tr>\n",
       "      <th>8</th>\n",
       "      <td>item_category_id</td>\n",
       "      <td>int64</td>\n",
       "      <td>0</td>\n",
       "      <td>84</td>\n",
       "      <td>37</td>\n",
       "      <td>58</td>\n",
       "    </tr>\n",
       "    <tr>\n",
       "      <th>9</th>\n",
       "      <td>item_category_name</td>\n",
       "      <td>object</td>\n",
       "      <td>0</td>\n",
       "      <td>84</td>\n",
       "      <td>Кино - Blu-Ray</td>\n",
       "      <td>Музыка - Винил</td>\n",
       "    </tr>\n",
       "  </tbody>\n",
       "</table>\n",
       "</div>"
      ],
      "text/plain": [
       "                   피처   데이터 타입  결측값 개수  고윳값 개수                  첫 번째 값  \\\n",
       "0                date   object       0    1034              02.01.2013   \n",
       "1      date_block_num    int64       0      34                       0   \n",
       "2             shop_id    int64       0      60                      59   \n",
       "3             item_id    int64       0   21807                   22154   \n",
       "4          item_price  float64       0   19993                   999.0   \n",
       "5        item_cnt_day  float64       0     198                     1.0   \n",
       "6           shop_name   object       0      60  Ярославль ТЦ \"Альтаир\"   \n",
       "7           item_name   object       0   21807       ЯВЛЕНИЕ 2012 (BD)   \n",
       "8    item_category_id    int64       0      84                      37   \n",
       "9  item_category_name   object       0      84          Кино - Blu-Ray   \n",
       "\n",
       "                                     두 번째 값  \n",
       "0                                03.01.2013  \n",
       "1                                         0  \n",
       "2                                        25  \n",
       "3                                      2552  \n",
       "4                                     899.0  \n",
       "5                                       1.0  \n",
       "6                       Москва ТРК \"Атриум\"  \n",
       "7  DEEP PURPLE  The House Of Blue Light  LP  \n",
       "8                                        58  \n",
       "9                            Музыка - Винил  "
      ]
     },
     "execution_count": 42,
     "metadata": {},
     "output_type": "execute_result"
    }
   ],
   "source": [
    "resumetable(train)"
   ]
  },
  {
   "cell_type": "code",
   "execution_count": 43,
   "metadata": {
    "execution": {
     "iopub.execute_input": "2022-11-28T07:25:54.231925Z",
     "iopub.status.busy": "2022-11-28T07:25:54.231553Z",
     "iopub.status.idle": "2022-11-28T07:25:56.079203Z",
     "shell.execute_reply": "2022-11-28T07:25:56.077486Z",
     "shell.execute_reply.started": "2022-11-28T07:25:54.231894Z"
    }
   },
   "outputs": [
    {
     "data": {
      "image/png": "[encoded data removed]",
      "text/plain": [
       "<Figure size 432x288 with 1 Axes>"
      ]
     },
     "metadata": {
      "needs_background": "light"
     },
     "output_type": "display_data"
    }
   ],
   "source": [
    "import seaborn as sns\n",
    "import matplotlib as mpl\n",
    "import matplotlib.pyplot as plt\n",
    "%matplotlib inline\n",
    "\n",
    "sns.boxplot(y='item_cnt_day', data=train);"
   ]
  },
  {
   "cell_type": "code",
   "execution_count": 44,
   "metadata": {
    "execution": {
     "iopub.execute_input": "2022-11-28T07:25:56.081505Z",
     "iopub.status.busy": "2022-11-28T07:25:56.081109Z",
     "iopub.status.idle": "2022-11-28T07:25:57.462603Z",
     "shell.execute_reply": "2022-11-28T07:25:57.460610Z",
     "shell.execute_reply.started": "2022-11-28T07:25:56.081468Z"
    }
   },
   "outputs": [
    {
     "data": {
      "image/png": "[encoded data removed]",
      "text/plain": [
       "<Figure size 432x288 with 1 Axes>"
      ]
     },
     "metadata": {
      "needs_background": "light"
     },
     "output_type": "display_data"
    }
   ],
   "source": [
    "sns.boxplot(y='item_price', data=train);"
   ]
  },
  {
   "cell_type": "code",
   "execution_count": 45,
   "metadata": {
    "execution": {
     "iopub.execute_input": "2022-11-28T07:25:57.465262Z",
     "iopub.status.busy": "2022-11-28T07:25:57.464795Z",
     "iopub.status.idle": "2022-11-28T07:25:57.524935Z",
     "shell.execute_reply": "2022-11-28T07:25:57.523649Z",
     "shell.execute_reply.started": "2022-11-28T07:25:57.465226Z"
    }
   },
   "outputs": [
    {
     "data": {
      "text/html": [
       "<div>\n",
       "<style scoped>\n",
       "    .dataframe tbody tr th:only-of-type {\n",
       "        vertical-align: middle;\n",
       "    }\n",
       "\n",
       "    .dataframe tbody tr th {\n",
       "        vertical-align: top;\n",
       "    }\n",
       "\n",
       "    .dataframe thead th {\n",
       "        text-align: right;\n",
       "    }\n",
       "</style>\n",
       "<table border=\"1\" class=\"dataframe\">\n",
       "  <thead>\n",
       "    <tr style=\"text-align: right;\">\n",
       "      <th></th>\n",
       "      <th>date_block_num</th>\n",
       "      <th>item_cnt_day</th>\n",
       "    </tr>\n",
       "  </thead>\n",
       "  <tbody>\n",
       "    <tr>\n",
       "      <th>0</th>\n",
       "      <td>0</td>\n",
       "      <td>131479.0</td>\n",
       "    </tr>\n",
       "    <tr>\n",
       "      <th>1</th>\n",
       "      <td>1</td>\n",
       "      <td>128090.0</td>\n",
       "    </tr>\n",
       "    <tr>\n",
       "      <th>2</th>\n",
       "      <td>2</td>\n",
       "      <td>147142.0</td>\n",
       "    </tr>\n",
       "    <tr>\n",
       "      <th>3</th>\n",
       "      <td>3</td>\n",
       "      <td>107190.0</td>\n",
       "    </tr>\n",
       "    <tr>\n",
       "      <th>4</th>\n",
       "      <td>4</td>\n",
       "      <td>106970.0</td>\n",
       "    </tr>\n",
       "    <tr>\n",
       "      <th>5</th>\n",
       "      <td>5</td>\n",
       "      <td>125381.0</td>\n",
       "    </tr>\n",
       "    <tr>\n",
       "      <th>6</th>\n",
       "      <td>6</td>\n",
       "      <td>116966.0</td>\n",
       "    </tr>\n",
       "    <tr>\n",
       "      <th>7</th>\n",
       "      <td>7</td>\n",
       "      <td>125291.0</td>\n",
       "    </tr>\n",
       "    <tr>\n",
       "      <th>8</th>\n",
       "      <td>8</td>\n",
       "      <td>133332.0</td>\n",
       "    </tr>\n",
       "    <tr>\n",
       "      <th>9</th>\n",
       "      <td>9</td>\n",
       "      <td>127541.0</td>\n",
       "    </tr>\n",
       "    <tr>\n",
       "      <th>10</th>\n",
       "      <td>10</td>\n",
       "      <td>130009.0</td>\n",
       "    </tr>\n",
       "    <tr>\n",
       "      <th>11</th>\n",
       "      <td>11</td>\n",
       "      <td>183342.0</td>\n",
       "    </tr>\n",
       "    <tr>\n",
       "      <th>12</th>\n",
       "      <td>12</td>\n",
       "      <td>116899.0</td>\n",
       "    </tr>\n",
       "    <tr>\n",
       "      <th>13</th>\n",
       "      <td>13</td>\n",
       "      <td>109687.0</td>\n",
       "    </tr>\n",
       "    <tr>\n",
       "      <th>14</th>\n",
       "      <td>14</td>\n",
       "      <td>115297.0</td>\n",
       "    </tr>\n",
       "    <tr>\n",
       "      <th>15</th>\n",
       "      <td>15</td>\n",
       "      <td>96556.0</td>\n",
       "    </tr>\n",
       "    <tr>\n",
       "      <th>16</th>\n",
       "      <td>16</td>\n",
       "      <td>97790.0</td>\n",
       "    </tr>\n",
       "    <tr>\n",
       "      <th>17</th>\n",
       "      <td>17</td>\n",
       "      <td>97429.0</td>\n",
       "    </tr>\n",
       "    <tr>\n",
       "      <th>18</th>\n",
       "      <td>18</td>\n",
       "      <td>91280.0</td>\n",
       "    </tr>\n",
       "    <tr>\n",
       "      <th>19</th>\n",
       "      <td>19</td>\n",
       "      <td>102721.0</td>\n",
       "    </tr>\n",
       "    <tr>\n",
       "      <th>20</th>\n",
       "      <td>20</td>\n",
       "      <td>99208.0</td>\n",
       "    </tr>\n",
       "    <tr>\n",
       "      <th>21</th>\n",
       "      <td>21</td>\n",
       "      <td>107422.0</td>\n",
       "    </tr>\n",
       "    <tr>\n",
       "      <th>22</th>\n",
       "      <td>22</td>\n",
       "      <td>117845.0</td>\n",
       "    </tr>\n",
       "    <tr>\n",
       "      <th>23</th>\n",
       "      <td>23</td>\n",
       "      <td>168755.0</td>\n",
       "    </tr>\n",
       "    <tr>\n",
       "      <th>24</th>\n",
       "      <td>24</td>\n",
       "      <td>110971.0</td>\n",
       "    </tr>\n",
       "    <tr>\n",
       "      <th>25</th>\n",
       "      <td>25</td>\n",
       "      <td>84198.0</td>\n",
       "    </tr>\n",
       "    <tr>\n",
       "      <th>26</th>\n",
       "      <td>26</td>\n",
       "      <td>82014.0</td>\n",
       "    </tr>\n",
       "    <tr>\n",
       "      <th>27</th>\n",
       "      <td>27</td>\n",
       "      <td>77827.0</td>\n",
       "    </tr>\n",
       "    <tr>\n",
       "      <th>28</th>\n",
       "      <td>28</td>\n",
       "      <td>72295.0</td>\n",
       "    </tr>\n",
       "    <tr>\n",
       "      <th>29</th>\n",
       "      <td>29</td>\n",
       "      <td>64114.0</td>\n",
       "    </tr>\n",
       "    <tr>\n",
       "      <th>30</th>\n",
       "      <td>30</td>\n",
       "      <td>63187.0</td>\n",
       "    </tr>\n",
       "    <tr>\n",
       "      <th>31</th>\n",
       "      <td>31</td>\n",
       "      <td>66079.0</td>\n",
       "    </tr>\n",
       "    <tr>\n",
       "      <th>32</th>\n",
       "      <td>32</td>\n",
       "      <td>72843.0</td>\n",
       "    </tr>\n",
       "    <tr>\n",
       "      <th>33</th>\n",
       "      <td>33</td>\n",
       "      <td>71056.0</td>\n",
       "    </tr>\n",
       "  </tbody>\n",
       "</table>\n",
       "</div>"
      ],
      "text/plain": [
       "    date_block_num  item_cnt_day\n",
       "0                0      131479.0\n",
       "1                1      128090.0\n",
       "2                2      147142.0\n",
       "3                3      107190.0\n",
       "4                4      106970.0\n",
       "5                5      125381.0\n",
       "6                6      116966.0\n",
       "7                7      125291.0\n",
       "8                8      133332.0\n",
       "9                9      127541.0\n",
       "10              10      130009.0\n",
       "11              11      183342.0\n",
       "12              12      116899.0\n",
       "13              13      109687.0\n",
       "14              14      115297.0\n",
       "15              15       96556.0\n",
       "16              16       97790.0\n",
       "17              17       97429.0\n",
       "18              18       91280.0\n",
       "19              19      102721.0\n",
       "20              20       99208.0\n",
       "21              21      107422.0\n",
       "22              22      117845.0\n",
       "23              23      168755.0\n",
       "24              24      110971.0\n",
       "25              25       84198.0\n",
       "26              26       82014.0\n",
       "27              27       77827.0\n",
       "28              28       72295.0\n",
       "29              29       64114.0\n",
       "30              30       63187.0\n",
       "31              31       66079.0\n",
       "32              32       72843.0\n",
       "33              33       71056.0"
      ]
     },
     "execution_count": 45,
     "metadata": {},
     "output_type": "execute_result"
    }
   ],
   "source": [
    "group = train.groupby('date_block_num').agg({'item_cnt_day': 'sum'})\n",
    "group.reset_index() # 인덱스 재설정"
   ]
  },
  {
   "cell_type": "code",
   "execution_count": 46,
   "metadata": {
    "execution": {
     "iopub.execute_input": "2022-11-28T07:25:57.527478Z",
     "iopub.status.busy": "2022-11-28T07:25:57.526689Z",
     "iopub.status.idle": "2022-11-28T07:25:57.910781Z",
     "shell.execute_reply": "2022-11-28T07:25:57.909333Z",
     "shell.execute_reply.started": "2022-11-28T07:25:57.527453Z"
    }
   },
   "outputs": [
    {
     "data": {
      "image/png": "[encoded data removed]",
      "text/plain": [
       "<Figure size 792x360 with 1 Axes>"
      ]
     },
     "metadata": {
      "needs_background": "light"
     },
     "output_type": "display_data"
    }
   ],
   "source": [
    "mpl.rc('font', size=13)\n",
    "figure, ax = plt.subplots() \n",
    "figure.set_size_inches(11, 5)\n",
    "\n",
    "# 월별 총 상품 판매량\n",
    "group_month_sum = train.groupby('date_block_num').agg({'item_cnt_day': 'sum'})\n",
    "group_month_sum = group_month_sum.reset_index()\n",
    "\n",
    "# 월별 총 상품 판매량 막대그래프\n",
    "sns.barplot(x='date_block_num', y='item_cnt_day', data=group_month_sum)\n",
    "# 그래프 제목, x축 라벨, y축 라벨명 설정\n",
    "ax.set(title='Distribution of monthly item counts by date block number',\n",
    "       xlabel='Date block number', \n",
    "       ylabel='Monthly item counts');"
   ]
  },
  {
   "cell_type": "code",
   "execution_count": 47,
   "metadata": {
    "execution": {
     "iopub.execute_input": "2022-11-28T07:25:57.913501Z",
     "iopub.status.busy": "2022-11-28T07:25:57.913001Z",
     "iopub.status.idle": "2022-11-28T07:25:58.408593Z",
     "shell.execute_reply": "2022-11-28T07:25:58.406922Z",
     "shell.execute_reply.started": "2022-11-28T07:25:57.913477Z"
    }
   },
   "outputs": [
    {
     "data": {
      "image/png": "[encoded data removed]",
      "text/plain": [
       "<Figure size 792x360 with 1 Axes>"
      ]
     },
     "metadata": {
      "needs_background": "light"
     },
     "output_type": "display_data"
    }
   ],
   "source": [
    "figure, ax= plt.subplots() \n",
    "figure.set_size_inches(11, 5)\n",
    "\n",
    "# 상품분류별 총 상품 판매량\n",
    "group_cat_sum = train.groupby('item_category_id').agg({'item_cnt_day': 'sum'})\n",
    "group_cat_sum = group_cat_sum.reset_index()\n",
    "\n",
    "# 총 판매량이 10,000개를 초과하는 상품분류만 추출\n",
    "group_cat_sum = group_cat_sum[group_cat_sum['item_cnt_day'] > 10000]\n",
    "\n",
    "# 상품분류별 총 상품 판매량 막대그래프\n",
    "sns.barplot(x='item_category_id', y='item_cnt_day', data=group_cat_sum)\n",
    "ax.set(title='Distribution of total item counts by item category id',\n",
    "       xlabel='Item category ID', \n",
    "       ylabel='Total item counts')\n",
    "ax.tick_params(axis='x', labelrotation=90) # x축 라벨 회전"
   ]
  },
  {
   "cell_type": "code",
   "execution_count": 48,
   "metadata": {
    "execution": {
     "iopub.execute_input": "2022-11-28T07:25:58.410954Z",
     "iopub.status.busy": "2022-11-28T07:25:58.410586Z",
     "iopub.status.idle": "2022-11-28T07:25:59.047118Z",
     "shell.execute_reply": "2022-11-28T07:25:59.045793Z",
     "shell.execute_reply.started": "2022-11-28T07:25:58.410930Z"
    }
   },
   "outputs": [
    {
     "data": {
      "image/png": "[encoded data removed]",
      "text/plain": [
       "<Figure size 792x360 with 1 Axes>"
      ]
     },
     "metadata": {
      "needs_background": "light"
     },
     "output_type": "display_data"
    }
   ],
   "source": [
    "figure, ax= plt.subplots() \n",
    "figure.set_size_inches(11, 5)\n",
    "\n",
    "# 상점별 총 상품 판매량\n",
    "group_shop_sum = train.groupby('shop_id').agg({'item_cnt_day': 'sum'})\n",
    "group_shop_sum = group_shop_sum.reset_index()\n",
    "\n",
    "group_shop_sum = group_shop_sum[group_shop_sum['item_cnt_day'] > 10000]\n",
    "\n",
    "# 상점별 총 상품 판매량 막대그래프\n",
    "sns.barplot(x='shop_id', y='item_cnt_day', data=group_shop_sum)\n",
    "ax.set(title='Distribution of total item counts by shop id',\n",
    "       xlabel='Shop ID', \n",
    "       ylabel='Total item counts')\n",
    "ax.tick_params(axis='x', labelrotation=90)"
   ]
  },
  {
   "cell_type": "code",
   "execution_count": 49,
   "metadata": {
    "execution": {
     "iopub.execute_input": "2022-11-28T07:25:59.048836Z",
     "iopub.status.busy": "2022-11-28T07:25:59.048505Z",
     "iopub.status.idle": "2022-11-28T07:25:59.679360Z",
     "shell.execute_reply": "2022-11-28T07:25:59.678418Z",
     "shell.execute_reply.started": "2022-11-28T07:25:59.048805Z"
    }
   },
   "outputs": [
    {
     "data": {
      "image/png": "[encoded data removed]",
      "text/plain": [
       "<Figure size 792x360 with 1 Axes>"
      ]
     },
     "metadata": {
      "needs_background": "light"
     },
     "output_type": "display_data"
    }
   ],
   "source": [
    "figure, ax= plt.subplots() \n",
    "figure.set_size_inches(11, 5)\n",
    "\n",
    "# 상점별 총 상품 판매량\n",
    "group_shop_sum = train.groupby('shop_id').agg({'item_cnt_day': 'sum'})\n",
    "group_shop_sum = group_shop_sum.reset_index()\n",
    "\n",
    "group_shop_sum = group_shop_sum[group_shop_sum['item_cnt_day'] > 10000]\n",
    "\n",
    "# 상점별 총 상품 판매량 막대그래프\n",
    "sns.barplot(x='shop_id', y='item_cnt_day', data=group_shop_sum)\n",
    "ax.set(title='Distribution of total item counts by shop id',\n",
    "       xlabel='Shop ID', \n",
    "       ylabel='Total item counts')\n",
    "ax.tick_params(axis='x', labelrotation=90)"
   ]
  },
  {
   "cell_type": "markdown",
   "metadata": {},
   "source": [
    "# Baseline Model"
   ]
  },
  {
   "cell_type": "code",
   "execution_count": 3,
   "metadata": {
    "execution": {
     "iopub.execute_input": "2022-11-28T07:25:59.681190Z",
     "iopub.status.busy": "2022-11-28T07:25:59.680564Z",
     "iopub.status.idle": "2022-11-28T07:26:00.812360Z",
     "shell.execute_reply": "2022-11-28T07:26:00.810255Z",
     "shell.execute_reply.started": "2022-11-28T07:25:59.681155Z"
    }
   },
   "outputs": [],
   "source": [
    "import pandas as pd\n",
    "\n",
    "# 데이터 경로\n",
    "sales_train = pd.read_csv('sales_train.csv')\n",
    "shops = pd.read_csv('shops.csv')\n",
    "items = pd.read_csv('items.csv')\n",
    "item_categories = pd.read_csv('item_categories.csv')\n",
    "test = pd.read_csv('test.csv')\n",
    "submission = pd.read_csv('sample_submission.csv')"
   ]
  },
  {
   "cell_type": "markdown",
   "metadata": {},
   "source": [
    "## 피처명 한글화"
   ]
  },
  {
   "cell_type": "code",
   "execution_count": 51,
   "metadata": {
    "execution": {
     "iopub.execute_input": "2022-11-28T07:26:00.815113Z",
     "iopub.status.busy": "2022-11-28T07:26:00.814764Z",
     "iopub.status.idle": "2022-11-28T07:26:00.857990Z",
     "shell.execute_reply": "2022-11-28T07:26:00.856797Z",
     "shell.execute_reply.started": "2022-11-28T07:26:00.815087Z"
    }
   },
   "outputs": [
    {
     "data": {
      "text/html": [
       "<div>\n",
       "<style scoped>\n",
       "    .dataframe tbody tr th:only-of-type {\n",
       "        vertical-align: middle;\n",
       "    }\n",
       "\n",
       "    .dataframe tbody tr th {\n",
       "        vertical-align: top;\n",
       "    }\n",
       "\n",
       "    .dataframe thead th {\n",
       "        text-align: right;\n",
       "    }\n",
       "</style>\n",
       "<table border=\"1\" class=\"dataframe\">\n",
       "  <thead>\n",
       "    <tr style=\"text-align: right;\">\n",
       "      <th></th>\n",
       "      <th>날짜</th>\n",
       "      <th>월ID</th>\n",
       "      <th>상점ID</th>\n",
       "      <th>상품ID</th>\n",
       "      <th>판매가</th>\n",
       "      <th>판매량</th>\n",
       "    </tr>\n",
       "  </thead>\n",
       "  <tbody>\n",
       "    <tr>\n",
       "      <th>0</th>\n",
       "      <td>02.01.2013</td>\n",
       "      <td>0</td>\n",
       "      <td>59</td>\n",
       "      <td>22154</td>\n",
       "      <td>999.00</td>\n",
       "      <td>1.0</td>\n",
       "    </tr>\n",
       "    <tr>\n",
       "      <th>1</th>\n",
       "      <td>03.01.2013</td>\n",
       "      <td>0</td>\n",
       "      <td>25</td>\n",
       "      <td>2552</td>\n",
       "      <td>899.00</td>\n",
       "      <td>1.0</td>\n",
       "    </tr>\n",
       "    <tr>\n",
       "      <th>2</th>\n",
       "      <td>05.01.2013</td>\n",
       "      <td>0</td>\n",
       "      <td>25</td>\n",
       "      <td>2552</td>\n",
       "      <td>899.00</td>\n",
       "      <td>-1.0</td>\n",
       "    </tr>\n",
       "    <tr>\n",
       "      <th>3</th>\n",
       "      <td>06.01.2013</td>\n",
       "      <td>0</td>\n",
       "      <td>25</td>\n",
       "      <td>2554</td>\n",
       "      <td>1709.05</td>\n",
       "      <td>1.0</td>\n",
       "    </tr>\n",
       "    <tr>\n",
       "      <th>4</th>\n",
       "      <td>15.01.2013</td>\n",
       "      <td>0</td>\n",
       "      <td>25</td>\n",
       "      <td>2555</td>\n",
       "      <td>1099.00</td>\n",
       "      <td>1.0</td>\n",
       "    </tr>\n",
       "  </tbody>\n",
       "</table>\n",
       "</div>"
      ],
      "text/plain": [
       "           날짜  월ID  상점ID   상품ID      판매가  판매량\n",
       "0  02.01.2013    0    59  22154   999.00  1.0\n",
       "1  03.01.2013    0    25   2552   899.00  1.0\n",
       "2  05.01.2013    0    25   2552   899.00 -1.0\n",
       "3  06.01.2013    0    25   2554  1709.05  1.0\n",
       "4  15.01.2013    0    25   2555  1099.00  1.0"
      ]
     },
     "execution_count": 51,
     "metadata": {},
     "output_type": "execute_result"
    }
   ],
   "source": [
    "sales_train = sales_train.rename(columns={'date': '날짜', \n",
    "                                          'date_block_num': '월ID',\n",
    "                                          'shop_id': '상점ID',\n",
    "                                          'item_id': '상품ID',\n",
    "                                          'item_price': '판매가',\n",
    "                                          'item_cnt_day': '판매량'})\n",
    "\n",
    "sales_train.head()"
   ]
  },
  {
   "cell_type": "code",
   "execution_count": 52,
   "metadata": {
    "execution": {
     "iopub.execute_input": "2022-11-28T07:26:00.860287Z",
     "iopub.status.busy": "2022-11-28T07:26:00.859546Z",
     "iopub.status.idle": "2022-11-28T07:26:00.871026Z",
     "shell.execute_reply": "2022-11-28T07:26:00.868906Z",
     "shell.execute_reply.started": "2022-11-28T07:26:00.860258Z"
    }
   },
   "outputs": [
    {
     "data": {
      "text/html": [
       "<div>\n",
       "<style scoped>\n",
       "    .dataframe tbody tr th:only-of-type {\n",
       "        vertical-align: middle;\n",
       "    }\n",
       "\n",
       "    .dataframe tbody tr th {\n",
       "        vertical-align: top;\n",
       "    }\n",
       "\n",
       "    .dataframe thead th {\n",
       "        text-align: right;\n",
       "    }\n",
       "</style>\n",
       "<table border=\"1\" class=\"dataframe\">\n",
       "  <thead>\n",
       "    <tr style=\"text-align: right;\">\n",
       "      <th></th>\n",
       "      <th>상점명</th>\n",
       "      <th>상점ID</th>\n",
       "    </tr>\n",
       "  </thead>\n",
       "  <tbody>\n",
       "    <tr>\n",
       "      <th>0</th>\n",
       "      <td>!Якутск Орджоникидзе, 56 фран</td>\n",
       "      <td>0</td>\n",
       "    </tr>\n",
       "    <tr>\n",
       "      <th>1</th>\n",
       "      <td>!Якутск ТЦ \"Центральный\" фран</td>\n",
       "      <td>1</td>\n",
       "    </tr>\n",
       "    <tr>\n",
       "      <th>2</th>\n",
       "      <td>Адыгея ТЦ \"Мега\"</td>\n",
       "      <td>2</td>\n",
       "    </tr>\n",
       "    <tr>\n",
       "      <th>3</th>\n",
       "      <td>Балашиха ТРК \"Октябрь-Киномир\"</td>\n",
       "      <td>3</td>\n",
       "    </tr>\n",
       "    <tr>\n",
       "      <th>4</th>\n",
       "      <td>Волжский ТЦ \"Волга Молл\"</td>\n",
       "      <td>4</td>\n",
       "    </tr>\n",
       "  </tbody>\n",
       "</table>\n",
       "</div>"
      ],
      "text/plain": [
       "                              상점명  상점ID\n",
       "0   !Якутск Орджоникидзе, 56 фран     0\n",
       "1   !Якутск ТЦ \"Центральный\" фран     1\n",
       "2                Адыгея ТЦ \"Мега\"     2\n",
       "3  Балашиха ТРК \"Октябрь-Киномир\"     3\n",
       "4        Волжский ТЦ \"Волга Молл\"     4"
      ]
     },
     "execution_count": 52,
     "metadata": {},
     "output_type": "execute_result"
    }
   ],
   "source": [
    "shops = shops.rename(columns={'shop_name': '상점명',\n",
    "                              'shop_id': '상점ID'})\n",
    "\n",
    "shops.head()"
   ]
  },
  {
   "cell_type": "code",
   "execution_count": 53,
   "metadata": {
    "execution": {
     "iopub.execute_input": "2022-11-28T07:26:00.874575Z",
     "iopub.status.busy": "2022-11-28T07:26:00.874065Z",
     "iopub.status.idle": "2022-11-28T07:26:00.893633Z",
     "shell.execute_reply": "2022-11-28T07:26:00.891889Z",
     "shell.execute_reply.started": "2022-11-28T07:26:00.874540Z"
    }
   },
   "outputs": [
    {
     "data": {
      "text/html": [
       "<div>\n",
       "<style scoped>\n",
       "    .dataframe tbody tr th:only-of-type {\n",
       "        vertical-align: middle;\n",
       "    }\n",
       "\n",
       "    .dataframe tbody tr th {\n",
       "        vertical-align: top;\n",
       "    }\n",
       "\n",
       "    .dataframe thead th {\n",
       "        text-align: right;\n",
       "    }\n",
       "</style>\n",
       "<table border=\"1\" class=\"dataframe\">\n",
       "  <thead>\n",
       "    <tr style=\"text-align: right;\">\n",
       "      <th></th>\n",
       "      <th>상품명</th>\n",
       "      <th>상품ID</th>\n",
       "      <th>상품분류ID</th>\n",
       "    </tr>\n",
       "  </thead>\n",
       "  <tbody>\n",
       "    <tr>\n",
       "      <th>0</th>\n",
       "      <td>! ВО ВЛАСТИ НАВАЖДЕНИЯ (ПЛАСТ.)         D</td>\n",
       "      <td>0</td>\n",
       "      <td>40</td>\n",
       "    </tr>\n",
       "    <tr>\n",
       "      <th>1</th>\n",
       "      <td>!ABBYY FineReader 12 Professional Edition Full...</td>\n",
       "      <td>1</td>\n",
       "      <td>76</td>\n",
       "    </tr>\n",
       "    <tr>\n",
       "      <th>2</th>\n",
       "      <td>***В ЛУЧАХ СЛАВЫ   (UNV)                    D</td>\n",
       "      <td>2</td>\n",
       "      <td>40</td>\n",
       "    </tr>\n",
       "    <tr>\n",
       "      <th>3</th>\n",
       "      <td>***ГОЛУБАЯ ВОЛНА  (Univ)                      D</td>\n",
       "      <td>3</td>\n",
       "      <td>40</td>\n",
       "    </tr>\n",
       "    <tr>\n",
       "      <th>4</th>\n",
       "      <td>***КОРОБКА (СТЕКЛО)                       D</td>\n",
       "      <td>4</td>\n",
       "      <td>40</td>\n",
       "    </tr>\n",
       "  </tbody>\n",
       "</table>\n",
       "</div>"
      ],
      "text/plain": [
       "                                                 상품명  상품ID  상품분류ID\n",
       "0          ! ВО ВЛАСТИ НАВАЖДЕНИЯ (ПЛАСТ.)         D     0      40\n",
       "1  !ABBYY FineReader 12 Professional Edition Full...     1      76\n",
       "2      ***В ЛУЧАХ СЛАВЫ   (UNV)                    D     2      40\n",
       "3    ***ГОЛУБАЯ ВОЛНА  (Univ)                      D     3      40\n",
       "4        ***КОРОБКА (СТЕКЛО)                       D     4      40"
      ]
     },
     "execution_count": 53,
     "metadata": {},
     "output_type": "execute_result"
    }
   ],
   "source": [
    "items = items.rename(columns={'item_name': '상품명',\n",
    "                              'item_id': '상품ID',\n",
    "                              'item_category_id': '상품분류ID'})\n",
    "\n",
    "items.head()"
   ]
  },
  {
   "cell_type": "code",
   "execution_count": 54,
   "metadata": {
    "execution": {
     "iopub.execute_input": "2022-11-28T07:26:00.896272Z",
     "iopub.status.busy": "2022-11-28T07:26:00.895919Z",
     "iopub.status.idle": "2022-11-28T07:26:00.912628Z",
     "shell.execute_reply": "2022-11-28T07:26:00.911265Z",
     "shell.execute_reply.started": "2022-11-28T07:26:00.896247Z"
    }
   },
   "outputs": [
    {
     "data": {
      "text/html": [
       "<div>\n",
       "<style scoped>\n",
       "    .dataframe tbody tr th:only-of-type {\n",
       "        vertical-align: middle;\n",
       "    }\n",
       "\n",
       "    .dataframe tbody tr th {\n",
       "        vertical-align: top;\n",
       "    }\n",
       "\n",
       "    .dataframe thead th {\n",
       "        text-align: right;\n",
       "    }\n",
       "</style>\n",
       "<table border=\"1\" class=\"dataframe\">\n",
       "  <thead>\n",
       "    <tr style=\"text-align: right;\">\n",
       "      <th></th>\n",
       "      <th>상품분류명</th>\n",
       "      <th>상품분류ID</th>\n",
       "    </tr>\n",
       "  </thead>\n",
       "  <tbody>\n",
       "    <tr>\n",
       "      <th>0</th>\n",
       "      <td>PC - Гарнитуры/Наушники</td>\n",
       "      <td>0</td>\n",
       "    </tr>\n",
       "    <tr>\n",
       "      <th>1</th>\n",
       "      <td>Аксессуары - PS2</td>\n",
       "      <td>1</td>\n",
       "    </tr>\n",
       "    <tr>\n",
       "      <th>2</th>\n",
       "      <td>Аксессуары - PS3</td>\n",
       "      <td>2</td>\n",
       "    </tr>\n",
       "    <tr>\n",
       "      <th>3</th>\n",
       "      <td>Аксессуары - PS4</td>\n",
       "      <td>3</td>\n",
       "    </tr>\n",
       "    <tr>\n",
       "      <th>4</th>\n",
       "      <td>Аксессуары - PSP</td>\n",
       "      <td>4</td>\n",
       "    </tr>\n",
       "  </tbody>\n",
       "</table>\n",
       "</div>"
      ],
      "text/plain": [
       "                     상품분류명  상품분류ID\n",
       "0  PC - Гарнитуры/Наушники       0\n",
       "1         Аксессуары - PS2       1\n",
       "2         Аксессуары - PS3       2\n",
       "3         Аксессуары - PS4       3\n",
       "4         Аксессуары - PSP       4"
      ]
     },
     "execution_count": 54,
     "metadata": {},
     "output_type": "execute_result"
    }
   ],
   "source": [
    "item_categories = item_categories.rename(columns=\n",
    "                                         {'item_category_name': '상품분류명',\n",
    "                                          'item_category_id': '상품분류ID'})\n",
    "\n",
    "item_categories.head()"
   ]
  },
  {
   "cell_type": "code",
   "execution_count": 55,
   "metadata": {
    "execution": {
     "iopub.execute_input": "2022-11-28T07:26:00.914162Z",
     "iopub.status.busy": "2022-11-28T07:26:00.913824Z",
     "iopub.status.idle": "2022-11-28T07:26:00.935930Z",
     "shell.execute_reply": "2022-11-28T07:26:00.935071Z",
     "shell.execute_reply.started": "2022-11-28T07:26:00.914131Z"
    }
   },
   "outputs": [
    {
     "data": {
      "text/html": [
       "<div>\n",
       "<style scoped>\n",
       "    .dataframe tbody tr th:only-of-type {\n",
       "        vertical-align: middle;\n",
       "    }\n",
       "\n",
       "    .dataframe tbody tr th {\n",
       "        vertical-align: top;\n",
       "    }\n",
       "\n",
       "    .dataframe thead th {\n",
       "        text-align: right;\n",
       "    }\n",
       "</style>\n",
       "<table border=\"1\" class=\"dataframe\">\n",
       "  <thead>\n",
       "    <tr style=\"text-align: right;\">\n",
       "      <th></th>\n",
       "      <th>ID</th>\n",
       "      <th>상점ID</th>\n",
       "      <th>상품ID</th>\n",
       "    </tr>\n",
       "  </thead>\n",
       "  <tbody>\n",
       "    <tr>\n",
       "      <th>0</th>\n",
       "      <td>0</td>\n",
       "      <td>5</td>\n",
       "      <td>5037</td>\n",
       "    </tr>\n",
       "    <tr>\n",
       "      <th>1</th>\n",
       "      <td>1</td>\n",
       "      <td>5</td>\n",
       "      <td>5320</td>\n",
       "    </tr>\n",
       "    <tr>\n",
       "      <th>2</th>\n",
       "      <td>2</td>\n",
       "      <td>5</td>\n",
       "      <td>5233</td>\n",
       "    </tr>\n",
       "    <tr>\n",
       "      <th>3</th>\n",
       "      <td>3</td>\n",
       "      <td>5</td>\n",
       "      <td>5232</td>\n",
       "    </tr>\n",
       "    <tr>\n",
       "      <th>4</th>\n",
       "      <td>4</td>\n",
       "      <td>5</td>\n",
       "      <td>5268</td>\n",
       "    </tr>\n",
       "  </tbody>\n",
       "</table>\n",
       "</div>"
      ],
      "text/plain": [
       "   ID  상점ID  상품ID\n",
       "0   0     5  5037\n",
       "1   1     5  5320\n",
       "2   2     5  5233\n",
       "3   3     5  5232\n",
       "4   4     5  5268"
      ]
     },
     "execution_count": 55,
     "metadata": {},
     "output_type": "execute_result"
    }
   ],
   "source": [
    "test = test.rename(columns={'shop_id': '상점ID',\n",
    "                            'item_id': '상품ID'})\n",
    "\n",
    "test.head()"
   ]
  },
  {
   "cell_type": "markdown",
   "metadata": {},
   "source": [
    "# 데이터 다운캐스팅"
   ]
  },
  {
   "cell_type": "code",
   "execution_count": 56,
   "metadata": {
    "execution": {
     "iopub.execute_input": "2022-11-28T07:26:01.095539Z",
     "iopub.status.busy": "2022-11-28T07:26:01.095217Z",
     "iopub.status.idle": "2022-11-28T07:26:01.106568Z",
     "shell.execute_reply": "2022-11-28T07:26:01.104103Z",
     "shell.execute_reply.started": "2022-11-28T07:26:01.095515Z"
    }
   },
   "outputs": [],
   "source": [
    "def downcast(df, verbose=True):\n",
    "    start_mem = df.memory_usage().sum() / 1024**2\n",
    "    for col in df.columns:\n",
    "        dtype_name = df[col].dtype.name\n",
    "        if dtype_name == 'object':\n",
    "            pass\n",
    "        elif dtype_name == 'bool':\n",
    "            df[col] = df[col].astype('int8')\n",
    "        elif dtype_name.startswith('int') or (df[col].round() == df[col]).all():\n",
    "            df[col] = pd.to_numeric(df[col], downcast='integer')\n",
    "        else:\n",
    "            df[col] = pd.to_numeric(df[col], downcast='float')\n",
    "    end_mem = df.memory_usage().sum() / 1024**2\n",
    "    if verbose:\n",
    "        print('{:.1f}% 압축됨'.format(100 * (start_mem - end_mem) / start_mem))\n",
    "    \n",
    "    return df"
   ]
  },
  {
   "cell_type": "code",
   "execution_count": 57,
   "metadata": {
    "execution": {
     "iopub.execute_input": "2022-11-28T07:26:01.108660Z",
     "iopub.status.busy": "2022-11-28T07:26:01.108184Z",
     "iopub.status.idle": "2022-11-28T07:26:01.323912Z",
     "shell.execute_reply": "2022-11-28T07:26:01.323265Z",
     "shell.execute_reply.started": "2022-11-28T07:26:01.108625Z"
    }
   },
   "outputs": [
    {
     "name": "stdout",
     "output_type": "stream",
     "text": [
      "62.5% 압축됨\n",
      "38.6% 압축됨\n",
      "54.2% 압축됨\n",
      "39.9% 압축됨\n",
      "70.8% 압축됨\n"
     ]
    }
   ],
   "source": [
    "all_df = [sales_train, shops, items, item_categories, test]\n",
    "for df in all_df:\n",
    "    df = downcast(df)"
   ]
  },
  {
   "cell_type": "markdown",
   "metadata": {},
   "source": [
    "# 데이터 조합 생성"
   ]
  },
  {
   "cell_type": "code",
   "execution_count": 58,
   "metadata": {
    "execution": {
     "iopub.execute_input": "2022-11-28T07:26:01.325058Z",
     "iopub.status.busy": "2022-11-28T07:26:01.324830Z",
     "iopub.status.idle": "2022-11-28T07:26:09.651803Z",
     "shell.execute_reply": "2022-11-28T07:26:09.650216Z",
     "shell.execute_reply.started": "2022-11-28T07:26:01.325036Z"
    }
   },
   "outputs": [
    {
     "data": {
      "text/html": [
       "<div>\n",
       "<style scoped>\n",
       "    .dataframe tbody tr th:only-of-type {\n",
       "        vertical-align: middle;\n",
       "    }\n",
       "\n",
       "    .dataframe tbody tr th {\n",
       "        vertical-align: top;\n",
       "    }\n",
       "\n",
       "    .dataframe thead th {\n",
       "        text-align: right;\n",
       "    }\n",
       "</style>\n",
       "<table border=\"1\" class=\"dataframe\">\n",
       "  <thead>\n",
       "    <tr style=\"text-align: right;\">\n",
       "      <th></th>\n",
       "      <th>월ID</th>\n",
       "      <th>상점ID</th>\n",
       "      <th>상품ID</th>\n",
       "    </tr>\n",
       "  </thead>\n",
       "  <tbody>\n",
       "    <tr>\n",
       "      <th>0</th>\n",
       "      <td>0</td>\n",
       "      <td>59</td>\n",
       "      <td>22154</td>\n",
       "    </tr>\n",
       "    <tr>\n",
       "      <th>1</th>\n",
       "      <td>0</td>\n",
       "      <td>59</td>\n",
       "      <td>2552</td>\n",
       "    </tr>\n",
       "    <tr>\n",
       "      <th>2</th>\n",
       "      <td>0</td>\n",
       "      <td>59</td>\n",
       "      <td>2554</td>\n",
       "    </tr>\n",
       "    <tr>\n",
       "      <th>3</th>\n",
       "      <td>0</td>\n",
       "      <td>59</td>\n",
       "      <td>2555</td>\n",
       "    </tr>\n",
       "    <tr>\n",
       "      <th>4</th>\n",
       "      <td>0</td>\n",
       "      <td>59</td>\n",
       "      <td>2564</td>\n",
       "    </tr>\n",
       "    <tr>\n",
       "      <th>...</th>\n",
       "      <td>...</td>\n",
       "      <td>...</td>\n",
       "      <td>...</td>\n",
       "    </tr>\n",
       "    <tr>\n",
       "      <th>10913845</th>\n",
       "      <td>33</td>\n",
       "      <td>21</td>\n",
       "      <td>7635</td>\n",
       "    </tr>\n",
       "    <tr>\n",
       "      <th>10913846</th>\n",
       "      <td>33</td>\n",
       "      <td>21</td>\n",
       "      <td>7638</td>\n",
       "    </tr>\n",
       "    <tr>\n",
       "      <th>10913847</th>\n",
       "      <td>33</td>\n",
       "      <td>21</td>\n",
       "      <td>7640</td>\n",
       "    </tr>\n",
       "    <tr>\n",
       "      <th>10913848</th>\n",
       "      <td>33</td>\n",
       "      <td>21</td>\n",
       "      <td>7632</td>\n",
       "    </tr>\n",
       "    <tr>\n",
       "      <th>10913849</th>\n",
       "      <td>33</td>\n",
       "      <td>21</td>\n",
       "      <td>7440</td>\n",
       "    </tr>\n",
       "  </tbody>\n",
       "</table>\n",
       "<p>10913850 rows × 3 columns</p>\n",
       "</div>"
      ],
      "text/plain": [
       "          월ID  상점ID   상품ID\n",
       "0           0    59  22154\n",
       "1           0    59   2552\n",
       "2           0    59   2554\n",
       "3           0    59   2555\n",
       "4           0    59   2564\n",
       "...       ...   ...    ...\n",
       "10913845   33    21   7635\n",
       "10913846   33    21   7638\n",
       "10913847   33    21   7640\n",
       "10913848   33    21   7632\n",
       "10913849   33    21   7440\n",
       "\n",
       "[10913850 rows x 3 columns]"
      ]
     },
     "execution_count": 58,
     "metadata": {},
     "output_type": "execute_result"
    }
   ],
   "source": [
    "from itertools import product\n",
    "\n",
    "train = []\n",
    "# 월ID, 상점ID, 상품ID 조합 생성 \n",
    "for i in sales_train['월ID'].unique():\n",
    "    all_shop = sales_train.loc[sales_train['월ID']==i, '상점ID'].unique()\n",
    "    all_item = sales_train.loc[sales_train['월ID']==i, '상품ID'].unique()\n",
    "    train.append(np.array(list(product([i], all_shop, all_item))))\n",
    "\n",
    "idx_features = ['월ID', '상점ID', '상품ID'] # 기준 피처\n",
    "# 리스트 타입인 train을 DataFrame 타입으로 변환 \n",
    "train = pd.DataFrame(np.vstack(train), columns=idx_features)\n",
    "\n",
    "train"
   ]
  },
  {
   "cell_type": "markdown",
   "metadata": {},
   "source": [
    "# 타깃값(월간 판매량) 추가"
   ]
  },
  {
   "cell_type": "code",
   "execution_count": 59,
   "metadata": {
    "execution": {
     "iopub.execute_input": "2022-11-28T07:26:09.653949Z",
     "iopub.status.busy": "2022-11-28T07:26:09.653578Z",
     "iopub.status.idle": "2022-11-28T07:26:10.291345Z",
     "shell.execute_reply": "2022-11-28T07:26:10.290187Z",
     "shell.execute_reply.started": "2022-11-28T07:26:09.653925Z"
    }
   },
   "outputs": [
    {
     "data": {
      "text/html": [
       "<div>\n",
       "<style scoped>\n",
       "    .dataframe tbody tr th:only-of-type {\n",
       "        vertical-align: middle;\n",
       "    }\n",
       "\n",
       "    .dataframe tbody tr th {\n",
       "        vertical-align: top;\n",
       "    }\n",
       "\n",
       "    .dataframe thead th {\n",
       "        text-align: right;\n",
       "    }\n",
       "</style>\n",
       "<table border=\"1\" class=\"dataframe\">\n",
       "  <thead>\n",
       "    <tr style=\"text-align: right;\">\n",
       "      <th></th>\n",
       "      <th>월ID</th>\n",
       "      <th>상점ID</th>\n",
       "      <th>상품ID</th>\n",
       "      <th>월간 판매량</th>\n",
       "    </tr>\n",
       "  </thead>\n",
       "  <tbody>\n",
       "    <tr>\n",
       "      <th>0</th>\n",
       "      <td>0</td>\n",
       "      <td>0</td>\n",
       "      <td>32</td>\n",
       "      <td>6</td>\n",
       "    </tr>\n",
       "    <tr>\n",
       "      <th>1</th>\n",
       "      <td>0</td>\n",
       "      <td>0</td>\n",
       "      <td>33</td>\n",
       "      <td>3</td>\n",
       "    </tr>\n",
       "    <tr>\n",
       "      <th>2</th>\n",
       "      <td>0</td>\n",
       "      <td>0</td>\n",
       "      <td>35</td>\n",
       "      <td>1</td>\n",
       "    </tr>\n",
       "    <tr>\n",
       "      <th>3</th>\n",
       "      <td>0</td>\n",
       "      <td>0</td>\n",
       "      <td>43</td>\n",
       "      <td>1</td>\n",
       "    </tr>\n",
       "    <tr>\n",
       "      <th>4</th>\n",
       "      <td>0</td>\n",
       "      <td>0</td>\n",
       "      <td>51</td>\n",
       "      <td>2</td>\n",
       "    </tr>\n",
       "    <tr>\n",
       "      <th>...</th>\n",
       "      <td>...</td>\n",
       "      <td>...</td>\n",
       "      <td>...</td>\n",
       "      <td>...</td>\n",
       "    </tr>\n",
       "    <tr>\n",
       "      <th>1609119</th>\n",
       "      <td>33</td>\n",
       "      <td>59</td>\n",
       "      <td>22087</td>\n",
       "      <td>6</td>\n",
       "    </tr>\n",
       "    <tr>\n",
       "      <th>1609120</th>\n",
       "      <td>33</td>\n",
       "      <td>59</td>\n",
       "      <td>22088</td>\n",
       "      <td>2</td>\n",
       "    </tr>\n",
       "    <tr>\n",
       "      <th>1609121</th>\n",
       "      <td>33</td>\n",
       "      <td>59</td>\n",
       "      <td>22091</td>\n",
       "      <td>1</td>\n",
       "    </tr>\n",
       "    <tr>\n",
       "      <th>1609122</th>\n",
       "      <td>33</td>\n",
       "      <td>59</td>\n",
       "      <td>22100</td>\n",
       "      <td>1</td>\n",
       "    </tr>\n",
       "    <tr>\n",
       "      <th>1609123</th>\n",
       "      <td>33</td>\n",
       "      <td>59</td>\n",
       "      <td>22102</td>\n",
       "      <td>1</td>\n",
       "    </tr>\n",
       "  </tbody>\n",
       "</table>\n",
       "<p>1609124 rows × 4 columns</p>\n",
       "</div>"
      ],
      "text/plain": [
       "         월ID  상점ID   상품ID  월간 판매량\n",
       "0          0     0     32       6\n",
       "1          0     0     33       3\n",
       "2          0     0     35       1\n",
       "3          0     0     43       1\n",
       "4          0     0     51       2\n",
       "...      ...   ...    ...     ...\n",
       "1609119   33    59  22087       6\n",
       "1609120   33    59  22088       2\n",
       "1609121   33    59  22091       1\n",
       "1609122   33    59  22100       1\n",
       "1609123   33    59  22102       1\n",
       "\n",
       "[1609124 rows x 4 columns]"
      ]
     },
     "execution_count": 59,
     "metadata": {},
     "output_type": "execute_result"
    }
   ],
   "source": [
    "# idx_features를 기준으로 그룹화해 판매량 합 구하기 \n",
    "group = sales_train.groupby(idx_features).agg({'판매량': 'sum'})\n",
    "# 인덱스 재설정\n",
    "group = group.reset_index()\n",
    "# 피처명을 '판매량'에서 '월간 판매량'으로 변경\n",
    "group = group.rename(columns={'판매량': '월간 판매량'})\n",
    "\n",
    "group"
   ]
  },
  {
   "cell_type": "code",
   "execution_count": 60,
   "metadata": {
    "execution": {
     "iopub.execute_input": "2022-11-28T07:26:10.293077Z",
     "iopub.status.busy": "2022-11-28T07:26:10.292662Z",
     "iopub.status.idle": "2022-11-28T07:26:14.153620Z",
     "shell.execute_reply": "2022-11-28T07:26:14.152757Z",
     "shell.execute_reply.started": "2022-11-28T07:26:10.293044Z"
    }
   },
   "outputs": [
    {
     "data": {
      "text/html": [
       "<div>\n",
       "<style scoped>\n",
       "    .dataframe tbody tr th:only-of-type {\n",
       "        vertical-align: middle;\n",
       "    }\n",
       "\n",
       "    .dataframe tbody tr th {\n",
       "        vertical-align: top;\n",
       "    }\n",
       "\n",
       "    .dataframe thead th {\n",
       "        text-align: right;\n",
       "    }\n",
       "</style>\n",
       "<table border=\"1\" class=\"dataframe\">\n",
       "  <thead>\n",
       "    <tr style=\"text-align: right;\">\n",
       "      <th></th>\n",
       "      <th>월ID</th>\n",
       "      <th>상점ID</th>\n",
       "      <th>상품ID</th>\n",
       "      <th>월간 판매량</th>\n",
       "    </tr>\n",
       "  </thead>\n",
       "  <tbody>\n",
       "    <tr>\n",
       "      <th>0</th>\n",
       "      <td>0</td>\n",
       "      <td>59</td>\n",
       "      <td>22154</td>\n",
       "      <td>1.0</td>\n",
       "    </tr>\n",
       "    <tr>\n",
       "      <th>1</th>\n",
       "      <td>0</td>\n",
       "      <td>59</td>\n",
       "      <td>2552</td>\n",
       "      <td>NaN</td>\n",
       "    </tr>\n",
       "    <tr>\n",
       "      <th>2</th>\n",
       "      <td>0</td>\n",
       "      <td>59</td>\n",
       "      <td>2554</td>\n",
       "      <td>NaN</td>\n",
       "    </tr>\n",
       "    <tr>\n",
       "      <th>3</th>\n",
       "      <td>0</td>\n",
       "      <td>59</td>\n",
       "      <td>2555</td>\n",
       "      <td>NaN</td>\n",
       "    </tr>\n",
       "    <tr>\n",
       "      <th>4</th>\n",
       "      <td>0</td>\n",
       "      <td>59</td>\n",
       "      <td>2564</td>\n",
       "      <td>NaN</td>\n",
       "    </tr>\n",
       "    <tr>\n",
       "      <th>...</th>\n",
       "      <td>...</td>\n",
       "      <td>...</td>\n",
       "      <td>...</td>\n",
       "      <td>...</td>\n",
       "    </tr>\n",
       "    <tr>\n",
       "      <th>10913845</th>\n",
       "      <td>33</td>\n",
       "      <td>21</td>\n",
       "      <td>7635</td>\n",
       "      <td>NaN</td>\n",
       "    </tr>\n",
       "    <tr>\n",
       "      <th>10913846</th>\n",
       "      <td>33</td>\n",
       "      <td>21</td>\n",
       "      <td>7638</td>\n",
       "      <td>NaN</td>\n",
       "    </tr>\n",
       "    <tr>\n",
       "      <th>10913847</th>\n",
       "      <td>33</td>\n",
       "      <td>21</td>\n",
       "      <td>7640</td>\n",
       "      <td>NaN</td>\n",
       "    </tr>\n",
       "    <tr>\n",
       "      <th>10913848</th>\n",
       "      <td>33</td>\n",
       "      <td>21</td>\n",
       "      <td>7632</td>\n",
       "      <td>NaN</td>\n",
       "    </tr>\n",
       "    <tr>\n",
       "      <th>10913849</th>\n",
       "      <td>33</td>\n",
       "      <td>21</td>\n",
       "      <td>7440</td>\n",
       "      <td>NaN</td>\n",
       "    </tr>\n",
       "  </tbody>\n",
       "</table>\n",
       "<p>10913850 rows × 4 columns</p>\n",
       "</div>"
      ],
      "text/plain": [
       "          월ID  상점ID   상품ID  월간 판매량\n",
       "0           0    59  22154     1.0\n",
       "1           0    59   2552     NaN\n",
       "2           0    59   2554     NaN\n",
       "3           0    59   2555     NaN\n",
       "4           0    59   2564     NaN\n",
       "...       ...   ...    ...     ...\n",
       "10913845   33    21   7635     NaN\n",
       "10913846   33    21   7638     NaN\n",
       "10913847   33    21   7640     NaN\n",
       "10913848   33    21   7632     NaN\n",
       "10913849   33    21   7440     NaN\n",
       "\n",
       "[10913850 rows x 4 columns]"
      ]
     },
     "execution_count": 60,
     "metadata": {},
     "output_type": "execute_result"
    }
   ],
   "source": [
    "# train과 group 병합하기\n",
    "train = train.merge(group, on=idx_features, how='left')\n",
    "\n",
    "train"
   ]
  },
  {
   "cell_type": "code",
   "execution_count": 61,
   "metadata": {
    "execution": {
     "iopub.execute_input": "2022-11-28T07:26:14.156367Z",
     "iopub.status.busy": "2022-11-28T07:26:14.155340Z",
     "iopub.status.idle": "2022-11-28T07:26:14.282081Z",
     "shell.execute_reply": "2022-11-28T07:26:14.280785Z",
     "shell.execute_reply.started": "2022-11-28T07:26:14.156338Z"
    }
   },
   "outputs": [],
   "source": [
    "import gc # 가비지 컬렉터 불러오기\n",
    "\n",
    "del group # 더는 사용하지 않는 변수 지정\n",
    "gc.collect(); # 가비지 컬렉션 수행"
   ]
  },
  {
   "cell_type": "markdown",
   "metadata": {},
   "source": [
    "# 테스트 데이터 이어붙이기"
   ]
  },
  {
   "cell_type": "code",
   "execution_count": 62,
   "metadata": {
    "execution": {
     "iopub.execute_input": "2022-11-28T07:26:14.284776Z",
     "iopub.status.busy": "2022-11-28T07:26:14.283391Z",
     "iopub.status.idle": "2022-11-28T07:26:14.303876Z",
     "shell.execute_reply": "2022-11-28T07:26:14.302320Z",
     "shell.execute_reply.started": "2022-11-28T07:26:14.284590Z"
    }
   },
   "outputs": [],
   "source": [
    "test['월ID'] = 34"
   ]
  },
  {
   "cell_type": "code",
   "execution_count": 63,
   "metadata": {
    "execution": {
     "iopub.execute_input": "2022-11-28T07:26:14.305907Z",
     "iopub.status.busy": "2022-11-28T07:26:14.305612Z",
     "iopub.status.idle": "2022-11-28T07:26:14.358596Z",
     "shell.execute_reply": "2022-11-28T07:26:14.356683Z",
     "shell.execute_reply.started": "2022-11-28T07:26:14.305884Z"
    }
   },
   "outputs": [],
   "source": [
    "# train과 test 이어붙이기\n",
    "all_data = pd.concat([train, test.drop('ID', axis=1)],\n",
    "                     ignore_index=True, # 기존 인덱스 무시(0부터 새로 시작)\n",
    "                     keys=idx_features) # 이어붙이는 기준이 되는 피처"
   ]
  },
  {
   "cell_type": "code",
   "execution_count": 64,
   "metadata": {
    "execution": {
     "iopub.execute_input": "2022-11-28T07:26:14.360622Z",
     "iopub.status.busy": "2022-11-28T07:26:14.360259Z",
     "iopub.status.idle": "2022-11-28T07:26:14.458527Z",
     "shell.execute_reply": "2022-11-28T07:26:14.456814Z",
     "shell.execute_reply.started": "2022-11-28T07:26:14.360587Z"
    }
   },
   "outputs": [
    {
     "data": {
      "text/html": [
       "<div>\n",
       "<style scoped>\n",
       "    .dataframe tbody tr th:only-of-type {\n",
       "        vertical-align: middle;\n",
       "    }\n",
       "\n",
       "    .dataframe tbody tr th {\n",
       "        vertical-align: top;\n",
       "    }\n",
       "\n",
       "    .dataframe thead th {\n",
       "        text-align: right;\n",
       "    }\n",
       "</style>\n",
       "<table border=\"1\" class=\"dataframe\">\n",
       "  <thead>\n",
       "    <tr style=\"text-align: right;\">\n",
       "      <th></th>\n",
       "      <th>월ID</th>\n",
       "      <th>상점ID</th>\n",
       "      <th>상품ID</th>\n",
       "      <th>월간 판매량</th>\n",
       "    </tr>\n",
       "  </thead>\n",
       "  <tbody>\n",
       "    <tr>\n",
       "      <th>0</th>\n",
       "      <td>0</td>\n",
       "      <td>59</td>\n",
       "      <td>22154</td>\n",
       "      <td>1.0</td>\n",
       "    </tr>\n",
       "    <tr>\n",
       "      <th>1</th>\n",
       "      <td>0</td>\n",
       "      <td>59</td>\n",
       "      <td>2552</td>\n",
       "      <td>0.0</td>\n",
       "    </tr>\n",
       "    <tr>\n",
       "      <th>2</th>\n",
       "      <td>0</td>\n",
       "      <td>59</td>\n",
       "      <td>2554</td>\n",
       "      <td>0.0</td>\n",
       "    </tr>\n",
       "    <tr>\n",
       "      <th>3</th>\n",
       "      <td>0</td>\n",
       "      <td>59</td>\n",
       "      <td>2555</td>\n",
       "      <td>0.0</td>\n",
       "    </tr>\n",
       "    <tr>\n",
       "      <th>4</th>\n",
       "      <td>0</td>\n",
       "      <td>59</td>\n",
       "      <td>2564</td>\n",
       "      <td>0.0</td>\n",
       "    </tr>\n",
       "    <tr>\n",
       "      <th>...</th>\n",
       "      <td>...</td>\n",
       "      <td>...</td>\n",
       "      <td>...</td>\n",
       "      <td>...</td>\n",
       "    </tr>\n",
       "    <tr>\n",
       "      <th>11128045</th>\n",
       "      <td>34</td>\n",
       "      <td>45</td>\n",
       "      <td>18454</td>\n",
       "      <td>0.0</td>\n",
       "    </tr>\n",
       "    <tr>\n",
       "      <th>11128046</th>\n",
       "      <td>34</td>\n",
       "      <td>45</td>\n",
       "      <td>16188</td>\n",
       "      <td>0.0</td>\n",
       "    </tr>\n",
       "    <tr>\n",
       "      <th>11128047</th>\n",
       "      <td>34</td>\n",
       "      <td>45</td>\n",
       "      <td>15757</td>\n",
       "      <td>0.0</td>\n",
       "    </tr>\n",
       "    <tr>\n",
       "      <th>11128048</th>\n",
       "      <td>34</td>\n",
       "      <td>45</td>\n",
       "      <td>19648</td>\n",
       "      <td>0.0</td>\n",
       "    </tr>\n",
       "    <tr>\n",
       "      <th>11128049</th>\n",
       "      <td>34</td>\n",
       "      <td>45</td>\n",
       "      <td>969</td>\n",
       "      <td>0.0</td>\n",
       "    </tr>\n",
       "  </tbody>\n",
       "</table>\n",
       "<p>11128050 rows × 4 columns</p>\n",
       "</div>"
      ],
      "text/plain": [
       "          월ID  상점ID   상품ID  월간 판매량\n",
       "0           0    59  22154     1.0\n",
       "1           0    59   2552     0.0\n",
       "2           0    59   2554     0.0\n",
       "3           0    59   2555     0.0\n",
       "4           0    59   2564     0.0\n",
       "...       ...   ...    ...     ...\n",
       "11128045   34    45  18454     0.0\n",
       "11128046   34    45  16188     0.0\n",
       "11128047   34    45  15757     0.0\n",
       "11128048   34    45  19648     0.0\n",
       "11128049   34    45    969     0.0\n",
       "\n",
       "[11128050 rows x 4 columns]"
      ]
     },
     "execution_count": 64,
     "metadata": {},
     "output_type": "execute_result"
    }
   ],
   "source": [
    "# 결측값을 0으로 대체\n",
    "all_data = all_data.fillna(0)\n",
    "\n",
    "all_data"
   ]
  },
  {
   "cell_type": "markdown",
   "metadata": {},
   "source": [
    "# 최종 데이터 생성"
   ]
  },
  {
   "cell_type": "code",
   "execution_count": 65,
   "metadata": {
    "execution": {
     "iopub.execute_input": "2022-11-28T07:26:14.460051Z",
     "iopub.status.busy": "2022-11-28T07:26:14.459688Z",
     "iopub.status.idle": "2022-11-28T07:26:20.073778Z",
     "shell.execute_reply": "2022-11-28T07:26:20.072288Z",
     "shell.execute_reply.started": "2022-11-28T07:26:14.460024Z"
    }
   },
   "outputs": [
    {
     "name": "stdout",
     "output_type": "stream",
     "text": [
      "26.4% 압축됨\n"
     ]
    }
   ],
   "source": [
    "# 나머지 데이터 병합\n",
    "all_data = all_data.merge(shops, on='상점ID', how='left')\n",
    "all_data = all_data.merge(items, on='상품ID', how='left')\n",
    "all_data = all_data.merge(item_categories, on='상품분류ID', how='left')\n",
    "\n",
    "# 데이터 다운캐스팅\n",
    "all_data = downcast(all_data)\n",
    "\n",
    "# 가비지 컬렉션\n",
    "del shops, items, item_categories\n",
    "gc.collect();"
   ]
  },
  {
   "cell_type": "code",
   "execution_count": 66,
   "metadata": {
    "execution": {
     "iopub.execute_input": "2022-11-28T07:26:20.075218Z",
     "iopub.status.busy": "2022-11-28T07:26:20.074946Z",
     "iopub.status.idle": "2022-11-28T07:26:20.086872Z",
     "shell.execute_reply": "2022-11-28T07:26:20.085781Z",
     "shell.execute_reply.started": "2022-11-28T07:26:20.075195Z"
    }
   },
   "outputs": [
    {
     "data": {
      "text/html": [
       "<div>\n",
       "<style scoped>\n",
       "    .dataframe tbody tr th:only-of-type {\n",
       "        vertical-align: middle;\n",
       "    }\n",
       "\n",
       "    .dataframe tbody tr th {\n",
       "        vertical-align: top;\n",
       "    }\n",
       "\n",
       "    .dataframe thead th {\n",
       "        text-align: right;\n",
       "    }\n",
       "</style>\n",
       "<table border=\"1\" class=\"dataframe\">\n",
       "  <thead>\n",
       "    <tr style=\"text-align: right;\">\n",
       "      <th></th>\n",
       "      <th>월ID</th>\n",
       "      <th>상점ID</th>\n",
       "      <th>상품ID</th>\n",
       "      <th>월간 판매량</th>\n",
       "      <th>상점명</th>\n",
       "      <th>상품명</th>\n",
       "      <th>상품분류ID</th>\n",
       "      <th>상품분류명</th>\n",
       "    </tr>\n",
       "  </thead>\n",
       "  <tbody>\n",
       "    <tr>\n",
       "      <th>0</th>\n",
       "      <td>0</td>\n",
       "      <td>59</td>\n",
       "      <td>22154</td>\n",
       "      <td>1</td>\n",
       "      <td>Ярославль ТЦ \"Альтаир\"</td>\n",
       "      <td>ЯВЛЕНИЕ 2012 (BD)</td>\n",
       "      <td>37</td>\n",
       "      <td>Кино - Blu-Ray</td>\n",
       "    </tr>\n",
       "    <tr>\n",
       "      <th>1</th>\n",
       "      <td>0</td>\n",
       "      <td>59</td>\n",
       "      <td>2552</td>\n",
       "      <td>0</td>\n",
       "      <td>Ярославль ТЦ \"Альтаир\"</td>\n",
       "      <td>DEEP PURPLE  The House Of Blue Light  LP</td>\n",
       "      <td>58</td>\n",
       "      <td>Музыка - Винил</td>\n",
       "    </tr>\n",
       "    <tr>\n",
       "      <th>2</th>\n",
       "      <td>0</td>\n",
       "      <td>59</td>\n",
       "      <td>2554</td>\n",
       "      <td>0</td>\n",
       "      <td>Ярославль ТЦ \"Альтаир\"</td>\n",
       "      <td>DEEP PURPLE  Who Do You Think We Are  LP</td>\n",
       "      <td>58</td>\n",
       "      <td>Музыка - Винил</td>\n",
       "    </tr>\n",
       "    <tr>\n",
       "      <th>3</th>\n",
       "      <td>0</td>\n",
       "      <td>59</td>\n",
       "      <td>2555</td>\n",
       "      <td>0</td>\n",
       "      <td>Ярославль ТЦ \"Альтаир\"</td>\n",
       "      <td>DEEP PURPLE 30 Very Best Of 2CD (Фирм.)</td>\n",
       "      <td>56</td>\n",
       "      <td>Музыка - CD фирменного производства</td>\n",
       "    </tr>\n",
       "    <tr>\n",
       "      <th>4</th>\n",
       "      <td>0</td>\n",
       "      <td>59</td>\n",
       "      <td>2564</td>\n",
       "      <td>0</td>\n",
       "      <td>Ярославль ТЦ \"Альтаир\"</td>\n",
       "      <td>DEEP PURPLE Perihelion: Live In Concert DVD (К...</td>\n",
       "      <td>59</td>\n",
       "      <td>Музыка - Музыкальное видео</td>\n",
       "    </tr>\n",
       "  </tbody>\n",
       "</table>\n",
       "</div>"
      ],
      "text/plain": [
       "   월ID  상점ID   상품ID  월간 판매량                     상점명  \\\n",
       "0    0    59  22154       1  Ярославль ТЦ \"Альтаир\"   \n",
       "1    0    59   2552       0  Ярославль ТЦ \"Альтаир\"   \n",
       "2    0    59   2554       0  Ярославль ТЦ \"Альтаир\"   \n",
       "3    0    59   2555       0  Ярославль ТЦ \"Альтаир\"   \n",
       "4    0    59   2564       0  Ярославль ТЦ \"Альтаир\"   \n",
       "\n",
       "                                                 상품명  상품분류ID  \\\n",
       "0                                  ЯВЛЕНИЕ 2012 (BD)      37   \n",
       "1           DEEP PURPLE  The House Of Blue Light  LP      58   \n",
       "2           DEEP PURPLE  Who Do You Think We Are  LP      58   \n",
       "3            DEEP PURPLE 30 Very Best Of 2CD (Фирм.)      56   \n",
       "4  DEEP PURPLE Perihelion: Live In Concert DVD (К...      59   \n",
       "\n",
       "                                 상품분류명  \n",
       "0                       Кино - Blu-Ray  \n",
       "1                       Музыка - Винил  \n",
       "2                       Музыка - Винил  \n",
       "3  Музыка - CD фирменного производства  \n",
       "4           Музыка - Музыкальное видео  "
      ]
     },
     "execution_count": 66,
     "metadata": {},
     "output_type": "execute_result"
    }
   ],
   "source": [
    "all_data.head()"
   ]
  },
  {
   "cell_type": "code",
   "execution_count": 67,
   "metadata": {
    "execution": {
     "iopub.execute_input": "2022-11-28T07:26:20.087959Z",
     "iopub.status.busy": "2022-11-28T07:26:20.087725Z",
     "iopub.status.idle": "2022-11-28T07:26:20.794523Z",
     "shell.execute_reply": "2022-11-28T07:26:20.792553Z",
     "shell.execute_reply.started": "2022-11-28T07:26:20.087936Z"
    }
   },
   "outputs": [],
   "source": [
    "all_data = all_data.drop(['상점명', '상품명', '상품분류명'], axis=1)"
   ]
  },
  {
   "cell_type": "markdown",
   "metadata": {},
   "source": []
  },
  {
   "cell_type": "code",
   "execution_count": 68,
   "metadata": {
    "execution": {
     "iopub.execute_input": "2022-11-28T07:26:20.797252Z",
     "iopub.status.busy": "2022-11-28T07:26:20.796795Z",
     "iopub.status.idle": "2022-11-28T07:26:21.502948Z",
     "shell.execute_reply": "2022-11-28T07:26:21.502012Z",
     "shell.execute_reply.started": "2022-11-28T07:26:20.797217Z"
    }
   },
   "outputs": [],
   "source": [
    "# 훈련 데이터 (피처)\n",
    "X_train = all_data[all_data['월ID'] < 33]\n",
    "X_train = X_train.drop(['월간 판매량'], axis=1)\n",
    "# 검증 데이터 (피처)\n",
    "X_valid = all_data[all_data['월ID'] == 33]\n",
    "X_valid = X_valid.drop(['월간 판매량'], axis=1)\n",
    "# 테스트 데이터 (피처)\n",
    "X_test = all_data[all_data['월ID'] == 34]\n",
    "X_test = X_test.drop(['월간 판매량'], axis=1)\n",
    "\n",
    "# 훈련 데이터 (타깃값)\n",
    "y_train = all_data[all_data['월ID'] < 33]['월간 판매량']\n",
    "y_train = y_train.clip(0, 20) # 타깃값을 0 ~ 20로 제한\n",
    "# 검증 데이터 (타깃값)\n",
    "y_valid = all_data[all_data['월ID'] == 33]['월간 판매량']\n",
    "y_valid = y_valid.clip(0, 20)"
   ]
  },
  {
   "cell_type": "code",
   "execution_count": 69,
   "metadata": {
    "execution": {
     "iopub.execute_input": "2022-11-28T07:26:21.504299Z",
     "iopub.status.busy": "2022-11-28T07:26:21.504049Z",
     "iopub.status.idle": "2022-11-28T07:26:21.627554Z",
     "shell.execute_reply": "2022-11-28T07:26:21.626012Z",
     "shell.execute_reply.started": "2022-11-28T07:26:21.504277Z"
    }
   },
   "outputs": [],
   "source": [
    "del all_data\n",
    "gc.collect();"
   ]
  },
  {
   "cell_type": "markdown",
   "metadata": {},
   "source": [
    "# 모델 훈련 및 성능 검증"
   ]
  },
  {
   "cell_type": "code",
   "execution_count": 70,
   "metadata": {
    "execution": {
     "iopub.execute_input": "2022-11-28T07:26:21.630153Z",
     "iopub.status.busy": "2022-11-28T07:26:21.629761Z",
     "iopub.status.idle": "2022-11-28T07:29:12.445320Z",
     "shell.execute_reply": "2022-11-28T07:29:12.444234Z",
     "shell.execute_reply.started": "2022-11-28T07:26:21.630127Z"
    }
   },
   "outputs": [
    {
     "data": {
      "text/html": [
       "<style type='text/css'>\n",
       ".datatable table.frame { margin-bottom: 0; }\n",
       ".datatable table.frame thead { border-bottom: none; }\n",
       ".datatable table.frame tr.coltypes td {  color: #FFFFFF;  line-height: 6px;  padding: 0 0.5em;}\n",
       ".datatable .bool    { background: #DDDD99; }\n",
       ".datatable .object  { background: #565656; }\n",
       ".datatable .int     { background: #5D9E5D; }\n",
       ".datatable .float   { background: #4040CC; }\n",
       ".datatable .str     { background: #CC4040; }\n",
       ".datatable .time    { background: #40CC40; }\n",
       ".datatable .row_index {  background: var(--jp-border-color3);  border-right: 1px solid var(--jp-border-color0);  color: var(--jp-ui-font-color3);  font-size: 9px;}\n",
       ".datatable .frame tbody td { text-align: left; }\n",
       ".datatable .frame tr.coltypes .row_index {  background: var(--jp-border-color0);}\n",
       ".datatable th:nth-child(2) { padding-left: 12px; }\n",
       ".datatable .hellipsis {  color: var(--jp-cell-editor-border-color);}\n",
       ".datatable .vellipsis {  background: var(--jp-layout-color0);  color: var(--jp-cell-editor-border-color);}\n",
       ".datatable .na {  color: var(--jp-cell-editor-border-color);  font-size: 80%;}\n",
       ".datatable .sp {  opacity: 0.25;}\n",
       ".datatable .footer { font-size: 9px; }\n",
       ".datatable .frame_dimensions {  background: var(--jp-border-color3);  border-top: 1px solid var(--jp-border-color0);  color: var(--jp-ui-font-color3);  display: inline-block;  opacity: 0.6;  padding: 1px 10px 1px 5px;}\n",
       "</style>\n"
      ],
      "text/plain": [
       "<IPython.core.display.HTML object>"
      ]
     },
     "metadata": {},
     "output_type": "display_data"
    },
    {
     "name": "stdout",
     "output_type": "stream",
     "text": [
      "[LightGBM] [Info] Total Bins 426\n",
      "[LightGBM] [Info] Number of data points in the train set: 10675678, number of used features: 4\n",
      "[LightGBM] [Info] Start training from score 0.299125\n",
      "[50]\ttraining's rmse: 1.14777\tvalid_1's rmse: 1.06755\n",
      "[100]\ttraining's rmse: 1.11425\tvalid_1's rmse: 1.0386\n",
      "[150]\ttraining's rmse: 1.09673\tvalid_1's rmse: 1.02671\n",
      "[200]\ttraining's rmse: 1.08573\tvalid_1's rmse: 1.02027\n",
      "[250]\ttraining's rmse: 1.07722\tvalid_1's rmse: 1.01661\n",
      "[300]\ttraining's rmse: 1.0698\tvalid_1's rmse: 1.0138\n",
      "[350]\ttraining's rmse: 1.06317\tvalid_1's rmse: 1.01084\n",
      "[400]\ttraining's rmse: 1.05734\tvalid_1's rmse: 1.00936\n",
      "[450]\ttraining's rmse: 1.05224\tvalid_1's rmse: 1.00818\n",
      "[500]\ttraining's rmse: 1.04792\tvalid_1's rmse: 1.00722\n"
     ]
    }
   ],
   "source": [
    "import lightgbm as lgb\n",
    "\n",
    "# LightGBM 하이퍼파라미터\n",
    "params = {'metric': 'rmse', # 평가지표 = rmse\n",
    "          'num_leaves': 255,\n",
    "          'learning_rate': 0.01,\n",
    "          'force_col_wise': True,\n",
    "          'random_state': 10}\n",
    "\n",
    "# 범주형 피처 설정\n",
    "cat_features = ['상점ID', '상품분류ID']\n",
    "\n",
    "# LightGBM 훈련 및 검증 데이터셋\n",
    "dtrain = lgb.Dataset(X_train, y_train)\n",
    "dvalid = lgb.Dataset(X_valid, y_valid)\n",
    "\n",
    "# LightGBM 모델 훈련\n",
    "lgb_model = lgb.train(params=params,\n",
    "                      train_set=dtrain,\n",
    "                      num_boost_round=500,\n",
    "                      valid_sets=(dtrain, dvalid),\n",
    "                      categorical_feature=cat_features,\n",
    "                      verbose_eval=50)  "
   ]
  },
  {
   "cell_type": "markdown",
   "metadata": {},
   "source": [
    "# 예측"
   ]
  },
  {
   "cell_type": "code",
   "execution_count": 71,
   "metadata": {
    "execution": {
     "iopub.execute_input": "2022-11-28T07:29:12.446842Z",
     "iopub.status.busy": "2022-11-28T07:29:12.446571Z",
     "iopub.status.idle": "2022-11-28T07:29:17.056360Z",
     "shell.execute_reply": "2022-11-28T07:29:17.054909Z",
     "shell.execute_reply.started": "2022-11-28T07:29:12.446817Z"
    }
   },
   "outputs": [],
   "source": [
    "# 예측\n",
    "preds = lgb_model.predict(X_test).clip(0, 20)"
   ]
  },
  {
   "cell_type": "code",
   "execution_count": 72,
   "metadata": {
    "execution": {
     "iopub.execute_input": "2022-11-28T07:29:17.058371Z",
     "iopub.status.busy": "2022-11-28T07:29:17.058057Z",
     "iopub.status.idle": "2022-11-28T07:29:17.198919Z",
     "shell.execute_reply": "2022-11-28T07:29:17.197358Z",
     "shell.execute_reply.started": "2022-11-28T07:29:17.058348Z"
    }
   },
   "outputs": [],
   "source": [
    "del X_train, y_train, X_valid, y_valid, X_test, lgb_model, dtrain, dvalid\n",
    "gc.collect();"
   ]
  },
  {
   "cell_type": "markdown",
   "metadata": {},
   "source": [
    "# 성능 개선"
   ]
  },
  {
   "cell_type": "code",
   "execution_count": 5,
   "metadata": {
    "execution": {
     "iopub.execute_input": "2022-11-29T09:14:16.970442Z",
     "iopub.status.busy": "2022-11-29T09:14:16.970003Z",
     "iopub.status.idle": "2022-11-29T09:14:18.641014Z",
     "shell.execute_reply": "2022-11-29T09:14:18.639619Z",
     "shell.execute_reply.started": "2022-11-29T09:14:16.970409Z"
    }
   },
   "outputs": [],
   "source": [
    "import numpy as np\n",
    "import pandas as pd\n",
    "import warnings\n",
    "\n",
    "warnings.filterwarnings(action='ignore') # 경고 메시지 생략\n",
    "\n",
    "\n",
    "# 데이터 경로\n",
    "sales_train = pd.read_csv('sales_train.csv')\n",
    "shops = pd.read_csv('shops.csv')\n",
    "items = pd.read_csv('items.csv')\n",
    "item_categories = pd.read_csv('item_categories.csv')\n",
    "test = pd.read_csv('test.csv')\n",
    "submission = pd.read_csv('sample_submission.csv')"
   ]
  },
  {
   "cell_type": "markdown",
   "metadata": {},
   "source": [
    "피처 엔지니어링 I : 피처명 한글화와 데이터 다운캐스팅"
   ]
  },
  {
   "cell_type": "code",
   "execution_count": 6,
   "metadata": {
    "execution": {
     "iopub.execute_input": "2022-11-29T09:14:18.645168Z",
     "iopub.status.busy": "2022-11-29T09:14:18.644592Z",
     "iopub.status.idle": "2022-11-29T09:14:18.716329Z",
     "shell.execute_reply": "2022-11-29T09:14:18.714816Z",
     "shell.execute_reply.started": "2022-11-29T09:14:18.645128Z"
    }
   },
   "outputs": [],
   "source": [
    "sales_train = sales_train.rename(columns={'date': '날짜', \n",
    "                                          'date_block_num': '월ID',\n",
    "                                          'shop_id': '상점ID',\n",
    "                                          'item_id': '상품ID',\n",
    "                                          'item_price': '판매가',\n",
    "                                          'item_cnt_day': '판매량'})\n",
    "\n",
    "shops = shops.rename(columns={'shop_name': '상점명',\n",
    "                              'shop_id': '상점ID'})\n",
    "\n",
    "items = items.rename(columns={'item_name': '상품명',\n",
    "                              'item_id': '상품ID',\n",
    "                              'item_category_id': '상품분류ID'})\n",
    "\n",
    "item_categories = item_categories.rename(columns=\n",
    "                                         {'item_category_name': '상품분류명',\n",
    "                                          'item_category_id': '상품분류ID'})\n",
    "\n",
    "test = test.rename(columns={'shop_id': '상점ID',\n",
    "                            'item_id': '상품ID'})"
   ]
  },
  {
   "cell_type": "code",
   "execution_count": 7,
   "metadata": {
    "execution": {
     "iopub.execute_input": "2022-11-29T09:14:18.719578Z",
     "iopub.status.busy": "2022-11-29T09:14:18.718817Z",
     "iopub.status.idle": "2022-11-29T09:14:19.141311Z",
     "shell.execute_reply": "2022-11-29T09:14:19.139234Z",
     "shell.execute_reply.started": "2022-11-29T09:14:18.719515Z"
    }
   },
   "outputs": [
    {
     "name": "stdout",
     "output_type": "stream",
     "text": [
      "62.5% 압축됨\n",
      "38.6% 압축됨\n",
      "54.2% 압축됨\n",
      "39.9% 압축됨\n",
      "70.8% 압축됨\n"
     ]
    }
   ],
   "source": [
    "def downcast(df, verbose=True):\n",
    "    start_mem = df.memory_usage().sum() / 1024**2\n",
    "    for col in df.columns:\n",
    "        dtype_name = df[col].dtype.name\n",
    "        if dtype_name == 'object':\n",
    "            pass\n",
    "        elif dtype_name == 'bool':\n",
    "            df[col] = df[col].astype('int8')\n",
    "        elif dtype_name.startswith('int') or (df[col].round() == df[col]).all():\n",
    "            df[col] = pd.to_numeric(df[col], downcast='integer')\n",
    "        else:\n",
    "            df[col] = pd.to_numeric(df[col], downcast='float')\n",
    "    end_mem = df.memory_usage().sum() / 1024**2\n",
    "    if verbose:\n",
    "        print('{:.1f}% 압축됨'.format(100 * (start_mem - end_mem) / start_mem))\n",
    "    \n",
    "    return df\n",
    "\n",
    "all_df = [sales_train, shops, items, item_categories, test]\n",
    "for df in all_df:\n",
    "    df = downcast(df)"
   ]
  },
  {
   "cell_type": "markdown",
   "metadata": {},
   "source": [
    "피처 엔지니어링 II : 개별 데이터 피처 엔지니어링"
   ]
  },
  {
   "cell_type": "markdown",
   "metadata": {},
   "source": [
    "sales_train 이상치 제거 및 전처리"
   ]
  },
  {
   "cell_type": "code",
   "execution_count": 8,
   "metadata": {
    "execution": {
     "iopub.execute_input": "2022-11-29T09:14:19.144795Z",
     "iopub.status.busy": "2022-11-29T09:14:19.144397Z",
     "iopub.status.idle": "2022-11-29T09:14:19.725841Z",
     "shell.execute_reply": "2022-11-29T09:14:19.724280Z",
     "shell.execute_reply.started": "2022-11-29T09:14:19.144764Z"
    }
   },
   "outputs": [],
   "source": [
    "# 판매가가 0보다 큰 데이터 추출\n",
    "sales_train = sales_train[sales_train['판매가'] > 0]\n",
    "# 판매가가 50,000보다 작은 데이터 추출\n",
    "sales_train = sales_train[sales_train['판매가'] < 50000]\n",
    "\n",
    "# 판매량이 0보다 큰 데이터 추출\n",
    "sales_train = sales_train[sales_train['판매량'] > 0]\n",
    "# 판매량이 1,000보다 작은 데이터 추출\n",
    "sales_train = sales_train[sales_train['판매량'] < 1000]"
   ]
  },
  {
   "cell_type": "code",
   "execution_count": 9,
   "metadata": {
    "execution": {
     "iopub.execute_input": "2022-11-29T09:14:19.728513Z",
     "iopub.status.busy": "2022-11-29T09:14:19.728003Z",
     "iopub.status.idle": "2022-11-29T09:14:19.738187Z",
     "shell.execute_reply": "2022-11-29T09:14:19.736733Z",
     "shell.execute_reply.started": "2022-11-29T09:14:19.728468Z"
    }
   },
   "outputs": [
    {
     "name": "stdout",
     "output_type": "stream",
     "text": [
      "!Якутск Орджоникидзе, 56 фран || Якутск Орджоникидзе, 56\n",
      "!Якутск ТЦ \"Центральный\" фран || Якутск ТЦ \"Центральный\"\n",
      "Жуковский ул. Чкалова 39м? || Жуковский ул. Чкалова 39м²\n",
      "РостовНаДону ТРК \"Мегацентр Горизонт\" || РостовНаДону ТРК \"Мегацентр Горизонт\" Островной\n"
     ]
    }
   ],
   "source": [
    "print(shops['상점명'][0], '||', shops['상점명'][57])\n",
    "print(shops['상점명'][1], '||', shops['상점명'][58])\n",
    "print(shops['상점명'][10], '||', shops['상점명'][11])\n",
    "print(shops['상점명'][39], '||', shops['상점명'][40])"
   ]
  },
  {
   "cell_type": "code",
   "execution_count": 10,
   "metadata": {
    "execution": {
     "iopub.execute_input": "2022-11-29T09:14:19.740012Z",
     "iopub.status.busy": "2022-11-29T09:14:19.739640Z",
     "iopub.status.idle": "2022-11-29T09:14:19.775552Z",
     "shell.execute_reply": "2022-11-29T09:14:19.774224Z",
     "shell.execute_reply.started": "2022-11-29T09:14:19.739980Z"
    }
   },
   "outputs": [],
   "source": [
    "# sales_train 데이터에서 상점ID 수정\n",
    "sales_train.loc[sales_train['상점ID'] == 0, '상점ID'] = 57\n",
    "sales_train.loc[sales_train['상점ID'] == 1, '상점ID'] = 58\n",
    "sales_train.loc[sales_train['상점ID'] == 10, '상점ID'] = 11\n",
    "sales_train.loc[sales_train['상점ID'] == 39, '상점ID'] = 40\n",
    "\n",
    "# test 데이터에서 상점ID 수정\n",
    "test.loc[test['상점ID'] == 0, '상점ID'] = 57\n",
    "test.loc[test['상점ID'] == 1, '상점ID'] = 58\n",
    "test.loc[test['상점ID'] == 10, '상점ID'] = 11\n",
    "test.loc[test['상점ID'] == 39, '상점ID'] = 40"
   ]
  },
  {
   "cell_type": "markdown",
   "metadata": {},
   "source": [
    "shops 파생 피처 생성 및 인코딩"
   ]
  },
  {
   "cell_type": "code",
   "execution_count": 11,
   "metadata": {
    "execution": {
     "iopub.execute_input": "2022-11-29T09:14:19.777506Z",
     "iopub.status.busy": "2022-11-29T09:14:19.777157Z",
     "iopub.status.idle": "2022-11-29T09:14:19.785092Z",
     "shell.execute_reply": "2022-11-29T09:14:19.783733Z",
     "shell.execute_reply.started": "2022-11-29T09:14:19.777475Z"
    }
   },
   "outputs": [],
   "source": [
    "shops['도시'] = shops['상점명'].apply(lambda x: x.split()[0])"
   ]
  },
  {
   "cell_type": "code",
   "execution_count": 12,
   "metadata": {
    "execution": {
     "iopub.execute_input": "2022-11-29T09:14:19.787111Z",
     "iopub.status.busy": "2022-11-29T09:14:19.786724Z",
     "iopub.status.idle": "2022-11-29T09:14:19.801600Z",
     "shell.execute_reply": "2022-11-29T09:14:19.799862Z",
     "shell.execute_reply.started": "2022-11-29T09:14:19.787079Z"
    }
   },
   "outputs": [
    {
     "data": {
      "text/plain": [
       "array(['!Якутск', 'Адыгея', 'Балашиха', 'Волжский', 'Вологда', 'Воронеж',\n",
       "       'Выездная', 'Жуковский', 'Интернет-магазин', 'Казань', 'Калуга',\n",
       "       'Коломна', 'Красноярск', 'Курск', 'Москва', 'Мытищи', 'Н.Новгород',\n",
       "       'Новосибирск', 'Омск', 'РостовНаДону', 'СПб', 'Самара', 'Сергиев',\n",
       "       'Сургут', 'Томск', 'Тюмень', 'Уфа', 'Химки', 'Цифровой', 'Чехов',\n",
       "       'Якутск', 'Ярославль'], dtype=object)"
      ]
     },
     "execution_count": 12,
     "metadata": {},
     "output_type": "execute_result"
    }
   ],
   "source": [
    "shops['도시'].unique()"
   ]
  },
  {
   "cell_type": "code",
   "execution_count": 13,
   "metadata": {
    "execution": {
     "iopub.execute_input": "2022-11-29T09:14:19.804029Z",
     "iopub.status.busy": "2022-11-29T09:14:19.803536Z",
     "iopub.status.idle": "2022-11-29T09:14:19.816171Z",
     "shell.execute_reply": "2022-11-29T09:14:19.814493Z",
     "shell.execute_reply.started": "2022-11-29T09:14:19.803919Z"
    }
   },
   "outputs": [],
   "source": [
    "shops.loc[shops['도시'] =='!Якутск', '도시'] = 'Якутск'"
   ]
  },
  {
   "cell_type": "code",
   "execution_count": 14,
   "metadata": {
    "execution": {
     "iopub.execute_input": "2022-11-29T09:14:19.820988Z",
     "iopub.status.busy": "2022-11-29T09:14:19.820559Z",
     "iopub.status.idle": "2022-11-29T09:14:19.829992Z",
     "shell.execute_reply": "2022-11-29T09:14:19.828788Z",
     "shell.execute_reply.started": "2022-11-29T09:14:19.820925Z"
    }
   },
   "outputs": [],
   "source": [
    "from sklearn.preprocessing import LabelEncoder\n",
    "\n",
    "# 레이블 인코더 생성\n",
    "label_encoder = LabelEncoder()\n",
    "# 도시 피처 레이블 인코딩\n",
    "shops['도시'] = label_encoder.fit_transform(shops['도시'])"
   ]
  },
  {
   "cell_type": "code",
   "execution_count": 15,
   "metadata": {
    "execution": {
     "iopub.execute_input": "2022-11-29T09:14:19.834324Z",
     "iopub.status.busy": "2022-11-29T09:14:19.832163Z",
     "iopub.status.idle": "2022-11-29T09:14:19.854157Z",
     "shell.execute_reply": "2022-11-29T09:14:19.852254Z",
     "shell.execute_reply.started": "2022-11-29T09:14:19.834266Z"
    }
   },
   "outputs": [
    {
     "data": {
      "text/html": [
       "<div>\n",
       "<style scoped>\n",
       "    .dataframe tbody tr th:only-of-type {\n",
       "        vertical-align: middle;\n",
       "    }\n",
       "\n",
       "    .dataframe tbody tr th {\n",
       "        vertical-align: top;\n",
       "    }\n",
       "\n",
       "    .dataframe thead th {\n",
       "        text-align: right;\n",
       "    }\n",
       "</style>\n",
       "<table border=\"1\" class=\"dataframe\">\n",
       "  <thead>\n",
       "    <tr style=\"text-align: right;\">\n",
       "      <th></th>\n",
       "      <th>상점ID</th>\n",
       "      <th>도시</th>\n",
       "    </tr>\n",
       "  </thead>\n",
       "  <tbody>\n",
       "    <tr>\n",
       "      <th>0</th>\n",
       "      <td>0</td>\n",
       "      <td>29</td>\n",
       "    </tr>\n",
       "    <tr>\n",
       "      <th>1</th>\n",
       "      <td>1</td>\n",
       "      <td>29</td>\n",
       "    </tr>\n",
       "    <tr>\n",
       "      <th>2</th>\n",
       "      <td>2</td>\n",
       "      <td>0</td>\n",
       "    </tr>\n",
       "    <tr>\n",
       "      <th>3</th>\n",
       "      <td>3</td>\n",
       "      <td>1</td>\n",
       "    </tr>\n",
       "    <tr>\n",
       "      <th>4</th>\n",
       "      <td>4</td>\n",
       "      <td>2</td>\n",
       "    </tr>\n",
       "  </tbody>\n",
       "</table>\n",
       "</div>"
      ],
      "text/plain": [
       "   상점ID  도시\n",
       "0     0  29\n",
       "1     1  29\n",
       "2     2   0\n",
       "3     3   1\n",
       "4     4   2"
      ]
     },
     "execution_count": 15,
     "metadata": {},
     "output_type": "execute_result"
    }
   ],
   "source": [
    "# 상점명 피처 제거\n",
    "shops = shops.drop('상점명', axis=1)\n",
    "\n",
    "shops.head()"
   ]
  },
  {
   "cell_type": "markdown",
   "metadata": {},
   "source": [
    "itmes 파생 피처 생성"
   ]
  },
  {
   "cell_type": "code",
   "execution_count": 16,
   "metadata": {
    "execution": {
     "iopub.execute_input": "2022-11-29T09:14:19.857405Z",
     "iopub.status.busy": "2022-11-29T09:14:19.856380Z",
     "iopub.status.idle": "2022-11-29T09:14:19.863793Z",
     "shell.execute_reply": "2022-11-29T09:14:19.862240Z",
     "shell.execute_reply.started": "2022-11-29T09:14:19.857360Z"
    }
   },
   "outputs": [],
   "source": [
    "# 상품명 피처 제거\n",
    "items = items.drop(['상품명'], axis=1)"
   ]
  },
  {
   "cell_type": "code",
   "execution_count": 17,
   "metadata": {
    "execution": {
     "iopub.execute_input": "2022-11-29T09:14:19.868047Z",
     "iopub.status.busy": "2022-11-29T09:14:19.866940Z",
     "iopub.status.idle": "2022-11-29T09:14:19.986796Z",
     "shell.execute_reply": "2022-11-29T09:14:19.985182Z",
     "shell.execute_reply.started": "2022-11-29T09:14:19.867984Z"
    }
   },
   "outputs": [
    {
     "data": {
      "text/html": [
       "<div>\n",
       "<style scoped>\n",
       "    .dataframe tbody tr th:only-of-type {\n",
       "        vertical-align: middle;\n",
       "    }\n",
       "\n",
       "    .dataframe tbody tr th {\n",
       "        vertical-align: top;\n",
       "    }\n",
       "\n",
       "    .dataframe thead th {\n",
       "        text-align: right;\n",
       "    }\n",
       "</style>\n",
       "<table border=\"1\" class=\"dataframe\">\n",
       "  <thead>\n",
       "    <tr style=\"text-align: right;\">\n",
       "      <th></th>\n",
       "      <th>상품ID</th>\n",
       "      <th>상품분류ID</th>\n",
       "      <th>첫 판매월</th>\n",
       "    </tr>\n",
       "  </thead>\n",
       "  <tbody>\n",
       "    <tr>\n",
       "      <th>0</th>\n",
       "      <td>0</td>\n",
       "      <td>40</td>\n",
       "      <td>20.0</td>\n",
       "    </tr>\n",
       "    <tr>\n",
       "      <th>1</th>\n",
       "      <td>1</td>\n",
       "      <td>76</td>\n",
       "      <td>15.0</td>\n",
       "    </tr>\n",
       "    <tr>\n",
       "      <th>2</th>\n",
       "      <td>2</td>\n",
       "      <td>40</td>\n",
       "      <td>19.0</td>\n",
       "    </tr>\n",
       "    <tr>\n",
       "      <th>3</th>\n",
       "      <td>3</td>\n",
       "      <td>40</td>\n",
       "      <td>18.0</td>\n",
       "    </tr>\n",
       "    <tr>\n",
       "      <th>4</th>\n",
       "      <td>4</td>\n",
       "      <td>40</td>\n",
       "      <td>20.0</td>\n",
       "    </tr>\n",
       "  </tbody>\n",
       "</table>\n",
       "</div>"
      ],
      "text/plain": [
       "   상품ID  상품분류ID  첫 판매월\n",
       "0     0      40   20.0\n",
       "1     1      76   15.0\n",
       "2     2      40   19.0\n",
       "3     3      40   18.0\n",
       "4     4      40   20.0"
      ]
     },
     "execution_count": 17,
     "metadata": {},
     "output_type": "execute_result"
    }
   ],
   "source": [
    "# 상품이 맨 처음 팔린 날을 피처로 추가\n",
    "items['첫 판매월'] = sales_train.groupby('상품ID').agg({'월ID': 'min'})['월ID']\n",
    "\n",
    "items.head()"
   ]
  },
  {
   "cell_type": "code",
   "execution_count": 18,
   "metadata": {
    "execution": {
     "iopub.execute_input": "2022-11-29T09:14:19.990570Z",
     "iopub.status.busy": "2022-11-29T09:14:19.989656Z",
     "iopub.status.idle": "2022-11-29T09:14:20.007801Z",
     "shell.execute_reply": "2022-11-29T09:14:20.006692Z",
     "shell.execute_reply.started": "2022-11-29T09:14:19.990519Z"
    }
   },
   "outputs": [
    {
     "data": {
      "text/html": [
       "<div>\n",
       "<style scoped>\n",
       "    .dataframe tbody tr th:only-of-type {\n",
       "        vertical-align: middle;\n",
       "    }\n",
       "\n",
       "    .dataframe tbody tr th {\n",
       "        vertical-align: top;\n",
       "    }\n",
       "\n",
       "    .dataframe thead th {\n",
       "        text-align: right;\n",
       "    }\n",
       "</style>\n",
       "<table border=\"1\" class=\"dataframe\">\n",
       "  <thead>\n",
       "    <tr style=\"text-align: right;\">\n",
       "      <th></th>\n",
       "      <th>상품ID</th>\n",
       "      <th>상품분류ID</th>\n",
       "      <th>첫 판매월</th>\n",
       "    </tr>\n",
       "  </thead>\n",
       "  <tbody>\n",
       "    <tr>\n",
       "      <th>83</th>\n",
       "      <td>83</td>\n",
       "      <td>40</td>\n",
       "      <td>NaN</td>\n",
       "    </tr>\n",
       "    <tr>\n",
       "      <th>140</th>\n",
       "      <td>140</td>\n",
       "      <td>45</td>\n",
       "      <td>NaN</td>\n",
       "    </tr>\n",
       "    <tr>\n",
       "      <th>168</th>\n",
       "      <td>168</td>\n",
       "      <td>44</td>\n",
       "      <td>NaN</td>\n",
       "    </tr>\n",
       "    <tr>\n",
       "      <th>173</th>\n",
       "      <td>173</td>\n",
       "      <td>45</td>\n",
       "      <td>NaN</td>\n",
       "    </tr>\n",
       "    <tr>\n",
       "      <th>204</th>\n",
       "      <td>204</td>\n",
       "      <td>44</td>\n",
       "      <td>NaN</td>\n",
       "    </tr>\n",
       "    <tr>\n",
       "      <th>...</th>\n",
       "      <td>...</td>\n",
       "      <td>...</td>\n",
       "      <td>...</td>\n",
       "    </tr>\n",
       "    <tr>\n",
       "      <th>21974</th>\n",
       "      <td>21974</td>\n",
       "      <td>61</td>\n",
       "      <td>NaN</td>\n",
       "    </tr>\n",
       "    <tr>\n",
       "      <th>21975</th>\n",
       "      <td>21975</td>\n",
       "      <td>61</td>\n",
       "      <td>NaN</td>\n",
       "    </tr>\n",
       "    <tr>\n",
       "      <th>22022</th>\n",
       "      <td>22022</td>\n",
       "      <td>40</td>\n",
       "      <td>NaN</td>\n",
       "    </tr>\n",
       "    <tr>\n",
       "      <th>22035</th>\n",
       "      <td>22035</td>\n",
       "      <td>40</td>\n",
       "      <td>NaN</td>\n",
       "    </tr>\n",
       "    <tr>\n",
       "      <th>22137</th>\n",
       "      <td>22137</td>\n",
       "      <td>40</td>\n",
       "      <td>NaN</td>\n",
       "    </tr>\n",
       "  </tbody>\n",
       "</table>\n",
       "<p>368 rows × 3 columns</p>\n",
       "</div>"
      ],
      "text/plain": [
       "        상품ID  상품분류ID  첫 판매월\n",
       "83        83      40    NaN\n",
       "140      140      45    NaN\n",
       "168      168      44    NaN\n",
       "173      173      45    NaN\n",
       "204      204      44    NaN\n",
       "...      ...     ...    ...\n",
       "21974  21974      61    NaN\n",
       "21975  21975      61    NaN\n",
       "22022  22022      40    NaN\n",
       "22035  22035      40    NaN\n",
       "22137  22137      40    NaN\n",
       "\n",
       "[368 rows x 3 columns]"
      ]
     },
     "execution_count": 18,
     "metadata": {},
     "output_type": "execute_result"
    }
   ],
   "source": [
    "items[items['첫 판매월'].isna()]"
   ]
  },
  {
   "cell_type": "code",
   "execution_count": 19,
   "metadata": {
    "execution": {
     "iopub.execute_input": "2022-11-29T09:14:20.010392Z",
     "iopub.status.busy": "2022-11-29T09:14:20.009726Z",
     "iopub.status.idle": "2022-11-29T09:14:20.019955Z",
     "shell.execute_reply": "2022-11-29T09:14:20.018166Z",
     "shell.execute_reply.started": "2022-11-29T09:14:20.010359Z"
    }
   },
   "outputs": [],
   "source": [
    "# 첫 판매월 피처의 결측값을 34로 대체\n",
    "items['첫 판매월'] = items['첫 판매월'].fillna(34)"
   ]
  },
  {
   "cell_type": "markdown",
   "metadata": {},
   "source": [
    "item_categories 파생 피처 생성 및 인코딩¶\n"
   ]
  },
  {
   "cell_type": "code",
   "execution_count": 20,
   "metadata": {
    "execution": {
     "iopub.execute_input": "2022-11-29T09:14:20.022548Z",
     "iopub.status.busy": "2022-11-29T09:14:20.022023Z",
     "iopub.status.idle": "2022-11-29T09:14:20.043919Z",
     "shell.execute_reply": "2022-11-29T09:14:20.043008Z",
     "shell.execute_reply.started": "2022-11-29T09:14:20.022508Z"
    }
   },
   "outputs": [
    {
     "data": {
      "text/plain": [
       "Игры          14\n",
       "Книги         13\n",
       "Подарки       12\n",
       "Игровые        8\n",
       "Аксессуары     7\n",
       "Музыка         6\n",
       "Программы      6\n",
       "Карты          5\n",
       "Кино           5\n",
       "Служебные      2\n",
       "Чистые         2\n",
       "PC             1\n",
       "Билеты         1\n",
       "Доставка       1\n",
       "Элементы       1\n",
       "Name: 대분류, dtype: int64"
      ]
     },
     "execution_count": 20,
     "metadata": {},
     "output_type": "execute_result"
    }
   ],
   "source": [
    "# 상품분류명의 첫 단어를 대분류로 추출\n",
    "item_categories['대분류'] = item_categories['상품분류명'].apply(lambda x: x.split()[0])\n",
    "\n",
    "item_categories['대분류'].value_counts()"
   ]
  },
  {
   "cell_type": "code",
   "execution_count": 21,
   "metadata": {
    "execution": {
     "iopub.execute_input": "2022-11-29T09:14:20.046633Z",
     "iopub.status.busy": "2022-11-29T09:14:20.046039Z",
     "iopub.status.idle": "2022-11-29T09:14:20.099018Z",
     "shell.execute_reply": "2022-11-29T09:14:20.098072Z",
     "shell.execute_reply.started": "2022-11-29T09:14:20.046579Z"
    }
   },
   "outputs": [
    {
     "data": {
      "text/html": [
       "<div>\n",
       "<style scoped>\n",
       "    .dataframe tbody tr th:only-of-type {\n",
       "        vertical-align: middle;\n",
       "    }\n",
       "\n",
       "    .dataframe tbody tr th {\n",
       "        vertical-align: top;\n",
       "    }\n",
       "\n",
       "    .dataframe thead th {\n",
       "        text-align: right;\n",
       "    }\n",
       "</style>\n",
       "<table border=\"1\" class=\"dataframe\">\n",
       "  <thead>\n",
       "    <tr style=\"text-align: right;\">\n",
       "      <th></th>\n",
       "      <th>상품분류명</th>\n",
       "      <th>상품분류ID</th>\n",
       "      <th>대분류</th>\n",
       "    </tr>\n",
       "  </thead>\n",
       "  <tbody>\n",
       "    <tr>\n",
       "      <th>0</th>\n",
       "      <td>PC - Гарнитуры/Наушники</td>\n",
       "      <td>0</td>\n",
       "      <td>etc</td>\n",
       "    </tr>\n",
       "    <tr>\n",
       "      <th>1</th>\n",
       "      <td>Аксессуары - PS2</td>\n",
       "      <td>1</td>\n",
       "      <td>Аксессуары</td>\n",
       "    </tr>\n",
       "    <tr>\n",
       "      <th>2</th>\n",
       "      <td>Аксессуары - PS3</td>\n",
       "      <td>2</td>\n",
       "      <td>Аксессуары</td>\n",
       "    </tr>\n",
       "    <tr>\n",
       "      <th>3</th>\n",
       "      <td>Аксессуары - PS4</td>\n",
       "      <td>3</td>\n",
       "      <td>Аксессуары</td>\n",
       "    </tr>\n",
       "    <tr>\n",
       "      <th>4</th>\n",
       "      <td>Аксессуары - PSP</td>\n",
       "      <td>4</td>\n",
       "      <td>Аксессуары</td>\n",
       "    </tr>\n",
       "  </tbody>\n",
       "</table>\n",
       "</div>"
      ],
      "text/plain": [
       "                     상품분류명  상품분류ID         대분류\n",
       "0  PC - Гарнитуры/Наушники       0         etc\n",
       "1         Аксессуары - PS2       1  Аксессуары\n",
       "2         Аксессуары - PS3       2  Аксессуары\n",
       "3         Аксессуары - PS4       3  Аксессуары\n",
       "4         Аксессуары - PSP       4  Аксессуары"
      ]
     },
     "execution_count": 21,
     "metadata": {},
     "output_type": "execute_result"
    }
   ],
   "source": [
    "def make_etc(x):\n",
    "    if len(item_categories[item_categories['대분류']==x]) >= 5:\n",
    "        return x\n",
    "    else:\n",
    "        return 'etc'\n",
    "\n",
    "# 대분류의 고윳값 개수가 5개 미만이면 'etc'로 바꾸기\n",
    "item_categories['대분류'] = item_categories['대분류'].apply(make_etc)\n",
    "\n",
    "item_categories.head()"
   ]
  },
  {
   "cell_type": "code",
   "execution_count": 22,
   "metadata": {
    "execution": {
     "iopub.execute_input": "2022-11-29T09:14:20.101415Z",
     "iopub.status.busy": "2022-11-29T09:14:20.100310Z",
     "iopub.status.idle": "2022-11-29T09:14:20.109128Z",
     "shell.execute_reply": "2022-11-29T09:14:20.107691Z",
     "shell.execute_reply.started": "2022-11-29T09:14:20.101269Z"
    }
   },
   "outputs": [],
   "source": [
    "# 레이블 인코더 생성\n",
    "label_encoder = LabelEncoder()\n",
    "\n",
    "# 대분류 피처 레이블 인코딩\n",
    "item_categories['대분류'] = label_encoder.fit_transform(item_categories['대분류'])\n",
    "\n",
    "# 상품분류명 피처 제거\n",
    "item_categories = item_categories.drop('상품분류명', axis=1)"
   ]
  },
  {
   "cell_type": "markdown",
   "metadata": {},
   "source": [
    "데이터 조합 및 파생 피처 생성"
   ]
  },
  {
   "cell_type": "code",
   "execution_count": 23,
   "metadata": {
    "execution": {
     "iopub.execute_input": "2022-11-29T09:14:20.111861Z",
     "iopub.status.busy": "2022-11-29T09:14:20.110771Z",
     "iopub.status.idle": "2022-11-29T09:14:30.212698Z",
     "shell.execute_reply": "2022-11-29T09:14:30.211225Z",
     "shell.execute_reply.started": "2022-11-29T09:14:20.111803Z"
    }
   },
   "outputs": [],
   "source": [
    "from itertools import product\n",
    "\n",
    "train = []\n",
    "# 월ID, 상점ID, 상품ID 조합 생성\n",
    "for i in sales_train['월ID'].unique():\n",
    "    all_shop = sales_train.loc[sales_train['월ID']==i, '상점ID'].unique()\n",
    "    all_item = sales_train.loc[sales_train['월ID']==i, '상품ID'].unique()\n",
    "    train.append(np.array(list(product([i], all_shop, all_item))))\n",
    "\n",
    "idx_features = ['월ID', '상점ID', '상품ID'] # 기준 피처\n",
    "train = pd.DataFrame(np.vstack(train), columns=idx_features)"
   ]
  },
  {
   "cell_type": "code",
   "execution_count": 24,
   "metadata": {
    "execution": {
     "iopub.execute_input": "2022-11-29T09:14:30.216513Z",
     "iopub.status.busy": "2022-11-29T09:14:30.214816Z",
     "iopub.status.idle": "2022-11-29T09:14:36.728023Z",
     "shell.execute_reply": "2022-11-29T09:14:36.726871Z",
     "shell.execute_reply.started": "2022-11-29T09:14:30.216464Z"
    }
   },
   "outputs": [
    {
     "data": {
      "text/html": [
       "<div>\n",
       "<style scoped>\n",
       "    .dataframe tbody tr th:only-of-type {\n",
       "        vertical-align: middle;\n",
       "    }\n",
       "\n",
       "    .dataframe tbody tr th {\n",
       "        vertical-align: top;\n",
       "    }\n",
       "\n",
       "    .dataframe thead th {\n",
       "        text-align: right;\n",
       "    }\n",
       "</style>\n",
       "<table border=\"1\" class=\"dataframe\">\n",
       "  <thead>\n",
       "    <tr style=\"text-align: right;\">\n",
       "      <th></th>\n",
       "      <th>월ID</th>\n",
       "      <th>상점ID</th>\n",
       "      <th>상품ID</th>\n",
       "      <th>월간 판매량</th>\n",
       "      <th>평균 판매가</th>\n",
       "    </tr>\n",
       "  </thead>\n",
       "  <tbody>\n",
       "    <tr>\n",
       "      <th>0</th>\n",
       "      <td>0</td>\n",
       "      <td>59</td>\n",
       "      <td>22154</td>\n",
       "      <td>1.0</td>\n",
       "      <td>999.0</td>\n",
       "    </tr>\n",
       "    <tr>\n",
       "      <th>1</th>\n",
       "      <td>0</td>\n",
       "      <td>59</td>\n",
       "      <td>2552</td>\n",
       "      <td>NaN</td>\n",
       "      <td>NaN</td>\n",
       "    </tr>\n",
       "    <tr>\n",
       "      <th>2</th>\n",
       "      <td>0</td>\n",
       "      <td>59</td>\n",
       "      <td>2554</td>\n",
       "      <td>NaN</td>\n",
       "      <td>NaN</td>\n",
       "    </tr>\n",
       "    <tr>\n",
       "      <th>3</th>\n",
       "      <td>0</td>\n",
       "      <td>59</td>\n",
       "      <td>2555</td>\n",
       "      <td>NaN</td>\n",
       "      <td>NaN</td>\n",
       "    </tr>\n",
       "    <tr>\n",
       "      <th>4</th>\n",
       "      <td>0</td>\n",
       "      <td>59</td>\n",
       "      <td>2564</td>\n",
       "      <td>NaN</td>\n",
       "      <td>NaN</td>\n",
       "    </tr>\n",
       "  </tbody>\n",
       "</table>\n",
       "</div>"
      ],
      "text/plain": [
       "   월ID  상점ID   상품ID  월간 판매량  평균 판매가\n",
       "0    0    59  22154     1.0   999.0\n",
       "1    0    59   2552     NaN     NaN\n",
       "2    0    59   2554     NaN     NaN\n",
       "3    0    59   2555     NaN     NaN\n",
       "4    0    59   2564     NaN     NaN"
      ]
     },
     "execution_count": 24,
     "metadata": {},
     "output_type": "execute_result"
    }
   ],
   "source": [
    "group = sales_train.groupby(idx_features).agg({'판매량': 'sum',\n",
    "                                               '판매가': 'mean'})\n",
    "group = group.reset_index()\n",
    "group = group.rename(columns={'판매량': '월간 판매량', '판매가': '평균 판매가'})\n",
    "\n",
    "train = train.merge(group, on=idx_features, how='left')\n",
    "\n",
    "train.head()"
   ]
  },
  {
   "cell_type": "code",
   "execution_count": 25,
   "metadata": {
    "execution": {
     "iopub.execute_input": "2022-11-29T09:14:36.729886Z",
     "iopub.status.busy": "2022-11-29T09:14:36.729525Z",
     "iopub.status.idle": "2022-11-29T09:14:36.973175Z",
     "shell.execute_reply": "2022-11-29T09:14:36.971882Z",
     "shell.execute_reply.started": "2022-11-29T09:14:36.729856Z"
    }
   },
   "outputs": [],
   "source": [
    "import gc\n",
    "\n",
    "# group 변수 가비지 컬렉션\n",
    "del group\n",
    "gc.collect();"
   ]
  },
  {
   "cell_type": "code",
   "execution_count": 26,
   "metadata": {
    "execution": {
     "iopub.execute_input": "2022-11-29T09:14:36.975281Z",
     "iopub.status.busy": "2022-11-29T09:14:36.974879Z",
     "iopub.status.idle": "2022-11-29T09:14:43.314909Z",
     "shell.execute_reply": "2022-11-29T09:14:43.313604Z",
     "shell.execute_reply.started": "2022-11-29T09:14:36.975249Z"
    }
   },
   "outputs": [
    {
     "data": {
      "text/html": [
       "<div>\n",
       "<style scoped>\n",
       "    .dataframe tbody tr th:only-of-type {\n",
       "        vertical-align: middle;\n",
       "    }\n",
       "\n",
       "    .dataframe tbody tr th {\n",
       "        vertical-align: top;\n",
       "    }\n",
       "\n",
       "    .dataframe thead th {\n",
       "        text-align: right;\n",
       "    }\n",
       "</style>\n",
       "<table border=\"1\" class=\"dataframe\">\n",
       "  <thead>\n",
       "    <tr style=\"text-align: right;\">\n",
       "      <th></th>\n",
       "      <th>월ID</th>\n",
       "      <th>상점ID</th>\n",
       "      <th>상품ID</th>\n",
       "      <th>월간 판매량</th>\n",
       "      <th>평균 판매가</th>\n",
       "      <th>판매건수</th>\n",
       "    </tr>\n",
       "  </thead>\n",
       "  <tbody>\n",
       "    <tr>\n",
       "      <th>0</th>\n",
       "      <td>0</td>\n",
       "      <td>59</td>\n",
       "      <td>22154</td>\n",
       "      <td>1.0</td>\n",
       "      <td>999.0</td>\n",
       "      <td>1.0</td>\n",
       "    </tr>\n",
       "    <tr>\n",
       "      <th>1</th>\n",
       "      <td>0</td>\n",
       "      <td>59</td>\n",
       "      <td>2552</td>\n",
       "      <td>NaN</td>\n",
       "      <td>NaN</td>\n",
       "      <td>NaN</td>\n",
       "    </tr>\n",
       "    <tr>\n",
       "      <th>2</th>\n",
       "      <td>0</td>\n",
       "      <td>59</td>\n",
       "      <td>2554</td>\n",
       "      <td>NaN</td>\n",
       "      <td>NaN</td>\n",
       "      <td>NaN</td>\n",
       "    </tr>\n",
       "    <tr>\n",
       "      <th>3</th>\n",
       "      <td>0</td>\n",
       "      <td>59</td>\n",
       "      <td>2555</td>\n",
       "      <td>NaN</td>\n",
       "      <td>NaN</td>\n",
       "      <td>NaN</td>\n",
       "    </tr>\n",
       "    <tr>\n",
       "      <th>4</th>\n",
       "      <td>0</td>\n",
       "      <td>59</td>\n",
       "      <td>2564</td>\n",
       "      <td>NaN</td>\n",
       "      <td>NaN</td>\n",
       "      <td>NaN</td>\n",
       "    </tr>\n",
       "  </tbody>\n",
       "</table>\n",
       "</div>"
      ],
      "text/plain": [
       "   월ID  상점ID   상품ID  월간 판매량  평균 판매가  판매건수\n",
       "0    0    59  22154     1.0   999.0   1.0\n",
       "1    0    59   2552     NaN     NaN   NaN\n",
       "2    0    59   2554     NaN     NaN   NaN\n",
       "3    0    59   2555     NaN     NaN   NaN\n",
       "4    0    59   2564     NaN     NaN   NaN"
      ]
     },
     "execution_count": 26,
     "metadata": {},
     "output_type": "execute_result"
    }
   ],
   "source": [
    "# 상품 판매건수 피처 추가\n",
    "group = sales_train.groupby(idx_features).agg({'판매량': 'count'})\n",
    "group = group.reset_index()\n",
    "group = group.rename(columns={'판매량': '판매건수'})\n",
    "\n",
    "train = train.merge(group, on=idx_features, how='left')\n",
    "\n",
    "\n",
    "train.head()"
   ]
  },
  {
   "cell_type": "markdown",
   "metadata": {},
   "source": [
    "데이터 조합"
   ]
  },
  {
   "cell_type": "code",
   "execution_count": 27,
   "metadata": {
    "execution": {
     "iopub.execute_input": "2022-11-29T09:14:43.316757Z",
     "iopub.status.busy": "2022-11-29T09:14:43.316421Z",
     "iopub.status.idle": "2022-11-29T09:14:53.321911Z",
     "shell.execute_reply": "2022-11-29T09:14:53.320072Z",
     "shell.execute_reply.started": "2022-11-29T09:14:43.316725Z"
    }
   },
   "outputs": [],
   "source": [
    "from itertools import product\n",
    "\n",
    "train = []\n",
    "# 월ID, 상점ID, 상품ID 조합 생성\n",
    "for i in sales_train['월ID'].unique():\n",
    "    all_shop = sales_train.loc[sales_train['월ID']==i, '상점ID'].unique()\n",
    "    all_item = sales_train.loc[sales_train['월ID']==i, '상품ID'].unique()\n",
    "    train.append(np.array(list(product([i], all_shop, all_item))))\n",
    "\n",
    "idx_features = ['월ID', '상점ID', '상품ID'] # 기준 피처\n",
    "train = pd.DataFrame(np.vstack(train), columns=idx_features)"
   ]
  },
  {
   "cell_type": "markdown",
   "metadata": {
    "execution": {
     "iopub.execute_input": "2022-11-28T07:38:06.710115Z",
     "iopub.status.busy": "2022-11-28T07:38:06.709667Z",
     "iopub.status.idle": "2022-11-28T07:38:06.715508Z",
     "shell.execute_reply": "2022-11-28T07:38:06.713867Z",
     "shell.execute_reply.started": "2022-11-28T07:38:06.710089Z"
    }
   },
   "source": [
    "데이터 조합 & 파생 피처 생성"
   ]
  },
  {
   "cell_type": "code",
   "execution_count": 28,
   "metadata": {
    "execution": {
     "iopub.execute_input": "2022-11-29T09:14:53.323697Z",
     "iopub.status.busy": "2022-11-29T09:14:53.323329Z",
     "iopub.status.idle": "2022-11-29T09:14:59.831014Z",
     "shell.execute_reply": "2022-11-29T09:14:59.829760Z",
     "shell.execute_reply.started": "2022-11-29T09:14:53.323660Z"
    }
   },
   "outputs": [
    {
     "data": {
      "text/html": [
       "<div>\n",
       "<style scoped>\n",
       "    .dataframe tbody tr th:only-of-type {\n",
       "        vertical-align: middle;\n",
       "    }\n",
       "\n",
       "    .dataframe tbody tr th {\n",
       "        vertical-align: top;\n",
       "    }\n",
       "\n",
       "    .dataframe thead th {\n",
       "        text-align: right;\n",
       "    }\n",
       "</style>\n",
       "<table border=\"1\" class=\"dataframe\">\n",
       "  <thead>\n",
       "    <tr style=\"text-align: right;\">\n",
       "      <th></th>\n",
       "      <th>월ID</th>\n",
       "      <th>상점ID</th>\n",
       "      <th>상품ID</th>\n",
       "      <th>월간 판매량</th>\n",
       "      <th>평균 판매가</th>\n",
       "    </tr>\n",
       "  </thead>\n",
       "  <tbody>\n",
       "    <tr>\n",
       "      <th>0</th>\n",
       "      <td>0</td>\n",
       "      <td>59</td>\n",
       "      <td>22154</td>\n",
       "      <td>1.0</td>\n",
       "      <td>999.0</td>\n",
       "    </tr>\n",
       "    <tr>\n",
       "      <th>1</th>\n",
       "      <td>0</td>\n",
       "      <td>59</td>\n",
       "      <td>2552</td>\n",
       "      <td>NaN</td>\n",
       "      <td>NaN</td>\n",
       "    </tr>\n",
       "    <tr>\n",
       "      <th>2</th>\n",
       "      <td>0</td>\n",
       "      <td>59</td>\n",
       "      <td>2554</td>\n",
       "      <td>NaN</td>\n",
       "      <td>NaN</td>\n",
       "    </tr>\n",
       "    <tr>\n",
       "      <th>3</th>\n",
       "      <td>0</td>\n",
       "      <td>59</td>\n",
       "      <td>2555</td>\n",
       "      <td>NaN</td>\n",
       "      <td>NaN</td>\n",
       "    </tr>\n",
       "    <tr>\n",
       "      <th>4</th>\n",
       "      <td>0</td>\n",
       "      <td>59</td>\n",
       "      <td>2564</td>\n",
       "      <td>NaN</td>\n",
       "      <td>NaN</td>\n",
       "    </tr>\n",
       "  </tbody>\n",
       "</table>\n",
       "</div>"
      ],
      "text/plain": [
       "   월ID  상점ID   상품ID  월간 판매량  평균 판매가\n",
       "0    0    59  22154     1.0   999.0\n",
       "1    0    59   2552     NaN     NaN\n",
       "2    0    59   2554     NaN     NaN\n",
       "3    0    59   2555     NaN     NaN\n",
       "4    0    59   2564     NaN     NaN"
      ]
     },
     "execution_count": 28,
     "metadata": {},
     "output_type": "execute_result"
    }
   ],
   "source": [
    "group = sales_train.groupby(idx_features).agg({'판매량': 'sum',\n",
    "                                               '판매가': 'mean'})\n",
    "group = group.reset_index()\n",
    "group = group.rename(columns={'판매량': '월간 판매량', '판매가': '평균 판매가'})\n",
    "\n",
    "train = train.merge(group, on=idx_features, how='left')\n",
    "\n",
    "train.head()"
   ]
  },
  {
   "cell_type": "code",
   "execution_count": 29,
   "metadata": {
    "execution": {
     "iopub.execute_input": "2022-11-29T09:14:59.834388Z",
     "iopub.status.busy": "2022-11-29T09:14:59.833078Z",
     "iopub.status.idle": "2022-11-29T09:14:59.974301Z",
     "shell.execute_reply": "2022-11-29T09:14:59.972489Z",
     "shell.execute_reply.started": "2022-11-29T09:14:59.834347Z"
    }
   },
   "outputs": [],
   "source": [
    "import gc\n",
    "\n",
    "# group 변수 가비지 컬렉션\n",
    "del group\n",
    "gc.collect();"
   ]
  },
  {
   "cell_type": "code",
   "execution_count": 30,
   "metadata": {
    "execution": {
     "iopub.execute_input": "2022-11-29T09:14:59.976532Z",
     "iopub.status.busy": "2022-11-29T09:14:59.975985Z",
     "iopub.status.idle": "2022-11-29T09:15:06.545707Z",
     "shell.execute_reply": "2022-11-29T09:15:06.544382Z",
     "shell.execute_reply.started": "2022-11-29T09:14:59.976496Z"
    }
   },
   "outputs": [
    {
     "data": {
      "text/html": [
       "<div>\n",
       "<style scoped>\n",
       "    .dataframe tbody tr th:only-of-type {\n",
       "        vertical-align: middle;\n",
       "    }\n",
       "\n",
       "    .dataframe tbody tr th {\n",
       "        vertical-align: top;\n",
       "    }\n",
       "\n",
       "    .dataframe thead th {\n",
       "        text-align: right;\n",
       "    }\n",
       "</style>\n",
       "<table border=\"1\" class=\"dataframe\">\n",
       "  <thead>\n",
       "    <tr style=\"text-align: right;\">\n",
       "      <th></th>\n",
       "      <th>월ID</th>\n",
       "      <th>상점ID</th>\n",
       "      <th>상품ID</th>\n",
       "      <th>월간 판매량</th>\n",
       "      <th>평균 판매가</th>\n",
       "      <th>판매건수</th>\n",
       "    </tr>\n",
       "  </thead>\n",
       "  <tbody>\n",
       "    <tr>\n",
       "      <th>0</th>\n",
       "      <td>0</td>\n",
       "      <td>59</td>\n",
       "      <td>22154</td>\n",
       "      <td>1.0</td>\n",
       "      <td>999.0</td>\n",
       "      <td>1.0</td>\n",
       "    </tr>\n",
       "    <tr>\n",
       "      <th>1</th>\n",
       "      <td>0</td>\n",
       "      <td>59</td>\n",
       "      <td>2552</td>\n",
       "      <td>NaN</td>\n",
       "      <td>NaN</td>\n",
       "      <td>NaN</td>\n",
       "    </tr>\n",
       "    <tr>\n",
       "      <th>2</th>\n",
       "      <td>0</td>\n",
       "      <td>59</td>\n",
       "      <td>2554</td>\n",
       "      <td>NaN</td>\n",
       "      <td>NaN</td>\n",
       "      <td>NaN</td>\n",
       "    </tr>\n",
       "    <tr>\n",
       "      <th>3</th>\n",
       "      <td>0</td>\n",
       "      <td>59</td>\n",
       "      <td>2555</td>\n",
       "      <td>NaN</td>\n",
       "      <td>NaN</td>\n",
       "      <td>NaN</td>\n",
       "    </tr>\n",
       "    <tr>\n",
       "      <th>4</th>\n",
       "      <td>0</td>\n",
       "      <td>59</td>\n",
       "      <td>2564</td>\n",
       "      <td>NaN</td>\n",
       "      <td>NaN</td>\n",
       "      <td>NaN</td>\n",
       "    </tr>\n",
       "  </tbody>\n",
       "</table>\n",
       "</div>"
      ],
      "text/plain": [
       "   월ID  상점ID   상품ID  월간 판매량  평균 판매가  판매건수\n",
       "0    0    59  22154     1.0   999.0   1.0\n",
       "1    0    59   2552     NaN     NaN   NaN\n",
       "2    0    59   2554     NaN     NaN   NaN\n",
       "3    0    59   2555     NaN     NaN   NaN\n",
       "4    0    59   2564     NaN     NaN   NaN"
      ]
     },
     "execution_count": 30,
     "metadata": {},
     "output_type": "execute_result"
    }
   ],
   "source": [
    "# 상품 판매건수 피처 추가\n",
    "group = sales_train.groupby(idx_features).agg({'판매량': 'count'})\n",
    "group = group.reset_index()\n",
    "group = group.rename(columns={'판매량': '판매건수'})\n",
    "\n",
    "train = train.merge(group, on=idx_features, how='left')\n",
    "\n",
    "# 가비지 컬렉션\n",
    "del group, sales_train\n",
    "gc.collect()\n",
    "\n",
    "train.head()"
   ]
  },
  {
   "cell_type": "markdown",
   "metadata": {},
   "source": [
    "데이터 합치기"
   ]
  },
  {
   "cell_type": "code",
   "execution_count": 31,
   "metadata": {
    "execution": {
     "iopub.execute_input": "2022-11-29T09:15:06.548317Z",
     "iopub.status.busy": "2022-11-29T09:15:06.547329Z",
     "iopub.status.idle": "2022-11-29T09:15:07.180017Z",
     "shell.execute_reply": "2022-11-29T09:15:07.177854Z",
     "shell.execute_reply.started": "2022-11-29T09:15:06.548245Z"
    }
   },
   "outputs": [
    {
     "data": {
      "text/html": [
       "<div>\n",
       "<style scoped>\n",
       "    .dataframe tbody tr th:only-of-type {\n",
       "        vertical-align: middle;\n",
       "    }\n",
       "\n",
       "    .dataframe tbody tr th {\n",
       "        vertical-align: top;\n",
       "    }\n",
       "\n",
       "    .dataframe thead th {\n",
       "        text-align: right;\n",
       "    }\n",
       "</style>\n",
       "<table border=\"1\" class=\"dataframe\">\n",
       "  <thead>\n",
       "    <tr style=\"text-align: right;\">\n",
       "      <th></th>\n",
       "      <th>월ID</th>\n",
       "      <th>상점ID</th>\n",
       "      <th>상품ID</th>\n",
       "      <th>월간 판매량</th>\n",
       "      <th>평균 판매가</th>\n",
       "      <th>판매건수</th>\n",
       "    </tr>\n",
       "  </thead>\n",
       "  <tbody>\n",
       "    <tr>\n",
       "      <th>0</th>\n",
       "      <td>0</td>\n",
       "      <td>59</td>\n",
       "      <td>22154</td>\n",
       "      <td>1.0</td>\n",
       "      <td>999.0</td>\n",
       "      <td>1.0</td>\n",
       "    </tr>\n",
       "    <tr>\n",
       "      <th>1</th>\n",
       "      <td>0</td>\n",
       "      <td>59</td>\n",
       "      <td>2552</td>\n",
       "      <td>0.0</td>\n",
       "      <td>0.0</td>\n",
       "      <td>0.0</td>\n",
       "    </tr>\n",
       "    <tr>\n",
       "      <th>2</th>\n",
       "      <td>0</td>\n",
       "      <td>59</td>\n",
       "      <td>2554</td>\n",
       "      <td>0.0</td>\n",
       "      <td>0.0</td>\n",
       "      <td>0.0</td>\n",
       "    </tr>\n",
       "    <tr>\n",
       "      <th>3</th>\n",
       "      <td>0</td>\n",
       "      <td>59</td>\n",
       "      <td>2555</td>\n",
       "      <td>0.0</td>\n",
       "      <td>0.0</td>\n",
       "      <td>0.0</td>\n",
       "    </tr>\n",
       "    <tr>\n",
       "      <th>4</th>\n",
       "      <td>0</td>\n",
       "      <td>59</td>\n",
       "      <td>2564</td>\n",
       "      <td>0.0</td>\n",
       "      <td>0.0</td>\n",
       "      <td>0.0</td>\n",
       "    </tr>\n",
       "  </tbody>\n",
       "</table>\n",
       "</div>"
      ],
      "text/plain": [
       "   월ID  상점ID   상품ID  월간 판매량  평균 판매가  판매건수\n",
       "0    0    59  22154     1.0   999.0   1.0\n",
       "1    0    59   2552     0.0     0.0   0.0\n",
       "2    0    59   2554     0.0     0.0   0.0\n",
       "3    0    59   2555     0.0     0.0   0.0\n",
       "4    0    59   2564     0.0     0.0   0.0"
      ]
     },
     "execution_count": 31,
     "metadata": {},
     "output_type": "execute_result"
    }
   ],
   "source": [
    "# 테스트 데이터 월ID를 34로 설정\n",
    "test['월ID'] = 34\n",
    "\n",
    "# train과 test 이어붙이기\n",
    "all_data = pd.concat([train, test.drop('ID', axis=1)],\n",
    "                     ignore_index=True,\n",
    "                     keys=idx_features)\n",
    "# 결측값을 0으로 대체\n",
    "all_data = all_data.fillna(0)\n",
    "\n",
    "all_data.head()"
   ]
  },
  {
   "cell_type": "code",
   "execution_count": 32,
   "metadata": {
    "execution": {
     "iopub.execute_input": "2022-11-29T09:15:07.188000Z",
     "iopub.status.busy": "2022-11-29T09:15:07.187541Z",
     "iopub.status.idle": "2022-11-29T09:15:15.730754Z",
     "shell.execute_reply": "2022-11-29T09:15:15.728934Z",
     "shell.execute_reply.started": "2022-11-29T09:15:07.187963Z"
    }
   },
   "outputs": [
    {
     "name": "stdout",
     "output_type": "stream",
     "text": [
      "64.6% 압축됨\n"
     ]
    }
   ],
   "source": [
    "# 나머지 데이터 병합\n",
    "all_data = all_data.merge(shops, on='상점ID', how='left')\n",
    "all_data = all_data.merge(items, on='상품ID', how='left')\n",
    "all_data = all_data.merge(item_categories, on='상품분류ID', how='left')\n",
    "\n",
    "# 데이터 다운캐스팅\n",
    "all_data = downcast(all_data)"
   ]
  },
  {
   "cell_type": "code",
   "execution_count": 33,
   "metadata": {
    "execution": {
     "iopub.execute_input": "2022-11-29T09:15:15.733274Z",
     "iopub.status.busy": "2022-11-29T09:15:15.732692Z",
     "iopub.status.idle": "2022-11-29T09:15:15.891508Z",
     "shell.execute_reply": "2022-11-29T09:15:15.889467Z",
     "shell.execute_reply.started": "2022-11-29T09:15:15.733222Z"
    }
   },
   "outputs": [],
   "source": [
    "# 가비지 컬렉션\n",
    "del shops, items, item_categories\n",
    "gc.collect();"
   ]
  },
  {
   "cell_type": "markdown",
   "metadata": {
    "execution": {
     "iopub.execute_input": "2022-11-28T08:06:35.514327Z",
     "iopub.status.busy": "2022-11-28T08:06:35.514005Z",
     "iopub.status.idle": "2022-11-28T08:06:35.518270Z",
     "shell.execute_reply": "2022-11-28T08:06:35.517383Z",
     "shell.execute_reply.started": "2022-11-28T08:06:35.514303Z"
    }
   },
   "source": [
    "# 시차 피처 생성"
   ]
  },
  {
   "cell_type": "markdown",
   "metadata": {
    "execution": {
     "iopub.execute_input": "2022-11-28T08:06:46.573636Z",
     "iopub.status.busy": "2022-11-28T08:06:46.573320Z",
     "iopub.status.idle": "2022-11-28T08:06:46.578738Z",
     "shell.execute_reply": "2022-11-28T08:06:46.577773Z",
     "shell.execute_reply.started": "2022-11-28T08:06:46.573612Z"
    }
   },
   "source": [
    "기준 피처별 월간 평균 판매량 파생 피처 생성"
   ]
  },
  {
   "cell_type": "code",
   "execution_count": 34,
   "metadata": {
    "execution": {
     "iopub.execute_input": "2022-11-29T09:15:15.894120Z",
     "iopub.status.busy": "2022-11-29T09:15:15.893456Z",
     "iopub.status.idle": "2022-11-29T09:15:15.907994Z",
     "shell.execute_reply": "2022-11-29T09:15:15.906342Z",
     "shell.execute_reply.started": "2022-11-29T09:15:15.893919Z"
    }
   },
   "outputs": [],
   "source": [
    "def add_mean_features(df, mean_features, idx_features):\n",
    "    # 기준 피처 확인 \n",
    "    assert (idx_features[0] == '월ID') and \\\n",
    "           len(idx_features) in [2, 3]\n",
    "    \n",
    "    # 파생 피처명 설정 \n",
    "    if len(idx_features) == 2:\n",
    "        feature_name = idx_features[1] + '별 평균 판매량'\n",
    "    else:\n",
    "        feature_name = idx_features[1] + ' ' + idx_features[2] + '별 평균 판매량'\n",
    "    \n",
    "    # 기준 피처를 토대로 그룹화해 월간 평균 판매량 구하기 \n",
    "    group = df.groupby(idx_features).agg({'월간 판매량': 'mean'})\n",
    "    group = group.reset_index()\n",
    "    group = group.rename(columns={'월간 판매량': feature_name})\n",
    "    \n",
    "    # df와 group 병합 \n",
    "    df = df.merge(group, on=idx_features, how='left')\n",
    "    # 데이터 다운캐스팅 \n",
    "    df = downcast(df, verbose=False)\n",
    "    # 새로 만든 feature_name 피처명을 mean_features 리스트에 추가 \n",
    "    mean_features.append(feature_name)\n",
    "    \n",
    "    # 가비지 컬렉션\n",
    "    del group\n",
    "    gc.collect()\n",
    "    \n",
    "    return df, mean_features"
   ]
  },
  {
   "cell_type": "code",
   "execution_count": 35,
   "metadata": {
    "execution": {
     "iopub.execute_input": "2022-11-29T09:15:15.910413Z",
     "iopub.status.busy": "2022-11-29T09:15:15.909876Z",
     "iopub.status.idle": "2022-11-29T09:15:33.819134Z",
     "shell.execute_reply": "2022-11-29T09:15:33.818025Z",
     "shell.execute_reply.started": "2022-11-29T09:15:15.910366Z"
    }
   },
   "outputs": [],
   "source": [
    "# 그룹화 기준 피처 중 '상품ID'가 포함된 파생 피처명을 담을 리스트\n",
    "item_mean_features = []\n",
    "\n",
    "# ['월ID', '상품ID']로 그룹화한 월간 평균 판매량 파생 피처 생성\n",
    "all_data, item_mean_features = add_mean_features(df=all_data,\n",
    "                                                 mean_features=item_mean_features,\n",
    "                                                 idx_features=['월ID', '상품ID'])\n",
    "\n",
    "# ['월ID', '상품ID', '도시']로 그룹화한 월간 평균 판매량 파생 피처 생성\n",
    "all_data, item_mean_features = add_mean_features(df=all_data,\n",
    "                                                 mean_features=item_mean_features,\n",
    "                                                 idx_features=['월ID', '상품ID', '도시'])"
   ]
  },
  {
   "cell_type": "code",
   "execution_count": 36,
   "metadata": {
    "execution": {
     "iopub.execute_input": "2022-11-29T09:15:33.821330Z",
     "iopub.status.busy": "2022-11-29T09:15:33.820830Z",
     "iopub.status.idle": "2022-11-29T09:15:33.830830Z",
     "shell.execute_reply": "2022-11-29T09:15:33.829121Z",
     "shell.execute_reply.started": "2022-11-29T09:15:33.821282Z"
    }
   },
   "outputs": [
    {
     "data": {
      "text/plain": [
       "['상품ID별 평균 판매량', '상품ID 도시별 평균 판매량']"
      ]
     },
     "execution_count": 36,
     "metadata": {},
     "output_type": "execute_result"
    }
   ],
   "source": [
    "item_mean_features"
   ]
  },
  {
   "cell_type": "code",
   "execution_count": 37,
   "metadata": {
    "execution": {
     "iopub.execute_input": "2022-11-29T09:15:33.833207Z",
     "iopub.status.busy": "2022-11-29T09:15:33.832646Z",
     "iopub.status.idle": "2022-11-29T09:15:38.319420Z",
     "shell.execute_reply": "2022-11-29T09:15:38.318111Z",
     "shell.execute_reply.started": "2022-11-29T09:15:33.833160Z"
    }
   },
   "outputs": [
    {
     "data": {
      "text/plain": [
       "['상점ID 상품분류ID별 평균 판매량']"
      ]
     },
     "execution_count": 37,
     "metadata": {},
     "output_type": "execute_result"
    }
   ],
   "source": [
    "# 그룹화 기준 피처 중 '상점ID'가 포함된 파생 피처명을 담을 리스트\n",
    "shop_mean_features = []\n",
    "\n",
    "# ['월ID', '상점ID', '상품분류ID']로 그룹화한 월간 평균 판매량 파생 피처 생성\n",
    "all_data, shop_mean_features = add_mean_features(df=all_data, \n",
    "                                                 mean_features=shop_mean_features,\n",
    "                                                 idx_features=['월ID', '상점ID', '상품분류ID'])\n",
    "\n",
    "shop_mean_features"
   ]
  },
  {
   "cell_type": "markdown",
   "metadata": {},
   "source": [
    "시차 feature 생성 원리 및 함수 구현"
   ]
  },
  {
   "cell_type": "code",
   "execution_count": 38,
   "metadata": {
    "execution": {
     "iopub.execute_input": "2022-11-29T09:15:38.321412Z",
     "iopub.status.busy": "2022-11-29T09:15:38.321035Z",
     "iopub.status.idle": "2022-11-29T09:15:38.331083Z",
     "shell.execute_reply": "2022-11-29T09:15:38.329744Z",
     "shell.execute_reply.started": "2022-11-29T09:15:38.321376Z"
    }
   },
   "outputs": [],
   "source": [
    "def add_lag_features(df, lag_features_to_clip, idx_features, \n",
    "                     lag_feature, nlags=3, clip=False):\n",
    "    # 시차 피처 생성에 필요한 DataFrame 부분만 복사 \n",
    "    df_temp = df[idx_features + [lag_feature]].copy() \n",
    "\n",
    "    # 시차 피처 생성 \n",
    "    for i in range(1, nlags+1):\n",
    "        # 시차 피처명 \n",
    "        lag_feature_name = lag_feature +'_시차' + str(i)\n",
    "        # df_temp 열 이름 설정 \n",
    "        df_temp.columns = idx_features + [lag_feature_name]\n",
    "        # df_temp의 date_block_num 피처에 1 더하기 \n",
    "        df_temp['월ID'] += 1\n",
    "        # idx_feature를 기준으로 df와 df_temp 병합하기 \n",
    "        df = df.merge(df_temp.drop_duplicates(), \n",
    "                      on=idx_features, \n",
    "                      how='left')\n",
    "        # 결측값 0으로 대체 \n",
    "        df[lag_feature_name] = df[lag_feature_name].fillna(0)\n",
    "        # 0 ~ 20 사이로 제한할 시차 피처명을 lag_features_to_clip에 추가 \n",
    "        if clip: \n",
    "            lag_features_to_clip.append(lag_feature_name)\n",
    "    \n",
    "    # 데이터 다운캐스팅\n",
    "    df = downcast(df, False)\n",
    "    # 가비지 컬렉션\n",
    "    del df_temp\n",
    "    gc.collect()\n",
    "    \n",
    "    return df, lag_features_to_clip"
   ]
  },
  {
   "cell_type": "markdown",
   "metadata": {
    "execution": {
     "iopub.execute_input": "2022-11-28T11:48:00.670767Z",
     "iopub.status.busy": "2022-11-28T11:48:00.669819Z",
     "iopub.status.idle": "2022-11-28T11:48:00.680436Z",
     "shell.execute_reply": "2022-11-28T11:48:00.678404Z",
     "shell.execute_reply.started": "2022-11-28T11:48:00.670712Z"
    }
   },
   "source": [
    "시차 피처 생성 I : 월간 판매량"
   ]
  },
  {
   "cell_type": "code",
   "execution_count": 39,
   "metadata": {
    "execution": {
     "iopub.execute_input": "2022-11-29T09:15:38.332915Z",
     "iopub.status.busy": "2022-11-29T09:15:38.332464Z",
     "iopub.status.idle": "2022-11-29T09:16:19.669268Z",
     "shell.execute_reply": "2022-11-29T09:16:19.668054Z",
     "shell.execute_reply.started": "2022-11-29T09:15:38.332870Z"
    }
   },
   "outputs": [],
   "source": [
    "lag_features_to_clip = [] # 0 ~ 20 사이로 제한할 시차 피처명을 담을 리스트\n",
    "idx_features = ['월ID', '상점ID', '상품ID'] # 기준 피처\n",
    "\n",
    "# idx_features를 기준으로 월간 판매량의 세 달치 시차 피처 생성\n",
    "all_data, lag_features_to_clip = add_lag_features(df=all_data, \n",
    "                                                  lag_features_to_clip=lag_features_to_clip,\n",
    "                                                  idx_features=idx_features,\n",
    "                                                  lag_feature='월간 판매량', \n",
    "                                                  nlags=3,\n",
    "                                                  clip=True) # 값을 0 ~ 20 사이로 제한"
   ]
  },
  {
   "cell_type": "code",
   "execution_count": 40,
   "metadata": {
    "execution": {
     "iopub.execute_input": "2022-11-29T09:16:19.671485Z",
     "iopub.status.busy": "2022-11-29T09:16:19.671119Z",
     "iopub.status.idle": "2022-11-29T09:16:19.691521Z",
     "shell.execute_reply": "2022-11-29T09:16:19.690142Z",
     "shell.execute_reply.started": "2022-11-29T09:16:19.671455Z"
    }
   },
   "outputs": [
    {
     "data": {
      "text/html": [
       "<div>\n",
       "<style scoped>\n",
       "    .dataframe tbody tr th:only-of-type {\n",
       "        vertical-align: middle;\n",
       "    }\n",
       "\n",
       "    .dataframe tbody tr th {\n",
       "        vertical-align: top;\n",
       "    }\n",
       "\n",
       "    .dataframe thead th {\n",
       "        text-align: right;\n",
       "    }\n",
       "</style>\n",
       "<table border=\"1\" class=\"dataframe\">\n",
       "  <thead>\n",
       "    <tr style=\"text-align: right;\">\n",
       "      <th></th>\n",
       "      <th>0</th>\n",
       "      <th>1</th>\n",
       "      <th>2</th>\n",
       "      <th>3</th>\n",
       "      <th>4</th>\n",
       "    </tr>\n",
       "  </thead>\n",
       "  <tbody>\n",
       "    <tr>\n",
       "      <th>월ID</th>\n",
       "      <td>0.000000</td>\n",
       "      <td>0.000000</td>\n",
       "      <td>0.000000</td>\n",
       "      <td>0.000000</td>\n",
       "      <td>0.000000</td>\n",
       "    </tr>\n",
       "    <tr>\n",
       "      <th>상점ID</th>\n",
       "      <td>59.000000</td>\n",
       "      <td>59.000000</td>\n",
       "      <td>59.000000</td>\n",
       "      <td>59.000000</td>\n",
       "      <td>59.000000</td>\n",
       "    </tr>\n",
       "    <tr>\n",
       "      <th>상품ID</th>\n",
       "      <td>22154.000000</td>\n",
       "      <td>2552.000000</td>\n",
       "      <td>2554.000000</td>\n",
       "      <td>2555.000000</td>\n",
       "      <td>2564.000000</td>\n",
       "    </tr>\n",
       "    <tr>\n",
       "      <th>월간 판매량</th>\n",
       "      <td>1.000000</td>\n",
       "      <td>0.000000</td>\n",
       "      <td>0.000000</td>\n",
       "      <td>0.000000</td>\n",
       "      <td>0.000000</td>\n",
       "    </tr>\n",
       "    <tr>\n",
       "      <th>평균 판매가</th>\n",
       "      <td>999.000000</td>\n",
       "      <td>0.000000</td>\n",
       "      <td>0.000000</td>\n",
       "      <td>0.000000</td>\n",
       "      <td>0.000000</td>\n",
       "    </tr>\n",
       "    <tr>\n",
       "      <th>판매건수</th>\n",
       "      <td>1.000000</td>\n",
       "      <td>0.000000</td>\n",
       "      <td>0.000000</td>\n",
       "      <td>0.000000</td>\n",
       "      <td>0.000000</td>\n",
       "    </tr>\n",
       "    <tr>\n",
       "      <th>도시</th>\n",
       "      <td>30.000000</td>\n",
       "      <td>30.000000</td>\n",
       "      <td>30.000000</td>\n",
       "      <td>30.000000</td>\n",
       "      <td>30.000000</td>\n",
       "    </tr>\n",
       "    <tr>\n",
       "      <th>상품분류ID</th>\n",
       "      <td>37.000000</td>\n",
       "      <td>58.000000</td>\n",
       "      <td>58.000000</td>\n",
       "      <td>56.000000</td>\n",
       "      <td>59.000000</td>\n",
       "    </tr>\n",
       "    <tr>\n",
       "      <th>첫 판매월</th>\n",
       "      <td>0.000000</td>\n",
       "      <td>0.000000</td>\n",
       "      <td>0.000000</td>\n",
       "      <td>0.000000</td>\n",
       "      <td>0.000000</td>\n",
       "    </tr>\n",
       "    <tr>\n",
       "      <th>대분류</th>\n",
       "      <td>5.000000</td>\n",
       "      <td>7.000000</td>\n",
       "      <td>7.000000</td>\n",
       "      <td>7.000000</td>\n",
       "      <td>7.000000</td>\n",
       "    </tr>\n",
       "    <tr>\n",
       "      <th>상품ID별 평균 판매량</th>\n",
       "      <td>0.400000</td>\n",
       "      <td>0.022222</td>\n",
       "      <td>0.022222</td>\n",
       "      <td>0.044444</td>\n",
       "      <td>0.111111</td>\n",
       "    </tr>\n",
       "    <tr>\n",
       "      <th>상품ID 도시별 평균 판매량</th>\n",
       "      <td>1.000000</td>\n",
       "      <td>0.000000</td>\n",
       "      <td>0.000000</td>\n",
       "      <td>0.000000</td>\n",
       "      <td>0.000000</td>\n",
       "    </tr>\n",
       "    <tr>\n",
       "      <th>상점ID 상품분류ID별 평균 판매량</th>\n",
       "      <td>0.088496</td>\n",
       "      <td>0.000000</td>\n",
       "      <td>0.000000</td>\n",
       "      <td>0.008333</td>\n",
       "      <td>0.011976</td>\n",
       "    </tr>\n",
       "    <tr>\n",
       "      <th>월간 판매량_시차1</th>\n",
       "      <td>0.000000</td>\n",
       "      <td>0.000000</td>\n",
       "      <td>0.000000</td>\n",
       "      <td>0.000000</td>\n",
       "      <td>0.000000</td>\n",
       "    </tr>\n",
       "    <tr>\n",
       "      <th>월간 판매량_시차2</th>\n",
       "      <td>0.000000</td>\n",
       "      <td>0.000000</td>\n",
       "      <td>0.000000</td>\n",
       "      <td>0.000000</td>\n",
       "      <td>0.000000</td>\n",
       "    </tr>\n",
       "    <tr>\n",
       "      <th>월간 판매량_시차3</th>\n",
       "      <td>0.000000</td>\n",
       "      <td>0.000000</td>\n",
       "      <td>0.000000</td>\n",
       "      <td>0.000000</td>\n",
       "      <td>0.000000</td>\n",
       "    </tr>\n",
       "  </tbody>\n",
       "</table>\n",
       "</div>"
      ],
      "text/plain": [
       "                                0            1            2            3  \\\n",
       "월ID                      0.000000     0.000000     0.000000     0.000000   \n",
       "상점ID                    59.000000    59.000000    59.000000    59.000000   \n",
       "상품ID                 22154.000000  2552.000000  2554.000000  2555.000000   \n",
       "월간 판매량                   1.000000     0.000000     0.000000     0.000000   \n",
       "평균 판매가                 999.000000     0.000000     0.000000     0.000000   \n",
       "판매건수                     1.000000     0.000000     0.000000     0.000000   \n",
       "도시                      30.000000    30.000000    30.000000    30.000000   \n",
       "상품분류ID                  37.000000    58.000000    58.000000    56.000000   \n",
       "첫 판매월                    0.000000     0.000000     0.000000     0.000000   \n",
       "대분류                      5.000000     7.000000     7.000000     7.000000   \n",
       "상품ID별 평균 판매량             0.400000     0.022222     0.022222     0.044444   \n",
       "상품ID 도시별 평균 판매량          1.000000     0.000000     0.000000     0.000000   \n",
       "상점ID 상품분류ID별 평균 판매량      0.088496     0.000000     0.000000     0.008333   \n",
       "월간 판매량_시차1               0.000000     0.000000     0.000000     0.000000   \n",
       "월간 판매량_시차2               0.000000     0.000000     0.000000     0.000000   \n",
       "월간 판매량_시차3               0.000000     0.000000     0.000000     0.000000   \n",
       "\n",
       "                               4  \n",
       "월ID                     0.000000  \n",
       "상점ID                   59.000000  \n",
       "상품ID                 2564.000000  \n",
       "월간 판매량                  0.000000  \n",
       "평균 판매가                  0.000000  \n",
       "판매건수                    0.000000  \n",
       "도시                     30.000000  \n",
       "상품분류ID                 59.000000  \n",
       "첫 판매월                   0.000000  \n",
       "대분류                     7.000000  \n",
       "상품ID별 평균 판매량            0.111111  \n",
       "상품ID 도시별 평균 판매량         0.000000  \n",
       "상점ID 상품분류ID별 평균 판매량     0.011976  \n",
       "월간 판매량_시차1              0.000000  \n",
       "월간 판매량_시차2              0.000000  \n",
       "월간 판매량_시차3              0.000000  "
      ]
     },
     "execution_count": 40,
     "metadata": {},
     "output_type": "execute_result"
    }
   ],
   "source": [
    "all_data.head().T"
   ]
  },
  {
   "cell_type": "code",
   "execution_count": 41,
   "metadata": {
    "execution": {
     "iopub.execute_input": "2022-11-29T09:16:19.694247Z",
     "iopub.status.busy": "2022-11-29T09:16:19.693709Z",
     "iopub.status.idle": "2022-11-29T09:16:19.706492Z",
     "shell.execute_reply": "2022-11-29T09:16:19.705218Z",
     "shell.execute_reply.started": "2022-11-29T09:16:19.694209Z"
    }
   },
   "outputs": [
    {
     "data": {
      "text/plain": [
       "['월간 판매량_시차1', '월간 판매량_시차2', '월간 판매량_시차3']"
      ]
     },
     "execution_count": 41,
     "metadata": {},
     "output_type": "execute_result"
    }
   ],
   "source": [
    "lag_features_to_clip"
   ]
  },
  {
   "cell_type": "markdown",
   "metadata": {},
   "source": [
    "시차 피처 생성 II : 판매건수, 평균 판매가"
   ]
  },
  {
   "cell_type": "code",
   "execution_count": 42,
   "metadata": {
    "execution": {
     "iopub.execute_input": "2022-11-29T09:16:19.709045Z",
     "iopub.status.busy": "2022-11-29T09:16:19.707989Z",
     "iopub.status.idle": "2022-11-29T09:17:43.581596Z",
     "shell.execute_reply": "2022-11-29T09:17:43.580569Z",
     "shell.execute_reply.started": "2022-11-29T09:16:19.709006Z"
    }
   },
   "outputs": [],
   "source": [
    "# idx_features를 기준으로 판매건수 피처의 세 달치 시차 피처 생성\n",
    "all_data, lag_features_to_clip = add_lag_features(df=all_data, \n",
    "                                                  lag_features_to_clip=lag_features_to_clip,\n",
    "                                                  idx_features=idx_features,\n",
    "                                                  lag_feature='판매건수', \n",
    "                                                  nlags=3)\n",
    "\n",
    "# idx_features를 기준으로 평균 판매가 피처의 세 달치 시차 피처 생성\n",
    "all_data, lag_features_to_clip = add_lag_features(df=all_data, \n",
    "                                                  lag_features_to_clip=lag_features_to_clip,\n",
    "                                                  idx_features=idx_features,\n",
    "                                                  lag_feature='평균 판매가', \n",
    "                                                  nlags=3)"
   ]
  },
  {
   "cell_type": "markdown",
   "metadata": {},
   "source": [
    "시차 피처 생성 III : 평균 판매량"
   ]
  },
  {
   "cell_type": "code",
   "execution_count": 43,
   "metadata": {
    "execution": {
     "iopub.execute_input": "2022-11-29T09:17:43.583853Z",
     "iopub.status.busy": "2022-11-29T09:17:43.582758Z",
     "iopub.status.idle": "2022-11-29T09:19:11.987115Z",
     "shell.execute_reply": "2022-11-29T09:19:11.985808Z",
     "shell.execute_reply.started": "2022-11-29T09:17:43.583812Z"
    }
   },
   "outputs": [],
   "source": [
    "# idx_features를 기준으로 item_mean_features 요소별 시차 피처 생성\n",
    "for item_mean_feature in item_mean_features:\n",
    "    all_data, lag_features_to_clip = add_lag_features(df=all_data, \n",
    "                                                      lag_features_to_clip=lag_features_to_clip, \n",
    "                                                      idx_features=idx_features, \n",
    "                                                      lag_feature=item_mean_feature, \n",
    "                                                      nlags=3,\n",
    "                                                      clip=True)\n",
    "# item_mean_features 피처 제거\n",
    "all_data = all_data.drop(item_mean_features, axis=1)"
   ]
  },
  {
   "cell_type": "code",
   "execution_count": 44,
   "metadata": {
    "execution": {
     "iopub.execute_input": "2022-11-29T09:19:11.988892Z",
     "iopub.status.busy": "2022-11-29T09:19:11.988508Z",
     "iopub.status.idle": "2022-11-29T09:19:30.180052Z",
     "shell.execute_reply": "2022-11-29T09:19:30.178622Z",
     "shell.execute_reply.started": "2022-11-29T09:19:11.988860Z"
    }
   },
   "outputs": [],
   "source": [
    "# ['월ID', '상점ID', '상품분류ID']를 기준으로 shop_mean_features 요소별 시차 피처 생성\n",
    "for shop_mean_feature in shop_mean_features:\n",
    "    all_data, lag_features_to_clip = add_lag_features(df=all_data,\n",
    "                                                      lag_features_to_clip=lag_features_to_clip, \n",
    "                                                      idx_features=['월ID', '상점ID', '상품분류ID'], \n",
    "                                                      lag_feature=shop_mean_feature, \n",
    "                                                      nlags=3,\n",
    "                                                      clip=True)\n",
    "# shop_mean_features 피처 제거\n",
    "all_data = all_data.drop(shop_mean_features, axis=1)"
   ]
  },
  {
   "cell_type": "markdown",
   "metadata": {},
   "source": [
    "시차 피처 생성 마무리 : 결측값 처리"
   ]
  },
  {
   "cell_type": "code",
   "execution_count": 45,
   "metadata": {
    "execution": {
     "iopub.execute_input": "2022-11-29T09:19:30.182202Z",
     "iopub.status.busy": "2022-11-29T09:19:30.181702Z",
     "iopub.status.idle": "2022-11-29T09:19:33.252258Z",
     "shell.execute_reply": "2022-11-29T09:19:33.250239Z",
     "shell.execute_reply.started": "2022-11-29T09:19:30.182153Z"
    }
   },
   "outputs": [],
   "source": [
    "# 월ID 3미만인 데이터 제거\n",
    "all_data = all_data.drop(all_data[all_data['월ID'] < 3].index)"
   ]
  },
  {
   "cell_type": "markdown",
   "metadata": {},
   "source": [
    "피처 엔지니어링 VI : 기타 피처 엔지니어링"
   ]
  },
  {
   "cell_type": "markdown",
   "metadata": {},
   "source": [
    "월간 판매량 시차 피처들의 평균"
   ]
  },
  {
   "cell_type": "code",
   "execution_count": 46,
   "metadata": {
    "execution": {
     "iopub.execute_input": "2022-11-29T09:19:33.253981Z",
     "iopub.status.busy": "2022-11-29T09:19:33.253568Z",
     "iopub.status.idle": "2022-11-29T09:19:33.409692Z",
     "shell.execute_reply": "2022-11-29T09:19:33.408363Z",
     "shell.execute_reply.started": "2022-11-29T09:19:33.253928Z"
    }
   },
   "outputs": [],
   "source": [
    "all_data['월간 판매량 시차평균'] = all_data[['월간 판매량_시차1',\n",
    "                                          '월간 판매량_시차2', \n",
    "                                          '월간 판매량_시차3']].mean(axis=1)"
   ]
  },
  {
   "cell_type": "code",
   "execution_count": 47,
   "metadata": {
    "execution": {
     "iopub.execute_input": "2022-11-29T09:19:33.411733Z",
     "iopub.status.busy": "2022-11-29T09:19:33.411357Z",
     "iopub.status.idle": "2022-11-29T09:19:37.321203Z",
     "shell.execute_reply": "2022-11-29T09:19:37.320112Z",
     "shell.execute_reply.started": "2022-11-29T09:19:33.411700Z"
    }
   },
   "outputs": [],
   "source": [
    "# 0 ~ 20 사이로 값 제한\n",
    "all_data[lag_features_to_clip + ['월간 판매량', '월간 판매량 시차평균']] = all_data[lag_features_to_clip + ['월간 판매량', '월간 판매량 시차평균']].clip(0, 20)"
   ]
  },
  {
   "cell_type": "markdown",
   "metadata": {},
   "source": [
    "시차 변화량"
   ]
  },
  {
   "cell_type": "code",
   "execution_count": 48,
   "metadata": {
    "execution": {
     "iopub.execute_input": "2022-11-29T09:19:37.323605Z",
     "iopub.status.busy": "2022-11-29T09:19:37.322632Z",
     "iopub.status.idle": "2022-11-29T09:19:37.910774Z",
     "shell.execute_reply": "2022-11-29T09:19:37.909473Z",
     "shell.execute_reply.started": "2022-11-29T09:19:37.323558Z"
    }
   },
   "outputs": [],
   "source": [
    "all_data['시차변화량1'] = all_data['월간 판매량_시차1']/all_data['월간 판매량_시차2']\n",
    "all_data['시차변화량1'] = all_data['시차변화량1'].replace([np.inf, -np.inf], \n",
    "                                                        np.nan).fillna(0)\n",
    "\n",
    "all_data['시차변화량2'] = all_data['월간 판매량_시차2']/all_data['월간 판매량_시차3']\n",
    "all_data['시차변화량2'] = all_data['시차변화량2'].replace([np.inf, -np.inf], \n",
    "                                                        np.nan).fillna(0)"
   ]
  },
  {
   "cell_type": "markdown",
   "metadata": {},
   "source": [
    "신상여부"
   ]
  },
  {
   "cell_type": "code",
   "execution_count": 49,
   "metadata": {
    "execution": {
     "iopub.execute_input": "2022-11-29T09:19:37.912537Z",
     "iopub.status.busy": "2022-11-29T09:19:37.912211Z",
     "iopub.status.idle": "2022-11-29T09:19:37.924277Z",
     "shell.execute_reply": "2022-11-29T09:19:37.922682Z",
     "shell.execute_reply.started": "2022-11-29T09:19:37.912509Z"
    }
   },
   "outputs": [],
   "source": [
    "all_data['신상여부'] = all_data['첫 판매월'] == all_data['월ID']"
   ]
  },
  {
   "cell_type": "markdown",
   "metadata": {},
   "source": [
    "첫 판매 후 경과 기간"
   ]
  },
  {
   "cell_type": "code",
   "execution_count": 50,
   "metadata": {
    "execution": {
     "iopub.execute_input": "2022-11-29T09:19:37.927050Z",
     "iopub.status.busy": "2022-11-29T09:19:37.926600Z",
     "iopub.status.idle": "2022-11-29T09:19:37.939893Z",
     "shell.execute_reply": "2022-11-29T09:19:37.938642Z",
     "shell.execute_reply.started": "2022-11-29T09:19:37.927013Z"
    }
   },
   "outputs": [],
   "source": [
    "all_data['첫 판매 후 기간'] = all_data['월ID'] - all_data['첫 판매월']"
   ]
  },
  {
   "cell_type": "markdown",
   "metadata": {},
   "source": [
    "월"
   ]
  },
  {
   "cell_type": "code",
   "execution_count": 51,
   "metadata": {
    "execution": {
     "iopub.execute_input": "2022-11-29T09:19:37.941841Z",
     "iopub.status.busy": "2022-11-29T09:19:37.941491Z",
     "iopub.status.idle": "2022-11-29T09:19:38.003075Z",
     "shell.execute_reply": "2022-11-29T09:19:38.001434Z",
     "shell.execute_reply.started": "2022-11-29T09:19:37.941811Z"
    }
   },
   "outputs": [],
   "source": [
    "all_data['월'] = all_data['월ID'] % 12"
   ]
  },
  {
   "cell_type": "markdown",
   "metadata": {},
   "source": [
    "필요 없는 피처 제거"
   ]
  },
  {
   "cell_type": "code",
   "execution_count": 52,
   "metadata": {
    "execution": {
     "iopub.execute_input": "2022-11-29T09:19:38.005813Z",
     "iopub.status.busy": "2022-11-29T09:19:38.005303Z",
     "iopub.status.idle": "2022-11-29T09:19:40.836633Z",
     "shell.execute_reply": "2022-11-29T09:19:40.835578Z",
     "shell.execute_reply.started": "2022-11-29T09:19:38.005773Z"
    }
   },
   "outputs": [],
   "source": [
    "# 첫 판매월, 평균 판매가, 판매건수 피처 제거\n",
    "all_data = all_data.drop(['첫 판매월', '평균 판매가', '판매건수'], axis=1)\n",
    "all_data = downcast(all_data, False) # 데이터 다운캐스팅"
   ]
  },
  {
   "cell_type": "markdown",
   "metadata": {},
   "source": [
    "마무리"
   ]
  },
  {
   "cell_type": "code",
   "execution_count": 53,
   "metadata": {
    "execution": {
     "iopub.execute_input": "2022-11-29T09:19:40.838728Z",
     "iopub.status.busy": "2022-11-29T09:19:40.838259Z",
     "iopub.status.idle": "2022-11-29T09:19:40.851993Z",
     "shell.execute_reply": "2022-11-29T09:19:40.850596Z",
     "shell.execute_reply.started": "2022-11-29T09:19:40.838680Z"
    }
   },
   "outputs": [
    {
     "name": "stdout",
     "output_type": "stream",
     "text": [
      "<class 'pandas.core.frame.DataFrame'>\n",
      "Int64Index: 9904582 entries, 1122386 to 11026967\n",
      "Data columns (total 31 columns):\n",
      " #   Column                   Dtype  \n",
      "---  ------                   -----  \n",
      " 0   월ID                      int8   \n",
      " 1   상점ID                     int8   \n",
      " 2   상품ID                     int16  \n",
      " 3   월간 판매량                   int8   \n",
      " 4   도시                       int8   \n",
      " 5   상품분류ID                   int8   \n",
      " 6   대분류                      int8   \n",
      " 7   월간 판매량_시차1               int8   \n",
      " 8   월간 판매량_시차2               int8   \n",
      " 9   월간 판매량_시차3               int8   \n",
      " 10  판매건수_시차1                 int8   \n",
      " 11  판매건수_시차2                 int8   \n",
      " 12  판매건수_시차3                 int8   \n",
      " 13  평균 판매가_시차1               float32\n",
      " 14  평균 판매가_시차2               float32\n",
      " 15  평균 판매가_시차3               float32\n",
      " 16  상품ID별 평균 판매량_시차1         float32\n",
      " 17  상품ID별 평균 판매량_시차2         float32\n",
      " 18  상품ID별 평균 판매량_시차3         float32\n",
      " 19  상품ID 도시별 평균 판매량_시차1      float32\n",
      " 20  상품ID 도시별 평균 판매량_시차2      float32\n",
      " 21  상품ID 도시별 평균 판매량_시차3      float32\n",
      " 22  상점ID 상품분류ID별 평균 판매량_시차1  float32\n",
      " 23  상점ID 상품분류ID별 평균 판매량_시차2  float32\n",
      " 24  상점ID 상품분류ID별 평균 판매량_시차3  float32\n",
      " 25  월간 판매량 시차평균              float32\n",
      " 26  시차변화량1                   float32\n",
      " 27  시차변화량2                   float32\n",
      " 28  신상여부                     int8   \n",
      " 29  첫 판매 후 기간                int8   \n",
      " 30  월                        int8   \n",
      "dtypes: float32(15), int16(1), int8(15)\n",
      "memory usage: 802.9 MB\n"
     ]
    }
   ],
   "source": [
    "all_data.info()"
   ]
  },
  {
   "cell_type": "code",
   "execution_count": 54,
   "metadata": {
    "execution": {
     "iopub.execute_input": "2022-11-29T09:19:40.854375Z",
     "iopub.status.busy": "2022-11-29T09:19:40.853792Z",
     "iopub.status.idle": "2022-11-29T09:19:44.799492Z",
     "shell.execute_reply": "2022-11-29T09:19:44.798548Z",
     "shell.execute_reply.started": "2022-11-29T09:19:40.854328Z"
    }
   },
   "outputs": [],
   "source": [
    "# 훈련 데이터 (피처)\n",
    "X_train = all_data[all_data['월ID'] < 33]\n",
    "X_train = X_train.drop(['월간 판매량'], axis=1)\n",
    "# 검증 데이터 (피처)\n",
    "X_valid = all_data[all_data['월ID'] == 33]\n",
    "X_valid = X_valid.drop(['월간 판매량'], axis=1)\n",
    "# 테스트 데이터 (피처)\n",
    "X_test = all_data[all_data['월ID'] == 34]\n",
    "X_test = X_test.drop(['월간 판매량'], axis=1)\n",
    "\n",
    "# 훈련 데이터 (타깃값)\n",
    "y_train = all_data[all_data['월ID'] < 33]['월간 판매량']\n",
    "# 검증 데이터 (타깃값)\n",
    "y_valid = all_data[all_data['월ID'] == 33]['월간 판매량']\n",
    "\n",
    "# 가비지 컬렉션\n",
    "del all_data\n",
    "gc.collect();"
   ]
  },
  {
   "cell_type": "markdown",
   "metadata": {},
   "source": [
    "## 모델 훈련 및 성능 검증"
   ]
  },
  {
   "cell_type": "code",
   "execution_count": 55,
   "metadata": {
    "execution": {
     "iopub.execute_input": "2022-11-29T09:19:44.801632Z",
     "iopub.status.busy": "2022-11-29T09:19:44.800645Z",
     "iopub.status.idle": "2022-11-29T09:39:35.836017Z",
     "shell.execute_reply": "2022-11-29T09:39:35.834496Z",
     "shell.execute_reply.started": "2022-11-29T09:19:44.801596Z"
    }
   },
   "outputs": [
    {
     "name": "stdout",
     "output_type": "stream",
     "text": [
      "[LightGBM] [Warning] Found whitespace in feature_names, replace with underlines\n",
      "[LightGBM] [Info] Total Bins 3902\n",
      "[LightGBM] [Info] Number of data points in the train set: 9452298, number of used features: 30\n",
      "[LightGBM] [Warning] Found whitespace in feature_names, replace with underlines\n",
      "[LightGBM] [Info] Start training from score 0.297707\n",
      "Training until validation scores don't improve for 150 rounds\n",
      "[100]\ttraining's rmse: 1.01073\tvalid_1's rmse: 0.986993\n",
      "[200]\ttraining's rmse: 0.909083\tvalid_1's rmse: 0.922887\n",
      "[300]\ttraining's rmse: 0.857505\tvalid_1's rmse: 0.898233\n",
      "[400]\ttraining's rmse: 0.829175\tvalid_1's rmse: 0.888136\n",
      "[500]\ttraining's rmse: 0.810627\tvalid_1's rmse: 0.884038\n",
      "[600]\ttraining's rmse: 0.796874\tvalid_1's rmse: 0.882521\n",
      "[700]\ttraining's rmse: 0.786815\tvalid_1's rmse: 0.882318\n",
      "[800]\ttraining's rmse: 0.778893\tvalid_1's rmse: 0.882091\n",
      "[900]\ttraining's rmse: 0.772392\tvalid_1's rmse: 0.881891\n",
      "[1000]\ttraining's rmse: 0.76691\tvalid_1's rmse: 0.881599\n",
      "[1100]\ttraining's rmse: 0.76187\tvalid_1's rmse: 0.881711\n",
      "Early stopping, best iteration is:\n",
      "[999]\ttraining's rmse: 0.766974\tvalid_1's rmse: 0.881574\n"
     ]
    }
   ],
   "source": [
    "import lightgbm as lgb\n",
    "\n",
    "# LightGBM 하이퍼파라미터\n",
    "params = {'metric': 'rmse', \n",
    "          'num_leaves': 255,\n",
    "          'learning_rate': 0.005,\n",
    "          'feature_fraction': 0.75,\n",
    "          'bagging_fraction': 0.75,\n",
    "          'bagging_freq': 5,\n",
    "          'force_col_wise': True,\n",
    "          'random_state': 10}\n",
    "\n",
    "cat_features = ['상점ID', '도시', '상품분류ID', '대분류', '월']\n",
    "\n",
    "# LightGBM 훈련 및 검증 데이터셋\n",
    "dtrain = lgb.Dataset(X_train, y_train)\n",
    "dvalid = lgb.Dataset(X_valid, y_valid)\n",
    " \n",
    "# LightGBM 모델 훈련\n",
    "lgb_model = lgb.train(params=params,\n",
    "                      train_set=dtrain,\n",
    "                      num_boost_round=1500,\n",
    "                      valid_sets=(dtrain, dvalid),\n",
    "                      early_stopping_rounds=150,\n",
    "                      categorical_feature=cat_features,\n",
    "                      verbose_eval=100)      "
   ]
  },
  {
   "cell_type": "markdown",
   "metadata": {},
   "source": [
    "## 예측 및 결과 제출"
   ]
  },
  {
   "cell_type": "code",
   "execution_count": 56,
   "metadata": {
    "execution": {
     "iopub.execute_input": "2022-11-29T09:39:35.842431Z",
     "iopub.status.busy": "2022-11-29T09:39:35.841840Z",
     "iopub.status.idle": "2022-11-29T09:39:50.882195Z",
     "shell.execute_reply": "2022-11-29T09:39:50.881006Z",
     "shell.execute_reply.started": "2022-11-29T09:39:35.842393Z"
    }
   },
   "outputs": [],
   "source": [
    "# 예측\n",
    "preds = lgb_model.predict(X_test).clip(0, 20)\n",
    "\n",
    "# 제출 파일 생성\n",
    "submission['item_cnt_month'] = preds\n",
    "submission.to_csv('submission.csv', index=False)"
   ]
  },
  {
   "cell_type": "code",
   "execution_count": 57,
   "metadata": {
    "execution": {
     "iopub.execute_input": "2022-11-29T09:39:50.883827Z",
     "iopub.status.busy": "2022-11-29T09:39:50.883466Z",
     "iopub.status.idle": "2022-11-29T09:39:51.032511Z",
     "shell.execute_reply": "2022-11-29T09:39:51.031242Z",
     "shell.execute_reply.started": "2022-11-29T09:39:50.883795Z"
    }
   },
   "outputs": [],
   "source": [
    "del X_train, y_train, X_valid, y_valid, X_test, lgb_model, dtrain, dvalid\n",
    "gc.collect();"
   ]
  }
 ],
 "metadata": {
  "kernelspec": {
   "display_name": "Python 3 (ipykernel)",
   "language": "python",
   "name": "python3"
  },
  "language_info": {
   "codemirror_mode": {
    "name": "ipython",
    "version": 3
   },
   "file_extension": ".py",
   "mimetype": "text/x-python",
   "name": "python",
   "nbconvert_exporter": "python",
   "pygments_lexer": "ipython3",
   "version": "3.9.12"
  }
 },
 "nbformat": 4,
 "nbformat_minor": 4
}
