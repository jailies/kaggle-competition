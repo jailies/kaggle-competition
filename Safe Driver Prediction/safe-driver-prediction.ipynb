{
 "cells": [
  {
   "cell_type": "code",
   "execution_count": 1,
   "metadata": {
    "_cell_guid": "b1076dfc-b9ad-4769-8c92-a6c4dae69d19",
    "_uuid": "8f2839f25d086af736a60e9eeb907d3b93b6e0e5",
    "execution": {
     "iopub.execute_input": "2022-11-22T07:55:08.145625Z",
     "iopub.status.busy": "2022-11-22T07:55:08.144694Z",
     "iopub.status.idle": "2022-11-22T07:55:08.172456Z",
     "shell.execute_reply": "2022-11-22T07:55:08.171471Z",
     "shell.execute_reply.started": "2022-11-22T07:55:08.145522Z"
    }
   },
   "outputs": [
    {
     "name": "stdout",
     "output_type": "stream",
     "text": [
      "/kaggle/input/porto-seguro-safe-driver-prediction/sample_submission.csv\n",
      "/kaggle/input/porto-seguro-safe-driver-prediction/train.csv\n",
      "/kaggle/input/porto-seguro-safe-driver-prediction/test.csv\n"
     ]
    }
   ],
   "source": [
    "# This Python 3 environment comes with many helpful analytics libraries installed\n",
    "# It is defined by the kaggle/python Docker image: https://github.com/kaggle/docker-python\n",
    "# For example, here's several helpful packages to load\n",
    "\n",
    "import numpy as np # linear algebra\n",
    "import pandas as pd # data processing, CSV file I/O (e.g. pd.read_csv)\n",
    "\n",
    "# Input data files are available in the read-only \"../input/\" directory\n",
    "# For example, running this (by clicking run or pressing Shift+Enter) will list all files under the input directory\n",
    "\n",
    "import os\n",
    "for dirname, _, filenames in os.walk('/kaggle/input'):\n",
    "    for filename in filenames:\n",
    "        print(os.path.join(dirname, filename))\n",
    "\n",
    "# You can write up to 20GB to the current directory (/kaggle/working/) that gets preserved as output when you create a version using \"Save & Run All\" \n",
    "# You can also write temporary files to /kaggle/temp/, but they won't be saved outside of the current session"
   ]
  },
  {
   "cell_type": "code",
   "execution_count": 2,
   "metadata": {
    "execution": {
     "iopub.execute_input": "2022-11-22T07:55:08.174329Z",
     "iopub.status.busy": "2022-11-22T07:55:08.174072Z",
     "iopub.status.idle": "2022-11-22T07:55:18.779806Z",
     "shell.execute_reply": "2022-11-22T07:55:18.778843Z",
     "shell.execute_reply.started": "2022-11-22T07:55:08.174305Z"
    }
   },
   "outputs": [],
   "source": [
    "import pandas as pd\n",
    "\n",
    "# 데이터 경로\n",
    "train = pd.read_csv('train.csv', index_col='id')\n",
    "test = pd.read_csv('test.csv', index_col='id')\n",
    "submission = pd.read_csv('sample_submission.csv', index_col='id')"
   ]
  },
  {
   "cell_type": "code",
   "execution_count": 3,
   "metadata": {
    "execution": {
     "iopub.execute_input": "2022-11-22T07:55:18.781775Z",
     "iopub.status.busy": "2022-11-22T07:55:18.781386Z",
     "iopub.status.idle": "2022-11-22T07:55:18.791773Z",
     "shell.execute_reply": "2022-11-22T07:55:18.790806Z",
     "shell.execute_reply.started": "2022-11-22T07:55:18.781736Z"
    }
   },
   "outputs": [
    {
     "data": {
      "text/plain": [
       "((595212, 58), (892816, 57))"
      ]
     },
     "execution_count": 3,
     "metadata": {},
     "output_type": "execute_result"
    }
   ],
   "source": [
    "train.shape, test.shape"
   ]
  },
  {
   "cell_type": "code",
   "execution_count": 4,
   "metadata": {
    "execution": {
     "iopub.execute_input": "2022-11-22T07:55:18.795405Z",
     "iopub.status.busy": "2022-11-22T07:55:18.794851Z",
     "iopub.status.idle": "2022-11-22T07:55:18.816218Z",
     "shell.execute_reply": "2022-11-22T07:55:18.815345Z",
     "shell.execute_reply.started": "2022-11-22T07:55:18.795235Z"
    }
   },
   "outputs": [
    {
     "data": {
      "text/html": [
       "<div>\n",
       "<style scoped>\n",
       "    .dataframe tbody tr th:only-of-type {\n",
       "        vertical-align: middle;\n",
       "    }\n",
       "\n",
       "    .dataframe tbody tr th {\n",
       "        vertical-align: top;\n",
       "    }\n",
       "\n",
       "    .dataframe thead th {\n",
       "        text-align: right;\n",
       "    }\n",
       "</style>\n",
       "<table border=\"1\" class=\"dataframe\">\n",
       "  <thead>\n",
       "    <tr style=\"text-align: right;\">\n",
       "      <th></th>\n",
       "      <th>target</th>\n",
       "      <th>ps_ind_01</th>\n",
       "      <th>ps_ind_02_cat</th>\n",
       "      <th>ps_ind_03</th>\n",
       "      <th>ps_ind_04_cat</th>\n",
       "      <th>ps_ind_05_cat</th>\n",
       "      <th>ps_ind_06_bin</th>\n",
       "      <th>ps_ind_07_bin</th>\n",
       "      <th>ps_ind_08_bin</th>\n",
       "      <th>ps_ind_09_bin</th>\n",
       "      <th>...</th>\n",
       "      <th>ps_calc_11</th>\n",
       "      <th>ps_calc_12</th>\n",
       "      <th>ps_calc_13</th>\n",
       "      <th>ps_calc_14</th>\n",
       "      <th>ps_calc_15_bin</th>\n",
       "      <th>ps_calc_16_bin</th>\n",
       "      <th>ps_calc_17_bin</th>\n",
       "      <th>ps_calc_18_bin</th>\n",
       "      <th>ps_calc_19_bin</th>\n",
       "      <th>ps_calc_20_bin</th>\n",
       "    </tr>\n",
       "    <tr>\n",
       "      <th>id</th>\n",
       "      <th></th>\n",
       "      <th></th>\n",
       "      <th></th>\n",
       "      <th></th>\n",
       "      <th></th>\n",
       "      <th></th>\n",
       "      <th></th>\n",
       "      <th></th>\n",
       "      <th></th>\n",
       "      <th></th>\n",
       "      <th></th>\n",
       "      <th></th>\n",
       "      <th></th>\n",
       "      <th></th>\n",
       "      <th></th>\n",
       "      <th></th>\n",
       "      <th></th>\n",
       "      <th></th>\n",
       "      <th></th>\n",
       "      <th></th>\n",
       "      <th></th>\n",
       "    </tr>\n",
       "  </thead>\n",
       "  <tbody>\n",
       "    <tr>\n",
       "      <th>7</th>\n",
       "      <td>0</td>\n",
       "      <td>2</td>\n",
       "      <td>2</td>\n",
       "      <td>5</td>\n",
       "      <td>1</td>\n",
       "      <td>0</td>\n",
       "      <td>0</td>\n",
       "      <td>1</td>\n",
       "      <td>0</td>\n",
       "      <td>0</td>\n",
       "      <td>...</td>\n",
       "      <td>9</td>\n",
       "      <td>1</td>\n",
       "      <td>5</td>\n",
       "      <td>8</td>\n",
       "      <td>0</td>\n",
       "      <td>1</td>\n",
       "      <td>1</td>\n",
       "      <td>0</td>\n",
       "      <td>0</td>\n",
       "      <td>1</td>\n",
       "    </tr>\n",
       "    <tr>\n",
       "      <th>9</th>\n",
       "      <td>0</td>\n",
       "      <td>1</td>\n",
       "      <td>1</td>\n",
       "      <td>7</td>\n",
       "      <td>0</td>\n",
       "      <td>0</td>\n",
       "      <td>0</td>\n",
       "      <td>0</td>\n",
       "      <td>1</td>\n",
       "      <td>0</td>\n",
       "      <td>...</td>\n",
       "      <td>3</td>\n",
       "      <td>1</td>\n",
       "      <td>1</td>\n",
       "      <td>9</td>\n",
       "      <td>0</td>\n",
       "      <td>1</td>\n",
       "      <td>1</td>\n",
       "      <td>0</td>\n",
       "      <td>1</td>\n",
       "      <td>0</td>\n",
       "    </tr>\n",
       "    <tr>\n",
       "      <th>13</th>\n",
       "      <td>0</td>\n",
       "      <td>5</td>\n",
       "      <td>4</td>\n",
       "      <td>9</td>\n",
       "      <td>1</td>\n",
       "      <td>0</td>\n",
       "      <td>0</td>\n",
       "      <td>0</td>\n",
       "      <td>1</td>\n",
       "      <td>0</td>\n",
       "      <td>...</td>\n",
       "      <td>4</td>\n",
       "      <td>2</td>\n",
       "      <td>7</td>\n",
       "      <td>7</td>\n",
       "      <td>0</td>\n",
       "      <td>1</td>\n",
       "      <td>1</td>\n",
       "      <td>0</td>\n",
       "      <td>1</td>\n",
       "      <td>0</td>\n",
       "    </tr>\n",
       "    <tr>\n",
       "      <th>16</th>\n",
       "      <td>0</td>\n",
       "      <td>0</td>\n",
       "      <td>1</td>\n",
       "      <td>2</td>\n",
       "      <td>0</td>\n",
       "      <td>0</td>\n",
       "      <td>1</td>\n",
       "      <td>0</td>\n",
       "      <td>0</td>\n",
       "      <td>0</td>\n",
       "      <td>...</td>\n",
       "      <td>2</td>\n",
       "      <td>2</td>\n",
       "      <td>4</td>\n",
       "      <td>9</td>\n",
       "      <td>0</td>\n",
       "      <td>0</td>\n",
       "      <td>0</td>\n",
       "      <td>0</td>\n",
       "      <td>0</td>\n",
       "      <td>0</td>\n",
       "    </tr>\n",
       "    <tr>\n",
       "      <th>17</th>\n",
       "      <td>0</td>\n",
       "      <td>0</td>\n",
       "      <td>2</td>\n",
       "      <td>0</td>\n",
       "      <td>1</td>\n",
       "      <td>0</td>\n",
       "      <td>1</td>\n",
       "      <td>0</td>\n",
       "      <td>0</td>\n",
       "      <td>0</td>\n",
       "      <td>...</td>\n",
       "      <td>3</td>\n",
       "      <td>1</td>\n",
       "      <td>1</td>\n",
       "      <td>3</td>\n",
       "      <td>0</td>\n",
       "      <td>0</td>\n",
       "      <td>0</td>\n",
       "      <td>1</td>\n",
       "      <td>1</td>\n",
       "      <td>0</td>\n",
       "    </tr>\n",
       "  </tbody>\n",
       "</table>\n",
       "<p>5 rows × 58 columns</p>\n",
       "</div>"
      ],
      "text/plain": [
       "    target  ps_ind_01  ps_ind_02_cat  ps_ind_03  ps_ind_04_cat  ps_ind_05_cat  \\\n",
       "id                                                                              \n",
       "7        0          2              2          5              1              0   \n",
       "9        0          1              1          7              0              0   \n",
       "13       0          5              4          9              1              0   \n",
       "16       0          0              1          2              0              0   \n",
       "17       0          0              2          0              1              0   \n",
       "\n",
       "    ps_ind_06_bin  ps_ind_07_bin  ps_ind_08_bin  ps_ind_09_bin  ...  \\\n",
       "id                                                              ...   \n",
       "7               0              1              0              0  ...   \n",
       "9               0              0              1              0  ...   \n",
       "13              0              0              1              0  ...   \n",
       "16              1              0              0              0  ...   \n",
       "17              1              0              0              0  ...   \n",
       "\n",
       "    ps_calc_11  ps_calc_12  ps_calc_13  ps_calc_14  ps_calc_15_bin  \\\n",
       "id                                                                   \n",
       "7            9           1           5           8               0   \n",
       "9            3           1           1           9               0   \n",
       "13           4           2           7           7               0   \n",
       "16           2           2           4           9               0   \n",
       "17           3           1           1           3               0   \n",
       "\n",
       "    ps_calc_16_bin  ps_calc_17_bin  ps_calc_18_bin  ps_calc_19_bin  \\\n",
       "id                                                                   \n",
       "7                1               1               0               0   \n",
       "9                1               1               0               1   \n",
       "13               1               1               0               1   \n",
       "16               0               0               0               0   \n",
       "17               0               0               1               1   \n",
       "\n",
       "    ps_calc_20_bin  \n",
       "id                  \n",
       "7                1  \n",
       "9                0  \n",
       "13               0  \n",
       "16               0  \n",
       "17               0  \n",
       "\n",
       "[5 rows x 58 columns]"
      ]
     },
     "execution_count": 4,
     "metadata": {},
     "output_type": "execute_result"
    }
   ],
   "source": [
    "train.head()"
   ]
  },
  {
   "cell_type": "code",
   "execution_count": 5,
   "metadata": {
    "execution": {
     "iopub.execute_input": "2022-11-22T07:55:18.817852Z",
     "iopub.status.busy": "2022-11-22T07:55:18.817543Z",
     "iopub.status.idle": "2022-11-22T07:55:18.833391Z",
     "shell.execute_reply": "2022-11-22T07:55:18.832381Z",
     "shell.execute_reply.started": "2022-11-22T07:55:18.817820Z"
    }
   },
   "outputs": [
    {
     "data": {
      "text/html": [
       "<div>\n",
       "<style scoped>\n",
       "    .dataframe tbody tr th:only-of-type {\n",
       "        vertical-align: middle;\n",
       "    }\n",
       "\n",
       "    .dataframe tbody tr th {\n",
       "        vertical-align: top;\n",
       "    }\n",
       "\n",
       "    .dataframe thead th {\n",
       "        text-align: right;\n",
       "    }\n",
       "</style>\n",
       "<table border=\"1\" class=\"dataframe\">\n",
       "  <thead>\n",
       "    <tr style=\"text-align: right;\">\n",
       "      <th></th>\n",
       "      <th>ps_ind_01</th>\n",
       "      <th>ps_ind_02_cat</th>\n",
       "      <th>ps_ind_03</th>\n",
       "      <th>ps_ind_04_cat</th>\n",
       "      <th>ps_ind_05_cat</th>\n",
       "      <th>ps_ind_06_bin</th>\n",
       "      <th>ps_ind_07_bin</th>\n",
       "      <th>ps_ind_08_bin</th>\n",
       "      <th>ps_ind_09_bin</th>\n",
       "      <th>ps_ind_10_bin</th>\n",
       "      <th>...</th>\n",
       "      <th>ps_calc_11</th>\n",
       "      <th>ps_calc_12</th>\n",
       "      <th>ps_calc_13</th>\n",
       "      <th>ps_calc_14</th>\n",
       "      <th>ps_calc_15_bin</th>\n",
       "      <th>ps_calc_16_bin</th>\n",
       "      <th>ps_calc_17_bin</th>\n",
       "      <th>ps_calc_18_bin</th>\n",
       "      <th>ps_calc_19_bin</th>\n",
       "      <th>ps_calc_20_bin</th>\n",
       "    </tr>\n",
       "    <tr>\n",
       "      <th>id</th>\n",
       "      <th></th>\n",
       "      <th></th>\n",
       "      <th></th>\n",
       "      <th></th>\n",
       "      <th></th>\n",
       "      <th></th>\n",
       "      <th></th>\n",
       "      <th></th>\n",
       "      <th></th>\n",
       "      <th></th>\n",
       "      <th></th>\n",
       "      <th></th>\n",
       "      <th></th>\n",
       "      <th></th>\n",
       "      <th></th>\n",
       "      <th></th>\n",
       "      <th></th>\n",
       "      <th></th>\n",
       "      <th></th>\n",
       "      <th></th>\n",
       "      <th></th>\n",
       "    </tr>\n",
       "  </thead>\n",
       "  <tbody>\n",
       "    <tr>\n",
       "      <th>0</th>\n",
       "      <td>0</td>\n",
       "      <td>1</td>\n",
       "      <td>8</td>\n",
       "      <td>1</td>\n",
       "      <td>0</td>\n",
       "      <td>0</td>\n",
       "      <td>1</td>\n",
       "      <td>0</td>\n",
       "      <td>0</td>\n",
       "      <td>0</td>\n",
       "      <td>...</td>\n",
       "      <td>1</td>\n",
       "      <td>1</td>\n",
       "      <td>1</td>\n",
       "      <td>12</td>\n",
       "      <td>0</td>\n",
       "      <td>1</td>\n",
       "      <td>1</td>\n",
       "      <td>0</td>\n",
       "      <td>0</td>\n",
       "      <td>1</td>\n",
       "    </tr>\n",
       "    <tr>\n",
       "      <th>1</th>\n",
       "      <td>4</td>\n",
       "      <td>2</td>\n",
       "      <td>5</td>\n",
       "      <td>1</td>\n",
       "      <td>0</td>\n",
       "      <td>0</td>\n",
       "      <td>0</td>\n",
       "      <td>0</td>\n",
       "      <td>1</td>\n",
       "      <td>0</td>\n",
       "      <td>...</td>\n",
       "      <td>2</td>\n",
       "      <td>0</td>\n",
       "      <td>3</td>\n",
       "      <td>10</td>\n",
       "      <td>0</td>\n",
       "      <td>0</td>\n",
       "      <td>1</td>\n",
       "      <td>1</td>\n",
       "      <td>0</td>\n",
       "      <td>1</td>\n",
       "    </tr>\n",
       "    <tr>\n",
       "      <th>2</th>\n",
       "      <td>5</td>\n",
       "      <td>1</td>\n",
       "      <td>3</td>\n",
       "      <td>0</td>\n",
       "      <td>0</td>\n",
       "      <td>0</td>\n",
       "      <td>0</td>\n",
       "      <td>0</td>\n",
       "      <td>1</td>\n",
       "      <td>0</td>\n",
       "      <td>...</td>\n",
       "      <td>4</td>\n",
       "      <td>0</td>\n",
       "      <td>2</td>\n",
       "      <td>4</td>\n",
       "      <td>0</td>\n",
       "      <td>0</td>\n",
       "      <td>0</td>\n",
       "      <td>0</td>\n",
       "      <td>0</td>\n",
       "      <td>0</td>\n",
       "    </tr>\n",
       "    <tr>\n",
       "      <th>3</th>\n",
       "      <td>0</td>\n",
       "      <td>1</td>\n",
       "      <td>6</td>\n",
       "      <td>0</td>\n",
       "      <td>0</td>\n",
       "      <td>1</td>\n",
       "      <td>0</td>\n",
       "      <td>0</td>\n",
       "      <td>0</td>\n",
       "      <td>0</td>\n",
       "      <td>...</td>\n",
       "      <td>5</td>\n",
       "      <td>1</td>\n",
       "      <td>0</td>\n",
       "      <td>5</td>\n",
       "      <td>1</td>\n",
       "      <td>0</td>\n",
       "      <td>1</td>\n",
       "      <td>0</td>\n",
       "      <td>0</td>\n",
       "      <td>0</td>\n",
       "    </tr>\n",
       "    <tr>\n",
       "      <th>4</th>\n",
       "      <td>5</td>\n",
       "      <td>1</td>\n",
       "      <td>7</td>\n",
       "      <td>0</td>\n",
       "      <td>0</td>\n",
       "      <td>0</td>\n",
       "      <td>0</td>\n",
       "      <td>0</td>\n",
       "      <td>1</td>\n",
       "      <td>0</td>\n",
       "      <td>...</td>\n",
       "      <td>4</td>\n",
       "      <td>0</td>\n",
       "      <td>0</td>\n",
       "      <td>4</td>\n",
       "      <td>0</td>\n",
       "      <td>1</td>\n",
       "      <td>1</td>\n",
       "      <td>0</td>\n",
       "      <td>0</td>\n",
       "      <td>1</td>\n",
       "    </tr>\n",
       "  </tbody>\n",
       "</table>\n",
       "<p>5 rows × 57 columns</p>\n",
       "</div>"
      ],
      "text/plain": [
       "    ps_ind_01  ps_ind_02_cat  ps_ind_03  ps_ind_04_cat  ps_ind_05_cat  \\\n",
       "id                                                                      \n",
       "0           0              1          8              1              0   \n",
       "1           4              2          5              1              0   \n",
       "2           5              1          3              0              0   \n",
       "3           0              1          6              0              0   \n",
       "4           5              1          7              0              0   \n",
       "\n",
       "    ps_ind_06_bin  ps_ind_07_bin  ps_ind_08_bin  ps_ind_09_bin  ps_ind_10_bin  \\\n",
       "id                                                                              \n",
       "0               0              1              0              0              0   \n",
       "1               0              0              0              1              0   \n",
       "2               0              0              0              1              0   \n",
       "3               1              0              0              0              0   \n",
       "4               0              0              0              1              0   \n",
       "\n",
       "    ...  ps_calc_11  ps_calc_12  ps_calc_13  ps_calc_14  ps_calc_15_bin  \\\n",
       "id  ...                                                                   \n",
       "0   ...           1           1           1          12               0   \n",
       "1   ...           2           0           3          10               0   \n",
       "2   ...           4           0           2           4               0   \n",
       "3   ...           5           1           0           5               1   \n",
       "4   ...           4           0           0           4               0   \n",
       "\n",
       "    ps_calc_16_bin  ps_calc_17_bin  ps_calc_18_bin  ps_calc_19_bin  \\\n",
       "id                                                                   \n",
       "0                1               1               0               0   \n",
       "1                0               1               1               0   \n",
       "2                0               0               0               0   \n",
       "3                0               1               0               0   \n",
       "4                1               1               0               0   \n",
       "\n",
       "    ps_calc_20_bin  \n",
       "id                  \n",
       "0                1  \n",
       "1                1  \n",
       "2                0  \n",
       "3                0  \n",
       "4                1  \n",
       "\n",
       "[5 rows x 57 columns]"
      ]
     },
     "execution_count": 5,
     "metadata": {},
     "output_type": "execute_result"
    }
   ],
   "source": [
    "test.head()"
   ]
  },
  {
   "cell_type": "code",
   "execution_count": 6,
   "metadata": {
    "execution": {
     "iopub.execute_input": "2022-11-22T07:55:18.835585Z",
     "iopub.status.busy": "2022-11-22T07:55:18.834948Z",
     "iopub.status.idle": "2022-11-22T07:55:18.846343Z",
     "shell.execute_reply": "2022-11-22T07:55:18.845240Z",
     "shell.execute_reply.started": "2022-11-22T07:55:18.835551Z"
    }
   },
   "outputs": [
    {
     "data": {
      "text/html": [
       "<div>\n",
       "<style scoped>\n",
       "    .dataframe tbody tr th:only-of-type {\n",
       "        vertical-align: middle;\n",
       "    }\n",
       "\n",
       "    .dataframe tbody tr th {\n",
       "        vertical-align: top;\n",
       "    }\n",
       "\n",
       "    .dataframe thead th {\n",
       "        text-align: right;\n",
       "    }\n",
       "</style>\n",
       "<table border=\"1\" class=\"dataframe\">\n",
       "  <thead>\n",
       "    <tr style=\"text-align: right;\">\n",
       "      <th></th>\n",
       "      <th>target</th>\n",
       "    </tr>\n",
       "    <tr>\n",
       "      <th>id</th>\n",
       "      <th></th>\n",
       "    </tr>\n",
       "  </thead>\n",
       "  <tbody>\n",
       "    <tr>\n",
       "      <th>0</th>\n",
       "      <td>0.0364</td>\n",
       "    </tr>\n",
       "    <tr>\n",
       "      <th>1</th>\n",
       "      <td>0.0364</td>\n",
       "    </tr>\n",
       "    <tr>\n",
       "      <th>2</th>\n",
       "      <td>0.0364</td>\n",
       "    </tr>\n",
       "    <tr>\n",
       "      <th>3</th>\n",
       "      <td>0.0364</td>\n",
       "    </tr>\n",
       "    <tr>\n",
       "      <th>4</th>\n",
       "      <td>0.0364</td>\n",
       "    </tr>\n",
       "  </tbody>\n",
       "</table>\n",
       "</div>"
      ],
      "text/plain": [
       "    target\n",
       "id        \n",
       "0   0.0364\n",
       "1   0.0364\n",
       "2   0.0364\n",
       "3   0.0364\n",
       "4   0.0364"
      ]
     },
     "execution_count": 6,
     "metadata": {},
     "output_type": "execute_result"
    }
   ],
   "source": [
    "submission.head()"
   ]
  },
  {
   "cell_type": "code",
   "execution_count": 7,
   "metadata": {
    "execution": {
     "iopub.execute_input": "2022-11-22T07:55:18.848499Z",
     "iopub.status.busy": "2022-11-22T07:55:18.848114Z",
     "iopub.status.idle": "2022-11-22T07:55:18.923652Z",
     "shell.execute_reply": "2022-11-22T07:55:18.922607Z",
     "shell.execute_reply.started": "2022-11-22T07:55:18.848466Z"
    }
   },
   "outputs": [
    {
     "name": "stdout",
     "output_type": "stream",
     "text": [
      "<class 'pandas.core.frame.DataFrame'>\n",
      "Int64Index: 595212 entries, 7 to 1488027\n",
      "Data columns (total 58 columns):\n",
      " #   Column          Non-Null Count   Dtype  \n",
      "---  ------          --------------   -----  \n",
      " 0   target          595212 non-null  int64  \n",
      " 1   ps_ind_01       595212 non-null  int64  \n",
      " 2   ps_ind_02_cat   595212 non-null  int64  \n",
      " 3   ps_ind_03       595212 non-null  int64  \n",
      " 4   ps_ind_04_cat   595212 non-null  int64  \n",
      " 5   ps_ind_05_cat   595212 non-null  int64  \n",
      " 6   ps_ind_06_bin   595212 non-null  int64  \n",
      " 7   ps_ind_07_bin   595212 non-null  int64  \n",
      " 8   ps_ind_08_bin   595212 non-null  int64  \n",
      " 9   ps_ind_09_bin   595212 non-null  int64  \n",
      " 10  ps_ind_10_bin   595212 non-null  int64  \n",
      " 11  ps_ind_11_bin   595212 non-null  int64  \n",
      " 12  ps_ind_12_bin   595212 non-null  int64  \n",
      " 13  ps_ind_13_bin   595212 non-null  int64  \n",
      " 14  ps_ind_14       595212 non-null  int64  \n",
      " 15  ps_ind_15       595212 non-null  int64  \n",
      " 16  ps_ind_16_bin   595212 non-null  int64  \n",
      " 17  ps_ind_17_bin   595212 non-null  int64  \n",
      " 18  ps_ind_18_bin   595212 non-null  int64  \n",
      " 19  ps_reg_01       595212 non-null  float64\n",
      " 20  ps_reg_02       595212 non-null  float64\n",
      " 21  ps_reg_03       595212 non-null  float64\n",
      " 22  ps_car_01_cat   595212 non-null  int64  \n",
      " 23  ps_car_02_cat   595212 non-null  int64  \n",
      " 24  ps_car_03_cat   595212 non-null  int64  \n",
      " 25  ps_car_04_cat   595212 non-null  int64  \n",
      " 26  ps_car_05_cat   595212 non-null  int64  \n",
      " 27  ps_car_06_cat   595212 non-null  int64  \n",
      " 28  ps_car_07_cat   595212 non-null  int64  \n",
      " 29  ps_car_08_cat   595212 non-null  int64  \n",
      " 30  ps_car_09_cat   595212 non-null  int64  \n",
      " 31  ps_car_10_cat   595212 non-null  int64  \n",
      " 32  ps_car_11_cat   595212 non-null  int64  \n",
      " 33  ps_car_11       595212 non-null  int64  \n",
      " 34  ps_car_12       595212 non-null  float64\n",
      " 35  ps_car_13       595212 non-null  float64\n",
      " 36  ps_car_14       595212 non-null  float64\n",
      " 37  ps_car_15       595212 non-null  float64\n",
      " 38  ps_calc_01      595212 non-null  float64\n",
      " 39  ps_calc_02      595212 non-null  float64\n",
      " 40  ps_calc_03      595212 non-null  float64\n",
      " 41  ps_calc_04      595212 non-null  int64  \n",
      " 42  ps_calc_05      595212 non-null  int64  \n",
      " 43  ps_calc_06      595212 non-null  int64  \n",
      " 44  ps_calc_07      595212 non-null  int64  \n",
      " 45  ps_calc_08      595212 non-null  int64  \n",
      " 46  ps_calc_09      595212 non-null  int64  \n",
      " 47  ps_calc_10      595212 non-null  int64  \n",
      " 48  ps_calc_11      595212 non-null  int64  \n",
      " 49  ps_calc_12      595212 non-null  int64  \n",
      " 50  ps_calc_13      595212 non-null  int64  \n",
      " 51  ps_calc_14      595212 non-null  int64  \n",
      " 52  ps_calc_15_bin  595212 non-null  int64  \n",
      " 53  ps_calc_16_bin  595212 non-null  int64  \n",
      " 54  ps_calc_17_bin  595212 non-null  int64  \n",
      " 55  ps_calc_18_bin  595212 non-null  int64  \n",
      " 56  ps_calc_19_bin  595212 non-null  int64  \n",
      " 57  ps_calc_20_bin  595212 non-null  int64  \n",
      "dtypes: float64(10), int64(48)\n",
      "memory usage: 267.9 MB\n"
     ]
    }
   ],
   "source": [
    "train.info()"
   ]
  },
  {
   "cell_type": "code",
   "execution_count": 8,
   "metadata": {
    "execution": {
     "iopub.execute_input": "2022-11-22T07:55:18.925713Z",
     "iopub.status.busy": "2022-11-22T07:55:18.925067Z",
     "iopub.status.idle": "2022-11-22T07:55:23.081921Z",
     "shell.execute_reply": "2022-11-22T07:55:23.081002Z",
     "shell.execute_reply.started": "2022-11-22T07:55:18.925675Z"
    }
   },
   "outputs": [
    {
     "data": {
      "image/png": "[encoded data removed]",
      "text/plain": [
       "<Figure size 936x432 with 3 Axes>"
      ]
     },
     "metadata": {
      "needs_background": "light"
     },
     "output_type": "display_data"
    }
   ],
   "source": [
    "import numpy as np\n",
    "import missingno as msno\n",
    "\n",
    "# 훈련 데이터 복사본에서 -1을 np.NaN로 변환\n",
    "train_copy = train.copy().replace(-1, np.NaN)\n",
    "\n",
    "# 결측값 시각화(처음 28개만)\n",
    "msno.bar(df=train_copy.iloc[:, 1:29], figsize=(13, 6));"
   ]
  },
  {
   "cell_type": "code",
   "execution_count": 9,
   "metadata": {
    "execution": {
     "iopub.execute_input": "2022-11-22T07:55:23.084026Z",
     "iopub.status.busy": "2022-11-22T07:55:23.083442Z",
     "iopub.status.idle": "2022-11-22T07:55:26.674995Z",
     "shell.execute_reply": "2022-11-22T07:55:26.673925Z",
     "shell.execute_reply.started": "2022-11-22T07:55:23.083979Z"
    }
   },
   "outputs": [
    {
     "data": {
      "image/png": "[encoded data removed]",
      "text/plain": [
       "<Figure size 936x432 with 3 Axes>"
      ]
     },
     "metadata": {
      "needs_background": "light"
     },
     "output_type": "display_data"
    }
   ],
   "source": [
    "msno.bar(df=train_copy.iloc[:, 29:], figsize=(13, 6));"
   ]
  },
  {
   "cell_type": "code",
   "execution_count": 10,
   "metadata": {
    "execution": {
     "iopub.execute_input": "2022-11-22T07:55:26.680390Z",
     "iopub.status.busy": "2022-11-22T07:55:26.679787Z",
     "iopub.status.idle": "2022-11-22T07:55:34.857781Z",
     "shell.execute_reply": "2022-11-22T07:55:34.856875Z",
     "shell.execute_reply.started": "2022-11-22T07:55:26.680353Z"
    }
   },
   "outputs": [
    {
     "data": {
      "image/png": "[encoded data removed]",
      "text/plain": [
       "<Figure size 936x432 with 2 Axes>"
      ]
     },
     "metadata": {
      "needs_background": "light"
     },
     "output_type": "display_data"
    }
   ],
   "source": [
    "msno.matrix(df=train_copy.iloc[:, 1:29], figsize=(13, 6));"
   ]
  },
  {
   "cell_type": "code",
   "execution_count": 11,
   "metadata": {
    "execution": {
     "iopub.execute_input": "2022-11-22T07:55:34.859600Z",
     "iopub.status.busy": "2022-11-22T07:55:34.859142Z",
     "iopub.status.idle": "2022-11-22T07:55:34.868497Z",
     "shell.execute_reply": "2022-11-22T07:55:34.867409Z",
     "shell.execute_reply.started": "2022-11-22T07:55:34.859564Z"
    }
   },
   "outputs": [],
   "source": [
    "def resumetable(df):\n",
    "    print(f'데이터 세트 형상: {df.shape}')\n",
    "    summary = pd.DataFrame(df.dtypes, columns=['데이터 타입'])\n",
    "    summary['결측값 개수'] = (df == -1).sum().values # 피처별 -1 개수\n",
    "    summary['고윳값 개수'] = df.nunique().values\n",
    "    summary['데이터 종류'] = None\n",
    "    for col in df.columns:\n",
    "        if 'bin' in col or col == 'target':\n",
    "            summary.loc[col, '데이터 종류'] = '이진형'\n",
    "        elif 'cat' in col:\n",
    "            summary.loc[col, '데이터 종류'] = '명목형'\n",
    "        elif df[col].dtype == float:\n",
    "            summary.loc[col, '데이터 종류'] = '연속형'\n",
    "        elif df[col].dtype == int:\n",
    "            summary.loc[col, '데이터 종류'] = '순서형'\n",
    "\n",
    "    return summary"
   ]
  },
  {
   "cell_type": "code",
   "execution_count": 12,
   "metadata": {
    "execution": {
     "iopub.execute_input": "2022-11-22T07:55:34.870509Z",
     "iopub.status.busy": "2022-11-22T07:55:34.869882Z",
     "iopub.status.idle": "2022-11-22T07:55:35.182418Z",
     "shell.execute_reply": "2022-11-22T07:55:35.181499Z",
     "shell.execute_reply.started": "2022-11-22T07:55:34.870473Z"
    }
   },
   "outputs": [
    {
     "name": "stdout",
     "output_type": "stream",
     "text": [
      "데이터 세트 형상: (595212, 58)\n"
     ]
    },
    {
     "data": {
      "text/html": [
       "<div>\n",
       "<style scoped>\n",
       "    .dataframe tbody tr th:only-of-type {\n",
       "        vertical-align: middle;\n",
       "    }\n",
       "\n",
       "    .dataframe tbody tr th {\n",
       "        vertical-align: top;\n",
       "    }\n",
       "\n",
       "    .dataframe thead th {\n",
       "        text-align: right;\n",
       "    }\n",
       "</style>\n",
       "<table border=\"1\" class=\"dataframe\">\n",
       "  <thead>\n",
       "    <tr style=\"text-align: right;\">\n",
       "      <th></th>\n",
       "      <th>데이터 타입</th>\n",
       "      <th>결측값 개수</th>\n",
       "      <th>고윳값 개수</th>\n",
       "      <th>데이터 종류</th>\n",
       "    </tr>\n",
       "  </thead>\n",
       "  <tbody>\n",
       "    <tr>\n",
       "      <th>target</th>\n",
       "      <td>int64</td>\n",
       "      <td>0</td>\n",
       "      <td>2</td>\n",
       "      <td>이진형</td>\n",
       "    </tr>\n",
       "    <tr>\n",
       "      <th>ps_ind_01</th>\n",
       "      <td>int64</td>\n",
       "      <td>0</td>\n",
       "      <td>8</td>\n",
       "      <td>순서형</td>\n",
       "    </tr>\n",
       "    <tr>\n",
       "      <th>ps_ind_02_cat</th>\n",
       "      <td>int64</td>\n",
       "      <td>216</td>\n",
       "      <td>5</td>\n",
       "      <td>명목형</td>\n",
       "    </tr>\n",
       "    <tr>\n",
       "      <th>ps_ind_03</th>\n",
       "      <td>int64</td>\n",
       "      <td>0</td>\n",
       "      <td>12</td>\n",
       "      <td>순서형</td>\n",
       "    </tr>\n",
       "    <tr>\n",
       "      <th>ps_ind_04_cat</th>\n",
       "      <td>int64</td>\n",
       "      <td>83</td>\n",
       "      <td>3</td>\n",
       "      <td>명목형</td>\n",
       "    </tr>\n",
       "    <tr>\n",
       "      <th>ps_ind_05_cat</th>\n",
       "      <td>int64</td>\n",
       "      <td>5809</td>\n",
       "      <td>8</td>\n",
       "      <td>명목형</td>\n",
       "    </tr>\n",
       "    <tr>\n",
       "      <th>ps_ind_06_bin</th>\n",
       "      <td>int64</td>\n",
       "      <td>0</td>\n",
       "      <td>2</td>\n",
       "      <td>이진형</td>\n",
       "    </tr>\n",
       "    <tr>\n",
       "      <th>ps_ind_07_bin</th>\n",
       "      <td>int64</td>\n",
       "      <td>0</td>\n",
       "      <td>2</td>\n",
       "      <td>이진형</td>\n",
       "    </tr>\n",
       "    <tr>\n",
       "      <th>ps_ind_08_bin</th>\n",
       "      <td>int64</td>\n",
       "      <td>0</td>\n",
       "      <td>2</td>\n",
       "      <td>이진형</td>\n",
       "    </tr>\n",
       "    <tr>\n",
       "      <th>ps_ind_09_bin</th>\n",
       "      <td>int64</td>\n",
       "      <td>0</td>\n",
       "      <td>2</td>\n",
       "      <td>이진형</td>\n",
       "    </tr>\n",
       "    <tr>\n",
       "      <th>ps_ind_10_bin</th>\n",
       "      <td>int64</td>\n",
       "      <td>0</td>\n",
       "      <td>2</td>\n",
       "      <td>이진형</td>\n",
       "    </tr>\n",
       "    <tr>\n",
       "      <th>ps_ind_11_bin</th>\n",
       "      <td>int64</td>\n",
       "      <td>0</td>\n",
       "      <td>2</td>\n",
       "      <td>이진형</td>\n",
       "    </tr>\n",
       "    <tr>\n",
       "      <th>ps_ind_12_bin</th>\n",
       "      <td>int64</td>\n",
       "      <td>0</td>\n",
       "      <td>2</td>\n",
       "      <td>이진형</td>\n",
       "    </tr>\n",
       "    <tr>\n",
       "      <th>ps_ind_13_bin</th>\n",
       "      <td>int64</td>\n",
       "      <td>0</td>\n",
       "      <td>2</td>\n",
       "      <td>이진형</td>\n",
       "    </tr>\n",
       "    <tr>\n",
       "      <th>ps_ind_14</th>\n",
       "      <td>int64</td>\n",
       "      <td>0</td>\n",
       "      <td>5</td>\n",
       "      <td>순서형</td>\n",
       "    </tr>\n",
       "    <tr>\n",
       "      <th>ps_ind_15</th>\n",
       "      <td>int64</td>\n",
       "      <td>0</td>\n",
       "      <td>14</td>\n",
       "      <td>순서형</td>\n",
       "    </tr>\n",
       "    <tr>\n",
       "      <th>ps_ind_16_bin</th>\n",
       "      <td>int64</td>\n",
       "      <td>0</td>\n",
       "      <td>2</td>\n",
       "      <td>이진형</td>\n",
       "    </tr>\n",
       "    <tr>\n",
       "      <th>ps_ind_17_bin</th>\n",
       "      <td>int64</td>\n",
       "      <td>0</td>\n",
       "      <td>2</td>\n",
       "      <td>이진형</td>\n",
       "    </tr>\n",
       "    <tr>\n",
       "      <th>ps_ind_18_bin</th>\n",
       "      <td>int64</td>\n",
       "      <td>0</td>\n",
       "      <td>2</td>\n",
       "      <td>이진형</td>\n",
       "    </tr>\n",
       "    <tr>\n",
       "      <th>ps_reg_01</th>\n",
       "      <td>float64</td>\n",
       "      <td>0</td>\n",
       "      <td>10</td>\n",
       "      <td>연속형</td>\n",
       "    </tr>\n",
       "    <tr>\n",
       "      <th>ps_reg_02</th>\n",
       "      <td>float64</td>\n",
       "      <td>0</td>\n",
       "      <td>19</td>\n",
       "      <td>연속형</td>\n",
       "    </tr>\n",
       "    <tr>\n",
       "      <th>ps_reg_03</th>\n",
       "      <td>float64</td>\n",
       "      <td>107772</td>\n",
       "      <td>5013</td>\n",
       "      <td>연속형</td>\n",
       "    </tr>\n",
       "    <tr>\n",
       "      <th>ps_car_01_cat</th>\n",
       "      <td>int64</td>\n",
       "      <td>107</td>\n",
       "      <td>13</td>\n",
       "      <td>명목형</td>\n",
       "    </tr>\n",
       "    <tr>\n",
       "      <th>ps_car_02_cat</th>\n",
       "      <td>int64</td>\n",
       "      <td>5</td>\n",
       "      <td>3</td>\n",
       "      <td>명목형</td>\n",
       "    </tr>\n",
       "    <tr>\n",
       "      <th>ps_car_03_cat</th>\n",
       "      <td>int64</td>\n",
       "      <td>411231</td>\n",
       "      <td>3</td>\n",
       "      <td>명목형</td>\n",
       "    </tr>\n",
       "    <tr>\n",
       "      <th>ps_car_04_cat</th>\n",
       "      <td>int64</td>\n",
       "      <td>0</td>\n",
       "      <td>10</td>\n",
       "      <td>명목형</td>\n",
       "    </tr>\n",
       "    <tr>\n",
       "      <th>ps_car_05_cat</th>\n",
       "      <td>int64</td>\n",
       "      <td>266551</td>\n",
       "      <td>3</td>\n",
       "      <td>명목형</td>\n",
       "    </tr>\n",
       "    <tr>\n",
       "      <th>ps_car_06_cat</th>\n",
       "      <td>int64</td>\n",
       "      <td>0</td>\n",
       "      <td>18</td>\n",
       "      <td>명목형</td>\n",
       "    </tr>\n",
       "    <tr>\n",
       "      <th>ps_car_07_cat</th>\n",
       "      <td>int64</td>\n",
       "      <td>11489</td>\n",
       "      <td>3</td>\n",
       "      <td>명목형</td>\n",
       "    </tr>\n",
       "    <tr>\n",
       "      <th>ps_car_08_cat</th>\n",
       "      <td>int64</td>\n",
       "      <td>0</td>\n",
       "      <td>2</td>\n",
       "      <td>명목형</td>\n",
       "    </tr>\n",
       "    <tr>\n",
       "      <th>ps_car_09_cat</th>\n",
       "      <td>int64</td>\n",
       "      <td>569</td>\n",
       "      <td>6</td>\n",
       "      <td>명목형</td>\n",
       "    </tr>\n",
       "    <tr>\n",
       "      <th>ps_car_10_cat</th>\n",
       "      <td>int64</td>\n",
       "      <td>0</td>\n",
       "      <td>3</td>\n",
       "      <td>명목형</td>\n",
       "    </tr>\n",
       "    <tr>\n",
       "      <th>ps_car_11_cat</th>\n",
       "      <td>int64</td>\n",
       "      <td>0</td>\n",
       "      <td>104</td>\n",
       "      <td>명목형</td>\n",
       "    </tr>\n",
       "    <tr>\n",
       "      <th>ps_car_11</th>\n",
       "      <td>int64</td>\n",
       "      <td>5</td>\n",
       "      <td>5</td>\n",
       "      <td>순서형</td>\n",
       "    </tr>\n",
       "    <tr>\n",
       "      <th>ps_car_12</th>\n",
       "      <td>float64</td>\n",
       "      <td>1</td>\n",
       "      <td>184</td>\n",
       "      <td>연속형</td>\n",
       "    </tr>\n",
       "    <tr>\n",
       "      <th>ps_car_13</th>\n",
       "      <td>float64</td>\n",
       "      <td>0</td>\n",
       "      <td>70482</td>\n",
       "      <td>연속형</td>\n",
       "    </tr>\n",
       "    <tr>\n",
       "      <th>ps_car_14</th>\n",
       "      <td>float64</td>\n",
       "      <td>42620</td>\n",
       "      <td>850</td>\n",
       "      <td>연속형</td>\n",
       "    </tr>\n",
       "    <tr>\n",
       "      <th>ps_car_15</th>\n",
       "      <td>float64</td>\n",
       "      <td>0</td>\n",
       "      <td>15</td>\n",
       "      <td>연속형</td>\n",
       "    </tr>\n",
       "    <tr>\n",
       "      <th>ps_calc_01</th>\n",
       "      <td>float64</td>\n",
       "      <td>0</td>\n",
       "      <td>10</td>\n",
       "      <td>연속형</td>\n",
       "    </tr>\n",
       "    <tr>\n",
       "      <th>ps_calc_02</th>\n",
       "      <td>float64</td>\n",
       "      <td>0</td>\n",
       "      <td>10</td>\n",
       "      <td>연속형</td>\n",
       "    </tr>\n",
       "    <tr>\n",
       "      <th>ps_calc_03</th>\n",
       "      <td>float64</td>\n",
       "      <td>0</td>\n",
       "      <td>10</td>\n",
       "      <td>연속형</td>\n",
       "    </tr>\n",
       "    <tr>\n",
       "      <th>ps_calc_04</th>\n",
       "      <td>int64</td>\n",
       "      <td>0</td>\n",
       "      <td>6</td>\n",
       "      <td>순서형</td>\n",
       "    </tr>\n",
       "    <tr>\n",
       "      <th>ps_calc_05</th>\n",
       "      <td>int64</td>\n",
       "      <td>0</td>\n",
       "      <td>7</td>\n",
       "      <td>순서형</td>\n",
       "    </tr>\n",
       "    <tr>\n",
       "      <th>ps_calc_06</th>\n",
       "      <td>int64</td>\n",
       "      <td>0</td>\n",
       "      <td>11</td>\n",
       "      <td>순서형</td>\n",
       "    </tr>\n",
       "    <tr>\n",
       "      <th>ps_calc_07</th>\n",
       "      <td>int64</td>\n",
       "      <td>0</td>\n",
       "      <td>10</td>\n",
       "      <td>순서형</td>\n",
       "    </tr>\n",
       "    <tr>\n",
       "      <th>ps_calc_08</th>\n",
       "      <td>int64</td>\n",
       "      <td>0</td>\n",
       "      <td>11</td>\n",
       "      <td>순서형</td>\n",
       "    </tr>\n",
       "    <tr>\n",
       "      <th>ps_calc_09</th>\n",
       "      <td>int64</td>\n",
       "      <td>0</td>\n",
       "      <td>8</td>\n",
       "      <td>순서형</td>\n",
       "    </tr>\n",
       "    <tr>\n",
       "      <th>ps_calc_10</th>\n",
       "      <td>int64</td>\n",
       "      <td>0</td>\n",
       "      <td>26</td>\n",
       "      <td>순서형</td>\n",
       "    </tr>\n",
       "    <tr>\n",
       "      <th>ps_calc_11</th>\n",
       "      <td>int64</td>\n",
       "      <td>0</td>\n",
       "      <td>20</td>\n",
       "      <td>순서형</td>\n",
       "    </tr>\n",
       "    <tr>\n",
       "      <th>ps_calc_12</th>\n",
       "      <td>int64</td>\n",
       "      <td>0</td>\n",
       "      <td>11</td>\n",
       "      <td>순서형</td>\n",
       "    </tr>\n",
       "    <tr>\n",
       "      <th>ps_calc_13</th>\n",
       "      <td>int64</td>\n",
       "      <td>0</td>\n",
       "      <td>14</td>\n",
       "      <td>순서형</td>\n",
       "    </tr>\n",
       "    <tr>\n",
       "      <th>ps_calc_14</th>\n",
       "      <td>int64</td>\n",
       "      <td>0</td>\n",
       "      <td>24</td>\n",
       "      <td>순서형</td>\n",
       "    </tr>\n",
       "    <tr>\n",
       "      <th>ps_calc_15_bin</th>\n",
       "      <td>int64</td>\n",
       "      <td>0</td>\n",
       "      <td>2</td>\n",
       "      <td>이진형</td>\n",
       "    </tr>\n",
       "    <tr>\n",
       "      <th>ps_calc_16_bin</th>\n",
       "      <td>int64</td>\n",
       "      <td>0</td>\n",
       "      <td>2</td>\n",
       "      <td>이진형</td>\n",
       "    </tr>\n",
       "    <tr>\n",
       "      <th>ps_calc_17_bin</th>\n",
       "      <td>int64</td>\n",
       "      <td>0</td>\n",
       "      <td>2</td>\n",
       "      <td>이진형</td>\n",
       "    </tr>\n",
       "    <tr>\n",
       "      <th>ps_calc_18_bin</th>\n",
       "      <td>int64</td>\n",
       "      <td>0</td>\n",
       "      <td>2</td>\n",
       "      <td>이진형</td>\n",
       "    </tr>\n",
       "    <tr>\n",
       "      <th>ps_calc_19_bin</th>\n",
       "      <td>int64</td>\n",
       "      <td>0</td>\n",
       "      <td>2</td>\n",
       "      <td>이진형</td>\n",
       "    </tr>\n",
       "    <tr>\n",
       "      <th>ps_calc_20_bin</th>\n",
       "      <td>int64</td>\n",
       "      <td>0</td>\n",
       "      <td>2</td>\n",
       "      <td>이진형</td>\n",
       "    </tr>\n",
       "  </tbody>\n",
       "</table>\n",
       "</div>"
      ],
      "text/plain": [
       "                 데이터 타입  결측값 개수  고윳값 개수 데이터 종류\n",
       "target            int64       0       2    이진형\n",
       "ps_ind_01         int64       0       8    순서형\n",
       "ps_ind_02_cat     int64     216       5    명목형\n",
       "ps_ind_03         int64       0      12    순서형\n",
       "ps_ind_04_cat     int64      83       3    명목형\n",
       "ps_ind_05_cat     int64    5809       8    명목형\n",
       "ps_ind_06_bin     int64       0       2    이진형\n",
       "ps_ind_07_bin     int64       0       2    이진형\n",
       "ps_ind_08_bin     int64       0       2    이진형\n",
       "ps_ind_09_bin     int64       0       2    이진형\n",
       "ps_ind_10_bin     int64       0       2    이진형\n",
       "ps_ind_11_bin     int64       0       2    이진형\n",
       "ps_ind_12_bin     int64       0       2    이진형\n",
       "ps_ind_13_bin     int64       0       2    이진형\n",
       "ps_ind_14         int64       0       5    순서형\n",
       "ps_ind_15         int64       0      14    순서형\n",
       "ps_ind_16_bin     int64       0       2    이진형\n",
       "ps_ind_17_bin     int64       0       2    이진형\n",
       "ps_ind_18_bin     int64       0       2    이진형\n",
       "ps_reg_01       float64       0      10    연속형\n",
       "ps_reg_02       float64       0      19    연속형\n",
       "ps_reg_03       float64  107772    5013    연속형\n",
       "ps_car_01_cat     int64     107      13    명목형\n",
       "ps_car_02_cat     int64       5       3    명목형\n",
       "ps_car_03_cat     int64  411231       3    명목형\n",
       "ps_car_04_cat     int64       0      10    명목형\n",
       "ps_car_05_cat     int64  266551       3    명목형\n",
       "ps_car_06_cat     int64       0      18    명목형\n",
       "ps_car_07_cat     int64   11489       3    명목형\n",
       "ps_car_08_cat     int64       0       2    명목형\n",
       "ps_car_09_cat     int64     569       6    명목형\n",
       "ps_car_10_cat     int64       0       3    명목형\n",
       "ps_car_11_cat     int64       0     104    명목형\n",
       "ps_car_11         int64       5       5    순서형\n",
       "ps_car_12       float64       1     184    연속형\n",
       "ps_car_13       float64       0   70482    연속형\n",
       "ps_car_14       float64   42620     850    연속형\n",
       "ps_car_15       float64       0      15    연속형\n",
       "ps_calc_01      float64       0      10    연속형\n",
       "ps_calc_02      float64       0      10    연속형\n",
       "ps_calc_03      float64       0      10    연속형\n",
       "ps_calc_04        int64       0       6    순서형\n",
       "ps_calc_05        int64       0       7    순서형\n",
       "ps_calc_06        int64       0      11    순서형\n",
       "ps_calc_07        int64       0      10    순서형\n",
       "ps_calc_08        int64       0      11    순서형\n",
       "ps_calc_09        int64       0       8    순서형\n",
       "ps_calc_10        int64       0      26    순서형\n",
       "ps_calc_11        int64       0      20    순서형\n",
       "ps_calc_12        int64       0      11    순서형\n",
       "ps_calc_13        int64       0      14    순서형\n",
       "ps_calc_14        int64       0      24    순서형\n",
       "ps_calc_15_bin    int64       0       2    이진형\n",
       "ps_calc_16_bin    int64       0       2    이진형\n",
       "ps_calc_17_bin    int64       0       2    이진형\n",
       "ps_calc_18_bin    int64       0       2    이진형\n",
       "ps_calc_19_bin    int64       0       2    이진형\n",
       "ps_calc_20_bin    int64       0       2    이진형"
      ]
     },
     "execution_count": 12,
     "metadata": {},
     "output_type": "execute_result"
    }
   ],
   "source": [
    "summary = resumetable(train)\n",
    "summary"
   ]
  },
  {
   "cell_type": "code",
   "execution_count": 13,
   "metadata": {
    "execution": {
     "iopub.execute_input": "2022-11-22T07:55:35.185705Z",
     "iopub.status.busy": "2022-11-22T07:55:35.183746Z",
     "iopub.status.idle": "2022-11-22T07:55:35.193965Z",
     "shell.execute_reply": "2022-11-22T07:55:35.192910Z",
     "shell.execute_reply.started": "2022-11-22T07:55:35.185666Z"
    }
   },
   "outputs": [
    {
     "data": {
      "text/plain": [
       "Index(['ps_ind_02_cat', 'ps_ind_04_cat', 'ps_ind_05_cat', 'ps_car_01_cat',\n",
       "       'ps_car_02_cat', 'ps_car_03_cat', 'ps_car_04_cat', 'ps_car_05_cat',\n",
       "       'ps_car_06_cat', 'ps_car_07_cat', 'ps_car_08_cat', 'ps_car_09_cat',\n",
       "       'ps_car_10_cat', 'ps_car_11_cat'],\n",
       "      dtype='object')"
      ]
     },
     "execution_count": 13,
     "metadata": {},
     "output_type": "execute_result"
    }
   ],
   "source": [
    "summary[summary['데이터 종류'] == '명목형'].index"
   ]
  },
  {
   "cell_type": "code",
   "execution_count": 14,
   "metadata": {
    "execution": {
     "iopub.execute_input": "2022-11-22T07:55:35.196468Z",
     "iopub.status.busy": "2022-11-22T07:55:35.195882Z",
     "iopub.status.idle": "2022-11-22T07:55:35.205675Z",
     "shell.execute_reply": "2022-11-22T07:55:35.204569Z",
     "shell.execute_reply.started": "2022-11-22T07:55:35.196404Z"
    }
   },
   "outputs": [
    {
     "data": {
      "text/plain": [
       "Index(['ps_reg_01', 'ps_reg_02', 'ps_reg_03', 'ps_car_12', 'ps_car_13',\n",
       "       'ps_car_14', 'ps_car_15', 'ps_calc_01', 'ps_calc_02', 'ps_calc_03'],\n",
       "      dtype='object')"
      ]
     },
     "execution_count": 14,
     "metadata": {},
     "output_type": "execute_result"
    }
   ],
   "source": [
    "summary[summary['데이터 타입'] == 'float64'].index"
   ]
  },
  {
   "cell_type": "markdown",
   "metadata": {},
   "source": [
    "## 데이터 시각화"
   ]
  },
  {
   "cell_type": "code",
   "execution_count": 15,
   "metadata": {
    "execution": {
     "iopub.execute_input": "2022-11-22T07:55:35.207977Z",
     "iopub.status.busy": "2022-11-22T07:55:35.207638Z",
     "iopub.status.idle": "2022-11-22T07:55:35.216006Z",
     "shell.execute_reply": "2022-11-22T07:55:35.214947Z",
     "shell.execute_reply.started": "2022-11-22T07:55:35.207944Z"
    }
   },
   "outputs": [],
   "source": [
    "import seaborn as sns\n",
    "import matplotlib as mpl\n",
    "import matplotlib.pyplot as plt\n",
    "%matplotlib inline"
   ]
  },
  {
   "cell_type": "code",
   "execution_count": 16,
   "metadata": {
    "execution": {
     "iopub.execute_input": "2022-11-22T07:55:35.218225Z",
     "iopub.status.busy": "2022-11-22T07:55:35.217770Z",
     "iopub.status.idle": "2022-11-22T07:55:35.464545Z",
     "shell.execute_reply": "2022-11-22T07:55:35.463449Z",
     "shell.execute_reply.started": "2022-11-22T07:55:35.218186Z"
    }
   },
   "outputs": [
    {
     "data": {
      "image/png": "[encoded data removed]",
      "text/plain": [
       "<Figure size 504x432 with 1 Axes>"
      ]
     },
     "metadata": {
      "needs_background": "light"
     },
     "output_type": "display_data"
    }
   ],
   "source": [
    "def write_percent(ax, total_size):\n",
    "    '''도형 객체를 순회하며 막대 그래프 상단에 타깃값 비율 표시'''\n",
    "    for patch in ax.patches:\n",
    "        height = patch.get_height()     # 도형 높이(데이터 개수)\n",
    "        width = patch.get_width()       # 도형 너비\n",
    "        left_coord = patch.get_x()      # 도형 왼쪽 테두리의 x축 위치\n",
    "        percent = height/total_size*100 # 타깃값 비율\n",
    "        \n",
    "        # (x, y) 좌표에 텍스트 입력\n",
    "        ax.text(left_coord + width/2.0,     # x축 위치\n",
    "                height + total_size*0.001,  # y축 위치\n",
    "                '{:1.1f}%'.format(percent), # 입력 텍스트\n",
    "                ha='center')                # 가운데 정렬\n",
    "    \n",
    "mpl.rc('font', size=15)\n",
    "plt.figure(figsize=(7, 6))\n",
    "\n",
    "ax = sns.countplot(x='target', data=train)\n",
    "write_percent(ax, len(train)) # 비율 표시\n",
    "ax.set_title('Target Distribution');"
   ]
  },
  {
   "cell_type": "code",
   "execution_count": 17,
   "metadata": {
    "execution": {
     "iopub.execute_input": "2022-11-22T07:55:35.469567Z",
     "iopub.status.busy": "2022-11-22T07:55:35.468656Z",
     "iopub.status.idle": "2022-11-22T07:55:35.481162Z",
     "shell.execute_reply": "2022-11-22T07:55:35.480012Z",
     "shell.execute_reply.started": "2022-11-22T07:55:35.469513Z"
    }
   },
   "outputs": [],
   "source": [
    "import matplotlib.gridspec as gridspec\n",
    "\n",
    "def plot_target_ratio_by_features(df, features, num_rows, num_cols, \n",
    "                                  size=(12, 18)):\n",
    "    mpl.rc('font', size=9) \n",
    "    plt.figure(figsize=size)                     # 전체 Figure 크기 설정\n",
    "    grid = gridspec.GridSpec(num_rows, num_cols) # 서브플롯 배치\n",
    "    plt.subplots_adjust(wspace=0.3, hspace=0.3)  # 서브플롯 좌우/상하 여백 설정\n",
    "\n",
    "    for idx, feature in enumerate(features):\n",
    "        ax = plt.subplot(grid[idx])\n",
    "        # ax축에 고윳값별 타깃값 1 비율을 막대 그래프로 그리기\n",
    "        sns.barplot(x=feature, y='target', data=df, palette='Set2', ax=ax)"
   ]
  },
  {
   "cell_type": "code",
   "execution_count": 18,
   "metadata": {
    "execution": {
     "iopub.execute_input": "2022-11-22T07:55:35.483105Z",
     "iopub.status.busy": "2022-11-22T07:55:35.482467Z",
     "iopub.status.idle": "2022-11-22T07:57:41.693091Z",
     "shell.execute_reply": "2022-11-22T07:57:41.691942Z",
     "shell.execute_reply.started": "2022-11-22T07:55:35.483070Z"
    }
   },
   "outputs": [
    {
     "data": {
      "image/png": "[encoded data removed]",
      "text/plain": [
       "<Figure size 864x1296 with 18 Axes>"
      ]
     },
     "metadata": {
      "needs_background": "light"
     },
     "output_type": "display_data"
    }
   ],
   "source": [
    "bin_features = summary[summary['데이터 종류'] == '이진형'].index # 이진 피처\n",
    "# 이진 피처 고윳값별 타깃값 1 비율을 막대 그래프로 그리기\n",
    "plot_target_ratio_by_features(train, bin_features, 6, 3) # 6행 3열 배치"
   ]
  },
  {
   "cell_type": "code",
   "execution_count": 19,
   "metadata": {
    "execution": {
     "iopub.execute_input": "2022-11-22T07:57:41.695479Z",
     "iopub.status.busy": "2022-11-22T07:57:41.695059Z",
     "iopub.status.idle": "2022-11-22T07:59:21.844405Z",
     "shell.execute_reply": "2022-11-22T07:59:21.843466Z",
     "shell.execute_reply.started": "2022-11-22T07:57:41.695439Z"
    }
   },
   "outputs": [
    {
     "data": {
      "image/png": "[encoded data removed]",
      "text/plain": [
       "<Figure size 864x1296 with 14 Axes>"
      ]
     },
     "metadata": {
      "needs_background": "light"
     },
     "output_type": "display_data"
    }
   ],
   "source": [
    "nom_features = summary[summary['데이터 종류'] == '명목형'].index # 명목형 피처\n",
    "\n",
    "plot_target_ratio_by_features(train, nom_features, 7, 2) # 7행 2열"
   ]
  },
  {
   "cell_type": "code",
   "execution_count": 20,
   "metadata": {
    "execution": {
     "iopub.execute_input": "2022-11-22T07:59:21.846451Z",
     "iopub.status.busy": "2022-11-22T07:59:21.845682Z",
     "iopub.status.idle": "2022-11-22T08:00:31.140114Z",
     "shell.execute_reply": "2022-11-22T08:00:31.139145Z",
     "shell.execute_reply.started": "2022-11-22T07:59:21.846389Z"
    }
   },
   "outputs": [
    {
     "data": {
      "image/png": "[encoded data removed]",
      "text/plain": [
       "<Figure size 864x1152 with 10 Axes>"
      ]
     },
     "metadata": {
      "needs_background": "light"
     },
     "output_type": "display_data"
    }
   ],
   "source": [
    "cont_features = summary[summary['데이터 종류'] == '연속형'].index # 연속형 피처\n",
    "\n",
    "plt.figure(figsize=(12, 16))                # Figure 크기 설정\n",
    "grid = gridspec.GridSpec(5, 2)              # GridSpec 객체 생성\n",
    "plt.subplots_adjust(wspace=0.2, hspace=0.4) # 서브플롯 간 여백 설정\n",
    "\n",
    "for idx, cont_feature in enumerate(cont_features):\n",
    "    # 값을 5개 구간으로 나누기\n",
    "    train[cont_feature] = pd.cut(train[cont_feature], 5)\n",
    "\n",
    "    ax = plt.subplot(grid[idx])                # 분포도를 그릴 서브플롯 설정\n",
    "    sns.barplot(x=cont_feature, y='target', data=train, palette='Set2', ax=ax)\n",
    "    ax.tick_params(axis='x', labelrotation=10) # x축 라벨 회전"
   ]
  },
  {
   "cell_type": "code",
   "execution_count": 21,
   "metadata": {
    "execution": {
     "iopub.execute_input": "2022-11-22T08:00:31.141496Z",
     "iopub.status.busy": "2022-11-22T08:00:31.141134Z",
     "iopub.status.idle": "2022-11-22T08:00:32.202943Z",
     "shell.execute_reply": "2022-11-22T08:00:32.201915Z",
     "shell.execute_reply.started": "2022-11-22T08:00:31.141459Z"
    }
   },
   "outputs": [
    {
     "data": {
      "image/png": "[encoded data removed]",
      "text/plain": [
       "<Figure size 720x576 with 2 Axes>"
      ]
     },
     "metadata": {
      "needs_background": "light"
     },
     "output_type": "display_data"
    }
   ],
   "source": [
    "train_copy = train_copy.dropna() # np.NaN 값 삭제\n",
    "\n",
    "plt.figure(figsize=(10, 8))\n",
    "cont_corr = train_copy[cont_features].corr()     # 연속형 피처 간 상관관계 \n",
    "sns.heatmap(cont_corr, annot=True, cmap='OrRd'); # 히트맵 그리기"
   ]
  },
  {
   "cell_type": "markdown",
   "metadata": {},
   "source": [
    "# Baseline"
   ]
  },
  {
   "cell_type": "code",
   "execution_count": 22,
   "metadata": {
    "execution": {
     "iopub.execute_input": "2022-11-22T08:00:32.205206Z",
     "iopub.status.busy": "2022-11-22T08:00:32.204586Z",
     "iopub.status.idle": "2022-11-22T08:00:37.886128Z",
     "shell.execute_reply": "2022-11-22T08:00:37.885156Z",
     "shell.execute_reply.started": "2022-11-22T08:00:32.205166Z"
    }
   },
   "outputs": [],
   "source": [
    "import pandas as pd\n",
    "\n",
    "# 데이터 경로\n",
    "train = pd.read_csv('train.csv', index_col='id')\n",
    "test = pd.read_csv('test.csv', index_col='id')\n",
    "submission = pd.read_csv('sample_submission.csv', index_col='id')"
   ]
  },
  {
   "cell_type": "code",
   "execution_count": 23,
   "metadata": {
    "execution": {
     "iopub.execute_input": "2022-11-22T08:00:37.888048Z",
     "iopub.status.busy": "2022-11-22T08:00:37.887687Z",
     "iopub.status.idle": "2022-11-22T08:00:38.949697Z",
     "shell.execute_reply": "2022-11-22T08:00:38.948697Z",
     "shell.execute_reply.started": "2022-11-22T08:00:37.888008Z"
    }
   },
   "outputs": [],
   "source": [
    "all_data = pd.concat([train, test], ignore_index=True)\n",
    "all_data = all_data.drop('target', axis=1) # 타깃값 제거"
   ]
  },
  {
   "cell_type": "code",
   "execution_count": 24,
   "metadata": {
    "execution": {
     "iopub.execute_input": "2022-11-22T08:00:38.951833Z",
     "iopub.status.busy": "2022-11-22T08:00:38.951130Z",
     "iopub.status.idle": "2022-11-22T08:00:38.959731Z",
     "shell.execute_reply": "2022-11-22T08:00:38.958598Z",
     "shell.execute_reply.started": "2022-11-22T08:00:38.951795Z"
    }
   },
   "outputs": [
    {
     "data": {
      "text/plain": [
       "Index(['ps_ind_01', 'ps_ind_02_cat', 'ps_ind_03', 'ps_ind_04_cat',\n",
       "       'ps_ind_05_cat', 'ps_ind_06_bin', 'ps_ind_07_bin', 'ps_ind_08_bin',\n",
       "       'ps_ind_09_bin', 'ps_ind_10_bin', 'ps_ind_11_bin', 'ps_ind_12_bin',\n",
       "       'ps_ind_13_bin', 'ps_ind_14', 'ps_ind_15', 'ps_ind_16_bin',\n",
       "       'ps_ind_17_bin', 'ps_ind_18_bin', 'ps_reg_01', 'ps_reg_02', 'ps_reg_03',\n",
       "       'ps_car_01_cat', 'ps_car_02_cat', 'ps_car_03_cat', 'ps_car_04_cat',\n",
       "       'ps_car_05_cat', 'ps_car_06_cat', 'ps_car_07_cat', 'ps_car_08_cat',\n",
       "       'ps_car_09_cat', 'ps_car_10_cat', 'ps_car_11_cat', 'ps_car_11',\n",
       "       'ps_car_12', 'ps_car_13', 'ps_car_14', 'ps_car_15', 'ps_calc_01',\n",
       "       'ps_calc_02', 'ps_calc_03', 'ps_calc_04', 'ps_calc_05', 'ps_calc_06',\n",
       "       'ps_calc_07', 'ps_calc_08', 'ps_calc_09', 'ps_calc_10', 'ps_calc_11',\n",
       "       'ps_calc_12', 'ps_calc_13', 'ps_calc_14', 'ps_calc_15_bin',\n",
       "       'ps_calc_16_bin', 'ps_calc_17_bin', 'ps_calc_18_bin', 'ps_calc_19_bin',\n",
       "       'ps_calc_20_bin'],\n",
       "      dtype='object')"
      ]
     },
     "execution_count": 24,
     "metadata": {},
     "output_type": "execute_result"
    }
   ],
   "source": [
    "all_features = all_data.columns # 전체 피처\n",
    "all_features"
   ]
  },
  {
   "cell_type": "code",
   "execution_count": 25,
   "metadata": {
    "execution": {
     "iopub.execute_input": "2022-11-22T08:00:38.961963Z",
     "iopub.status.busy": "2022-11-22T08:00:38.961305Z",
     "iopub.status.idle": "2022-11-22T08:00:40.671413Z",
     "shell.execute_reply": "2022-11-22T08:00:40.670355Z",
     "shell.execute_reply.started": "2022-11-22T08:00:38.961929Z"
    }
   },
   "outputs": [
    {
     "data": {
      "text/plain": [
       "<1488028x184 sparse matrix of type '<class 'numpy.float64'>'\n",
       "\twith 20832392 stored elements in Compressed Sparse Row format>"
      ]
     },
     "execution_count": 25,
     "metadata": {},
     "output_type": "execute_result"
    }
   ],
   "source": [
    "from sklearn.preprocessing import OneHotEncoder\n",
    "\n",
    "# 명목형 피처 추출\n",
    "cat_features = [feature for feature in all_features if 'cat' in feature] \n",
    "\n",
    "onehot_encoder = OneHotEncoder() # 원-핫 인코더 객체 생성\n",
    "# 인코딩\n",
    "encoded_cat_matrix = onehot_encoder.fit_transform(all_data[cat_features]) \n",
    "\n",
    "encoded_cat_matrix"
   ]
  },
  {
   "cell_type": "code",
   "execution_count": 26,
   "metadata": {
    "execution": {
     "iopub.execute_input": "2022-11-22T08:00:40.674378Z",
     "iopub.status.busy": "2022-11-22T08:00:40.673317Z",
     "iopub.status.idle": "2022-11-22T08:00:40.680960Z",
     "shell.execute_reply": "2022-11-22T08:00:40.679887Z",
     "shell.execute_reply.started": "2022-11-22T08:00:40.674338Z"
    }
   },
   "outputs": [],
   "source": [
    "# 추가로 제거할 피처\n",
    "drop_features = ['ps_ind_14', 'ps_ind_10_bin', 'ps_ind_11_bin', \n",
    "                 'ps_ind_12_bin', 'ps_ind_13_bin', 'ps_car_14']\n",
    "\n",
    "# '1) 명목형 피처, 2) calc 분류의 피처, 3) 추가 제거할 피처'를 제외한 피처\n",
    "remaining_features = [feature for feature in all_features \n",
    "                      if ('cat' not in feature and \n",
    "                          'calc' not in feature and \n",
    "                          feature not in drop_features)]"
   ]
  },
  {
   "cell_type": "code",
   "execution_count": 27,
   "metadata": {
    "execution": {
     "iopub.execute_input": "2022-11-22T08:00:40.682944Z",
     "iopub.status.busy": "2022-11-22T08:00:40.682278Z",
     "iopub.status.idle": "2022-11-22T08:00:42.875415Z",
     "shell.execute_reply": "2022-11-22T08:00:42.874325Z",
     "shell.execute_reply.started": "2022-11-22T08:00:40.682905Z"
    }
   },
   "outputs": [],
   "source": [
    "from scipy import sparse\n",
    "\n",
    "all_data_sprs = sparse.hstack([sparse.csr_matrix(all_data[remaining_features]),\n",
    "                               encoded_cat_matrix],\n",
    "                              format='csr')"
   ]
  },
  {
   "cell_type": "code",
   "execution_count": 28,
   "metadata": {
    "execution": {
     "iopub.execute_input": "2022-11-22T08:00:42.884693Z",
     "iopub.status.busy": "2022-11-22T08:00:42.884373Z",
     "iopub.status.idle": "2022-11-22T08:00:43.479793Z",
     "shell.execute_reply": "2022-11-22T08:00:43.478807Z",
     "shell.execute_reply.started": "2022-11-22T08:00:42.884664Z"
    }
   },
   "outputs": [],
   "source": [
    "num_train = len(train) # 훈련 데이터 개수\n",
    "\n",
    "# 훈련 데이터와 테스트 데이터 나누기\n",
    "X = all_data_sprs[:num_train]\n",
    "X_test = all_data_sprs[num_train:]\n",
    "\n",
    "y = train['target'].values"
   ]
  },
  {
   "cell_type": "code",
   "execution_count": 29,
   "metadata": {
    "execution": {
     "iopub.execute_input": "2022-11-22T08:00:43.481914Z",
     "iopub.status.busy": "2022-11-22T08:00:43.481535Z",
     "iopub.status.idle": "2022-11-22T08:00:43.489375Z",
     "shell.execute_reply": "2022-11-22T08:00:43.488233Z",
     "shell.execute_reply.started": "2022-11-22T08:00:43.481879Z"
    }
   },
   "outputs": [],
   "source": [
    "import numpy as np\n",
    "\n",
    "def eval_gini(y_true, y_pred):\n",
    "    # 실제값과 예측값의 크기가 같은지 확인 (값이 다르면 오류 발생)\n",
    "    assert y_true.shape == y_pred.shape\n",
    "\n",
    "    n_samples = y_true.shape[0]                      # 데이터 개수\n",
    "    L_mid = np.linspace(1 / n_samples, 1, n_samples) # 대각선 값\n",
    "\n",
    "    # 1) 예측값에 대한 지니계수\n",
    "    pred_order = y_true[y_pred.argsort()] # y_pred 크기순으로 y_true 값 정렬\n",
    "    L_pred = np.cumsum(pred_order) / np.sum(pred_order) # 로렌츠 곡선\n",
    "    G_pred = np.sum(L_mid - L_pred)       # 예측 값에 대한 지니계수\n",
    "\n",
    "    # 2) 예측이 완벽할 때 지니계수\n",
    "    true_order = y_true[y_true.argsort()] # y_true 크기순으로 y_true 값 정렬\n",
    "    L_true = np.cumsum(true_order) / np.sum(true_order) # 로렌츠 곡선\n",
    "    G_true = np.sum(L_mid - L_true)       # 예측이 완벽할 때 지니계수\n",
    "\n",
    "    # 정규화된 지니계수\n",
    "    return G_pred / G_true"
   ]
  },
  {
   "cell_type": "code",
   "execution_count": 30,
   "metadata": {
    "execution": {
     "iopub.execute_input": "2022-11-22T08:00:43.491403Z",
     "iopub.status.busy": "2022-11-22T08:00:43.491003Z",
     "iopub.status.idle": "2022-11-22T08:00:43.501917Z",
     "shell.execute_reply": "2022-11-22T08:00:43.500979Z",
     "shell.execute_reply.started": "2022-11-22T08:00:43.491369Z"
    }
   },
   "outputs": [],
   "source": [
    "def gini(preds, dtrain):\n",
    "    labels = dtrain.get_label()\n",
    "    return 'gini', eval_gini(labels, preds), True # 반환값"
   ]
  },
  {
   "cell_type": "code",
   "execution_count": 31,
   "metadata": {
    "execution": {
     "iopub.execute_input": "2022-11-22T08:00:43.503745Z",
     "iopub.status.busy": "2022-11-22T08:00:43.503134Z",
     "iopub.status.idle": "2022-11-22T08:00:43.548501Z",
     "shell.execute_reply": "2022-11-22T08:00:43.547657Z",
     "shell.execute_reply.started": "2022-11-22T08:00:43.503711Z"
    }
   },
   "outputs": [],
   "source": [
    "from sklearn.model_selection import StratifiedKFold\n",
    "\n",
    "# 층화 K 폴드 교차 검증기\n",
    "folds = StratifiedKFold(n_splits=5, shuffle=True, random_state=1991)"
   ]
  },
  {
   "cell_type": "code",
   "execution_count": 32,
   "metadata": {
    "execution": {
     "iopub.execute_input": "2022-11-22T08:00:43.550803Z",
     "iopub.status.busy": "2022-11-22T08:00:43.549677Z",
     "iopub.status.idle": "2022-11-22T08:00:43.556381Z",
     "shell.execute_reply": "2022-11-22T08:00:43.555340Z",
     "shell.execute_reply.started": "2022-11-22T08:00:43.550768Z"
    }
   },
   "outputs": [],
   "source": [
    "params = {'objective': 'binary',\n",
    "          'learning_rate': 0.01,\n",
    "          'force_row_wise': True,\n",
    "          'random_state': 0}"
   ]
  },
  {
   "cell_type": "code",
   "execution_count": 33,
   "metadata": {
    "execution": {
     "iopub.execute_input": "2022-11-22T08:00:43.559192Z",
     "iopub.status.busy": "2022-11-22T08:00:43.558460Z",
     "iopub.status.idle": "2022-11-22T08:00:43.566582Z",
     "shell.execute_reply": "2022-11-22T08:00:43.565592Z",
     "shell.execute_reply.started": "2022-11-22T08:00:43.559156Z"
    }
   },
   "outputs": [],
   "source": [
    "# OOF 방식으로 훈련된 모델로 검증 데이터 타깃값을 예측한 확률을 담을 1차원 배열\n",
    "oof_val_preds = np.zeros(X.shape[0]) \n",
    "# OOF 방식으로 훈련된 모델로 테스트 데이터 타깃값을 예측한 확률을 담을 1차원 배열\n",
    "oof_test_preds = np.zeros(X_test.shape[0]) "
   ]
  },
  {
   "cell_type": "code",
   "execution_count": 34,
   "metadata": {
    "execution": {
     "iopub.execute_input": "2022-11-22T08:00:43.568815Z",
     "iopub.status.busy": "2022-11-22T08:00:43.568313Z",
     "iopub.status.idle": "2022-11-22T08:09:00.390619Z",
     "shell.execute_reply": "2022-11-22T08:09:00.389494Z",
     "shell.execute_reply.started": "2022-11-22T08:00:43.568781Z"
    }
   },
   "outputs": [
    {
     "data": {
      "text/html": [
       "<style type='text/css'>\n",
       ".datatable table.frame { margin-bottom: 0; }\n",
       ".datatable table.frame thead { border-bottom: none; }\n",
       ".datatable table.frame tr.coltypes td {  color: #FFFFFF;  line-height: 6px;  padding: 0 0.5em;}\n",
       ".datatable .bool    { background: #DDDD99; }\n",
       ".datatable .object  { background: #565656; }\n",
       ".datatable .int     { background: #5D9E5D; }\n",
       ".datatable .float   { background: #4040CC; }\n",
       ".datatable .str     { background: #CC4040; }\n",
       ".datatable .time    { background: #40CC40; }\n",
       ".datatable .row_index {  background: var(--jp-border-color3);  border-right: 1px solid var(--jp-border-color0);  color: var(--jp-ui-font-color3);  font-size: 9px;}\n",
       ".datatable .frame tbody td { text-align: left; }\n",
       ".datatable .frame tr.coltypes .row_index {  background: var(--jp-border-color0);}\n",
       ".datatable th:nth-child(2) { padding-left: 12px; }\n",
       ".datatable .hellipsis {  color: var(--jp-cell-editor-border-color);}\n",
       ".datatable .vellipsis {  background: var(--jp-layout-color0);  color: var(--jp-cell-editor-border-color);}\n",
       ".datatable .na {  color: var(--jp-cell-editor-border-color);  font-size: 80%;}\n",
       ".datatable .sp {  opacity: 0.25;}\n",
       ".datatable .footer { font-size: 9px; }\n",
       ".datatable .frame_dimensions {  background: var(--jp-border-color3);  border-top: 1px solid var(--jp-border-color0);  color: var(--jp-ui-font-color3);  display: inline-block;  opacity: 0.6;  padding: 1px 10px 1px 5px;}\n",
       "</style>\n"
      ],
      "text/plain": [
       "<IPython.core.display.HTML object>"
      ]
     },
     "metadata": {},
     "output_type": "display_data"
    },
    {
     "name": "stdout",
     "output_type": "stream",
     "text": [
      "######################################## 폴드 1 / 폴드 5 ########################################\n"
     ]
    },
    {
     "name": "stderr",
     "output_type": "stream",
     "text": [
      "/opt/conda/lib/python3.7/site-packages/lightgbm/engine.py:181: UserWarning: 'early_stopping_rounds' argument is deprecated and will be removed in a future release of LightGBM. Pass 'early_stopping()' callback via 'callbacks' argument instead.\n",
      "  _log_warning(\"'early_stopping_rounds' argument is deprecated and will be removed in a future release of LightGBM. \"\n",
      "/opt/conda/lib/python3.7/site-packages/lightgbm/engine.py:239: UserWarning: 'verbose_eval' argument is deprecated and will be removed in a future release of LightGBM. Pass 'log_evaluation()' callback via 'callbacks' argument instead.\n",
      "  _log_warning(\"'verbose_eval' argument is deprecated and will be removed in a future release of LightGBM. \"\n"
     ]
    },
    {
     "name": "stdout",
     "output_type": "stream",
     "text": [
      "[LightGBM] [Info] Number of positive: 17355, number of negative: 458814\n",
      "[LightGBM] [Info] Total Bins 1095\n",
      "[LightGBM] [Info] Number of data points in the train set: 476169, number of used features: 200\n",
      "[LightGBM] [Info] [binary:BoostFromScore]: pavg=0.036447 -> initscore=-3.274764\n",
      "[LightGBM] [Info] Start training from score -3.274764\n",
      "Training until validation scores don't improve for 100 rounds\n",
      "[100]\tvalid_0's binary_logloss: 0.153354\tvalid_0's gini: 0.261651\n",
      "[200]\tvalid_0's binary_logloss: 0.152426\tvalid_0's gini: 0.275704\n",
      "[300]\tvalid_0's binary_logloss: 0.152023\tvalid_0's gini: 0.282277\n",
      "[400]\tvalid_0's binary_logloss: 0.1518\tvalid_0's gini: 0.286648\n",
      "[500]\tvalid_0's binary_logloss: 0.151713\tvalid_0's gini: 0.287944\n",
      "[600]\tvalid_0's binary_logloss: 0.151672\tvalid_0's gini: 0.288637\n",
      "[700]\tvalid_0's binary_logloss: 0.151659\tvalid_0's gini: 0.288939\n",
      "Early stopping, best iteration is:\n",
      "[681]\tvalid_0's binary_logloss: 0.151659\tvalid_0's gini: 0.289034\n",
      "폴드 1 지니계수 : 0.2890336154188232\n",
      "\n",
      "######################################## 폴드 2 / 폴드 5 ########################################\n",
      "[LightGBM] [Info] Number of positive: 17355, number of negative: 458814\n",
      "[LightGBM] [Info] Total Bins 1093\n",
      "[LightGBM] [Info] Number of data points in the train set: 476169, number of used features: 200\n",
      "[LightGBM] [Info] [binary:BoostFromScore]: pavg=0.036447 -> initscore=-3.274764\n",
      "[LightGBM] [Info] Start training from score -3.274764\n",
      "Training until validation scores don't improve for 100 rounds\n",
      "[100]\tvalid_0's binary_logloss: 0.153498\tvalid_0's gini: 0.249446\n",
      "[200]\tvalid_0's binary_logloss: 0.152708\tvalid_0's gini: 0.260777\n",
      "[300]\tvalid_0's binary_logloss: 0.152397\tvalid_0's gini: 0.267104\n",
      "[400]\tvalid_0's binary_logloss: 0.152234\tvalid_0's gini: 0.271522\n",
      "[500]\tvalid_0's binary_logloss: 0.152164\tvalid_0's gini: 0.273276\n",
      "[600]\tvalid_0's binary_logloss: 0.152136\tvalid_0's gini: 0.27426\n",
      "[700]\tvalid_0's binary_logloss: 0.152125\tvalid_0's gini: 0.274337\n",
      "[800]\tvalid_0's binary_logloss: 0.152116\tvalid_0's gini: 0.274634\n",
      "[900]\tvalid_0's binary_logloss: 0.152106\tvalid_0's gini: 0.274992\n",
      "[1000]\tvalid_0's binary_logloss: 0.152104\tvalid_0's gini: 0.275078\n",
      "Did not meet early stopping. Best iteration is:\n",
      "[983]\tvalid_0's binary_logloss: 0.152101\tvalid_0's gini: 0.275121\n",
      "폴드 2 지니계수 : 0.27512085497432026\n",
      "\n",
      "######################################## 폴드 3 / 폴드 5 ########################################\n",
      "[LightGBM] [Info] Number of positive: 17356, number of negative: 458814\n",
      "[LightGBM] [Info] Total Bins 1097\n",
      "[LightGBM] [Info] Number of data points in the train set: 476170, number of used features: 200\n",
      "[LightGBM] [Info] [binary:BoostFromScore]: pavg=0.036449 -> initscore=-3.274707\n",
      "[LightGBM] [Info] Start training from score -3.274707\n",
      "Training until validation scores don't improve for 100 rounds\n",
      "[100]\tvalid_0's binary_logloss: 0.153263\tvalid_0's gini: 0.261144\n",
      "[200]\tvalid_0's binary_logloss: 0.15234\tvalid_0's gini: 0.271571\n",
      "[300]\tvalid_0's binary_logloss: 0.151981\tvalid_0's gini: 0.276391\n",
      "[400]\tvalid_0's binary_logloss: 0.151818\tvalid_0's gini: 0.278667\n",
      "[500]\tvalid_0's binary_logloss: 0.151758\tvalid_0's gini: 0.279899\n",
      "[600]\tvalid_0's binary_logloss: 0.15174\tvalid_0's gini: 0.280373\n",
      "Early stopping, best iteration is:\n",
      "[560]\tvalid_0's binary_logloss: 0.151737\tvalid_0's gini: 0.280598\n",
      "폴드 3 지니계수 : 0.2805977528883293\n",
      "\n",
      "######################################## 폴드 4 / 폴드 5 ########################################\n",
      "[LightGBM] [Info] Number of positive: 17355, number of negative: 458815\n",
      "[LightGBM] [Info] Total Bins 1096\n",
      "[LightGBM] [Info] Number of data points in the train set: 476170, number of used features: 200\n",
      "[LightGBM] [Info] [binary:BoostFromScore]: pavg=0.036447 -> initscore=-3.274766\n",
      "[LightGBM] [Info] Start training from score -3.274766\n",
      "Training until validation scores don't improve for 100 rounds\n",
      "[100]\tvalid_0's binary_logloss: 0.153399\tvalid_0's gini: 0.25056\n",
      "[200]\tvalid_0's binary_logloss: 0.152556\tvalid_0's gini: 0.262835\n",
      "[300]\tvalid_0's binary_logloss: 0.152258\tvalid_0's gini: 0.267038\n",
      "[400]\tvalid_0's binary_logloss: 0.152118\tvalid_0's gini: 0.269715\n",
      "[500]\tvalid_0's binary_logloss: 0.15208\tvalid_0's gini: 0.270536\n",
      "[600]\tvalid_0's binary_logloss: 0.152085\tvalid_0's gini: 0.270629\n",
      "Early stopping, best iteration is:\n",
      "[522]\tvalid_0's binary_logloss: 0.152074\tvalid_0's gini: 0.270749\n",
      "폴드 4 지니계수 : 0.2707490338932929\n",
      "\n",
      "######################################## 폴드 5 / 폴드 5 ########################################\n",
      "[LightGBM] [Info] Number of positive: 17355, number of negative: 458815\n",
      "[LightGBM] [Info] Total Bins 1098\n",
      "[LightGBM] [Info] Number of data points in the train set: 476170, number of used features: 200\n",
      "[LightGBM] [Info] [binary:BoostFromScore]: pavg=0.036447 -> initscore=-3.274766\n",
      "[LightGBM] [Info] Start training from score -3.274766\n",
      "Training until validation scores don't improve for 100 rounds\n",
      "[100]\tvalid_0's binary_logloss: 0.153483\tvalid_0's gini: 0.262106\n",
      "[200]\tvalid_0's binary_logloss: 0.152646\tvalid_0's gini: 0.273406\n",
      "[300]\tvalid_0's binary_logloss: 0.152291\tvalid_0's gini: 0.279805\n",
      "[400]\tvalid_0's binary_logloss: 0.152093\tvalid_0's gini: 0.284645\n",
      "[500]\tvalid_0's binary_logloss: 0.152004\tvalid_0's gini: 0.28713\n",
      "[600]\tvalid_0's binary_logloss: 0.151982\tvalid_0's gini: 0.287668\n",
      "Early stopping, best iteration is:\n",
      "[583]\tvalid_0's binary_logloss: 0.15198\tvalid_0's gini: 0.287804\n",
      "폴드 5 지니계수 : 0.2878042213842625\n",
      "\n"
     ]
    }
   ],
   "source": [
    "import lightgbm as lgb\n",
    "\n",
    "# OOF 방식으로 모델 훈련, 검증, 예측\n",
    "for idx, (train_idx, valid_idx) in enumerate(folds.split(X, y)):\n",
    "    # 각 폴드를 구분하는 문구 출력\n",
    "    print('#'*40, f'폴드 {idx+1} / 폴드 {folds.n_splits}', '#'*40)\n",
    "    \n",
    "    # 훈련용 데이터, 검증용 데이터 설정 \n",
    "    X_train, y_train = X[train_idx], y[train_idx] # 훈련용 데이터\n",
    "    X_valid, y_valid = X[valid_idx], y[valid_idx] # 검증용 데이터\n",
    "\n",
    "    # LightGBM 전용 데이터셋 생성 \n",
    "    dtrain = lgb.Dataset(X_train, y_train) # LightGBM 전용 훈련 데이터셋\n",
    "    dvalid = lgb.Dataset(X_valid, y_valid) # LightGBM 전용 검증 데이터셋\n",
    "\n",
    "    # LightGBM 모델 훈련 \n",
    "    lgb_model = lgb.train(params=params,        # 훈련용 하이퍼파라미터\n",
    "                          train_set=dtrain,     # 훈련 데이터셋\n",
    "                          num_boost_round=1000, # 부스팅 반복 횟수\n",
    "                          valid_sets=dvalid,    # 성능 평가용 검증 데이터셋\n",
    "                          feval=gini,           # 검증용 평가지표\n",
    "                          early_stopping_rounds=100, # 조기종료 조건\n",
    "                          verbose_eval=100)     # 100번째마다 점수 출력\n",
    "    \n",
    "    # 테스트 데이터를 활용해 OOF 예측\n",
    "    oof_test_preds += lgb_model.predict(X_test)/folds.n_splits\n",
    "    \n",
    "    # 모델 성능 평가를 위한 검증 데이터 타깃값 예측\n",
    "    oof_val_preds[valid_idx] += lgb_model.predict(X_valid)\n",
    "    \n",
    "    # 검증 데이터 예측 확률에 대한 정규화 지니계수 \n",
    "    gini_score = eval_gini(y_valid, oof_val_preds[valid_idx])\n",
    "    print(f'폴드 {idx+1} 지니계수 : {gini_score}\\n')"
   ]
  },
  {
   "cell_type": "code",
   "execution_count": 35,
   "metadata": {
    "execution": {
     "iopub.execute_input": "2022-11-22T08:09:00.393072Z",
     "iopub.status.busy": "2022-11-22T08:09:00.392270Z",
     "iopub.status.idle": "2022-11-22T08:09:00.480938Z",
     "shell.execute_reply": "2022-11-22T08:09:00.479825Z",
     "shell.execute_reply.started": "2022-11-22T08:09:00.393020Z"
    }
   },
   "outputs": [
    {
     "name": "stdout",
     "output_type": "stream",
     "text": [
      "OOF 검증 데이터 지니계수: 0.2804995714877777\n"
     ]
    }
   ],
   "source": [
    "print('OOF 검증 데이터 지니계수:', eval_gini(y, oof_val_preds))"
   ]
  },
  {
   "cell_type": "markdown",
   "metadata": {},
   "source": [
    "# 성능 개선 1: LightGBM 모델"
   ]
  },
  {
   "cell_type": "code",
   "execution_count": 36,
   "metadata": {
    "execution": {
     "iopub.execute_input": "2022-11-22T08:09:00.482813Z",
     "iopub.status.busy": "2022-11-22T08:09:00.482355Z",
     "iopub.status.idle": "2022-11-22T08:09:06.139860Z",
     "shell.execute_reply": "2022-11-22T08:09:06.138849Z",
     "shell.execute_reply.started": "2022-11-22T08:09:00.482774Z"
    }
   },
   "outputs": [],
   "source": [
    "import pandas as pd\n",
    "\n",
    "# 데이터 경로\n",
    "train = pd.read_csv('train.csv', index_col='id')\n",
    "test = pd.read_csv('test.csv', index_col='id')\n",
    "submission = pd.read_csv('sample_submission.csv', index_col='id')"
   ]
  },
  {
   "cell_type": "code",
   "execution_count": 37,
   "metadata": {
    "execution": {
     "iopub.execute_input": "2022-11-22T08:09:06.141935Z",
     "iopub.status.busy": "2022-11-22T08:09:06.141537Z",
     "iopub.status.idle": "2022-11-22T08:09:07.205842Z",
     "shell.execute_reply": "2022-11-22T08:09:07.204789Z",
     "shell.execute_reply.started": "2022-11-22T08:09:06.141896Z"
    }
   },
   "outputs": [],
   "source": [
    "all_data = pd.concat([train, test], ignore_index=True)\n",
    "all_data = all_data.drop('target', axis=1) # 타깃값 제거\n",
    "\n",
    "all_features = all_data.columns # 전체 피처"
   ]
  },
  {
   "cell_type": "code",
   "execution_count": 38,
   "metadata": {
    "execution": {
     "iopub.execute_input": "2022-11-22T08:09:07.207912Z",
     "iopub.status.busy": "2022-11-22T08:09:07.207515Z",
     "iopub.status.idle": "2022-11-22T08:09:08.886923Z",
     "shell.execute_reply": "2022-11-22T08:09:08.885867Z",
     "shell.execute_reply.started": "2022-11-22T08:09:07.207873Z"
    }
   },
   "outputs": [],
   "source": [
    "from sklearn.preprocessing import OneHotEncoder\n",
    "\n",
    "# 명목형 피처\n",
    "cat_features = [feature for feature in all_features if 'cat' in feature] \n",
    "\n",
    "# 원-핫 인코딩 적용\n",
    "onehot_encoder = OneHotEncoder()\n",
    "encoded_cat_matrix = onehot_encoder.fit_transform(all_data[cat_features]) "
   ]
  },
  {
   "cell_type": "code",
   "execution_count": 39,
   "metadata": {
    "execution": {
     "iopub.execute_input": "2022-11-22T08:09:08.889126Z",
     "iopub.status.busy": "2022-11-22T08:09:08.888357Z",
     "iopub.status.idle": "2022-11-22T08:09:09.102986Z",
     "shell.execute_reply": "2022-11-22T08:09:09.102005Z",
     "shell.execute_reply.started": "2022-11-22T08:09:08.889087Z"
    }
   },
   "outputs": [],
   "source": [
    "# '데이터 하나당 결측값 개수'를 파생 피처로 추가\n",
    "all_data['num_missing'] = (all_data==-1).sum(axis=1)"
   ]
  },
  {
   "cell_type": "code",
   "execution_count": 40,
   "metadata": {
    "execution": {
     "iopub.execute_input": "2022-11-22T08:09:09.105058Z",
     "iopub.status.busy": "2022-11-22T08:09:09.104642Z",
     "iopub.status.idle": "2022-11-22T08:09:09.111503Z",
     "shell.execute_reply": "2022-11-22T08:09:09.109450Z",
     "shell.execute_reply.started": "2022-11-22T08:09:09.104990Z"
    }
   },
   "outputs": [],
   "source": [
    "# 명목형 피처, calc 분류의 피처를 제외한 피처\n",
    "remaining_features = [feature for feature in all_features\n",
    "                      if ('cat' not in feature and 'calc' not in feature)] \n",
    "# num_missing을 remaining_features에 추가\n",
    "remaining_features.append('num_missing')"
   ]
  },
  {
   "cell_type": "code",
   "execution_count": 41,
   "metadata": {
    "execution": {
     "iopub.execute_input": "2022-11-22T08:09:09.113634Z",
     "iopub.status.busy": "2022-11-22T08:09:09.112945Z",
     "iopub.status.idle": "2022-11-22T08:09:28.706810Z",
     "shell.execute_reply": "2022-11-22T08:09:28.705742Z",
     "shell.execute_reply.started": "2022-11-22T08:09:09.113598Z"
    }
   },
   "outputs": [],
   "source": [
    "# 분류가 ind인 피처\n",
    "ind_features = [feature for feature in all_features if 'ind' in feature]\n",
    "\n",
    "is_first_feature = True\n",
    "for ind_feature in ind_features:\n",
    "    if is_first_feature:\n",
    "        all_data['mix_ind'] = all_data[ind_feature].astype(str) + '_'\n",
    "        is_first_feature = False\n",
    "    else:\n",
    "        all_data['mix_ind'] += all_data[ind_feature].astype(str) + '_'"
   ]
  },
  {
   "cell_type": "code",
   "execution_count": 42,
   "metadata": {
    "execution": {
     "iopub.execute_input": "2022-11-22T08:09:28.708800Z",
     "iopub.status.busy": "2022-11-22T08:09:28.708407Z",
     "iopub.status.idle": "2022-11-22T08:09:28.717290Z",
     "shell.execute_reply": "2022-11-22T08:09:28.716351Z",
     "shell.execute_reply.started": "2022-11-22T08:09:28.708763Z"
    }
   },
   "outputs": [
    {
     "data": {
      "text/plain": [
       "0          2_2_5_1_0_0_1_0_0_0_0_0_0_0_11_0_1_0_\n",
       "1           1_1_7_0_0_0_0_1_0_0_0_0_0_0_3_0_0_1_\n",
       "2          5_4_9_1_0_0_0_1_0_0_0_0_0_0_12_1_0_0_\n",
       "3           0_1_2_0_0_1_0_0_0_0_0_0_0_0_8_1_0_0_\n",
       "4           0_2_0_1_0_1_0_0_0_0_0_0_0_0_9_1_0_0_\n",
       "                           ...                  \n",
       "1488023     0_1_6_0_0_0_1_0_0_0_0_0_0_0_2_0_0_1_\n",
       "1488024    5_3_5_1_0_0_0_1_0_0_0_0_0_0_11_1_0_0_\n",
       "1488025     0_1_5_0_0_1_0_0_0_0_0_0_0_0_5_0_0_1_\n",
       "1488026    6_1_5_1_0_0_0_0_1_0_0_0_0_0_13_1_0_0_\n",
       "1488027    7_1_4_1_0_0_0_0_1_0_0_0_0_0_12_1_0_0_\n",
       "Name: mix_ind, Length: 1488028, dtype: object"
      ]
     },
     "execution_count": 42,
     "metadata": {},
     "output_type": "execute_result"
    }
   ],
   "source": [
    "all_data['mix_ind']"
   ]
  },
  {
   "cell_type": "code",
   "execution_count": 43,
   "metadata": {
    "execution": {
     "iopub.execute_input": "2022-11-22T08:09:28.719777Z",
     "iopub.status.busy": "2022-11-22T08:09:28.718747Z",
     "iopub.status.idle": "2022-11-22T08:09:37.258332Z",
     "shell.execute_reply": "2022-11-22T08:09:37.257369Z",
     "shell.execute_reply.started": "2022-11-22T08:09:28.719741Z"
    }
   },
   "outputs": [],
   "source": [
    "cat_count_features = []\n",
    "for feature in cat_features+['mix_ind']:\n",
    "    val_counts_dict = all_data[feature].value_counts().to_dict()\n",
    "    all_data[f'{feature}_count'] = all_data[feature].apply(lambda x: \n",
    "                                                           val_counts_dict[x])\n",
    "    cat_count_features.append(f'{feature}_count')"
   ]
  },
  {
   "cell_type": "code",
   "execution_count": 44,
   "metadata": {
    "execution": {
     "iopub.execute_input": "2022-11-22T08:09:37.260297Z",
     "iopub.status.busy": "2022-11-22T08:09:37.259899Z",
     "iopub.status.idle": "2022-11-22T08:09:37.267251Z",
     "shell.execute_reply": "2022-11-22T08:09:37.266309Z",
     "shell.execute_reply.started": "2022-11-22T08:09:37.260258Z"
    }
   },
   "outputs": [
    {
     "data": {
      "text/plain": [
       "['ps_ind_02_cat_count',\n",
       " 'ps_ind_04_cat_count',\n",
       " 'ps_ind_05_cat_count',\n",
       " 'ps_car_01_cat_count',\n",
       " 'ps_car_02_cat_count',\n",
       " 'ps_car_03_cat_count',\n",
       " 'ps_car_04_cat_count',\n",
       " 'ps_car_05_cat_count',\n",
       " 'ps_car_06_cat_count',\n",
       " 'ps_car_07_cat_count',\n",
       " 'ps_car_08_cat_count',\n",
       " 'ps_car_09_cat_count',\n",
       " 'ps_car_10_cat_count',\n",
       " 'ps_car_11_cat_count',\n",
       " 'mix_ind_count']"
      ]
     },
     "execution_count": 44,
     "metadata": {},
     "output_type": "execute_result"
    }
   ],
   "source": [
    "cat_count_features"
   ]
  },
  {
   "cell_type": "code",
   "execution_count": 45,
   "metadata": {
    "execution": {
     "iopub.execute_input": "2022-11-22T08:09:37.269348Z",
     "iopub.status.busy": "2022-11-22T08:09:37.268515Z",
     "iopub.status.idle": "2022-11-22T08:09:42.377181Z",
     "shell.execute_reply": "2022-11-22T08:09:42.376201Z",
     "shell.execute_reply.started": "2022-11-22T08:09:37.269311Z"
    }
   },
   "outputs": [],
   "source": [
    "from scipy import sparse\n",
    "# 필요 없는 피처들\n",
    "drop_features = ['ps_ind_14', 'ps_ind_10_bin', 'ps_ind_11_bin', \n",
    "                 'ps_ind_12_bin', 'ps_ind_13_bin', 'ps_car_14']\n",
    "\n",
    "# remaining_features, cat_count_features에서 drop_features를 제거한 데이터\n",
    "all_data_remaining = all_data[remaining_features+cat_count_features].drop(drop_features, axis=1)\n",
    "\n",
    "# 데이터 합치기\n",
    "all_data_sprs = sparse.hstack([sparse.csr_matrix(all_data_remaining),\n",
    "                               encoded_cat_matrix],\n",
    "                              format='csr')"
   ]
  },
  {
   "cell_type": "code",
   "execution_count": 46,
   "metadata": {
    "execution": {
     "iopub.execute_input": "2022-11-22T08:09:42.379230Z",
     "iopub.status.busy": "2022-11-22T08:09:42.378825Z",
     "iopub.status.idle": "2022-11-22T08:09:43.485352Z",
     "shell.execute_reply": "2022-11-22T08:09:43.484285Z",
     "shell.execute_reply.started": "2022-11-22T08:09:42.379190Z"
    }
   },
   "outputs": [],
   "source": [
    "num_train = len(train) # 훈련 데이터 개수\n",
    "\n",
    "# 훈련 데이터와 테스트 데이터 나누기\n",
    "X = all_data_sprs[:num_train]\n",
    "X_test = all_data_sprs[num_train:]\n",
    "\n",
    "y = train['target'].values"
   ]
  },
  {
   "cell_type": "code",
   "execution_count": 47,
   "metadata": {
    "execution": {
     "iopub.execute_input": "2022-11-22T08:09:43.487572Z",
     "iopub.status.busy": "2022-11-22T08:09:43.486910Z",
     "iopub.status.idle": "2022-11-22T08:09:43.496479Z",
     "shell.execute_reply": "2022-11-22T08:09:43.495352Z",
     "shell.execute_reply.started": "2022-11-22T08:09:43.487532Z"
    }
   },
   "outputs": [],
   "source": [
    "import numpy as np\n",
    "\n",
    "def eval_gini(y_true, y_pred):\n",
    "    # 실제값과 예측값의 크기가 같은지 확인 (값이 다르면 오류 발생)\n",
    "    assert y_true.shape == y_pred.shape\n",
    "\n",
    "    n_samples = y_true.shape[0]                      # 데이터 개수\n",
    "    L_mid = np.linspace(1 / n_samples, 1, n_samples) # 대각선 값\n",
    "\n",
    "    # 1) 예측값에 대한 지니계수\n",
    "    pred_order = y_true[y_pred.argsort()] # y_pred 크기순으로 y_true 값 정렬\n",
    "    L_pred = np.cumsum(pred_order) / np.sum(pred_order) # 로렌츠 곡선\n",
    "    G_pred = np.sum(L_mid - L_pred)       # 예측 값에 대한 지니계수\n",
    "\n",
    "    # 2) 예측이 완벽할 때 지니계수\n",
    "    true_order = y_true[y_true.argsort()] # y_true 크기순으로 y_true 값 정렬\n",
    "    L_true = np.cumsum(true_order) / np.sum(true_order) # 로렌츠 곡선\n",
    "    G_true = np.sum(L_mid - L_true)       # 예측이 완벽할 때 지니계수\n",
    "\n",
    "    # 정규화된 지니계수\n",
    "    return G_pred / G_true"
   ]
  },
  {
   "cell_type": "code",
   "execution_count": 48,
   "metadata": {
    "execution": {
     "iopub.execute_input": "2022-11-22T08:09:43.498289Z",
     "iopub.status.busy": "2022-11-22T08:09:43.497826Z",
     "iopub.status.idle": "2022-11-22T08:09:43.506931Z",
     "shell.execute_reply": "2022-11-22T08:09:43.505952Z",
     "shell.execute_reply.started": "2022-11-22T08:09:43.498254Z"
    }
   },
   "outputs": [],
   "source": [
    "# LightGBM용 gini() 함수\n",
    "def gini(preds, dtrain):\n",
    "    labels = dtrain.get_label()\n",
    "    return 'gini', eval_gini(labels, preds), True # 반환값"
   ]
  },
  {
   "cell_type": "code",
   "execution_count": 49,
   "metadata": {
    "execution": {
     "iopub.execute_input": "2022-11-22T08:09:43.510482Z",
     "iopub.status.busy": "2022-11-22T08:09:43.508183Z",
     "iopub.status.idle": "2022-11-22T08:09:43.680943Z",
     "shell.execute_reply": "2022-11-22T08:09:43.679917Z",
     "shell.execute_reply.started": "2022-11-22T08:09:43.510442Z"
    }
   },
   "outputs": [],
   "source": [
    "import lightgbm as lgb\n",
    "from sklearn.model_selection import train_test_split\n",
    "\n",
    "# 8:2 비율로 훈련 데이터, 검증 데이터 분리 (베이지안 최적화 수행용)\n",
    "X_train, X_valid, y_train, y_valid = train_test_split(X, y, \n",
    "                                                      test_size=0.2, \n",
    "                                                      random_state=0)\n",
    "\n",
    "# 베이지안 최적화용 데이터셋\n",
    "bayes_dtrain = lgb.Dataset(X_train, y_train)\n",
    "bayes_dvalid = lgb.Dataset(X_valid, y_valid)"
   ]
  },
  {
   "cell_type": "code",
   "execution_count": 50,
   "metadata": {
    "execution": {
     "iopub.execute_input": "2022-11-22T08:09:43.683161Z",
     "iopub.status.busy": "2022-11-22T08:09:43.682749Z",
     "iopub.status.idle": "2022-11-22T08:09:43.689631Z",
     "shell.execute_reply": "2022-11-22T08:09:43.688661Z",
     "shell.execute_reply.started": "2022-11-22T08:09:43.683120Z"
    }
   },
   "outputs": [],
   "source": [
    "# 베이지안 최적화를 위한 하이퍼파라미터 범위\n",
    "param_bounds = {'num_leaves': (30, 40),\n",
    "                'lambda_l1': (0.7, 0.9),\n",
    "                'lambda_l2': (0.9, 1),\n",
    "                'feature_fraction': (0.6, 0.7),\n",
    "                'bagging_fraction': (0.6, 0.9),\n",
    "                'min_child_samples': (6, 10),\n",
    "                'min_child_weight': (10, 40)}\n",
    "\n",
    "# 값이 고정된 하이퍼파라미터\n",
    "fixed_params = {'objective': 'binary',\n",
    "                'learning_rate': 0.005,\n",
    "                'bagging_freq': 1,\n",
    "                'force_row_wise': True,\n",
    "                'random_state': 1991}"
   ]
  },
  {
   "cell_type": "code",
   "execution_count": 51,
   "metadata": {
    "execution": {
     "iopub.execute_input": "2022-11-22T08:09:43.692458Z",
     "iopub.status.busy": "2022-11-22T08:09:43.691304Z",
     "iopub.status.idle": "2022-11-22T08:09:43.701766Z",
     "shell.execute_reply": "2022-11-22T08:09:43.700771Z",
     "shell.execute_reply.started": "2022-11-22T08:09:43.692403Z"
    }
   },
   "outputs": [],
   "source": [
    "def eval_function(num_leaves, lambda_l1, lambda_l2, feature_fraction,\n",
    "                  bagging_fraction, min_child_samples, min_child_weight):\n",
    "    '''최적화하려는 평가지표(지니계수) 계산 함수'''\n",
    "    \n",
    "    # 베이지안 최적화를 수행할 하이퍼파라미터 \n",
    "    params = {'num_leaves': int(round(num_leaves)),\n",
    "              'lambda_l1': lambda_l1,\n",
    "              'lambda_l2': lambda_l2,\n",
    "              'feature_fraction': feature_fraction,\n",
    "              'bagging_fraction': bagging_fraction,\n",
    "              'min_child_samples': int(round(min_child_samples)),\n",
    "              'min_child_weight': min_child_weight,\n",
    "              'feature_pre_filter': False}\n",
    "    # 고정된 하이퍼파라미터도 추가\n",
    "    params.update(fixed_params)\n",
    "    \n",
    "    print('하이퍼파라미터:', params)    \n",
    "    \n",
    "    # LightGBM 모델 훈련\n",
    "    lgb_model = lgb.train(params=params, \n",
    "                           train_set=bayes_dtrain,\n",
    "                           num_boost_round=2500,\n",
    "                           valid_sets=bayes_dvalid,\n",
    "                           feval=gini,\n",
    "                           early_stopping_rounds=300,\n",
    "                           verbose_eval=False)\n",
    "    # 검증 데이터로 예측 수행\n",
    "    preds = lgb_model.predict(X_valid) \n",
    "    # 지니계수 계산\n",
    "    gini_score = eval_gini(y_valid, preds)\n",
    "    print(f'지니계수 : {gini_score}\\n')\n",
    "    \n",
    "    return gini_score"
   ]
  },
  {
   "cell_type": "code",
   "execution_count": 52,
   "metadata": {
    "execution": {
     "iopub.execute_input": "2022-11-22T08:09:43.703560Z",
     "iopub.status.busy": "2022-11-22T08:09:43.703092Z",
     "iopub.status.idle": "2022-11-22T08:28:55.325455Z",
     "shell.execute_reply": "2022-11-22T08:28:55.321353Z",
     "shell.execute_reply.started": "2022-11-22T08:09:43.703513Z"
    }
   },
   "outputs": [
    {
     "name": "stdout",
     "output_type": "stream",
     "text": [
      "|   iter    |  target   | baggin... | featur... | lambda_l1 | lambda_l2 | min_ch... | min_ch... | num_le... |\n",
      "-------------------------------------------------------------------------------------------------------------\n",
      "하이퍼파라미터: {'num_leaves': 34, 'lambda_l1': 0.8205526752143287, 'lambda_l2': 0.9544883182996897, 'feature_fraction': 0.6715189366372419, 'bagging_fraction': 0.7646440511781974, 'min_child_samples': 8, 'min_child_weight': 29.376823391999682, 'feature_pre_filter': False, 'objective': 'binary', 'learning_rate': 0.005, 'bagging_freq': 1, 'force_row_wise': True, 'random_state': 1991}\n"
     ]
    },
    {
     "name": "stderr",
     "output_type": "stream",
     "text": [
      "/opt/conda/lib/python3.7/site-packages/lightgbm/engine.py:181: UserWarning: 'early_stopping_rounds' argument is deprecated and will be removed in a future release of LightGBM. Pass 'early_stopping()' callback via 'callbacks' argument instead.\n",
      "  _log_warning(\"'early_stopping_rounds' argument is deprecated and will be removed in a future release of LightGBM. \"\n",
      "/opt/conda/lib/python3.7/site-packages/lightgbm/engine.py:239: UserWarning: 'verbose_eval' argument is deprecated and will be removed in a future release of LightGBM. Pass 'log_evaluation()' callback via 'callbacks' argument instead.\n",
      "  _log_warning(\"'verbose_eval' argument is deprecated and will be removed in a future release of LightGBM. \"\n"
     ]
    },
    {
     "name": "stdout",
     "output_type": "stream",
     "text": [
      "[LightGBM] [Info] Number of positive: 17383, number of negative: 458786\n",
      "[LightGBM] [Info] Total Bins 1555\n",
      "[LightGBM] [Info] Number of data points in the train set: 476169, number of used features: 217\n",
      "[LightGBM] [Info] [binary:BoostFromScore]: pavg=0.036506 -> initscore=-3.273091\n",
      "[LightGBM] [Info] Start training from score -3.273091\n",
      "지니계수 : 0.2855811556220905\n",
      "\n",
      "| \u001b[0m 1       \u001b[0m | \u001b[0m 0.2856  \u001b[0m | \u001b[0m 0.7646  \u001b[0m | \u001b[0m 0.6715  \u001b[0m | \u001b[0m 0.8206  \u001b[0m | \u001b[0m 0.9545  \u001b[0m | \u001b[0m 7.695   \u001b[0m | \u001b[0m 29.38   \u001b[0m | \u001b[0m 34.38   \u001b[0m |\n",
      "하이퍼파라미터: {'num_leaves': 39, 'lambda_l1': 0.7766883037651555, 'lambda_l2': 0.9791725038082665, 'feature_fraction': 0.6963662760501029, 'bagging_fraction': 0.867531900234624, 'min_child_samples': 8, 'min_child_weight': 27.04133683281797, 'feature_pre_filter': False, 'objective': 'binary', 'learning_rate': 0.005, 'bagging_freq': 1, 'force_row_wise': True, 'random_state': 1991}\n",
      "[LightGBM] [Info] Number of positive: 17383, number of negative: 458786\n",
      "[LightGBM] [Info] Total Bins 1555\n",
      "[LightGBM] [Info] Number of data points in the train set: 476169, number of used features: 217\n",
      "[LightGBM] [Info] [binary:BoostFromScore]: pavg=0.036506 -> initscore=-3.273091\n",
      "[LightGBM] [Info] Start training from score -3.273091\n",
      "지니계수 : 0.2837380537005777\n",
      "\n",
      "| \u001b[0m 2       \u001b[0m | \u001b[0m 0.2837  \u001b[0m | \u001b[0m 0.8675  \u001b[0m | \u001b[0m 0.6964  \u001b[0m | \u001b[0m 0.7767  \u001b[0m | \u001b[0m 0.9792  \u001b[0m | \u001b[0m 8.116   \u001b[0m | \u001b[0m 27.04   \u001b[0m | \u001b[0m 39.26   \u001b[0m |\n",
      "하이퍼파라미터: {'num_leaves': 40, 'lambda_l1': 0.7040436794880651, 'lambda_l2': 0.9832619845547939, 'feature_fraction': 0.608712929970154, 'bagging_fraction': 0.6213108174593661, 'min_child_samples': 9, 'min_child_weight': 36.10036444740457, 'feature_pre_filter': False, 'objective': 'binary', 'learning_rate': 0.005, 'bagging_freq': 1, 'force_row_wise': True, 'random_state': 1991}\n",
      "[LightGBM] [Info] Number of positive: 17383, number of negative: 458786\n",
      "[LightGBM] [Info] Total Bins 1555\n",
      "[LightGBM] [Info] Number of data points in the train set: 476169, number of used features: 217\n",
      "[LightGBM] [Info] [binary:BoostFromScore]: pavg=0.036506 -> initscore=-3.273091\n",
      "[LightGBM] [Info] Start training from score -3.273091\n",
      "지니계수 : 0.2857848354322048\n",
      "\n",
      "| \u001b[95m 3       \u001b[0m | \u001b[95m 0.2858  \u001b[0m | \u001b[95m 0.6213  \u001b[0m | \u001b[95m 0.6087  \u001b[0m | \u001b[95m 0.704   \u001b[0m | \u001b[95m 0.9833  \u001b[0m | \u001b[95m 9.113   \u001b[0m | \u001b[95m 36.1    \u001b[0m | \u001b[95m 39.79   \u001b[0m |\n",
      "하이퍼파라미터: {'num_leaves': 30, 'lambda_l1': 0.8444997594874222, 'lambda_l2': 0.9234023852202012, 'feature_fraction': 0.6593983245038058, 'bagging_fraction': 0.8977977822397395, 'min_child_samples': 9, 'min_child_weight': 10.549362495448534, 'feature_pre_filter': False, 'objective': 'binary', 'learning_rate': 0.005, 'bagging_freq': 1, 'force_row_wise': True, 'random_state': 1991}\n",
      "[LightGBM] [Info] Number of positive: 17383, number of negative: 458786\n"
     ]
    },
    {
     "name": "stderr",
     "output_type": "stream",
     "text": [
      "/opt/conda/lib/python3.7/site-packages/lightgbm/engine.py:181: UserWarning: 'early_stopping_rounds' argument is deprecated and will be removed in a future release of LightGBM. Pass 'early_stopping()' callback via 'callbacks' argument instead.\n",
      "  _log_warning(\"'early_stopping_rounds' argument is deprecated and will be removed in a future release of LightGBM. \"\n",
      "/opt/conda/lib/python3.7/site-packages/lightgbm/engine.py:239: UserWarning: 'verbose_eval' argument is deprecated and will be removed in a future release of LightGBM. Pass 'log_evaluation()' callback via 'callbacks' argument instead.\n",
      "  _log_warning(\"'verbose_eval' argument is deprecated and will be removed in a future release of LightGBM. \"\n"
     ]
    },
    {
     "name": "stdout",
     "output_type": "stream",
     "text": [
      "[LightGBM] [Info] Total Bins 1555\n",
      "[LightGBM] [Info] Number of data points in the train set: 476169, number of used features: 217\n",
      "[LightGBM] [Info] [binary:BoostFromScore]: pavg=0.036506 -> initscore=-3.273091\n",
      "[LightGBM] [Info] Start training from score -3.273091\n"
     ]
    },
    {
     "ename": "KeyboardInterrupt",
     "evalue": "",
     "output_type": "error",
     "traceback": [
      "\u001b[0;31m---------------------------------------------------------------------------\u001b[0m",
      "\u001b[0;31mKeyError\u001b[0m                                  Traceback (most recent call last)",
      "\u001b[0;32m/opt/conda/lib/python3.7/site-packages/bayes_opt/target_space.py\u001b[0m in \u001b[0;36mprobe\u001b[0;34m(self, params)\u001b[0m\n\u001b[1;32m    190\u001b[0m         \u001b[0;32mtry\u001b[0m\u001b[0;34m:\u001b[0m\u001b[0;34m\u001b[0m\u001b[0;34m\u001b[0m\u001b[0m\n\u001b[0;32m--> 191\u001b[0;31m             \u001b[0mtarget\u001b[0m \u001b[0;34m=\u001b[0m \u001b[0mself\u001b[0m\u001b[0;34m.\u001b[0m\u001b[0m_cache\u001b[0m\u001b[0;34m[\u001b[0m\u001b[0m_hashable\u001b[0m\u001b[0;34m(\u001b[0m\u001b[0mx\u001b[0m\u001b[0;34m)\u001b[0m\u001b[0;34m]\u001b[0m\u001b[0;34m\u001b[0m\u001b[0;34m\u001b[0m\u001b[0m\n\u001b[0m\u001b[1;32m    192\u001b[0m         \u001b[0;32mexcept\u001b[0m \u001b[0mKeyError\u001b[0m\u001b[0;34m:\u001b[0m\u001b[0;34m\u001b[0m\u001b[0;34m\u001b[0m\u001b[0m\n",
      "\u001b[0;31mKeyError\u001b[0m: (0.8977977822397395, 0.6593983245038058, 0.8444997594874222, 0.9234023852202012, 8.619365368154774, 10.549362495448534, 30.094946111581244)",
      "\nDuring handling of the above exception, another exception occurred:\n",
      "\u001b[0;31mKeyboardInterrupt\u001b[0m                         Traceback (most recent call last)",
      "\u001b[0;32m/tmp/ipykernel_23/187638307.py\u001b[0m in \u001b[0;36m<module>\u001b[0;34m\u001b[0m\n\u001b[1;32m      7\u001b[0m \u001b[0;34m\u001b[0m\u001b[0m\n\u001b[1;32m      8\u001b[0m \u001b[0;31m# 베이지안 최적화 수행\u001b[0m\u001b[0;34m\u001b[0m\u001b[0;34m\u001b[0m\u001b[0;34m\u001b[0m\u001b[0m\n\u001b[0;32m----> 9\u001b[0;31m \u001b[0moptimizer\u001b[0m\u001b[0;34m.\u001b[0m\u001b[0mmaximize\u001b[0m\u001b[0;34m(\u001b[0m\u001b[0minit_points\u001b[0m\u001b[0;34m=\u001b[0m\u001b[0;36m3\u001b[0m\u001b[0;34m,\u001b[0m \u001b[0mn_iter\u001b[0m\u001b[0;34m=\u001b[0m\u001b[0;36m6\u001b[0m\u001b[0;34m)\u001b[0m\u001b[0;34m\u001b[0m\u001b[0;34m\u001b[0m\u001b[0m\n\u001b[0m",
      "\u001b[0;32m/opt/conda/lib/python3.7/site-packages/bayes_opt/bayesian_optimization.py\u001b[0m in \u001b[0;36mmaximize\u001b[0;34m(self, init_points, n_iter, acq, kappa, kappa_decay, kappa_decay_delay, xi, **gp_params)\u001b[0m\n\u001b[1;32m    183\u001b[0m                 \u001b[0miteration\u001b[0m \u001b[0;34m+=\u001b[0m \u001b[0;36m1\u001b[0m\u001b[0;34m\u001b[0m\u001b[0;34m\u001b[0m\u001b[0m\n\u001b[1;32m    184\u001b[0m \u001b[0;34m\u001b[0m\u001b[0m\n\u001b[0;32m--> 185\u001b[0;31m             \u001b[0mself\u001b[0m\u001b[0;34m.\u001b[0m\u001b[0mprobe\u001b[0m\u001b[0;34m(\u001b[0m\u001b[0mx_probe\u001b[0m\u001b[0;34m,\u001b[0m \u001b[0mlazy\u001b[0m\u001b[0;34m=\u001b[0m\u001b[0;32mFalse\u001b[0m\u001b[0;34m)\u001b[0m\u001b[0;34m\u001b[0m\u001b[0;34m\u001b[0m\u001b[0m\n\u001b[0m\u001b[1;32m    186\u001b[0m \u001b[0;34m\u001b[0m\u001b[0m\n\u001b[1;32m    187\u001b[0m             \u001b[0;32mif\u001b[0m \u001b[0mself\u001b[0m\u001b[0;34m.\u001b[0m\u001b[0m_bounds_transformer\u001b[0m\u001b[0;34m:\u001b[0m\u001b[0;34m\u001b[0m\u001b[0;34m\u001b[0m\u001b[0m\n",
      "\u001b[0;32m/opt/conda/lib/python3.7/site-packages/bayes_opt/bayesian_optimization.py\u001b[0m in \u001b[0;36mprobe\u001b[0;34m(self, params, lazy)\u001b[0m\n\u001b[1;32m    114\u001b[0m             \u001b[0mself\u001b[0m\u001b[0;34m.\u001b[0m\u001b[0m_queue\u001b[0m\u001b[0;34m.\u001b[0m\u001b[0madd\u001b[0m\u001b[0;34m(\u001b[0m\u001b[0mparams\u001b[0m\u001b[0;34m)\u001b[0m\u001b[0;34m\u001b[0m\u001b[0;34m\u001b[0m\u001b[0m\n\u001b[1;32m    115\u001b[0m         \u001b[0;32melse\u001b[0m\u001b[0;34m:\u001b[0m\u001b[0;34m\u001b[0m\u001b[0;34m\u001b[0m\u001b[0m\n\u001b[0;32m--> 116\u001b[0;31m             \u001b[0mself\u001b[0m\u001b[0;34m.\u001b[0m\u001b[0m_space\u001b[0m\u001b[0;34m.\u001b[0m\u001b[0mprobe\u001b[0m\u001b[0;34m(\u001b[0m\u001b[0mparams\u001b[0m\u001b[0;34m)\u001b[0m\u001b[0;34m\u001b[0m\u001b[0;34m\u001b[0m\u001b[0m\n\u001b[0m\u001b[1;32m    117\u001b[0m             \u001b[0mself\u001b[0m\u001b[0;34m.\u001b[0m\u001b[0mdispatch\u001b[0m\u001b[0;34m(\u001b[0m\u001b[0mEvents\u001b[0m\u001b[0;34m.\u001b[0m\u001b[0mOPTIMIZATION_STEP\u001b[0m\u001b[0;34m)\u001b[0m\u001b[0;34m\u001b[0m\u001b[0;34m\u001b[0m\u001b[0m\n\u001b[1;32m    118\u001b[0m \u001b[0;34m\u001b[0m\u001b[0m\n",
      "\u001b[0;32m/opt/conda/lib/python3.7/site-packages/bayes_opt/target_space.py\u001b[0m in \u001b[0;36mprobe\u001b[0;34m(self, params)\u001b[0m\n\u001b[1;32m    192\u001b[0m         \u001b[0;32mexcept\u001b[0m \u001b[0mKeyError\u001b[0m\u001b[0;34m:\u001b[0m\u001b[0;34m\u001b[0m\u001b[0;34m\u001b[0m\u001b[0m\n\u001b[1;32m    193\u001b[0m             \u001b[0mparams\u001b[0m \u001b[0;34m=\u001b[0m \u001b[0mdict\u001b[0m\u001b[0;34m(\u001b[0m\u001b[0mzip\u001b[0m\u001b[0;34m(\u001b[0m\u001b[0mself\u001b[0m\u001b[0;34m.\u001b[0m\u001b[0m_keys\u001b[0m\u001b[0;34m,\u001b[0m \u001b[0mx\u001b[0m\u001b[0;34m)\u001b[0m\u001b[0;34m)\u001b[0m\u001b[0;34m\u001b[0m\u001b[0;34m\u001b[0m\u001b[0m\n\u001b[0;32m--> 194\u001b[0;31m             \u001b[0mtarget\u001b[0m \u001b[0;34m=\u001b[0m \u001b[0mself\u001b[0m\u001b[0;34m.\u001b[0m\u001b[0mtarget_func\u001b[0m\u001b[0;34m(\u001b[0m\u001b[0;34m**\u001b[0m\u001b[0mparams\u001b[0m\u001b[0;34m)\u001b[0m\u001b[0;34m\u001b[0m\u001b[0;34m\u001b[0m\u001b[0m\n\u001b[0m\u001b[1;32m    195\u001b[0m             \u001b[0mself\u001b[0m\u001b[0;34m.\u001b[0m\u001b[0mregister\u001b[0m\u001b[0;34m(\u001b[0m\u001b[0mx\u001b[0m\u001b[0;34m,\u001b[0m \u001b[0mtarget\u001b[0m\u001b[0;34m)\u001b[0m\u001b[0;34m\u001b[0m\u001b[0;34m\u001b[0m\u001b[0m\n\u001b[1;32m    196\u001b[0m         \u001b[0;32mreturn\u001b[0m \u001b[0mtarget\u001b[0m\u001b[0;34m\u001b[0m\u001b[0;34m\u001b[0m\u001b[0m\n",
      "\u001b[0;32m/tmp/ipykernel_23/1265039584.py\u001b[0m in \u001b[0;36meval_function\u001b[0;34m(num_leaves, lambda_l1, lambda_l2, feature_fraction, bagging_fraction, min_child_samples, min_child_weight)\u001b[0m\n\u001b[1;32m     26\u001b[0m                            verbose_eval=False)\n\u001b[1;32m     27\u001b[0m     \u001b[0;31m# 검증 데이터로 예측 수행\u001b[0m\u001b[0;34m\u001b[0m\u001b[0;34m\u001b[0m\u001b[0;34m\u001b[0m\u001b[0m\n\u001b[0;32m---> 28\u001b[0;31m     \u001b[0mpreds\u001b[0m \u001b[0;34m=\u001b[0m \u001b[0mlgb_model\u001b[0m\u001b[0;34m.\u001b[0m\u001b[0mpredict\u001b[0m\u001b[0;34m(\u001b[0m\u001b[0mX_valid\u001b[0m\u001b[0;34m)\u001b[0m\u001b[0;34m\u001b[0m\u001b[0;34m\u001b[0m\u001b[0m\n\u001b[0m\u001b[1;32m     29\u001b[0m     \u001b[0;31m# 지니계수 계산\u001b[0m\u001b[0;34m\u001b[0m\u001b[0;34m\u001b[0m\u001b[0;34m\u001b[0m\u001b[0m\n\u001b[1;32m     30\u001b[0m     \u001b[0mgini_score\u001b[0m \u001b[0;34m=\u001b[0m \u001b[0meval_gini\u001b[0m\u001b[0;34m(\u001b[0m\u001b[0my_valid\u001b[0m\u001b[0;34m,\u001b[0m \u001b[0mpreds\u001b[0m\u001b[0;34m)\u001b[0m\u001b[0;34m\u001b[0m\u001b[0;34m\u001b[0m\u001b[0m\n",
      "\u001b[0;32m/opt/conda/lib/python3.7/site-packages/lightgbm/basic.py\u001b[0m in \u001b[0;36mpredict\u001b[0;34m(self, data, start_iteration, num_iteration, raw_score, pred_leaf, pred_contrib, data_has_header, is_reshape, **kwargs)\u001b[0m\n\u001b[1;32m   3538\u001b[0m         return predictor.predict(data, start_iteration, num_iteration,\n\u001b[1;32m   3539\u001b[0m                                  \u001b[0mraw_score\u001b[0m\u001b[0;34m,\u001b[0m \u001b[0mpred_leaf\u001b[0m\u001b[0;34m,\u001b[0m \u001b[0mpred_contrib\u001b[0m\u001b[0;34m,\u001b[0m\u001b[0;34m\u001b[0m\u001b[0;34m\u001b[0m\u001b[0m\n\u001b[0;32m-> 3540\u001b[0;31m                                  data_has_header, is_reshape)\n\u001b[0m\u001b[1;32m   3541\u001b[0m \u001b[0;34m\u001b[0m\u001b[0m\n\u001b[1;32m   3542\u001b[0m     \u001b[0;32mdef\u001b[0m \u001b[0mrefit\u001b[0m\u001b[0;34m(\u001b[0m\u001b[0mself\u001b[0m\u001b[0;34m,\u001b[0m \u001b[0mdata\u001b[0m\u001b[0;34m,\u001b[0m \u001b[0mlabel\u001b[0m\u001b[0;34m,\u001b[0m \u001b[0mdecay_rate\u001b[0m\u001b[0;34m=\u001b[0m\u001b[0;36m0.9\u001b[0m\u001b[0;34m,\u001b[0m \u001b[0;34m**\u001b[0m\u001b[0mkwargs\u001b[0m\u001b[0;34m)\u001b[0m\u001b[0;34m:\u001b[0m\u001b[0;34m\u001b[0m\u001b[0;34m\u001b[0m\u001b[0m\n",
      "\u001b[0;32m/opt/conda/lib/python3.7/site-packages/lightgbm/basic.py\u001b[0m in \u001b[0;36mpredict\u001b[0;34m(self, data, start_iteration, num_iteration, raw_score, pred_leaf, pred_contrib, data_has_header, is_reshape)\u001b[0m\n\u001b[1;32m    842\u001b[0m                 \u001b[0mnrow\u001b[0m \u001b[0;34m=\u001b[0m \u001b[0mpreds\u001b[0m\u001b[0;34m.\u001b[0m\u001b[0mshape\u001b[0m\u001b[0;34m[\u001b[0m\u001b[0;36m0\u001b[0m\u001b[0;34m]\u001b[0m\u001b[0;34m\u001b[0m\u001b[0;34m\u001b[0m\u001b[0m\n\u001b[1;32m    843\u001b[0m         \u001b[0;32melif\u001b[0m \u001b[0misinstance\u001b[0m\u001b[0;34m(\u001b[0m\u001b[0mdata\u001b[0m\u001b[0;34m,\u001b[0m \u001b[0mscipy\u001b[0m\u001b[0;34m.\u001b[0m\u001b[0msparse\u001b[0m\u001b[0;34m.\u001b[0m\u001b[0mcsr_matrix\u001b[0m\u001b[0;34m)\u001b[0m\u001b[0;34m:\u001b[0m\u001b[0;34m\u001b[0m\u001b[0;34m\u001b[0m\u001b[0m\n\u001b[0;32m--> 844\u001b[0;31m             \u001b[0mpreds\u001b[0m\u001b[0;34m,\u001b[0m \u001b[0mnrow\u001b[0m \u001b[0;34m=\u001b[0m \u001b[0mself\u001b[0m\u001b[0;34m.\u001b[0m\u001b[0m__pred_for_csr\u001b[0m\u001b[0;34m(\u001b[0m\u001b[0mdata\u001b[0m\u001b[0;34m,\u001b[0m \u001b[0mstart_iteration\u001b[0m\u001b[0;34m,\u001b[0m \u001b[0mnum_iteration\u001b[0m\u001b[0;34m,\u001b[0m \u001b[0mpredict_type\u001b[0m\u001b[0;34m)\u001b[0m\u001b[0;34m\u001b[0m\u001b[0;34m\u001b[0m\u001b[0m\n\u001b[0m\u001b[1;32m    845\u001b[0m         \u001b[0;32melif\u001b[0m \u001b[0misinstance\u001b[0m\u001b[0;34m(\u001b[0m\u001b[0mdata\u001b[0m\u001b[0;34m,\u001b[0m \u001b[0mscipy\u001b[0m\u001b[0;34m.\u001b[0m\u001b[0msparse\u001b[0m\u001b[0;34m.\u001b[0m\u001b[0mcsc_matrix\u001b[0m\u001b[0;34m)\u001b[0m\u001b[0;34m:\u001b[0m\u001b[0;34m\u001b[0m\u001b[0;34m\u001b[0m\u001b[0m\n\u001b[1;32m    846\u001b[0m             \u001b[0mpreds\u001b[0m\u001b[0;34m,\u001b[0m \u001b[0mnrow\u001b[0m \u001b[0;34m=\u001b[0m \u001b[0mself\u001b[0m\u001b[0;34m.\u001b[0m\u001b[0m__pred_for_csc\u001b[0m\u001b[0;34m(\u001b[0m\u001b[0mdata\u001b[0m\u001b[0;34m,\u001b[0m \u001b[0mstart_iteration\u001b[0m\u001b[0;34m,\u001b[0m \u001b[0mnum_iteration\u001b[0m\u001b[0;34m,\u001b[0m \u001b[0mpredict_type\u001b[0m\u001b[0;34m)\u001b[0m\u001b[0;34m\u001b[0m\u001b[0;34m\u001b[0m\u001b[0m\n",
      "\u001b[0;32m/opt/conda/lib/python3.7/site-packages/lightgbm/basic.py\u001b[0m in \u001b[0;36m__pred_for_csr\u001b[0;34m(self, csr, start_iteration, num_iteration, predict_type)\u001b[0m\n\u001b[1;32m   1075\u001b[0m             \u001b[0;32mreturn\u001b[0m \u001b[0mpreds\u001b[0m\u001b[0;34m,\u001b[0m \u001b[0mnrow\u001b[0m\u001b[0;34m\u001b[0m\u001b[0;34m\u001b[0m\u001b[0m\n\u001b[1;32m   1076\u001b[0m         \u001b[0;32melse\u001b[0m\u001b[0;34m:\u001b[0m\u001b[0;34m\u001b[0m\u001b[0;34m\u001b[0m\u001b[0m\n\u001b[0;32m-> 1077\u001b[0;31m             \u001b[0;32mreturn\u001b[0m \u001b[0minner_predict\u001b[0m\u001b[0;34m(\u001b[0m\u001b[0mcsr\u001b[0m\u001b[0;34m,\u001b[0m \u001b[0mstart_iteration\u001b[0m\u001b[0;34m,\u001b[0m \u001b[0mnum_iteration\u001b[0m\u001b[0;34m,\u001b[0m \u001b[0mpredict_type\u001b[0m\u001b[0;34m)\u001b[0m\u001b[0;34m\u001b[0m\u001b[0;34m\u001b[0m\u001b[0m\n\u001b[0m\u001b[1;32m   1078\u001b[0m \u001b[0;34m\u001b[0m\u001b[0m\n\u001b[1;32m   1079\u001b[0m     \u001b[0;32mdef\u001b[0m \u001b[0m__pred_for_csc\u001b[0m\u001b[0;34m(\u001b[0m\u001b[0mself\u001b[0m\u001b[0;34m,\u001b[0m \u001b[0mcsc\u001b[0m\u001b[0;34m,\u001b[0m \u001b[0mstart_iteration\u001b[0m\u001b[0;34m,\u001b[0m \u001b[0mnum_iteration\u001b[0m\u001b[0;34m,\u001b[0m \u001b[0mpredict_type\u001b[0m\u001b[0;34m)\u001b[0m\u001b[0;34m:\u001b[0m\u001b[0;34m\u001b[0m\u001b[0;34m\u001b[0m\u001b[0m\n",
      "\u001b[0;32m/opt/conda/lib/python3.7/site-packages/lightgbm/basic.py\u001b[0m in \u001b[0;36minner_predict\u001b[0;34m(csr, start_iteration, num_iteration, predict_type, preds)\u001b[0m\n\u001b[1;32m   1016\u001b[0m                 \u001b[0mc_str\u001b[0m\u001b[0;34m(\u001b[0m\u001b[0mself\u001b[0m\u001b[0;34m.\u001b[0m\u001b[0mpred_parameter\u001b[0m\u001b[0;34m)\u001b[0m\u001b[0;34m,\u001b[0m\u001b[0;34m\u001b[0m\u001b[0;34m\u001b[0m\u001b[0m\n\u001b[1;32m   1017\u001b[0m                 \u001b[0mctypes\u001b[0m\u001b[0;34m.\u001b[0m\u001b[0mbyref\u001b[0m\u001b[0;34m(\u001b[0m\u001b[0mout_num_preds\u001b[0m\u001b[0;34m)\u001b[0m\u001b[0;34m,\u001b[0m\u001b[0;34m\u001b[0m\u001b[0;34m\u001b[0m\u001b[0m\n\u001b[0;32m-> 1018\u001b[0;31m                 preds.ctypes.data_as(ctypes.POINTER(ctypes.c_double))))\n\u001b[0m\u001b[1;32m   1019\u001b[0m             \u001b[0;32mif\u001b[0m \u001b[0mn_preds\u001b[0m \u001b[0;34m!=\u001b[0m \u001b[0mout_num_preds\u001b[0m\u001b[0;34m.\u001b[0m\u001b[0mvalue\u001b[0m\u001b[0;34m:\u001b[0m\u001b[0;34m\u001b[0m\u001b[0;34m\u001b[0m\u001b[0m\n\u001b[1;32m   1020\u001b[0m                 \u001b[0;32mraise\u001b[0m \u001b[0mValueError\u001b[0m\u001b[0;34m(\u001b[0m\u001b[0;34m\"Wrong length for predict results\"\u001b[0m\u001b[0;34m)\u001b[0m\u001b[0;34m\u001b[0m\u001b[0;34m\u001b[0m\u001b[0m\n",
      "\u001b[0;31mKeyboardInterrupt\u001b[0m: "
     ]
    }
   ],
   "source": [
    "from bayes_opt import BayesianOptimization\n",
    "\n",
    "# 베이지안 최적화 객체 생성\n",
    "optimizer = BayesianOptimization(f=eval_function,      # 평가지표 계산 함수\n",
    "                                 pbounds=param_bounds, # 하이퍼파라미터 범위\n",
    "                                 random_state=0)\n",
    "\n",
    "# 베이지안 최적화 수행\n",
    "optimizer.maximize(init_points=3, n_iter=6)"
   ]
  },
  {
   "cell_type": "code",
   "execution_count": null,
   "metadata": {
    "execution": {
     "iopub.status.busy": "2022-11-22T08:28:55.326296Z",
     "iopub.status.idle": "2022-11-22T08:28:55.326646Z",
     "shell.execute_reply": "2022-11-22T08:28:55.326493Z",
     "shell.execute_reply.started": "2022-11-22T08:28:55.326477Z"
    }
   },
   "outputs": [],
   "source": [
    "# 평가함수 점수가 최대일 때 하이퍼파라미터\n",
    "max_params = optimizer.max['params']\n",
    "max_params"
   ]
  },
  {
   "cell_type": "code",
   "execution_count": null,
   "metadata": {
    "execution": {
     "iopub.status.busy": "2022-11-22T08:28:55.328494Z",
     "iopub.status.idle": "2022-11-22T08:28:55.329342Z",
     "shell.execute_reply": "2022-11-22T08:28:55.329118Z",
     "shell.execute_reply.started": "2022-11-22T08:28:55.329095Z"
    }
   },
   "outputs": [],
   "source": [
    "# 정수형 하이퍼파라미터 변환\n",
    "max_params['num_leaves'] = int(round(max_params['num_leaves']))\n",
    "max_params['min_child_samples'] = int(round(max_params['min_child_samples']))"
   ]
  },
  {
   "cell_type": "code",
   "execution_count": null,
   "metadata": {
    "execution": {
     "iopub.status.busy": "2022-11-22T08:28:55.330736Z",
     "iopub.status.idle": "2022-11-22T08:28:55.331568Z",
     "shell.execute_reply": "2022-11-22T08:28:55.331317Z",
     "shell.execute_reply.started": "2022-11-22T08:28:55.331294Z"
    }
   },
   "outputs": [],
   "source": [
    "# 값이 고정된 하이퍼파라미터 추가\n",
    "max_params.update(fixed_params)"
   ]
  },
  {
   "cell_type": "code",
   "execution_count": null,
   "metadata": {
    "execution": {
     "iopub.status.busy": "2022-11-22T08:28:55.332891Z",
     "iopub.status.idle": "2022-11-22T08:28:55.333730Z",
     "shell.execute_reply": "2022-11-22T08:28:55.333507Z",
     "shell.execute_reply.started": "2022-11-22T08:28:55.333483Z"
    }
   },
   "outputs": [],
   "source": [
    "max_params"
   ]
  },
  {
   "cell_type": "code",
   "execution_count": null,
   "metadata": {
    "execution": {
     "iopub.status.busy": "2022-11-22T08:28:55.335168Z",
     "iopub.status.idle": "2022-11-22T08:28:55.335812Z",
     "shell.execute_reply": "2022-11-22T08:28:55.335589Z",
     "shell.execute_reply.started": "2022-11-22T08:28:55.335566Z"
    }
   },
   "outputs": [],
   "source": [
    "from sklearn.model_selection import StratifiedKFold\n",
    "\n",
    "# 층화 K 폴드 교차 검증기 생성\n",
    "folds = StratifiedKFold(n_splits=5, shuffle=True, random_state=1991)\n",
    "\n",
    "# OOF 방식으로 훈련된 모델로 검증 데이터 타깃값을 예측한 확률을 담을 1차원 배열\n",
    "oof_val_preds = np.zeros(X.shape[0]) \n",
    "# OOF 방식으로 훈련된 모델로 테스트 데이터 타깃값을 예측한 확률을 담을 1차원 배열\n",
    "oof_test_preds = np.zeros(X_test.shape[0]) \n",
    "\n",
    "# OOF 방식으로 모델 훈련, 검증, 예측\n",
    "for idx, (train_idx, valid_idx) in enumerate(folds.split(X, y)):\n",
    "    # 각 폴드를 구분하는 문구 출력\n",
    "    print('#'*40, f'폴드 {idx+1} / 폴드 {folds.n_splits}', '#'*40)\n",
    "    \n",
    "    # 훈련용 데이터, 검증용 데이터 설정\n",
    "    X_train, y_train = X[train_idx], y[train_idx] # 훈련용 데이터\n",
    "    X_valid, y_valid = X[valid_idx], y[valid_idx] # 검증용 데이터\n",
    "\n",
    "    # LightGBM 전용 데이터셋 생성\n",
    "    dtrain = lgb.Dataset(X_train, y_train) # LightGBM 전용 훈련 데이터셋\n",
    "    dvalid = lgb.Dataset(X_valid, y_valid) # LightGBM 전용 검증 데이터셋\n",
    "                          \n",
    "    # LightGBM 모델 훈련\n",
    "    lgb_model = lgb.train(params=max_params,    # 최적 하이퍼파라미터\n",
    "                          train_set=dtrain,     # 훈련 데이터셋\n",
    "                          num_boost_round=2500, # 부스팅 반복 횟수\n",
    "                          valid_sets=dvalid,    # 성능 평가용 검증 데이터셋\n",
    "                          feval=gini,           # 검증용 평가지표\n",
    "                          early_stopping_rounds=300, # 조기종료 조건\n",
    "                          verbose_eval=100)     # 100번째마다 점수 출력\n",
    "    \n",
    "    # 테스트 데이터를 활용해 OOF 예측\n",
    "    oof_test_preds += lgb_model.predict(X_test)/folds.n_splits\n",
    "    # 모델 성능 평가를 위한 검증 데이터 타깃값 예측 \n",
    "    oof_val_preds[valid_idx] += lgb_model.predict(X_valid)\n",
    "    \n",
    "    # 검증 데이터 예측확률에 대한 정규화 지니계수\n",
    "    gini_score = eval_gini(y_valid, oof_val_preds[valid_idx])\n",
    "    print(f'폴드 {idx+1} 지니계수 : {gini_score}\\n')"
   ]
  },
  {
   "cell_type": "code",
   "execution_count": null,
   "metadata": {
    "execution": {
     "iopub.status.busy": "2022-11-22T08:28:55.337193Z",
     "iopub.status.idle": "2022-11-22T08:28:55.338044Z",
     "shell.execute_reply": "2022-11-22T08:28:55.337817Z",
     "shell.execute_reply.started": "2022-11-22T08:28:55.337794Z"
    }
   },
   "outputs": [],
   "source": [
    "print('OOF 검증 데이터 지니계수 :', eval_gini(y, oof_val_preds))"
   ]
  },
  {
   "cell_type": "markdown",
   "metadata": {},
   "source": [
    "# 성능 개선 2: XGBOOST 모델"
   ]
  },
  {
   "cell_type": "code",
   "execution_count": null,
   "metadata": {
    "execution": {
     "iopub.status.busy": "2022-11-22T08:28:55.339385Z",
     "iopub.status.idle": "2022-11-22T08:28:55.340203Z",
     "shell.execute_reply": "2022-11-22T08:28:55.339981Z",
     "shell.execute_reply.started": "2022-11-22T08:28:55.339957Z"
    }
   },
   "outputs": [],
   "source": [
    "import pandas as pd\n",
    "\n",
    "# 데이터 경로\n",
    "train = pd.read_csv('train.csv', index_col='id')\n",
    "test = pd.read_csv('test.csv', index_col='id')\n",
    "submission = pd.read_csv('sample_submission.csv', index_col='id')"
   ]
  },
  {
   "cell_type": "code",
   "execution_count": null,
   "metadata": {
    "execution": {
     "iopub.status.busy": "2022-11-22T08:28:55.341558Z",
     "iopub.status.idle": "2022-11-22T08:28:55.342351Z",
     "shell.execute_reply": "2022-11-22T08:28:55.342130Z",
     "shell.execute_reply.started": "2022-11-22T08:28:55.342106Z"
    }
   },
   "outputs": [],
   "source": [
    "all_data = pd.concat([train, test], ignore_index=True)\n",
    "all_data = all_data.drop('target', axis=1) # 타깃값 제거\n",
    "\n",
    "all_features = all_data.columns # 전체 피처"
   ]
  },
  {
   "cell_type": "code",
   "execution_count": null,
   "metadata": {
    "execution": {
     "iopub.status.busy": "2022-11-22T08:28:55.343715Z",
     "iopub.status.idle": "2022-11-22T08:28:55.345017Z",
     "shell.execute_reply": "2022-11-22T08:28:55.344796Z",
     "shell.execute_reply.started": "2022-11-22T08:28:55.344771Z"
    }
   },
   "outputs": [],
   "source": [
    "from sklearn.preprocessing import OneHotEncoder\n",
    "\n",
    "# 명목형 피처\n",
    "cat_features = [feature for feature in all_features if 'cat' in feature]\n",
    "\n",
    "# 원-핫 인코딩 적용\n",
    "onehot_encoder = OneHotEncoder()\n",
    "encoded_cat_matrix = onehot_encoder.fit_transform(all_data[cat_features]) "
   ]
  },
  {
   "cell_type": "code",
   "execution_count": null,
   "metadata": {
    "execution": {
     "iopub.status.busy": "2022-11-22T08:28:55.346240Z",
     "iopub.status.idle": "2022-11-22T08:28:55.347791Z",
     "shell.execute_reply": "2022-11-22T08:28:55.347558Z",
     "shell.execute_reply.started": "2022-11-22T08:28:55.347532Z"
    }
   },
   "outputs": [],
   "source": [
    "# '데이터 하나당 결측값 개수'를 파생 피처로 추가\n",
    "all_data['num_missing'] = (all_data==-1).sum(axis=1)"
   ]
  },
  {
   "cell_type": "code",
   "execution_count": null,
   "metadata": {
    "execution": {
     "iopub.status.busy": "2022-11-22T08:28:55.349169Z",
     "iopub.status.idle": "2022-11-22T08:28:55.349946Z",
     "shell.execute_reply": "2022-11-22T08:28:55.349719Z",
     "shell.execute_reply.started": "2022-11-22T08:28:55.349693Z"
    }
   },
   "outputs": [],
   "source": [
    "# 명목형 피처, calc 분류 피처를 제외한 피처\n",
    "remaining_features = [feature for feature in all_features\n",
    "                      if ('cat' not in feature and 'calc' not in feature)] \n",
    "# num_missing을 remaining_features에 추가\n",
    "remaining_features.append('num_missing')"
   ]
  },
  {
   "cell_type": "code",
   "execution_count": null,
   "metadata": {
    "execution": {
     "iopub.status.busy": "2022-11-22T08:28:55.351344Z",
     "iopub.status.idle": "2022-11-22T08:28:55.352111Z",
     "shell.execute_reply": "2022-11-22T08:28:55.351870Z",
     "shell.execute_reply.started": "2022-11-22T08:28:55.351846Z"
    }
   },
   "outputs": [],
   "source": [
    "# 분류가 ind인 피처\n",
    "ind_features = [feature for feature in all_features if 'ind' in feature]\n",
    "\n",
    "is_first_feature = True\n",
    "for ind_feature in ind_features:\n",
    "    if is_first_feature:\n",
    "        all_data['mix_ind'] = all_data[ind_feature].astype(str) + '_'\n",
    "        is_first_feature = False\n",
    "    else:\n",
    "        all_data['mix_ind'] += all_data[ind_feature].astype(str) + '_'"
   ]
  },
  {
   "cell_type": "code",
   "execution_count": null,
   "metadata": {
    "execution": {
     "iopub.status.busy": "2022-11-22T08:28:55.353507Z",
     "iopub.status.idle": "2022-11-22T08:28:55.354260Z",
     "shell.execute_reply": "2022-11-22T08:28:55.354020Z",
     "shell.execute_reply.started": "2022-11-22T08:28:55.353995Z"
    }
   },
   "outputs": [],
   "source": [
    "all_data['mix_ind']"
   ]
  },
  {
   "cell_type": "code",
   "execution_count": null,
   "metadata": {
    "execution": {
     "iopub.status.busy": "2022-11-22T08:28:55.355663Z",
     "iopub.status.idle": "2022-11-22T08:28:55.356420Z",
     "shell.execute_reply": "2022-11-22T08:28:55.356192Z",
     "shell.execute_reply.started": "2022-11-22T08:28:55.356168Z"
    }
   },
   "outputs": [],
   "source": [
    "cat_count_features = []\n",
    "for feature in cat_features+['mix_ind']:\n",
    "    val_counts_dict = all_data[feature].value_counts().to_dict()\n",
    "    all_data[f'{feature}_count'] = all_data[feature].apply(lambda x: \n",
    "                                                           val_counts_dict[x])\n",
    "    cat_count_features.append(f'{feature}_count')"
   ]
  },
  {
   "cell_type": "code",
   "execution_count": null,
   "metadata": {
    "execution": {
     "iopub.status.busy": "2022-11-22T08:28:55.357791Z",
     "iopub.status.idle": "2022-11-22T08:28:55.358560Z",
     "shell.execute_reply": "2022-11-22T08:28:55.358315Z",
     "shell.execute_reply.started": "2022-11-22T08:28:55.358291Z"
    }
   },
   "outputs": [],
   "source": [
    "cat_count_features"
   ]
  },
  {
   "cell_type": "code",
   "execution_count": null,
   "metadata": {
    "execution": {
     "iopub.status.busy": "2022-11-22T08:28:55.359930Z",
     "iopub.status.idle": "2022-11-22T08:28:55.360733Z",
     "shell.execute_reply": "2022-11-22T08:28:55.360482Z",
     "shell.execute_reply.started": "2022-11-22T08:28:55.360456Z"
    }
   },
   "outputs": [],
   "source": [
    "from scipy import sparse\n",
    "\n",
    "# 필요 없는 피처들\n",
    "drop_features = ['ps_ind_14', 'ps_ind_10_bin', 'ps_ind_11_bin', \n",
    "                 'ps_ind_12_bin', 'ps_ind_13_bin', 'ps_car_14']\n",
    "\n",
    "# remaining_features, cat_count_features에서 drop_features를 제거한 데이터\n",
    "all_data_remaining = all_data[remaining_features+cat_count_features].drop(drop_features, axis=1)\n",
    "\n",
    "# 데이터 합치기\n",
    "all_data_sprs = sparse.hstack([sparse.csr_matrix(all_data_remaining),\n",
    "                               encoded_cat_matrix],\n",
    "                              format='csr')"
   ]
  },
  {
   "cell_type": "code",
   "execution_count": null,
   "metadata": {
    "execution": {
     "iopub.status.busy": "2022-11-22T08:28:55.362131Z",
     "iopub.status.idle": "2022-11-22T08:28:55.362932Z",
     "shell.execute_reply": "2022-11-22T08:28:55.362689Z",
     "shell.execute_reply.started": "2022-11-22T08:28:55.362663Z"
    }
   },
   "outputs": [],
   "source": [
    "num_train = len(train) # 훈련 데이터 개수\n",
    "\n",
    "# 훈련 데이터와 테스트 데이터 나누기\n",
    "X = all_data_sprs[:num_train]\n",
    "X_test = all_data_sprs[num_train:]\n",
    "\n",
    "y = train['target'].values"
   ]
  },
  {
   "cell_type": "code",
   "execution_count": null,
   "metadata": {
    "execution": {
     "iopub.status.busy": "2022-11-22T08:28:55.364356Z",
     "iopub.status.idle": "2022-11-22T08:28:55.365118Z",
     "shell.execute_reply": "2022-11-22T08:28:55.364888Z",
     "shell.execute_reply.started": "2022-11-22T08:28:55.364863Z"
    }
   },
   "outputs": [],
   "source": [
    "import numpy as np\n",
    "\n",
    "def eval_gini(y_true, y_pred):\n",
    "    # 실제값과 예측값의 크기가 같은지 확인 (값이 다르면 오류 발생)\n",
    "    assert y_true.shape == y_pred.shape\n",
    "\n",
    "    n_samples = y_true.shape[0]                      # 데이터 개수\n",
    "    L_mid = np.linspace(1 / n_samples, 1, n_samples) # 대각선 값\n",
    "\n",
    "    # 1) 예측값에 대한 지니계수\n",
    "    pred_order = y_true[y_pred.argsort()] # y_pred 크기순으로 y_true 값 정렬\n",
    "    L_pred = np.cumsum(pred_order) / np.sum(pred_order) # 로렌츠 곡선\n",
    "    G_pred = np.sum(L_mid - L_pred)       # 예측 값에 대한 지니계수\n",
    "\n",
    "    # 2) 예측이 완벽할 때 지니계수\n",
    "    true_order = y_true[y_true.argsort()] # y_true 크기순으로 y_true 값 정렬\n",
    "    L_true = np.cumsum(true_order) / np.sum(true_order) # 로렌츠 곡선\n",
    "    G_true = np.sum(L_mid - L_true)       # 예측이 완벽할 때 지니계수\n",
    "\n",
    "    # 정규화된 지니계수\n",
    "    return G_pred / G_true"
   ]
  },
  {
   "cell_type": "code",
   "execution_count": null,
   "metadata": {
    "execution": {
     "iopub.status.busy": "2022-11-22T08:28:55.366506Z",
     "iopub.status.idle": "2022-11-22T08:28:55.367312Z",
     "shell.execute_reply": "2022-11-22T08:28:55.367079Z",
     "shell.execute_reply.started": "2022-11-22T08:28:55.367041Z"
    }
   },
   "outputs": [],
   "source": [
    "# XGBoost용 gini() 함수\n",
    "def gini(preds, dtrain):\n",
    "    labels = dtrain.get_label()\n",
    "    return 'gini', eval_gini(labels, preds)"
   ]
  },
  {
   "cell_type": "code",
   "execution_count": null,
   "metadata": {
    "execution": {
     "iopub.status.busy": "2022-11-22T08:28:55.368719Z",
     "iopub.status.idle": "2022-11-22T08:28:55.369479Z",
     "shell.execute_reply": "2022-11-22T08:28:55.369233Z",
     "shell.execute_reply.started": "2022-11-22T08:28:55.369209Z"
    }
   },
   "outputs": [],
   "source": [
    "import xgboost as xgb\n",
    "from sklearn.model_selection import train_test_split\n",
    "\n",
    "# 8:2 비율로 훈련 데이터, 검증 데이터 분리 (베이지안 최적화 수행용)\n",
    "X_train, X_valid, y_train, y_valid = train_test_split(X, y, \n",
    "                                                      test_size=0.2, \n",
    "                                                      random_state=0)\n",
    "# 베이지안 최적화용 데이터셋\n",
    "bayes_dtrain = xgb.DMatrix(X_train, y_train)\n",
    "bayes_dvalid = xgb.DMatrix(X_valid, y_valid)"
   ]
  },
  {
   "cell_type": "code",
   "execution_count": null,
   "metadata": {
    "execution": {
     "iopub.status.busy": "2022-11-22T08:28:55.370894Z",
     "iopub.status.idle": "2022-11-22T08:28:55.371674Z",
     "shell.execute_reply": "2022-11-22T08:28:55.371451Z",
     "shell.execute_reply.started": "2022-11-22T08:28:55.371406Z"
    }
   },
   "outputs": [],
   "source": [
    "# 베이지안 최적화를 위한 하이퍼파라미터 범위\n",
    "param_bounds = {'max_depth': (4, 8),\n",
    "                'subsample': (0.6, 0.9),\n",
    "                'colsample_bytree': (0.7, 1.0),\n",
    "                'min_child_weight': (5, 7),\n",
    "                'gamma': (8, 11),\n",
    "                'reg_alpha': (7, 9),\n",
    "                'reg_lambda': (1.1, 1.5),\n",
    "                'scale_pos_weight': (1.4, 1.6)}\n",
    "\n",
    "# 값이 고정된 하이퍼파라미터\n",
    "fixed_params = {'objective': 'binary:logistic',\n",
    "                'learning_rate': 0.02,\n",
    "                'random_state': 1991}"
   ]
  },
  {
   "cell_type": "code",
   "execution_count": null,
   "metadata": {
    "execution": {
     "iopub.status.busy": "2022-11-22T08:28:55.373073Z",
     "iopub.status.idle": "2022-11-22T08:28:55.373839Z",
     "shell.execute_reply": "2022-11-22T08:28:55.373610Z",
     "shell.execute_reply.started": "2022-11-22T08:28:55.373586Z"
    }
   },
   "outputs": [],
   "source": [
    "def eval_function(max_depth, subsample, colsample_bytree, min_child_weight,\n",
    "                 reg_alpha, gamma, reg_lambda, scale_pos_weight):\n",
    "    '''최적화하려는 평가지표(지니계수) 계산 함수'''\n",
    "    # 베이지안 최적화를 수행할 하이퍼파라미터\n",
    "    params = {'max_depth': int(round(max_depth)),\n",
    "              'subsample': subsample,\n",
    "              'colsample_bytree': colsample_bytree,\n",
    "              'min_child_weight': min_child_weight,\n",
    "              'gamma': gamma,\n",
    "              'reg_alpha':reg_alpha,\n",
    "              'reg_lambda': reg_lambda,\n",
    "              'scale_pos_weight': scale_pos_weight}\n",
    "    # 값이 고정된 하이퍼파라미터도 추가\n",
    "    params.update(fixed_params)\n",
    "    \n",
    "    print('하이퍼파라미터 :', params)    \n",
    "        \n",
    "    # XGBoost 모델 훈련\n",
    "    xgb_model = xgb.train(params=params, \n",
    "                          dtrain=bayes_dtrain,\n",
    "                          num_boost_round=2000,\n",
    "                          evals=[(bayes_dvalid, 'bayes_dvalid')],\n",
    "                          maximize=True,\n",
    "                          feval=gini,\n",
    "                          early_stopping_rounds=200,\n",
    "                          verbose_eval=False)\n",
    "                           \n",
    "    best_iter = xgb_model.best_iteration # 최적 반복 횟수\n",
    "    # 검증 데이터로 예측 수행\n",
    "    preds = xgb_model.predict(bayes_dvalid, \n",
    "                              iteration_range=(0, best_iter))\n",
    "    # 지니계수 계산\n",
    "    gini_score = eval_gini(y_valid, preds)\n",
    "    print(f'지니계수 : {gini_score}\\n')\n",
    "    \n",
    "    return gini_score"
   ]
  },
  {
   "cell_type": "code",
   "execution_count": null,
   "metadata": {
    "execution": {
     "iopub.status.busy": "2022-11-22T08:28:55.375258Z",
     "iopub.status.idle": "2022-11-22T08:28:55.376007Z",
     "shell.execute_reply": "2022-11-22T08:28:55.375781Z",
     "shell.execute_reply.started": "2022-11-22T08:28:55.375756Z"
    }
   },
   "outputs": [],
   "source": [
    "from bayes_opt import BayesianOptimization\n",
    "\n",
    "# 베이지안 최적화 객체 생성\n",
    "optimizer = BayesianOptimization(f=eval_function, \n",
    "                                 pbounds=param_bounds, \n",
    "                                 random_state=0)\n",
    "\n",
    "# 베이지안 최적화 수행\n",
    "optimizer.maximize(init_points=3, n_iter=6)"
   ]
  },
  {
   "cell_type": "code",
   "execution_count": null,
   "metadata": {
    "execution": {
     "iopub.status.busy": "2022-11-22T08:28:55.377382Z",
     "iopub.status.idle": "2022-11-22T08:28:55.378164Z",
     "shell.execute_reply": "2022-11-22T08:28:55.377925Z",
     "shell.execute_reply.started": "2022-11-22T08:28:55.377900Z"
    }
   },
   "outputs": [],
   "source": [
    "# 평가함수 점수가 최대일 때 하이퍼파라미터\n",
    "max_params = optimizer.max['params']\n",
    "max_params"
   ]
  },
  {
   "cell_type": "code",
   "execution_count": null,
   "metadata": {
    "execution": {
     "iopub.status.busy": "2022-11-22T08:28:55.379572Z",
     "iopub.status.idle": "2022-11-22T08:28:55.380308Z",
     "shell.execute_reply": "2022-11-22T08:28:55.380088Z",
     "shell.execute_reply.started": "2022-11-22T08:28:55.380064Z"
    }
   },
   "outputs": [],
   "source": [
    "# 정수형 하이퍼파라미터 변환\n",
    "max_params['max_depth'] = int(round(max_params['max_depth']))\n",
    "\n",
    "# 값이 고정된 하이퍼파라미터 추가\n",
    "max_params.update(fixed_params)\n",
    "max_params"
   ]
  },
  {
   "cell_type": "code",
   "execution_count": null,
   "metadata": {
    "execution": {
     "iopub.status.busy": "2022-11-22T08:28:55.381743Z",
     "iopub.status.idle": "2022-11-22T08:28:55.382516Z",
     "shell.execute_reply": "2022-11-22T08:28:55.382268Z",
     "shell.execute_reply.started": "2022-11-22T08:28:55.382244Z"
    }
   },
   "outputs": [],
   "source": [
    "from sklearn.model_selection import StratifiedKFold\n",
    "\n",
    "# 층화 K 폴드 교차 검증기 생성\n",
    "folds = StratifiedKFold(n_splits=5, shuffle=True, random_state=1991)\n",
    "\n",
    "# OOF 방식으로 훈련된 모델로 검증 데이터 타깃값을 예측한 확률을 담을 1차원 배열\n",
    "oof_val_preds = np.zeros(X.shape[0]) \n",
    "# OOF 방식으로 훈련된 모델로 테스트 데이터 타깃값을 예측한 확률을 담을 1차원 배열\n",
    "oof_test_preds = np.zeros(X_test.shape[0]) \n",
    "\n",
    "# OOF 방식으로 모델 훈련, 검증, 예측\n",
    "for idx, (train_idx, valid_idx) in enumerate(folds.split(X, y)):\n",
    "    # 각 폴드를 구분하는 문구 출력\n",
    "    print('#'*40, f'폴드 {idx+1} / 폴드 {folds.n_splits}', '#'*40)\n",
    "    \n",
    "    # 훈련용 데이터, 검증용 데이터 설정\n",
    "    X_train, y_train = X[train_idx], y[train_idx]\n",
    "    X_valid, y_valid = X[valid_idx], y[valid_idx]\n",
    "\n",
    "    # XGBoost 전용 데이터셋 생성 \n",
    "    dtrain = xgb.DMatrix(X_train, y_train)\n",
    "    dvalid = xgb.DMatrix(X_valid, y_valid)\n",
    "    dtest = xgb.DMatrix(X_test)\n",
    "    # XGBoost 모델 훈련\n",
    "    xgb_model = xgb.train(params=max_params, \n",
    "                          dtrain=dtrain,\n",
    "                          num_boost_round=2000,\n",
    "                          evals=[(dvalid, 'valid')],\n",
    "                          maximize=True,\n",
    "                          feval=gini,\n",
    "                          early_stopping_rounds=200,\n",
    "                          verbose_eval=100)\n",
    "\n",
    "    # 모델 성능이 가장 좋을 때의 부스팅 반복 횟수 저장\n",
    "    best_iter = xgb_model.best_iteration\n",
    "    # 테스트 데이터를 활용해 OOF 예측\n",
    "    oof_test_preds += xgb_model.predict(dtest,\n",
    "                                        iteration_range=(0, best_iter))/folds.n_splits\n",
    "    \n",
    "    # 모델 성능 평가를 위한 검증 데이터 타깃값 예측 \n",
    "    oof_val_preds[valid_idx] += xgb_model.predict(dvalid, \n",
    "                                                  iteration_range=(0, best_iter))\n",
    "    \n",
    "    # 검증 데이터 예측 확률에 대한 정규화 지니계수\n",
    "    gini_score = eval_gini(y_valid, oof_val_preds[valid_idx])\n",
    "    print(f'폴드 {idx+1} 지니계수 : {gini_score}\\n')"
   ]
  },
  {
   "cell_type": "code",
   "execution_count": null,
   "metadata": {
    "execution": {
     "iopub.status.busy": "2022-11-22T08:28:55.383950Z",
     "iopub.status.idle": "2022-11-22T08:28:55.384852Z",
     "shell.execute_reply": "2022-11-22T08:28:55.384596Z",
     "shell.execute_reply.started": "2022-11-22T08:28:55.384567Z"
    }
   },
   "outputs": [],
   "source": [
    "print('OOF 검증 데이터 지니계수 :', eval_gini(y, oof_val_preds))"
   ]
  },
  {
   "cell_type": "code",
   "execution_count": null,
   "metadata": {
    "execution": {
     "iopub.status.busy": "2022-11-22T08:28:55.386335Z",
     "iopub.status.idle": "2022-11-22T08:28:55.387093Z",
     "shell.execute_reply": "2022-11-22T08:28:55.386856Z",
     "shell.execute_reply.started": "2022-11-22T08:28:55.386832Z"
    }
   },
   "outputs": [],
   "source": [
    "from bayes_opt import BayesianOptimization\n",
    "\n",
    "# 베이지안 최적화 객체 생성\n",
    "optimizer = BayesianOptimization(f=eval_function, \n",
    "                                 pbounds=param_bounds, \n",
    "                                 random_state=0)\n",
    "\n",
    "# 베이지안 최적화 수행\n",
    "optimizer.maximize(init_points=3, n_iter=6)\n",
    "\n",
    "# 평가함수 점수가 최대일 때 하이퍼파라미터\n",
    "max_params = optimizer.max['params']\n",
    "max_params"
   ]
  },
  {
   "cell_type": "code",
   "execution_count": null,
   "metadata": {
    "execution": {
     "iopub.status.busy": "2022-11-22T08:28:55.388489Z",
     "iopub.status.idle": "2022-11-22T08:28:55.389289Z",
     "shell.execute_reply": "2022-11-22T08:28:55.389062Z",
     "shell.execute_reply.started": "2022-11-22T08:28:55.389027Z"
    }
   },
   "outputs": [],
   "source": [
    "# 정수형 하이퍼파라미터 변환\n",
    "max_params['max_depth'] = int(round(max_params['max_depth']))\n",
    "\n",
    "# 값이 고정된 하이퍼파라미터 추가\n",
    "max_params.update(fixed_params)\n",
    "max_params"
   ]
  },
  {
   "cell_type": "code",
   "execution_count": null,
   "metadata": {
    "execution": {
     "iopub.status.busy": "2022-11-22T08:28:55.390709Z",
     "iopub.status.idle": "2022-11-22T08:28:55.391485Z",
     "shell.execute_reply": "2022-11-22T08:28:55.391239Z",
     "shell.execute_reply.started": "2022-11-22T08:28:55.391215Z"
    }
   },
   "outputs": [],
   "source": [
    "from sklearn.model_selection import StratifiedKFold\n",
    "\n",
    "# 층화 K 폴드 교차 검증기 생성\n",
    "folds = StratifiedKFold(n_splits=5, shuffle=True, random_state=1991)\n",
    "\n",
    "# OOF 방식으로 훈련된 모델로 검증 데이터 타깃값을 예측한 확률을 담을 1차원 배열\n",
    "oof_val_preds = np.zeros(X.shape[0]) \n",
    "# OOF 방식으로 훈련된 모델로 테스트 데이터 타깃값을 예측한 확률을 담을 1차원 배열\n",
    "oof_test_preds = np.zeros(X_test.shape[0]) \n",
    "\n",
    "# OOF 방식으로 모델 훈련, 검증, 예측\n",
    "for idx, (train_idx, valid_idx) in enumerate(folds.split(X, y)):\n",
    "    # 각 폴드를 구분하는 문구 출력\n",
    "    print('#'*40, f'폴드 {idx+1} / 폴드 {folds.n_splits}', '#'*40)\n",
    "    \n",
    "    # 훈련용 데이터, 검증용 데이터 설정\n",
    "    X_train, y_train = X[train_idx], y[train_idx]\n",
    "    X_valid, y_valid = X[valid_idx], y[valid_idx]\n",
    "\n",
    "    # XGBoost 전용 데이터셋 생성 \n",
    "    dtrain = xgb.DMatrix(X_train, y_train)\n",
    "    dvalid = xgb.DMatrix(X_valid, y_valid)\n",
    "    dtest = xgb.DMatrix(X_test)\n",
    "    # XGBoost 모델 훈련\n",
    "    xgb_model = xgb.train(params=max_params, \n",
    "                          dtrain=dtrain,\n",
    "                          num_boost_round=2000,\n",
    "                          evals=[(dvalid, 'valid')],\n",
    "                          maximize=True,\n",
    "                          feval=gini,\n",
    "                          early_stopping_rounds=200,\n",
    "                          verbose_eval=100)\n",
    "\n",
    "    # 모델 성능이 가장 좋을 때의 부스팅 반복 횟수 저장\n",
    "    best_iter = xgb_model.best_iteration\n",
    "    # 테스트 데이터를 활용해 OOF 예측\n",
    "    oof_test_preds += xgb_model.predict(dtest,\n",
    "                                        iteration_range=(0, best_iter))/folds.n_splits\n",
    "    \n",
    "    # 모델 성능 평가를 위한 검증 데이터 타깃값 예측 \n",
    "    oof_val_preds[valid_idx] += xgb_model.predict(dvalid, \n",
    "                                                  iteration_range=(0, best_iter))\n",
    "    \n",
    "    # 검증 데이터 예측 확률에 대한 정규화 지니계수\n",
    "    gini_score = eval_gini(y_valid, oof_val_preds[valid_idx])\n",
    "    print(f'폴드 {idx+1} 지니계수 : {gini_score}\\n')"
   ]
  },
  {
   "cell_type": "code",
   "execution_count": null,
   "metadata": {
    "execution": {
     "iopub.status.busy": "2022-11-22T08:28:55.392835Z",
     "iopub.status.idle": "2022-11-22T08:28:55.393614Z",
     "shell.execute_reply": "2022-11-22T08:28:55.393372Z",
     "shell.execute_reply.started": "2022-11-22T08:28:55.393348Z"
    }
   },
   "outputs": [],
   "source": [
    "print('OOF 검증 데이터 지니계수 :', eval_gini(y, oof_val_preds))"
   ]
  },
  {
   "cell_type": "markdown",
   "metadata": {},
   "source": [
    "# 성능 개선 3: LightGBM과 XGBoost 앙상블"
   ]
  },
  {
   "cell_type": "code",
   "execution_count": 1,
   "metadata": {
    "execution": {
     "iopub.execute_input": "2022-11-22T08:28:55.771637Z",
     "iopub.status.busy": "2022-11-22T08:28:55.770938Z",
     "iopub.status.idle": "2022-11-22T08:29:01.533709Z",
     "shell.execute_reply": "2022-11-22T08:29:01.532556Z",
     "shell.execute_reply.started": "2022-11-22T08:28:55.771591Z"
    }
   },
   "outputs": [],
   "source": [
    "import pandas as pd\n",
    "\n",
    "# 데이터 경로\n",
    "train = pd.read_csv('train.csv', index_col='id')\n",
    "test = pd.read_csv('test.csv', index_col='id')\n",
    "submission = pd.read_csv('sample_submission.csv', index_col='id')"
   ]
  },
  {
   "cell_type": "code",
   "execution_count": 2,
   "metadata": {
    "execution": {
     "iopub.execute_input": "2022-11-22T08:29:01.535878Z",
     "iopub.status.busy": "2022-11-22T08:29:01.535511Z",
     "iopub.status.idle": "2022-11-22T08:29:02.603754Z",
     "shell.execute_reply": "2022-11-22T08:29:02.602722Z",
     "shell.execute_reply.started": "2022-11-22T08:29:01.535848Z"
    }
   },
   "outputs": [],
   "source": [
    "all_data = pd.concat([train, test], ignore_index=True)\n",
    "all_data = all_data.drop('target', axis=1) # 타깃값 제거\n",
    "\n",
    "all_features = all_data.columns # 전체 피처"
   ]
  },
  {
   "cell_type": "code",
   "execution_count": 3,
   "metadata": {
    "execution": {
     "iopub.execute_input": "2022-11-22T08:29:02.605807Z",
     "iopub.status.busy": "2022-11-22T08:29:02.605116Z",
     "iopub.status.idle": "2022-11-22T08:29:04.273349Z",
     "shell.execute_reply": "2022-11-22T08:29:04.272268Z",
     "shell.execute_reply.started": "2022-11-22T08:29:02.605769Z"
    }
   },
   "outputs": [],
   "source": [
    "from sklearn.preprocessing import OneHotEncoder\n",
    "\n",
    "cat_features = [feature for feature in all_features if 'cat' in feature] # 명목형 피처\n",
    "\n",
    "# 원-핫 인코딩 적용\n",
    "onehot_encoder = OneHotEncoder()\n",
    "encoded_cat_matrix = onehot_encoder.fit_transform(all_data[cat_features]) "
   ]
  },
  {
   "cell_type": "code",
   "execution_count": 4,
   "metadata": {
    "execution": {
     "iopub.execute_input": "2022-11-22T08:29:04.276629Z",
     "iopub.status.busy": "2022-11-22T08:29:04.275984Z",
     "iopub.status.idle": "2022-11-22T08:29:04.479738Z",
     "shell.execute_reply": "2022-11-22T08:29:04.478758Z",
     "shell.execute_reply.started": "2022-11-22T08:29:04.276585Z"
    }
   },
   "outputs": [],
   "source": [
    "# '데이터 하나당 결측값 개수'를 파생 피로 추가\n",
    "all_data['num_missing'] = (all_data==-1).sum(axis=1)"
   ]
  },
  {
   "cell_type": "code",
   "execution_count": 5,
   "metadata": {
    "execution": {
     "iopub.execute_input": "2022-11-22T08:29:04.481675Z",
     "iopub.status.busy": "2022-11-22T08:29:04.481080Z",
     "iopub.status.idle": "2022-11-22T08:29:04.487444Z",
     "shell.execute_reply": "2022-11-22T08:29:04.486338Z",
     "shell.execute_reply.started": "2022-11-22T08:29:04.481637Z"
    }
   },
   "outputs": [],
   "source": [
    "# 명목형 피처, calc 분류 피처를 제외한 피처\n",
    "remaining_features = [feature for feature in all_features \n",
    "                      if ('cat' not in feature and 'calc' not in feature)] \n",
    "# num_missing을 remaining_features에 추가\n",
    "remaining_features.append('num_missing')"
   ]
  },
  {
   "cell_type": "code",
   "execution_count": 6,
   "metadata": {
    "execution": {
     "iopub.execute_input": "2022-11-22T08:29:04.489266Z",
     "iopub.status.busy": "2022-11-22T08:29:04.488859Z",
     "iopub.status.idle": "2022-11-22T08:29:24.262312Z",
     "shell.execute_reply": "2022-11-22T08:29:24.261294Z",
     "shell.execute_reply.started": "2022-11-22T08:29:04.489232Z"
    }
   },
   "outputs": [],
   "source": [
    "# 분류가 ind인 피처\n",
    "ind_features = [feature for feature in all_features if 'ind' in feature]\n",
    "\n",
    "is_first_feature = True\n",
    "for ind_feature in ind_features:\n",
    "    if is_first_feature:\n",
    "        all_data['mix_ind'] = all_data[ind_feature].astype(str) + '_'\n",
    "        is_first_feature = False\n",
    "    else:\n",
    "        all_data['mix_ind'] += all_data[ind_feature].astype(str) + '_'"
   ]
  },
  {
   "cell_type": "code",
   "execution_count": 7,
   "metadata": {
    "execution": {
     "iopub.execute_input": "2022-11-22T08:29:24.264098Z",
     "iopub.status.busy": "2022-11-22T08:29:24.263747Z",
     "iopub.status.idle": "2022-11-22T08:29:32.622595Z",
     "shell.execute_reply": "2022-11-22T08:29:32.621589Z",
     "shell.execute_reply.started": "2022-11-22T08:29:24.264062Z"
    }
   },
   "outputs": [],
   "source": [
    "cat_count_features = []\n",
    "for feature in cat_features+['mix_ind']:\n",
    "    val_counts_dict = all_data[feature].value_counts().to_dict()\n",
    "    all_data[f'{feature}_count'] = all_data[feature].apply(lambda x: \n",
    "                                                           val_counts_dict[x])\n",
    "    cat_count_features.append(f'{feature}_count')"
   ]
  },
  {
   "cell_type": "code",
   "execution_count": 8,
   "metadata": {
    "execution": {
     "iopub.execute_input": "2022-11-22T08:29:32.624515Z",
     "iopub.status.busy": "2022-11-22T08:29:32.624144Z",
     "iopub.status.idle": "2022-11-22T08:29:32.631992Z",
     "shell.execute_reply": "2022-11-22T08:29:32.630751Z",
     "shell.execute_reply.started": "2022-11-22T08:29:32.624477Z"
    }
   },
   "outputs": [
    {
     "data": {
      "text/plain": [
       "['ps_ind_02_cat_count',\n",
       " 'ps_ind_04_cat_count',\n",
       " 'ps_ind_05_cat_count',\n",
       " 'ps_car_01_cat_count',\n",
       " 'ps_car_02_cat_count',\n",
       " 'ps_car_03_cat_count',\n",
       " 'ps_car_04_cat_count',\n",
       " 'ps_car_05_cat_count',\n",
       " 'ps_car_06_cat_count',\n",
       " 'ps_car_07_cat_count',\n",
       " 'ps_car_08_cat_count',\n",
       " 'ps_car_09_cat_count',\n",
       " 'ps_car_10_cat_count',\n",
       " 'ps_car_11_cat_count',\n",
       " 'mix_ind_count']"
      ]
     },
     "execution_count": 8,
     "metadata": {},
     "output_type": "execute_result"
    }
   ],
   "source": [
    "cat_count_features"
   ]
  },
  {
   "cell_type": "code",
   "execution_count": 9,
   "metadata": {
    "execution": {
     "iopub.execute_input": "2022-11-22T08:29:32.634192Z",
     "iopub.status.busy": "2022-11-22T08:29:32.633809Z",
     "iopub.status.idle": "2022-11-22T08:29:37.927175Z",
     "shell.execute_reply": "2022-11-22T08:29:37.925968Z",
     "shell.execute_reply.started": "2022-11-22T08:29:32.634157Z"
    }
   },
   "outputs": [],
   "source": [
    "from scipy import sparse\n",
    "\n",
    "# 필요 없는 피처들\n",
    "drop_features = ['ps_ind_14', 'ps_ind_10_bin', 'ps_ind_11_bin', \n",
    "                 'ps_ind_12_bin', 'ps_ind_13_bin', 'ps_car_14']\n",
    "\n",
    "# remaining_features, cat_count_features에서 drop_features를 제거한 데이터\n",
    "all_data_remaining = all_data[remaining_features+cat_count_features].drop(drop_features, axis=1)\n",
    "\n",
    "# 데이터 합치기\n",
    "all_data_sprs = sparse.hstack([sparse.csr_matrix(all_data_remaining),\n",
    "                               encoded_cat_matrix],\n",
    "                              format='csr')"
   ]
  },
  {
   "cell_type": "code",
   "execution_count": 10,
   "metadata": {
    "execution": {
     "iopub.execute_input": "2022-11-22T08:29:37.931748Z",
     "iopub.status.busy": "2022-11-22T08:29:37.931400Z",
     "iopub.status.idle": "2022-11-22T08:29:39.018737Z",
     "shell.execute_reply": "2022-11-22T08:29:39.017447Z",
     "shell.execute_reply.started": "2022-11-22T08:29:37.931719Z"
    }
   },
   "outputs": [],
   "source": [
    "num_train = len(train) # 훈련 데이터 개수\n",
    "\n",
    "# 훈련 데이터와 테스트 데이터 나누기\n",
    "X = all_data_sprs[:num_train]\n",
    "X_test = all_data_sprs[num_train:]\n",
    "\n",
    "y = train['target'].values"
   ]
  },
  {
   "cell_type": "code",
   "execution_count": 11,
   "metadata": {
    "execution": {
     "iopub.execute_input": "2022-11-22T08:29:39.020707Z",
     "iopub.status.busy": "2022-11-22T08:29:39.020316Z",
     "iopub.status.idle": "2022-11-22T08:29:39.027948Z",
     "shell.execute_reply": "2022-11-22T08:29:39.026937Z",
     "shell.execute_reply.started": "2022-11-22T08:29:39.020670Z"
    }
   },
   "outputs": [],
   "source": [
    "import numpy as np\n",
    "\n",
    "def eval_gini(y_true, y_pred):\n",
    "    # 실제값과 예측값의 크기가 같은지 확인 (값이 다르면 오류 발생)\n",
    "    assert y_true.shape == y_pred.shape\n",
    "\n",
    "    n_samples = y_true.shape[0]                      # 데이터 개수\n",
    "    L_mid = np.linspace(1 / n_samples, 1, n_samples) # 대각선 값\n",
    "\n",
    "    # 1) 예측값에 대한 지니계수\n",
    "    pred_order = y_true[y_pred.argsort()] # y_pred 크기순으로 y_true 값 정렬\n",
    "    L_pred = np.cumsum(pred_order) / np.sum(pred_order) # 로렌츠 곡선\n",
    "    G_pred = np.sum(L_mid - L_pred)       # 예측 값에 대한 지니계수\n",
    "\n",
    "    # 2) 예측이 완벽할 때 지니계수\n",
    "    true_order = y_true[y_true.argsort()] # y_true 크기순으로 y_true 값 정렬\n",
    "    L_true = np.cumsum(true_order) / np.sum(true_order) # 로렌츠 곡선\n",
    "    G_true = np.sum(L_mid - L_true)       # 예측이 완벽할 때 지니계수\n",
    "\n",
    "    # 정규화된 지니계수\n",
    "    return G_pred / G_true"
   ]
  },
  {
   "cell_type": "code",
   "execution_count": 12,
   "metadata": {
    "execution": {
     "iopub.execute_input": "2022-11-22T08:29:39.030207Z",
     "iopub.status.busy": "2022-11-22T08:29:39.029513Z",
     "iopub.status.idle": "2022-11-22T08:29:39.038817Z",
     "shell.execute_reply": "2022-11-22T08:29:39.037990Z",
     "shell.execute_reply.started": "2022-11-22T08:29:39.030131Z"
    }
   },
   "outputs": [],
   "source": [
    "# LightGBM용 gini() 함수\n",
    "def gini_lgb(preds, dtrain):\n",
    "    labels = dtrain.get_label()\n",
    "    return 'gini', eval_gini(labels, preds), True"
   ]
  },
  {
   "cell_type": "code",
   "execution_count": 13,
   "metadata": {
    "execution": {
     "iopub.execute_input": "2022-11-22T08:29:39.040646Z",
     "iopub.status.busy": "2022-11-22T08:29:39.040266Z",
     "iopub.status.idle": "2022-11-22T08:29:39.049025Z",
     "shell.execute_reply": "2022-11-22T08:29:39.048121Z",
     "shell.execute_reply.started": "2022-11-22T08:29:39.040607Z"
    }
   },
   "outputs": [],
   "source": [
    "# XGBoost용 gini() 함수\n",
    "def gini_xgb(preds, dtrain):\n",
    "    labels = dtrain.get_label()\n",
    "    return 'gini', eval_gini(labels, preds)"
   ]
  },
  {
   "cell_type": "code",
   "execution_count": 14,
   "metadata": {
    "execution": {
     "iopub.execute_input": "2022-11-22T08:29:39.052269Z",
     "iopub.status.busy": "2022-11-22T08:29:39.051212Z",
     "iopub.status.idle": "2022-11-22T08:29:39.057618Z",
     "shell.execute_reply": "2022-11-22T08:29:39.056692Z",
     "shell.execute_reply.started": "2022-11-22T08:29:39.052173Z"
    }
   },
   "outputs": [],
   "source": [
    "from sklearn.model_selection import StratifiedKFold\n",
    "\n",
    "# 층화 K 폴드 교차 검증기 생성\n",
    "folds = StratifiedKFold(n_splits=5, shuffle=True, random_state=1991)"
   ]
  },
  {
   "cell_type": "code",
   "execution_count": 15,
   "metadata": {
    "execution": {
     "iopub.execute_input": "2022-11-22T08:29:39.059366Z",
     "iopub.status.busy": "2022-11-22T08:29:39.059020Z",
     "iopub.status.idle": "2022-11-22T08:29:39.070160Z",
     "shell.execute_reply": "2022-11-22T08:29:39.069195Z",
     "shell.execute_reply.started": "2022-11-22T08:29:39.059330Z"
    }
   },
   "outputs": [],
   "source": [
    "max_params_lgb = {\n",
    "    'bagging_fraction': 0.6213108174593661,\n",
    "    'feature_fraction': 0.608712929970154,\n",
    "    'lambda_l1': 0.7040436794880651,\n",
    "    'lambda_l2': 0.9832619845547939,\n",
    "    'min_child_samples': 9,\n",
    "    'min_child_weight': 36.10036444740457,\n",
    "    'num_leaves': 40,\n",
    "    'objective': 'binary',\n",
    "    'learning_rate': 0.005,\n",
    "    'bagging_freq': 1,\n",
    "    'force_row_wise': True,\n",
    "    'random_state': 1991\n",
    "}"
   ]
  },
  {
   "cell_type": "code",
   "execution_count": 16,
   "metadata": {
    "execution": {
     "iopub.execute_input": "2022-11-22T08:29:39.072386Z",
     "iopub.status.busy": "2022-11-22T08:29:39.071830Z"
    }
   },
   "outputs": [
    {
     "name": "stdout",
     "output_type": "stream",
     "text": [
      "######################################## 폴드 1 / 폴드 5 ########################################\n"
     ]
    },
    {
     "name": "stderr",
     "output_type": "stream",
     "text": [
      "/opt/homebrew/lib/python3.9/site-packages/lightgbm/engine.py:181: UserWarning: 'early_stopping_rounds' argument is deprecated and will be removed in a future release of LightGBM. Pass 'early_stopping()' callback via 'callbacks' argument instead.\n",
      "  _log_warning(\"'early_stopping_rounds' argument is deprecated and will be removed in a future release of LightGBM. \"\n",
      "/opt/homebrew/lib/python3.9/site-packages/lightgbm/engine.py:239: UserWarning: 'verbose_eval' argument is deprecated and will be removed in a future release of LightGBM. Pass 'log_evaluation()' callback via 'callbacks' argument instead.\n",
      "  _log_warning(\"'verbose_eval' argument is deprecated and will be removed in a future release of LightGBM. \"\n"
     ]
    },
    {
     "name": "stdout",
     "output_type": "stream",
     "text": [
      "[LightGBM] [Info] Number of positive: 17355, number of negative: 458814\n",
      "[LightGBM] [Info] Total Bins 1554\n",
      "[LightGBM] [Info] Number of data points in the train set: 476169, number of used features: 216\n",
      "[LightGBM] [Info] [binary:BoostFromScore]: pavg=0.036447 -> initscore=-3.274764\n",
      "[LightGBM] [Info] Start training from score -3.274764\n",
      "Training until validation scores don't improve for 300 rounds\n",
      "[100]\tvalid_0's binary_logloss: 0.154239\tvalid_0's gini: 0.270944\n",
      "[200]\tvalid_0's binary_logloss: 0.153176\tvalid_0's gini: 0.275764\n",
      "[300]\tvalid_0's binary_logloss: 0.152584\tvalid_0's gini: 0.279501\n",
      "[400]\tvalid_0's binary_logloss: 0.152222\tvalid_0's gini: 0.282893\n",
      "[500]\tvalid_0's binary_logloss: 0.151986\tvalid_0's gini: 0.286058\n",
      "[600]\tvalid_0's binary_logloss: 0.151824\tvalid_0's gini: 0.288805\n",
      "[700]\tvalid_0's binary_logloss: 0.151712\tvalid_0's gini: 0.290719\n",
      "[800]\tvalid_0's binary_logloss: 0.151622\tvalid_0's gini: 0.292581\n",
      "[900]\tvalid_0's binary_logloss: 0.151552\tvalid_0's gini: 0.294212\n",
      "[1000]\tvalid_0's binary_logloss: 0.151505\tvalid_0's gini: 0.295204\n",
      "[1100]\tvalid_0's binary_logloss: 0.151471\tvalid_0's gini: 0.295909\n",
      "[1200]\tvalid_0's binary_logloss: 0.151438\tvalid_0's gini: 0.296721\n",
      "[1300]\tvalid_0's binary_logloss: 0.151414\tvalid_0's gini: 0.297335\n",
      "[1400]\tvalid_0's binary_logloss: 0.151402\tvalid_0's gini: 0.297569\n",
      "[1500]\tvalid_0's binary_logloss: 0.15139\tvalid_0's gini: 0.297881\n",
      "[1600]\tvalid_0's binary_logloss: 0.151382\tvalid_0's gini: 0.298033\n",
      "[1700]\tvalid_0's binary_logloss: 0.151376\tvalid_0's gini: 0.298238\n",
      "[1800]\tvalid_0's binary_logloss: 0.151372\tvalid_0's gini: 0.298342\n",
      "[1900]\tvalid_0's binary_logloss: 0.151369\tvalid_0's gini: 0.298371\n",
      "[2000]\tvalid_0's binary_logloss: 0.151371\tvalid_0's gini: 0.298222\n",
      "[2100]\tvalid_0's binary_logloss: 0.151362\tvalid_0's gini: 0.298463\n",
      "[2200]\tvalid_0's binary_logloss: 0.151359\tvalid_0's gini: 0.298466\n",
      "[2300]\tvalid_0's binary_logloss: 0.151362\tvalid_0's gini: 0.298415\n",
      "[2400]\tvalid_0's binary_logloss: 0.151359\tvalid_0's gini: 0.298569\n",
      "[2500]\tvalid_0's binary_logloss: 0.151361\tvalid_0's gini: 0.298542\n",
      "Did not meet early stopping. Best iteration is:\n",
      "[2458]\tvalid_0's binary_logloss: 0.151355\tvalid_0's gini: 0.29865\n",
      "폴드 1 지니계수 : 0.2986504843987991\n",
      "\n",
      "######################################## 폴드 2 / 폴드 5 ########################################\n",
      "[LightGBM] [Info] Number of positive: 17355, number of negative: 458814\n",
      "[LightGBM] [Info] Total Bins 1560\n",
      "[LightGBM] [Info] Number of data points in the train set: 476169, number of used features: 216\n",
      "[LightGBM] [Info] [binary:BoostFromScore]: pavg=0.036447 -> initscore=-3.274764\n",
      "[LightGBM] [Info] Start training from score -3.274764\n",
      "Training until validation scores don't improve for 300 rounds\n",
      "[100]\tvalid_0's binary_logloss: 0.154347\tvalid_0's gini: 0.258575\n",
      "[200]\tvalid_0's binary_logloss: 0.153338\tvalid_0's gini: 0.263768\n",
      "[300]\tvalid_0's binary_logloss: 0.152804\tvalid_0's gini: 0.267635\n",
      "[400]\tvalid_0's binary_logloss: 0.152483\tvalid_0's gini: 0.271009\n",
      "[500]\tvalid_0's binary_logloss: 0.152299\tvalid_0's gini: 0.27324\n",
      "[600]\tvalid_0's binary_logloss: 0.152157\tvalid_0's gini: 0.275756\n",
      "[700]\tvalid_0's binary_logloss: 0.15206\tvalid_0's gini: 0.277655\n",
      "[800]\tvalid_0's binary_logloss: 0.151986\tvalid_0's gini: 0.279371\n",
      "[900]\tvalid_0's binary_logloss: 0.151942\tvalid_0's gini: 0.280359\n",
      "[1000]\tvalid_0's binary_logloss: 0.151898\tvalid_0's gini: 0.281475\n",
      "[1100]\tvalid_0's binary_logloss: 0.15186\tvalid_0's gini: 0.282482\n",
      "[1200]\tvalid_0's binary_logloss: 0.151835\tvalid_0's gini: 0.283198\n",
      "[1300]\tvalid_0's binary_logloss: 0.15181\tvalid_0's gini: 0.283848\n",
      "[1400]\tvalid_0's binary_logloss: 0.151796\tvalid_0's gini: 0.284221\n",
      "[1500]\tvalid_0's binary_logloss: 0.151781\tvalid_0's gini: 0.284645\n",
      "[1600]\tvalid_0's binary_logloss: 0.15177\tvalid_0's gini: 0.284943\n",
      "[1700]\tvalid_0's binary_logloss: 0.151761\tvalid_0's gini: 0.285129\n",
      "[1800]\tvalid_0's binary_logloss: 0.151755\tvalid_0's gini: 0.28522\n",
      "[1900]\tvalid_0's binary_logloss: 0.151752\tvalid_0's gini: 0.285325\n",
      "[2000]\tvalid_0's binary_logloss: 0.151749\tvalid_0's gini: 0.285504\n",
      "[2100]\tvalid_0's binary_logloss: 0.151748\tvalid_0's gini: 0.285633\n",
      "[2200]\tvalid_0's binary_logloss: 0.151744\tvalid_0's gini: 0.285711\n",
      "[2300]\tvalid_0's binary_logloss: 0.15174\tvalid_0's gini: 0.285853\n",
      "[2400]\tvalid_0's binary_logloss: 0.15174\tvalid_0's gini: 0.28594\n",
      "[2500]\tvalid_0's binary_logloss: 0.151745\tvalid_0's gini: 0.285916\n",
      "Did not meet early stopping. Best iteration is:\n",
      "[2334]\tvalid_0's binary_logloss: 0.151736\tvalid_0's gini: 0.285929\n",
      "폴드 2 지니계수 : 0.2859292916021393\n",
      "\n",
      "######################################## 폴드 3 / 폴드 5 ########################################\n",
      "[LightGBM] [Info] Number of positive: 17356, number of negative: 458814\n",
      "[LightGBM] [Info] Total Bins 1558\n",
      "[LightGBM] [Info] Number of data points in the train set: 476170, number of used features: 217\n",
      "[LightGBM] [Info] [binary:BoostFromScore]: pavg=0.036449 -> initscore=-3.274707\n",
      "[LightGBM] [Info] Start training from score -3.274707\n",
      "Training until validation scores don't improve for 300 rounds\n",
      "[100]\tvalid_0's binary_logloss: 0.15424\tvalid_0's gini: 0.263985\n",
      "[200]\tvalid_0's binary_logloss: 0.153171\tvalid_0's gini: 0.268713\n",
      "[300]\tvalid_0's binary_logloss: 0.152574\tvalid_0's gini: 0.272773\n",
      "[400]\tvalid_0's binary_logloss: 0.152223\tvalid_0's gini: 0.275785\n",
      "[500]\tvalid_0's binary_logloss: 0.152001\tvalid_0's gini: 0.278098\n",
      "[600]\tvalid_0's binary_logloss: 0.151847\tvalid_0's gini: 0.280206\n",
      "[700]\tvalid_0's binary_logloss: 0.151748\tvalid_0's gini: 0.281603\n",
      "[800]\tvalid_0's binary_logloss: 0.151682\tvalid_0's gini: 0.282672\n",
      "[900]\tvalid_0's binary_logloss: 0.151637\tvalid_0's gini: 0.283423\n",
      "[1000]\tvalid_0's binary_logloss: 0.151608\tvalid_0's gini: 0.283963\n",
      "[1100]\tvalid_0's binary_logloss: 0.151589\tvalid_0's gini: 0.284105\n",
      "[1200]\tvalid_0's binary_logloss: 0.151574\tvalid_0's gini: 0.284387\n",
      "[1300]\tvalid_0's binary_logloss: 0.151575\tvalid_0's gini: 0.284318\n",
      "[1400]\tvalid_0's binary_logloss: 0.151572\tvalid_0's gini: 0.284372\n",
      "[1500]\tvalid_0's binary_logloss: 0.151569\tvalid_0's gini: 0.284466\n",
      "[1600]\tvalid_0's binary_logloss: 0.151574\tvalid_0's gini: 0.284435\n",
      "[1700]\tvalid_0's binary_logloss: 0.151579\tvalid_0's gini: 0.284362\n",
      "Early stopping, best iteration is:\n",
      "[1478]\tvalid_0's binary_logloss: 0.151568\tvalid_0's gini: 0.284492\n",
      "폴드 3 지니계수 : 0.2844916047790675\n",
      "\n",
      "######################################## 폴드 4 / 폴드 5 ########################################\n",
      "[LightGBM] [Info] Number of positive: 17355, number of negative: 458815\n",
      "[LightGBM] [Info] Total Bins 1555\n",
      "[LightGBM] [Info] Number of data points in the train set: 476170, number of used features: 216\n",
      "[LightGBM] [Info] [binary:BoostFromScore]: pavg=0.036447 -> initscore=-3.274766\n",
      "[LightGBM] [Info] Start training from score -3.274766\n",
      "Training until validation scores don't improve for 300 rounds\n",
      "[100]\tvalid_0's binary_logloss: 0.154327\tvalid_0's gini: 0.256916\n",
      "[200]\tvalid_0's binary_logloss: 0.15331\tvalid_0's gini: 0.261871\n",
      "[300]\tvalid_0's binary_logloss: 0.152761\tvalid_0's gini: 0.265441\n",
      "[400]\tvalid_0's binary_logloss: 0.152441\tvalid_0's gini: 0.268613\n",
      "[500]\tvalid_0's binary_logloss: 0.152245\tvalid_0's gini: 0.271168\n",
      "[600]\tvalid_0's binary_logloss: 0.152098\tvalid_0's gini: 0.273746\n",
      "[700]\tvalid_0's binary_logloss: 0.152012\tvalid_0's gini: 0.275192\n",
      "[800]\tvalid_0's binary_logloss: 0.151952\tvalid_0's gini: 0.276278\n",
      "[900]\tvalid_0's binary_logloss: 0.151911\tvalid_0's gini: 0.277039\n",
      "[1000]\tvalid_0's binary_logloss: 0.151871\tvalid_0's gini: 0.277996\n",
      "[1100]\tvalid_0's binary_logloss: 0.151844\tvalid_0's gini: 0.278535\n",
      "[1200]\tvalid_0's binary_logloss: 0.151827\tvalid_0's gini: 0.279055\n",
      "[1300]\tvalid_0's binary_logloss: 0.151817\tvalid_0's gini: 0.27936\n",
      "[1400]\tvalid_0's binary_logloss: 0.151799\tvalid_0's gini: 0.279872\n",
      "[1500]\tvalid_0's binary_logloss: 0.151797\tvalid_0's gini: 0.280053\n",
      "[1600]\tvalid_0's binary_logloss: 0.151792\tvalid_0's gini: 0.280148\n",
      "[1700]\tvalid_0's binary_logloss: 0.151794\tvalid_0's gini: 0.280162\n",
      "[1800]\tvalid_0's binary_logloss: 0.151793\tvalid_0's gini: 0.280319\n",
      "[1900]\tvalid_0's binary_logloss: 0.151795\tvalid_0's gini: 0.280422\n",
      "[2000]\tvalid_0's binary_logloss: 0.151797\tvalid_0's gini: 0.280419\n",
      "[2100]\tvalid_0's binary_logloss: 0.151799\tvalid_0's gini: 0.280516\n",
      "Early stopping, best iteration is:\n",
      "[1852]\tvalid_0's binary_logloss: 0.15179\tvalid_0's gini: 0.280514\n"
     ]
    },
    {
     "name": "stdout",
     "output_type": "stream",
     "text": [
      "폴드 4 지니계수 : 0.2805136229288192\n",
      "\n",
      "######################################## 폴드 5 / 폴드 5 ########################################\n",
      "[LightGBM] [Info] Number of positive: 17355, number of negative: 458815\n",
      "[LightGBM] [Info] Total Bins 1558\n",
      "[LightGBM] [Info] Number of data points in the train set: 476170, number of used features: 217\n",
      "[LightGBM] [Info] [binary:BoostFromScore]: pavg=0.036447 -> initscore=-3.274766\n",
      "[LightGBM] [Info] Start training from score -3.274766\n",
      "Training until validation scores don't improve for 300 rounds\n",
      "[100]\tvalid_0's binary_logloss: 0.15439\tvalid_0's gini: 0.26681\n",
      "[200]\tvalid_0's binary_logloss: 0.15338\tvalid_0's gini: 0.272186\n",
      "[300]\tvalid_0's binary_logloss: 0.152821\tvalid_0's gini: 0.275897\n",
      "[400]\tvalid_0's binary_logloss: 0.1525\tvalid_0's gini: 0.278734\n",
      "[500]\tvalid_0's binary_logloss: 0.152277\tvalid_0's gini: 0.282151\n",
      "[600]\tvalid_0's binary_logloss: 0.15212\tvalid_0's gini: 0.285039\n",
      "[700]\tvalid_0's binary_logloss: 0.152009\tvalid_0's gini: 0.287435\n",
      "[800]\tvalid_0's binary_logloss: 0.15192\tvalid_0's gini: 0.289549\n",
      "[900]\tvalid_0's binary_logloss: 0.151862\tvalid_0's gini: 0.290886\n",
      "[1000]\tvalid_0's binary_logloss: 0.151819\tvalid_0's gini: 0.291935\n",
      "[1100]\tvalid_0's binary_logloss: 0.151782\tvalid_0's gini: 0.292972\n",
      "[1200]\tvalid_0's binary_logloss: 0.151752\tvalid_0's gini: 0.293784\n",
      "[1300]\tvalid_0's binary_logloss: 0.151732\tvalid_0's gini: 0.294315\n",
      "[1400]\tvalid_0's binary_logloss: 0.151724\tvalid_0's gini: 0.294475\n",
      "[1500]\tvalid_0's binary_logloss: 0.151713\tvalid_0's gini: 0.294786\n",
      "[1600]\tvalid_0's binary_logloss: 0.1517\tvalid_0's gini: 0.295146\n",
      "[1700]\tvalid_0's binary_logloss: 0.151694\tvalid_0's gini: 0.295268\n",
      "[1800]\tvalid_0's binary_logloss: 0.151695\tvalid_0's gini: 0.295212\n",
      "[1900]\tvalid_0's binary_logloss: 0.151689\tvalid_0's gini: 0.295454\n",
      "[2000]\tvalid_0's binary_logloss: 0.151693\tvalid_0's gini: 0.2954\n",
      "[2100]\tvalid_0's binary_logloss: 0.151694\tvalid_0's gini: 0.295427\n",
      "[2200]\tvalid_0's binary_logloss: 0.151692\tvalid_0's gini: 0.295538\n",
      "[2300]\tvalid_0's binary_logloss: 0.151699\tvalid_0's gini: 0.295411\n",
      "Early stopping, best iteration is:\n",
      "[2045]\tvalid_0's binary_logloss: 0.151689\tvalid_0's gini: 0.295553\n",
      "폴드 5 지니계수 : 0.29555250456072807\n",
      "\n"
     ]
    }
   ],
   "source": [
    "import lightgbm as lgb\n",
    "\n",
    "# OOF 방식으로 훈련된 모델로 검증 데이터 타깃값을 예측한 확률을 담을 1차원 배열\n",
    "oof_val_preds_lgb = np.zeros(X.shape[0]) \n",
    "# OOF 방식으로 훈련된 모델로 테스트 데이터 타깃값을 예측한 확률을 담을 1차원 배열\n",
    "oof_test_preds_lgb = np.zeros(X_test.shape[0]) \n",
    "\n",
    "# OOF 방식으로 모델 훈련, 검증, 예측\n",
    "for idx, (train_idx, valid_idx) in enumerate(folds.split(X, y)):\n",
    "    # 각 폴드를 구분하는 문구 출력\n",
    "    print('#'*40, f'폴드 {idx+1} / 폴드 {folds.n_splits}', '#'*40)\n",
    "    \n",
    "    # 훈련용 데이터, 검증용 데이터 설정\n",
    "    X_train, y_train = X[train_idx], y[train_idx] # 훈련용 데이터\n",
    "    X_valid, y_valid = X[valid_idx], y[valid_idx] # 검증용 데이터\n",
    "\n",
    "    # LightGBM 전용 데이터셋 생성\n",
    "    dtrain = lgb.Dataset(X_train, y_train) # LightGBM 전용 훈련 데이터셋\n",
    "    dvalid = lgb.Dataset(X_valid, y_valid) # LightGBM 전용 검증 데이터셋\n",
    "                          \n",
    "    # LightGBM 모델 훈련\n",
    "    lgb_model = lgb.train(params=max_params_lgb,     # 최적 하이퍼파라미터\n",
    "                          train_set=dtrain,          # 훈련 데이터셋\n",
    "                          num_boost_round=2500,      # 부스팅 반복 횟수\n",
    "                          valid_sets=dvalid,         # 성능 평가용 검증 데이터셋\n",
    "                          feval=gini_lgb,            # 검증용 평가지표\n",
    "                          early_stopping_rounds=300, # 조기종료 조건\n",
    "                          verbose_eval=100)          # 100번째마다 점수 출력\n",
    "    \n",
    "    # 테스트 데이터를 활용해 OOF 예측\n",
    "    oof_test_preds_lgb += lgb_model.predict(X_test)/folds.n_splits\n",
    "    \n",
    "    # 모델 성능 평가를 위한 검증 데이터 타깃값 예측 \n",
    "    oof_val_preds_lgb[valid_idx] += lgb_model.predict(X_valid)\n",
    "    \n",
    "    # 검증 데이터 예측확률에 대한 정규화 지니계수\n",
    "    gini_score = eval_gini(y_valid, oof_val_preds_lgb[valid_idx])\n",
    "    print(f'폴드 {idx+1} 지니계수 : {gini_score}\\n')"
   ]
  },
  {
   "cell_type": "code",
   "execution_count": 17,
   "metadata": {},
   "outputs": [],
   "source": [
    "max_params_xgb = {\n",
    "    'colsample_bytree': 0.8843124587484356,\n",
    "    'gamma': 10.452246227672624,\n",
    "    'max_depth': 7,\n",
    "    'min_child_weight': 6.494091293383359,\n",
    "    'reg_alpha': 8.551838810159788,\n",
    "    'reg_lambda': 1.3814765995549108,\n",
    "    'scale_pos_weight': 1.423280772455086,\n",
    "    'subsample': 0.7001630536555632,\n",
    "    'objective': 'binary:logistic',\n",
    "    'learning_rate': 0.02,\n",
    "    'random_state': 1991\n",
    "}"
   ]
  },
  {
   "cell_type": "code",
   "execution_count": 18,
   "metadata": {},
   "outputs": [
    {
     "name": "stdout",
     "output_type": "stream",
     "text": [
      "######################################## 폴드 1 / 폴드 5 ########################################\n"
     ]
    },
    {
     "name": "stderr",
     "output_type": "stream",
     "text": [
      "/opt/homebrew/lib/python3.9/site-packages/xgboost/training.py:35: UserWarning: `feval` is deprecated, use `custom_metric` instead.  They have different behavior when custom objective is also used.See https://xgboost.readthedocs.io/en/latest/tutorials/custom_metric_obj.html for details on the `custom_metric`.\n",
      "  warnings.warn(\n"
     ]
    },
    {
     "name": "stdout",
     "output_type": "stream",
     "text": [
      "[0]\tvalid-logloss:0.67665\tvalid-gini:0.15993\n",
      "[100]\tvalid-logloss:0.19090\tvalid-gini:0.24853\n",
      "[200]\tvalid-logloss:0.15781\tvalid-gini:0.27671\n",
      "[300]\tvalid-logloss:0.15458\tvalid-gini:0.28713\n",
      "[400]\tvalid-logloss:0.15405\tvalid-gini:0.29241\n",
      "[500]\tvalid-logloss:0.15390\tvalid-gini:0.29498\n",
      "[600]\tvalid-logloss:0.15386\tvalid-gini:0.29611\n",
      "[700]\tvalid-logloss:0.15379\tvalid-gini:0.29735\n",
      "[800]\tvalid-logloss:0.15377\tvalid-gini:0.29845\n",
      "[900]\tvalid-logloss:0.15374\tvalid-gini:0.29873\n",
      "[1000]\tvalid-logloss:0.15373\tvalid-gini:0.29933\n",
      "[1100]\tvalid-logloss:0.15372\tvalid-gini:0.29939\n",
      "[1200]\tvalid-logloss:0.15371\tvalid-gini:0.29956\n",
      "[1300]\tvalid-logloss:0.15370\tvalid-gini:0.29947\n",
      "[1400]\tvalid-logloss:0.15372\tvalid-gini:0.29918\n",
      "[1409]\tvalid-logloss:0.15371\tvalid-gini:0.29918\n",
      "폴드 1 지니계수 : 0.2996007343016242\n",
      "\n",
      "######################################## 폴드 2 / 폴드 5 ########################################\n",
      "[0]\tvalid-logloss:0.67666\tvalid-gini:0.12533\n",
      "[100]\tvalid-logloss:0.19102\tvalid-gini:0.23638\n",
      "[200]\tvalid-logloss:0.15806\tvalid-gini:0.26361\n",
      "[300]\tvalid-logloss:0.15496\tvalid-gini:0.27281\n",
      "[400]\tvalid-logloss:0.15448\tvalid-gini:0.27716\n",
      "[500]\tvalid-logloss:0.15435\tvalid-gini:0.27942\n",
      "[600]\tvalid-logloss:0.15430\tvalid-gini:0.28081\n",
      "[700]\tvalid-logloss:0.15427\tvalid-gini:0.28203\n",
      "[800]\tvalid-logloss:0.15425\tvalid-gini:0.28290\n",
      "[900]\tvalid-logloss:0.15422\tvalid-gini:0.28362\n",
      "[1000]\tvalid-logloss:0.15420\tvalid-gini:0.28396\n",
      "[1100]\tvalid-logloss:0.15422\tvalid-gini:0.28401\n",
      "[1200]\tvalid-logloss:0.15421\tvalid-gini:0.28423\n",
      "[1300]\tvalid-logloss:0.15419\tvalid-gini:0.28456\n",
      "[1400]\tvalid-logloss:0.15416\tvalid-gini:0.28490\n",
      "[1500]\tvalid-logloss:0.15418\tvalid-gini:0.28495\n",
      "[1600]\tvalid-logloss:0.15416\tvalid-gini:0.28513\n",
      "[1700]\tvalid-logloss:0.15414\tvalid-gini:0.28535\n",
      "[1800]\tvalid-logloss:0.15416\tvalid-gini:0.28539\n",
      "[1900]\tvalid-logloss:0.15414\tvalid-gini:0.28544\n",
      "[1999]\tvalid-logloss:0.15416\tvalid-gini:0.28564\n",
      "폴드 2 지니계수 : 0.28565323008133636\n",
      "\n",
      "######################################## 폴드 3 / 폴드 5 ########################################\n",
      "[0]\tvalid-logloss:0.67665\tvalid-gini:0.15482\n",
      "[100]\tvalid-logloss:0.19090\tvalid-gini:0.24602\n",
      "[200]\tvalid-logloss:0.15779\tvalid-gini:0.27041\n",
      "[300]\tvalid-logloss:0.15459\tvalid-gini:0.28008\n",
      "[400]\tvalid-logloss:0.15412\tvalid-gini:0.28295\n",
      "[500]\tvalid-logloss:0.15404\tvalid-gini:0.28351\n",
      "[600]\tvalid-logloss:0.15401\tvalid-gini:0.28411\n",
      "[700]\tvalid-logloss:0.15400\tvalid-gini:0.28422\n",
      "[800]\tvalid-logloss:0.15397\tvalid-gini:0.28436\n",
      "[900]\tvalid-logloss:0.15398\tvalid-gini:0.28443\n",
      "[1000]\tvalid-logloss:0.15399\tvalid-gini:0.28427\n",
      "[1100]\tvalid-logloss:0.15400\tvalid-gini:0.28398\n",
      "[1126]\tvalid-logloss:0.15400\tvalid-gini:0.28406\n",
      "폴드 3 지니계수 : 0.28454753481464856\n",
      "\n",
      "######################################## 폴드 4 / 폴드 5 ########################################\n",
      "[0]\tvalid-logloss:0.67664\tvalid-gini:0.15196\n",
      "[100]\tvalid-logloss:0.19083\tvalid-gini:0.23717\n",
      "[200]\tvalid-logloss:0.15790\tvalid-gini:0.26427\n",
      "[300]\tvalid-logloss:0.15479\tvalid-gini:0.27248\n",
      "[400]\tvalid-logloss:0.15434\tvalid-gini:0.27577\n",
      "[500]\tvalid-logloss:0.15424\tvalid-gini:0.27739\n",
      "[600]\tvalid-logloss:0.15420\tvalid-gini:0.27861\n",
      "[700]\tvalid-logloss:0.15417\tvalid-gini:0.27907\n",
      "[800]\tvalid-logloss:0.15416\tvalid-gini:0.27948\n",
      "[900]\tvalid-logloss:0.15413\tvalid-gini:0.28012\n",
      "[1000]\tvalid-logloss:0.15412\tvalid-gini:0.28030\n",
      "[1100]\tvalid-logloss:0.15413\tvalid-gini:0.28040\n",
      "[1200]\tvalid-logloss:0.15413\tvalid-gini:0.28055\n",
      "[1300]\tvalid-logloss:0.15414\tvalid-gini:0.28040\n",
      "[1400]\tvalid-logloss:0.15413\tvalid-gini:0.28032\n",
      "[1405]\tvalid-logloss:0.15413\tvalid-gini:0.28036\n",
      "폴드 4 지니계수 : 0.28053493311263544\n",
      "\n",
      "######################################## 폴드 5 / 폴드 5 ########################################\n",
      "[0]\tvalid-logloss:0.67666\tvalid-gini:0.14131\n",
      "[100]\tvalid-logloss:0.19093\tvalid-gini:0.24508\n",
      "[200]\tvalid-logloss:0.15804\tvalid-gini:0.27099\n",
      "[300]\tvalid-logloss:0.15487\tvalid-gini:0.28210\n",
      "[400]\tvalid-logloss:0.15437\tvalid-gini:0.28701\n",
      "[500]\tvalid-logloss:0.15422\tvalid-gini:0.28971\n",
      "[600]\tvalid-logloss:0.15415\tvalid-gini:0.29178\n",
      "[700]\tvalid-logloss:0.15409\tvalid-gini:0.29307\n",
      "[800]\tvalid-logloss:0.15408\tvalid-gini:0.29406\n",
      "[900]\tvalid-logloss:0.15404\tvalid-gini:0.29430\n",
      "[1000]\tvalid-logloss:0.15403\tvalid-gini:0.29477\n",
      "[1100]\tvalid-logloss:0.15403\tvalid-gini:0.29528\n",
      "[1200]\tvalid-logloss:0.15401\tvalid-gini:0.29558\n",
      "[1300]\tvalid-logloss:0.15399\tvalid-gini:0.29581\n",
      "[1400]\tvalid-logloss:0.15399\tvalid-gini:0.29595\n",
      "[1500]\tvalid-logloss:0.15398\tvalid-gini:0.29605\n",
      "[1600]\tvalid-logloss:0.15398\tvalid-gini:0.29618\n",
      "[1700]\tvalid-logloss:0.15397\tvalid-gini:0.29618\n",
      "[1800]\tvalid-logloss:0.15398\tvalid-gini:0.29616\n",
      "[1851]\tvalid-logloss:0.15399\tvalid-gini:0.29596\n",
      "폴드 5 지니계수 : 0.296383991525499\n",
      "\n"
     ]
    }
   ],
   "source": [
    "import xgboost as xgb\n",
    "\n",
    "# OOF 방식으로 훈련된 모델로 검증 데이터 타깃값을 예측한 확률을 담을 1차원 배열\n",
    "oof_val_preds_xgb = np.zeros(X.shape[0]) \n",
    "# OOF 방식으로 훈련된 모델로 테스트 데이터 타깃값을 예측한 확률을 담을 1차원 배열\n",
    "oof_test_preds_xgb = np.zeros(X_test.shape[0]) \n",
    "\n",
    "# OOF 방식으로 모델 훈련, 검증, 예측\n",
    "for idx, (train_idx, valid_idx) in enumerate(folds.split(X, y)):\n",
    "    # 각 폴드를 구분하는 문구 출력\n",
    "    print('#'*40, f'폴드 {idx+1} / 폴드 {folds.n_splits}', '#'*40)\n",
    "    \n",
    "    # 훈련용 데이터, 검증용 데이터 설정\n",
    "    X_train, y_train = X[train_idx], y[train_idx]\n",
    "    X_valid, y_valid = X[valid_idx], y[valid_idx]\n",
    "\n",
    "    # XGBoost 전용 데이터셋 생성 \n",
    "    dtrain = xgb.DMatrix(X_train, y_train)\n",
    "    dvalid = xgb.DMatrix(X_valid, y_valid)\n",
    "    dtest = xgb.DMatrix(X_test)\n",
    "\n",
    "    # XGBoost 모델 훈련\n",
    "    xgb_model = xgb.train(params=max_params_xgb, \n",
    "                          dtrain=dtrain,\n",
    "                          num_boost_round=2000,\n",
    "                          evals=[(dvalid, 'valid')],\n",
    "                          maximize=True,\n",
    "                          feval=gini_xgb,\n",
    "                          early_stopping_rounds=200,\n",
    "                          verbose_eval=100)\n",
    "\n",
    "    # 모델 성능이 가장 좋을 때의 부스팅 반복 횟수 저장\n",
    "    best_iter = xgb_model.best_iteration\n",
    "\n",
    "    # 테스트 데이터를 활용해 OOF 예측\n",
    "    oof_test_preds_xgb += xgb_model.predict(dtest,\n",
    "                                            iteration_range=(0, best_iter))/folds.n_splits\n",
    "    \n",
    "    # 모델 성능 평가를 위한 검증 데이터 타깃값 예측 \n",
    "    oof_val_preds_xgb[valid_idx] += xgb_model.predict(dvalid, \n",
    "                                                      iteration_range=(0, best_iter))\n",
    "    \n",
    "    # 검증 데이터 예측확률에 대한 정규화 지니계수\n",
    "    gini_score = eval_gini(y_valid, oof_val_preds_xgb[valid_idx])\n",
    "    print(f'폴드 {idx+1} 지니계수 : {gini_score}\\n')"
   ]
  },
  {
   "cell_type": "code",
   "execution_count": 19,
   "metadata": {},
   "outputs": [
    {
     "name": "stdout",
     "output_type": "stream",
     "text": [
      "LightGBM OOF 검증 데이터 지니계수 : 0.2889651000887542\n"
     ]
    }
   ],
   "source": [
    "print('LightGBM OOF 검증 데이터 지니계수 :', eval_gini(y, oof_val_preds_lgb))"
   ]
  },
  {
   "cell_type": "code",
   "execution_count": 20,
   "metadata": {},
   "outputs": [
    {
     "name": "stdout",
     "output_type": "stream",
     "text": [
      "XGBoost OOF 검증 데이터 지니계수 : 0.28924838078896115\n"
     ]
    }
   ],
   "source": [
    "print('XGBoost OOF 검증 데이터 지니계수 :', eval_gini(y, oof_val_preds_xgb))"
   ]
  },
  {
   "cell_type": "code",
   "execution_count": 21,
   "metadata": {},
   "outputs": [],
   "source": [
    "oof_test_preds = oof_test_preds_lgb * 0.5 + oof_test_preds_xgb * 0.5"
   ]
  },
  {
   "cell_type": "code",
   "execution_count": 22,
   "metadata": {},
   "outputs": [],
   "source": [
    "submission['target'] = oof_test_preds\n",
    "submission.to_csv('submission.csv')"
   ]
  }
 ],
 "metadata": {
  "kernelspec": {
   "display_name": "Python 3 (ipykernel)",
   "language": "python",
   "name": "python3"
  },
  "language_info": {
   "codemirror_mode": {
    "name": "ipython",
    "version": 3
   },
   "file_extension": ".py",
   "mimetype": "text/x-python",
   "name": "python",
   "nbconvert_exporter": "python",
   "pygments_lexer": "ipython3",
   "version": "3.9.12"
  }
 },
 "nbformat": 4,
 "nbformat_minor": 4
}
